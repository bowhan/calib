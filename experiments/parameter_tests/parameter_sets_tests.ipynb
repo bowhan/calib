{
 "cells": [
  {
   "cell_type": "code",
   "execution_count": 1,
   "metadata": {},
   "outputs": [
    {
     "data": {
      "text/html": [
       "<script>requirejs.config({paths: { 'plotly': ['https://cdn.plot.ly/plotly-latest.min']},});if(!window.Plotly) {{require(['plotly'],function(plotly) {window.Plotly=plotly;});}}</script>"
      ],
      "text/vnd.plotly.v1+html": [
       "<script>requirejs.config({paths: { 'plotly': ['https://cdn.plot.ly/plotly-latest.min']},});if(!window.Plotly) {{require(['plotly'],function(plotly) {window.Plotly=plotly;});}}</script>"
      ]
     },
     "metadata": {},
     "output_type": "display_data"
    }
   ],
   "source": [
    "import os\n",
    "import plotly\n",
    "import plotly.graph_objs as go\n",
    "import numpy as np\n",
    "\n",
    "plotly.offline.init_notebook_mode(connected=True)"
   ]
  },
  {
   "cell_type": "code",
   "execution_count": 2,
   "metadata": {
    "scrolled": false
   },
   "outputs": [
    {
     "data": {
      "application/vnd.plotly.v1+json": {
       "data": [
        {
         "marker": {
          "color": "#984ea3",
          "size": 5,
          "symbol": "circle"
         },
         "mode": "markers",
         "name": "e = 1; k = 4; m = 6; t = 4",
         "text": [
          "e = 1; k = 4; m = 6; t = 4<br>Mem (GB): 5.54; 5.65; 5.59<br>User time (min): 17.79; 25.00; 21.11<br>ARI (%): 99.77; 99.78; 99.78"
         ],
         "type": "scatter",
         "x": [
          25.000166666666665
         ],
         "y": [
          99.77392778036027
         ]
        },
        {
         "marker": {
          "color": "#4daf4a",
          "size": 4,
          "symbol": "circle"
         },
         "mode": "markers",
         "name": "e = 1; k = 4; m = 5; t = 3",
         "text": [
          "e = 1; k = 4; m = 5; t = 3<br>Mem (GB): 4.94; 5.01; 4.99<br>User time (min): 12.23; 19.56; 15.01<br>ARI (%): 99.69; 99.72; 99.70"
         ],
         "type": "scatter",
         "x": [
          19.556500000000003
         ],
         "y": [
          99.68812479899626
         ]
        },
        {
         "marker": {
          "color": "#984ea3",
          "size": 5,
          "symbol": "circle"
         },
         "mode": "markers",
         "name": "e = 1; k = 4; m = 6; t = 3",
         "text": [
          "e = 1; k = 4; m = 6; t = 3<br>Mem (GB): 5.56; 5.66; 5.61<br>User time (min): 16.87; 23.42; 20.62<br>ARI (%): 99.82; 99.83; 99.83"
         ],
         "type": "scatter",
         "x": [
          23.421333333333333
         ],
         "y": [
          99.82497876266754
         ]
        },
        {
         "marker": {
          "color": "#e41a1c",
          "size": 5,
          "symbol": "square"
         },
         "mode": "markers",
         "name": "e = 1; k = 8; m = 3; t = 1",
         "text": [
          "e = 1; k = 8; m = 3; t = 1<br>Mem (GB): 5.08; 5.21; 5.12<br>User time (min): 10.55; 16.78; 14.17<br>ARI (%): 99.32; 99.35; 99.34"
         ],
         "type": "scatter",
         "x": [
          16.776666666666667
         ],
         "y": [
          99.32187241736895
         ]
        },
        {
         "marker": {
          "color": "#377eb8",
          "size": 6,
          "symbol": "square"
         },
         "mode": "markers",
         "name": "e = 1; k = 8; m = 4; t = 2",
         "text": [
          "e = 1; k = 8; m = 4; t = 2<br>Mem (GB): 6.15; 6.25; 6.18<br>User time (min): 17.65; 23.97; 20.90<br>ARI (%): 99.72; 99.73; 99.72"
         ],
         "type": "scatter",
         "x": [
          23.974666666666668
         ],
         "y": [
          99.72053436729705
         ]
        },
        {
         "marker": {
          "color": "#377eb8",
          "size": 6,
          "symbol": "square"
         },
         "mode": "markers",
         "name": "e = 1; k = 8; m = 4; t = 1",
         "text": [
          "e = 1; k = 8; m = 4; t = 1<br>Mem (GB): 6.16; 6.28; 6.25<br>User time (min): 19.08; 24.49; 21.42<br>ARI (%): 99.54; 99.56; 99.55"
         ],
         "type": "scatter",
         "x": [
          24.491666666666667
         ],
         "y": [
          99.54253429159994
         ]
        },
        {
         "marker": {
          "color": "#4daf4a",
          "size": 7,
          "symbol": "square"
         },
         "mode": "markers",
         "name": "e = 1; k = 8; m = 5; t = 3",
         "text": [
          "e = 1; k = 8; m = 5; t = 3<br>Mem (GB): 6.99; 7.08; 7.04<br>User time (min): 25.14; 30.98; 28.77<br>ARI (%): 99.44; 99.44; 99.44"
         ],
         "type": "scatter",
         "x": [
          30.9755
         ],
         "y": [
          99.43535622349722
         ]
        },
        {
         "marker": {
          "color": "#ff7f00",
          "size": 6,
          "symbol": "circle"
         },
         "mode": "markers",
         "name": "e = 1; k = 4; m = 7; t = 3",
         "text": [
          "e = 1; k = 4; m = 7; t = 3<br>Mem (GB): 6.17; 6.33; 6.22<br>User time (min): 21.94; 36.58; 29.20<br>ARI (%): 99.79; 99.81; 99.80"
         ],
         "type": "scatter",
         "x": [
          36.57899999999999
         ],
         "y": [
          99.79045009723777
         ]
        },
        {
         "marker": {
          "color": "#ff7f00",
          "size": 6,
          "symbol": "circle"
         },
         "mode": "markers",
         "name": "e = 1; k = 4; m = 7; t = 5",
         "text": [
          "e = 1; k = 4; m = 7; t = 5<br>Mem (GB): 6.13; 6.30; 6.19<br>User time (min): 24.58; 36.48; 29.91<br>ARI (%): 99.65; 99.65; 99.65"
         ],
         "type": "scatter",
         "x": [
          36.47966666666667
         ],
         "y": [
          99.64842108783745
         ]
        },
        {
         "marker": {
          "color": "#ff7f00",
          "size": 6,
          "symbol": "circle"
         },
         "mode": "markers",
         "name": "e = 1; k = 4; m = 7; t = 4",
         "text": [
          "e = 1; k = 4; m = 7; t = 4<br>Mem (GB): 6.17; 6.32; 6.23<br>User time (min): 25.28; 38.54; 30.07<br>ARI (%): 99.92; 99.92; 99.92"
         ],
         "type": "scatter",
         "x": [
          38.542
         ],
         "y": [
          99.91785040822806
         ]
        },
        {
         "marker": {
          "color": "#984ea3",
          "size": 7,
          "symbol": "square"
         },
         "mode": "markers",
         "name": "e = 1; k = 8; m = 6; t = 2",
         "text": [
          "e = 1; k = 8; m = 6; t = 2<br>Mem (GB): 7.85; 7.99; 7.92<br>User time (min): 35.29; 46.44; 40.72<br>ARI (%): 99.93; 99.93; 99.93"
         ],
         "type": "scatter",
         "x": [
          46.44433333333333
         ],
         "y": [
          99.92757403221103
         ]
        },
        {
         "marker": {
          "color": "#4daf4a",
          "size": 7,
          "symbol": "square"
         },
         "mode": "markers",
         "name": "e = 1; k = 8; m = 5; t = 2",
         "text": [
          "e = 1; k = 8; m = 5; t = 2<br>Mem (GB): 7.03; 7.21; 7.09<br>User time (min): 24.40; 35.33; 29.83<br>ARI (%): 99.91; 99.91; 99.91"
         ],
         "type": "scatter",
         "x": [
          35.328833333333336
         ],
         "y": [
          99.91014797042858
         ]
        },
        {
         "marker": {
          "color": "#984ea3",
          "size": 7,
          "symbol": "square"
         },
         "mode": "markers",
         "name": "e = 1; k = 8; m = 6; t = 3",
         "text": [
          "e = 1; k = 8; m = 6; t = 3<br>Mem (GB): 7.85; 7.97; 7.89<br>User time (min): 38.94; 45.89; 42.72<br>ARI (%): 99.88; 99.88; 99.88"
         ],
         "type": "scatter",
         "x": [
          45.89333333333333
         ],
         "y": [
          99.88382767616821
         ]
        },
        {
         "marker": {
          "color": "#984ea3",
          "size": 7,
          "symbol": "square"
         },
         "mode": "markers",
         "name": "e = 1; k = 8; m = 6; t = 4",
         "text": [
          "e = 1; k = 8; m = 6; t = 4<br>Mem (GB): 7.77; 7.91; 7.82<br>User time (min): 39.99; 49.68; 43.79<br>ARI (%): 99.04; 99.04; 99.04"
         ],
         "type": "scatter",
         "x": [
          49.6825
         ],
         "y": [
          99.03503469773138
         ]
        },
        {
         "marker": {
          "color": "#ff7f00",
          "size": 8,
          "symbol": "square"
         },
         "mode": "markers",
         "name": "e = 1; k = 8; m = 7; t = 2",
         "text": [
          "e = 1; k = 8; m = 7; t = 2<br>Mem (GB): 8.60; 8.67; 8.64<br>User time (min): 46.28; 62.17; 54.26<br>ARI (%): 99.93; 99.93; 99.93"
         ],
         "type": "scatter",
         "x": [
          62.166666666666664
         ],
         "y": [
          99.92843789049529
         ]
        },
        {
         "marker": {
          "color": "#ff7f00",
          "size": 8,
          "symbol": "square"
         },
         "mode": "markers",
         "name": "e = 1; k = 8; m = 7; t = 4",
         "text": [
          "e = 1; k = 8; m = 7; t = 4<br>Mem (GB): 8.59; 8.75; 8.66<br>User time (min): 50.60; 58.27; 54.05<br>ARI (%): 99.82; 99.82; 99.82"
         ],
         "type": "scatter",
         "x": [
          58.26733333333333
         ],
         "y": [
          99.8174354100255
         ]
        },
        {
         "marker": {
          "color": "#ff7f00",
          "size": 8,
          "symbol": "square"
         },
         "mode": "markers",
         "name": "e = 1; k = 8; m = 7; t = 3",
         "text": [
          "e = 1; k = 8; m = 7; t = 3<br>Mem (GB): 8.61; 8.74; 8.66<br>User time (min): 47.87; 67.47; 56.78<br>ARI (%): 99.92; 99.93; 99.92"
         ],
         "type": "scatter",
         "x": [
          67.47083333333333
         ],
         "y": [
          99.92359984476758
         ]
        },
        {
         "marker": {
          "color": "#984ea3",
          "size": 7,
          "symbol": "circle"
         },
         "mode": "markers",
         "name": "e = 2; k = 4; m = 6; t = 4",
         "text": [
          "e = 2; k = 4; m = 6; t = 4<br>Mem (GB): 7.64; 7.70; 7.66<br>User time (min): 391.52; 521.49; 450.35<br>ARI (%): 99.83; 99.83; 99.83"
         ],
         "type": "scatter",
         "x": [
          521.4895
         ],
         "y": [
          99.82934719026194
         ]
        },
        {
         "marker": {
          "color": "#377eb8",
          "size": 8,
          "symbol": "square"
         },
         "mode": "markers",
         "name": "e = 2; k = 8; m = 4; t = 2",
         "text": [
          "e = 2; k = 8; m = 4; t = 2<br>Mem (GB): 8.59; 8.65; 8.63<br>User time (min): 405.61; 602.81; 463.66<br>ARI (%): 99.76; 99.77; 99.76"
         ],
         "type": "scatter",
         "x": [
          602.8125
         ],
         "y": [
          99.76168050870666
         ]
        },
        {
         "marker": {
          "color": "#ff7f00",
          "size": 8,
          "symbol": "circle"
         },
         "mode": "markers",
         "name": "e = 2; k = 4; m = 7; t = 5",
         "text": [
          "e = 2; k = 4; m = 7; t = 5<br>Mem (GB): 8.45; 8.50; 8.48<br>User time (min): 590.76; 810.26; 673.45<br>ARI (%): 99.71; 99.72; 99.72"
         ],
         "type": "scatter",
         "x": [
          810.26
         ],
         "y": [
          99.7135408803231
         ]
        },
        {
         "marker": {
          "color": "#ff7f00",
          "size": 8,
          "symbol": "circle"
         },
         "mode": "markers",
         "name": "e = 2; k = 4; m = 7; t = 4",
         "text": [
          "e = 2; k = 4; m = 7; t = 4<br>Mem (GB): 8.66; 8.70; 8.67<br>User time (min): 509.80; 761.21; 629.75<br>ARI (%): 99.96; 99.97; 99.97"
         ],
         "type": "scatter",
         "x": [
          761.2143333333333
         ],
         "y": [
          99.96493646289103
         ]
        },
        {
         "marker": {
          "color": "#4daf4a",
          "size": 9,
          "symbol": "square"
         },
         "mode": "markers",
         "name": "e = 2; k = 8; m = 5; t = 3",
         "text": [
          "e = 2; k = 8; m = 5; t = 3<br>Mem (GB): 9.71; 9.81; 9.74<br>User time (min): 676.05; 899.54; 737.97<br>ARI (%): 99.50; 99.50; 99.50"
         ],
         "type": "scatter",
         "x": [
          899.545
         ],
         "y": [
          99.50011599760364
         ]
        },
        {
         "marker": {
          "color": "#4daf4a",
          "size": 9,
          "symbol": "square"
         },
         "mode": "markers",
         "name": "e = 2; k = 8; m = 5; t = 2",
         "text": [
          "e = 2; k = 8; m = 5; t = 2<br>Mem (GB): 9.95; 10.01; 9.99<br>User time (min): 595.75; 901.72; 731.35<br>ARI (%): 99.95; 99.96; 99.95"
         ],
         "type": "scatter",
         "x": [
          901.7218333333333
         ],
         "y": [
          99.94899688501538
         ]
        },
        {
         "marker": {
          "color": "#984ea3",
          "size": 11,
          "symbol": "square"
         },
         "mode": "markers",
         "name": "e = 2; k = 8; m = 6; t = 2",
         "text": [
          "e = 2; k = 8; m = 6; t = 2<br>Mem (GB): 11.09; 11.17; 11.14<br>User time (min): 792.73; 1225.52; 1096.85<br>ARI (%): 99.98; 99.99; 99.98"
         ],
         "type": "scatter",
         "x": [
          1225.5226666666667
         ],
         "y": [
          99.98156411865605
         ]
        },
        {
         "marker": {
          "color": "#984ea3",
          "size": 10,
          "symbol": "square"
         },
         "mode": "markers",
         "name": "e = 2; k = 8; m = 6; t = 4",
         "text": [
          "e = 2; k = 8; m = 6; t = 4<br>Mem (GB): 10.62; 10.74; 10.68<br>User time (min): 774.19; 1229.05; 990.75<br>ARI (%): 99.10; 99.11; 99.11"
         ],
         "type": "scatter",
         "x": [
          1229.0455
         ],
         "y": [
          99.10325438241274
         ]
        },
        {
         "marker": {
          "color": "#984ea3",
          "size": 11,
          "symbol": "square"
         },
         "mode": "markers",
         "name": "e = 2; k = 8; m = 6; t = 3",
         "text": [
          "e = 2; k = 8; m = 6; t = 3<br>Mem (GB): 10.88; 11.12; 11.06<br>User time (min): 815.49; 1212.34; 982.92<br>ARI (%): 99.95; 99.95; 99.95"
         ],
         "type": "scatter",
         "x": [
          1212.3356666666666
         ],
         "y": [
          99.94959006881265
         ]
        }
       ],
       "layout": {
        "font": {
         "size": 10
        },
        "hovermode": "closest",
        "title": "Barcode length 4<br>Read length 75",
        "xaxis": {
         "title": "Time in min",
         "type": "log"
        },
        "yaxis": {
         "title": "ARI score"
        }
       }
      },
      "text/html": [
       "<div id=\"2d90d547-ceaa-42f1-be09-ffb1d8cfc802\" style=\"height: 525px; width: 100%;\" class=\"plotly-graph-div\"></div><script type=\"text/javascript\">require([\"plotly\"], function(Plotly) { window.PLOTLYENV=window.PLOTLYENV || {};window.PLOTLYENV.BASE_URL=\"https://plot.ly\";Plotly.newPlot(\"2d90d547-ceaa-42f1-be09-ffb1d8cfc802\", [{\"type\": \"scatter\", \"name\": \"e = 1; k = 4; m = 6; t = 4\", \"x\": [25.000166666666665], \"y\": [99.77392778036027], \"text\": [\"e = 1; k = 4; m = 6; t = 4<br>Mem (GB): 5.54; 5.65; 5.59<br>User time (min): 17.79; 25.00; 21.11<br>ARI (%): 99.77; 99.78; 99.78\"], \"mode\": \"markers\", \"marker\": {\"symbol\": \"circle\", \"color\": \"#984ea3\", \"size\": 5}}, {\"type\": \"scatter\", \"name\": \"e = 1; k = 4; m = 5; t = 3\", \"x\": [19.556500000000003], \"y\": [99.68812479899626], \"text\": [\"e = 1; k = 4; m = 5; t = 3<br>Mem (GB): 4.94; 5.01; 4.99<br>User time (min): 12.23; 19.56; 15.01<br>ARI (%): 99.69; 99.72; 99.70\"], \"mode\": \"markers\", \"marker\": {\"symbol\": \"circle\", \"color\": \"#4daf4a\", \"size\": 4}}, {\"type\": \"scatter\", \"name\": \"e = 1; k = 4; m = 6; t = 3\", \"x\": [23.421333333333333], \"y\": [99.82497876266754], \"text\": [\"e = 1; k = 4; m = 6; t = 3<br>Mem (GB): 5.56; 5.66; 5.61<br>User time (min): 16.87; 23.42; 20.62<br>ARI (%): 99.82; 99.83; 99.83\"], \"mode\": \"markers\", \"marker\": {\"symbol\": \"circle\", \"color\": \"#984ea3\", \"size\": 5}}, {\"type\": \"scatter\", \"name\": \"e = 1; k = 8; m = 3; t = 1\", \"x\": [16.776666666666667], \"y\": [99.32187241736895], \"text\": [\"e = 1; k = 8; m = 3; t = 1<br>Mem (GB): 5.08; 5.21; 5.12<br>User time (min): 10.55; 16.78; 14.17<br>ARI (%): 99.32; 99.35; 99.34\"], \"mode\": \"markers\", \"marker\": {\"symbol\": \"square\", \"color\": \"#e41a1c\", \"size\": 5}}, {\"type\": \"scatter\", \"name\": \"e = 1; k = 8; m = 4; t = 2\", \"x\": [23.974666666666668], \"y\": [99.72053436729705], \"text\": [\"e = 1; k = 8; m = 4; t = 2<br>Mem (GB): 6.15; 6.25; 6.18<br>User time (min): 17.65; 23.97; 20.90<br>ARI (%): 99.72; 99.73; 99.72\"], \"mode\": \"markers\", \"marker\": {\"symbol\": \"square\", \"color\": \"#377eb8\", \"size\": 6}}, {\"type\": \"scatter\", \"name\": \"e = 1; k = 8; m = 4; t = 1\", \"x\": [24.491666666666667], \"y\": [99.54253429159994], \"text\": [\"e = 1; k = 8; m = 4; t = 1<br>Mem (GB): 6.16; 6.28; 6.25<br>User time (min): 19.08; 24.49; 21.42<br>ARI (%): 99.54; 99.56; 99.55\"], \"mode\": \"markers\", \"marker\": {\"symbol\": \"square\", \"color\": \"#377eb8\", \"size\": 6}}, {\"type\": \"scatter\", \"name\": \"e = 1; k = 8; m = 5; t = 3\", \"x\": [30.9755], \"y\": [99.43535622349722], \"text\": [\"e = 1; k = 8; m = 5; t = 3<br>Mem (GB): 6.99; 7.08; 7.04<br>User time (min): 25.14; 30.98; 28.77<br>ARI (%): 99.44; 99.44; 99.44\"], \"mode\": \"markers\", \"marker\": {\"symbol\": \"square\", \"color\": \"#4daf4a\", \"size\": 7}}, {\"type\": \"scatter\", \"name\": \"e = 1; k = 4; m = 7; t = 3\", \"x\": [36.57899999999999], \"y\": [99.79045009723777], \"text\": [\"e = 1; k = 4; m = 7; t = 3<br>Mem (GB): 6.17; 6.33; 6.22<br>User time (min): 21.94; 36.58; 29.20<br>ARI (%): 99.79; 99.81; 99.80\"], \"mode\": \"markers\", \"marker\": {\"symbol\": \"circle\", \"color\": \"#ff7f00\", \"size\": 6}}, {\"type\": \"scatter\", \"name\": \"e = 1; k = 4; m = 7; t = 5\", \"x\": [36.47966666666667], \"y\": [99.64842108783745], \"text\": [\"e = 1; k = 4; m = 7; t = 5<br>Mem (GB): 6.13; 6.30; 6.19<br>User time (min): 24.58; 36.48; 29.91<br>ARI (%): 99.65; 99.65; 99.65\"], \"mode\": \"markers\", \"marker\": {\"symbol\": \"circle\", \"color\": \"#ff7f00\", \"size\": 6}}, {\"type\": \"scatter\", \"name\": \"e = 1; k = 4; m = 7; t = 4\", \"x\": [38.542], \"y\": [99.91785040822806], \"text\": [\"e = 1; k = 4; m = 7; t = 4<br>Mem (GB): 6.17; 6.32; 6.23<br>User time (min): 25.28; 38.54; 30.07<br>ARI (%): 99.92; 99.92; 99.92\"], \"mode\": \"markers\", \"marker\": {\"symbol\": \"circle\", \"color\": \"#ff7f00\", \"size\": 6}}, {\"type\": \"scatter\", \"name\": \"e = 1; k = 8; m = 6; t = 2\", \"x\": [46.44433333333333], \"y\": [99.92757403221103], \"text\": [\"e = 1; k = 8; m = 6; t = 2<br>Mem (GB): 7.85; 7.99; 7.92<br>User time (min): 35.29; 46.44; 40.72<br>ARI (%): 99.93; 99.93; 99.93\"], \"mode\": \"markers\", \"marker\": {\"symbol\": \"square\", \"color\": \"#984ea3\", \"size\": 7}}, {\"type\": \"scatter\", \"name\": \"e = 1; k = 8; m = 5; t = 2\", \"x\": [35.328833333333336], \"y\": [99.91014797042858], \"text\": [\"e = 1; k = 8; m = 5; t = 2<br>Mem (GB): 7.03; 7.21; 7.09<br>User time (min): 24.40; 35.33; 29.83<br>ARI (%): 99.91; 99.91; 99.91\"], \"mode\": \"markers\", \"marker\": {\"symbol\": \"square\", \"color\": \"#4daf4a\", \"size\": 7}}, {\"type\": \"scatter\", \"name\": \"e = 1; k = 8; m = 6; t = 3\", \"x\": [45.89333333333333], \"y\": [99.88382767616821], \"text\": [\"e = 1; k = 8; m = 6; t = 3<br>Mem (GB): 7.85; 7.97; 7.89<br>User time (min): 38.94; 45.89; 42.72<br>ARI (%): 99.88; 99.88; 99.88\"], \"mode\": \"markers\", \"marker\": {\"symbol\": \"square\", \"color\": \"#984ea3\", \"size\": 7}}, {\"type\": \"scatter\", \"name\": \"e = 1; k = 8; m = 6; t = 4\", \"x\": [49.6825], \"y\": [99.03503469773138], \"text\": [\"e = 1; k = 8; m = 6; t = 4<br>Mem (GB): 7.77; 7.91; 7.82<br>User time (min): 39.99; 49.68; 43.79<br>ARI (%): 99.04; 99.04; 99.04\"], \"mode\": \"markers\", \"marker\": {\"symbol\": \"square\", \"color\": \"#984ea3\", \"size\": 7}}, {\"type\": \"scatter\", \"name\": \"e = 1; k = 8; m = 7; t = 2\", \"x\": [62.166666666666664], \"y\": [99.92843789049529], \"text\": [\"e = 1; k = 8; m = 7; t = 2<br>Mem (GB): 8.60; 8.67; 8.64<br>User time (min): 46.28; 62.17; 54.26<br>ARI (%): 99.93; 99.93; 99.93\"], \"mode\": \"markers\", \"marker\": {\"symbol\": \"square\", \"color\": \"#ff7f00\", \"size\": 8}}, {\"type\": \"scatter\", \"name\": \"e = 1; k = 8; m = 7; t = 4\", \"x\": [58.26733333333333], \"y\": [99.8174354100255], \"text\": [\"e = 1; k = 8; m = 7; t = 4<br>Mem (GB): 8.59; 8.75; 8.66<br>User time (min): 50.60; 58.27; 54.05<br>ARI (%): 99.82; 99.82; 99.82\"], \"mode\": \"markers\", \"marker\": {\"symbol\": \"square\", \"color\": \"#ff7f00\", \"size\": 8}}, {\"type\": \"scatter\", \"name\": \"e = 1; k = 8; m = 7; t = 3\", \"x\": [67.47083333333333], \"y\": [99.92359984476758], \"text\": [\"e = 1; k = 8; m = 7; t = 3<br>Mem (GB): 8.61; 8.74; 8.66<br>User time (min): 47.87; 67.47; 56.78<br>ARI (%): 99.92; 99.93; 99.92\"], \"mode\": \"markers\", \"marker\": {\"symbol\": \"square\", \"color\": \"#ff7f00\", \"size\": 8}}, {\"type\": \"scatter\", \"name\": \"e = 2; k = 4; m = 6; t = 4\", \"x\": [521.4895], \"y\": [99.82934719026194], \"text\": [\"e = 2; k = 4; m = 6; t = 4<br>Mem (GB): 7.64; 7.70; 7.66<br>User time (min): 391.52; 521.49; 450.35<br>ARI (%): 99.83; 99.83; 99.83\"], \"mode\": \"markers\", \"marker\": {\"symbol\": \"circle\", \"color\": \"#984ea3\", \"size\": 7}}, {\"type\": \"scatter\", \"name\": \"e = 2; k = 8; m = 4; t = 2\", \"x\": [602.8125], \"y\": [99.76168050870666], \"text\": [\"e = 2; k = 8; m = 4; t = 2<br>Mem (GB): 8.59; 8.65; 8.63<br>User time (min): 405.61; 602.81; 463.66<br>ARI (%): 99.76; 99.77; 99.76\"], \"mode\": \"markers\", \"marker\": {\"symbol\": \"square\", \"color\": \"#377eb8\", \"size\": 8}}, {\"type\": \"scatter\", \"name\": \"e = 2; k = 4; m = 7; t = 5\", \"x\": [810.26], \"y\": [99.7135408803231], \"text\": [\"e = 2; k = 4; m = 7; t = 5<br>Mem (GB): 8.45; 8.50; 8.48<br>User time (min): 590.76; 810.26; 673.45<br>ARI (%): 99.71; 99.72; 99.72\"], \"mode\": \"markers\", \"marker\": {\"symbol\": \"circle\", \"color\": \"#ff7f00\", \"size\": 8}}, {\"type\": \"scatter\", \"name\": \"e = 2; k = 4; m = 7; t = 4\", \"x\": [761.2143333333333], \"y\": [99.96493646289103], \"text\": [\"e = 2; k = 4; m = 7; t = 4<br>Mem (GB): 8.66; 8.70; 8.67<br>User time (min): 509.80; 761.21; 629.75<br>ARI (%): 99.96; 99.97; 99.97\"], \"mode\": \"markers\", \"marker\": {\"symbol\": \"circle\", \"color\": \"#ff7f00\", \"size\": 8}}, {\"type\": \"scatter\", \"name\": \"e = 2; k = 8; m = 5; t = 3\", \"x\": [899.545], \"y\": [99.50011599760364], \"text\": [\"e = 2; k = 8; m = 5; t = 3<br>Mem (GB): 9.71; 9.81; 9.74<br>User time (min): 676.05; 899.54; 737.97<br>ARI (%): 99.50; 99.50; 99.50\"], \"mode\": \"markers\", \"marker\": {\"symbol\": \"square\", \"color\": \"#4daf4a\", \"size\": 9}}, {\"type\": \"scatter\", \"name\": \"e = 2; k = 8; m = 5; t = 2\", \"x\": [901.7218333333333], \"y\": [99.94899688501538], \"text\": [\"e = 2; k = 8; m = 5; t = 2<br>Mem (GB): 9.95; 10.01; 9.99<br>User time (min): 595.75; 901.72; 731.35<br>ARI (%): 99.95; 99.96; 99.95\"], \"mode\": \"markers\", \"marker\": {\"symbol\": \"square\", \"color\": \"#4daf4a\", \"size\": 9}}, {\"type\": \"scatter\", \"name\": \"e = 2; k = 8; m = 6; t = 2\", \"x\": [1225.5226666666667], \"y\": [99.98156411865605], \"text\": [\"e = 2; k = 8; m = 6; t = 2<br>Mem (GB): 11.09; 11.17; 11.14<br>User time (min): 792.73; 1225.52; 1096.85<br>ARI (%): 99.98; 99.99; 99.98\"], \"mode\": \"markers\", \"marker\": {\"symbol\": \"square\", \"color\": \"#984ea3\", \"size\": 11}}, {\"type\": \"scatter\", \"name\": \"e = 2; k = 8; m = 6; t = 4\", \"x\": [1229.0455], \"y\": [99.10325438241274], \"text\": [\"e = 2; k = 8; m = 6; t = 4<br>Mem (GB): 10.62; 10.74; 10.68<br>User time (min): 774.19; 1229.05; 990.75<br>ARI (%): 99.10; 99.11; 99.11\"], \"mode\": \"markers\", \"marker\": {\"symbol\": \"square\", \"color\": \"#984ea3\", \"size\": 10}}, {\"type\": \"scatter\", \"name\": \"e = 2; k = 8; m = 6; t = 3\", \"x\": [1212.3356666666666], \"y\": [99.94959006881265], \"text\": [\"e = 2; k = 8; m = 6; t = 3<br>Mem (GB): 10.88; 11.12; 11.06<br>User time (min): 815.49; 1212.34; 982.92<br>ARI (%): 99.95; 99.95; 99.95\"], \"mode\": \"markers\", \"marker\": {\"symbol\": \"square\", \"color\": \"#984ea3\", \"size\": 11}}], {\"title\": \"Barcode length 4<br>Read length 75\", \"hovermode\": \"closest\", \"font\": {\"size\": 10}, \"xaxis\": {\"title\": \"Time in min\", \"type\": \"log\"}, \"yaxis\": {\"title\": \"ARI score\"}}, {\"showLink\": true, \"linkText\": \"Export to plot.ly\"})});</script>"
      ],
      "text/vnd.plotly.v1+html": [
       "<div id=\"2d90d547-ceaa-42f1-be09-ffb1d8cfc802\" style=\"height: 525px; width: 100%;\" class=\"plotly-graph-div\"></div><script type=\"text/javascript\">require([\"plotly\"], function(Plotly) { window.PLOTLYENV=window.PLOTLYENV || {};window.PLOTLYENV.BASE_URL=\"https://plot.ly\";Plotly.newPlot(\"2d90d547-ceaa-42f1-be09-ffb1d8cfc802\", [{\"type\": \"scatter\", \"name\": \"e = 1; k = 4; m = 6; t = 4\", \"x\": [25.000166666666665], \"y\": [99.77392778036027], \"text\": [\"e = 1; k = 4; m = 6; t = 4<br>Mem (GB): 5.54; 5.65; 5.59<br>User time (min): 17.79; 25.00; 21.11<br>ARI (%): 99.77; 99.78; 99.78\"], \"mode\": \"markers\", \"marker\": {\"symbol\": \"circle\", \"color\": \"#984ea3\", \"size\": 5}}, {\"type\": \"scatter\", \"name\": \"e = 1; k = 4; m = 5; t = 3\", \"x\": [19.556500000000003], \"y\": [99.68812479899626], \"text\": [\"e = 1; k = 4; m = 5; t = 3<br>Mem (GB): 4.94; 5.01; 4.99<br>User time (min): 12.23; 19.56; 15.01<br>ARI (%): 99.69; 99.72; 99.70\"], \"mode\": \"markers\", \"marker\": {\"symbol\": \"circle\", \"color\": \"#4daf4a\", \"size\": 4}}, {\"type\": \"scatter\", \"name\": \"e = 1; k = 4; m = 6; t = 3\", \"x\": [23.421333333333333], \"y\": [99.82497876266754], \"text\": [\"e = 1; k = 4; m = 6; t = 3<br>Mem (GB): 5.56; 5.66; 5.61<br>User time (min): 16.87; 23.42; 20.62<br>ARI (%): 99.82; 99.83; 99.83\"], \"mode\": \"markers\", \"marker\": {\"symbol\": \"circle\", \"color\": \"#984ea3\", \"size\": 5}}, {\"type\": \"scatter\", \"name\": \"e = 1; k = 8; m = 3; t = 1\", \"x\": [16.776666666666667], \"y\": [99.32187241736895], \"text\": [\"e = 1; k = 8; m = 3; t = 1<br>Mem (GB): 5.08; 5.21; 5.12<br>User time (min): 10.55; 16.78; 14.17<br>ARI (%): 99.32; 99.35; 99.34\"], \"mode\": \"markers\", \"marker\": {\"symbol\": \"square\", \"color\": \"#e41a1c\", \"size\": 5}}, {\"type\": \"scatter\", \"name\": \"e = 1; k = 8; m = 4; t = 2\", \"x\": [23.974666666666668], \"y\": [99.72053436729705], \"text\": [\"e = 1; k = 8; m = 4; t = 2<br>Mem (GB): 6.15; 6.25; 6.18<br>User time (min): 17.65; 23.97; 20.90<br>ARI (%): 99.72; 99.73; 99.72\"], \"mode\": \"markers\", \"marker\": {\"symbol\": \"square\", \"color\": \"#377eb8\", \"size\": 6}}, {\"type\": \"scatter\", \"name\": \"e = 1; k = 8; m = 4; t = 1\", \"x\": [24.491666666666667], \"y\": [99.54253429159994], \"text\": [\"e = 1; k = 8; m = 4; t = 1<br>Mem (GB): 6.16; 6.28; 6.25<br>User time (min): 19.08; 24.49; 21.42<br>ARI (%): 99.54; 99.56; 99.55\"], \"mode\": \"markers\", \"marker\": {\"symbol\": \"square\", \"color\": \"#377eb8\", \"size\": 6}}, {\"type\": \"scatter\", \"name\": \"e = 1; k = 8; m = 5; t = 3\", \"x\": [30.9755], \"y\": [99.43535622349722], \"text\": [\"e = 1; k = 8; m = 5; t = 3<br>Mem (GB): 6.99; 7.08; 7.04<br>User time (min): 25.14; 30.98; 28.77<br>ARI (%): 99.44; 99.44; 99.44\"], \"mode\": \"markers\", \"marker\": {\"symbol\": \"square\", \"color\": \"#4daf4a\", \"size\": 7}}, {\"type\": \"scatter\", \"name\": \"e = 1; k = 4; m = 7; t = 3\", \"x\": [36.57899999999999], \"y\": [99.79045009723777], \"text\": [\"e = 1; k = 4; m = 7; t = 3<br>Mem (GB): 6.17; 6.33; 6.22<br>User time (min): 21.94; 36.58; 29.20<br>ARI (%): 99.79; 99.81; 99.80\"], \"mode\": \"markers\", \"marker\": {\"symbol\": \"circle\", \"color\": \"#ff7f00\", \"size\": 6}}, {\"type\": \"scatter\", \"name\": \"e = 1; k = 4; m = 7; t = 5\", \"x\": [36.47966666666667], \"y\": [99.64842108783745], \"text\": [\"e = 1; k = 4; m = 7; t = 5<br>Mem (GB): 6.13; 6.30; 6.19<br>User time (min): 24.58; 36.48; 29.91<br>ARI (%): 99.65; 99.65; 99.65\"], \"mode\": \"markers\", \"marker\": {\"symbol\": \"circle\", \"color\": \"#ff7f00\", \"size\": 6}}, {\"type\": \"scatter\", \"name\": \"e = 1; k = 4; m = 7; t = 4\", \"x\": [38.542], \"y\": [99.91785040822806], \"text\": [\"e = 1; k = 4; m = 7; t = 4<br>Mem (GB): 6.17; 6.32; 6.23<br>User time (min): 25.28; 38.54; 30.07<br>ARI (%): 99.92; 99.92; 99.92\"], \"mode\": \"markers\", \"marker\": {\"symbol\": \"circle\", \"color\": \"#ff7f00\", \"size\": 6}}, {\"type\": \"scatter\", \"name\": \"e = 1; k = 8; m = 6; t = 2\", \"x\": [46.44433333333333], \"y\": [99.92757403221103], \"text\": [\"e = 1; k = 8; m = 6; t = 2<br>Mem (GB): 7.85; 7.99; 7.92<br>User time (min): 35.29; 46.44; 40.72<br>ARI (%): 99.93; 99.93; 99.93\"], \"mode\": \"markers\", \"marker\": {\"symbol\": \"square\", \"color\": \"#984ea3\", \"size\": 7}}, {\"type\": \"scatter\", \"name\": \"e = 1; k = 8; m = 5; t = 2\", \"x\": [35.328833333333336], \"y\": [99.91014797042858], \"text\": [\"e = 1; k = 8; m = 5; t = 2<br>Mem (GB): 7.03; 7.21; 7.09<br>User time (min): 24.40; 35.33; 29.83<br>ARI (%): 99.91; 99.91; 99.91\"], \"mode\": \"markers\", \"marker\": {\"symbol\": \"square\", \"color\": \"#4daf4a\", \"size\": 7}}, {\"type\": \"scatter\", \"name\": \"e = 1; k = 8; m = 6; t = 3\", \"x\": [45.89333333333333], \"y\": [99.88382767616821], \"text\": [\"e = 1; k = 8; m = 6; t = 3<br>Mem (GB): 7.85; 7.97; 7.89<br>User time (min): 38.94; 45.89; 42.72<br>ARI (%): 99.88; 99.88; 99.88\"], \"mode\": \"markers\", \"marker\": {\"symbol\": \"square\", \"color\": \"#984ea3\", \"size\": 7}}, {\"type\": \"scatter\", \"name\": \"e = 1; k = 8; m = 6; t = 4\", \"x\": [49.6825], \"y\": [99.03503469773138], \"text\": [\"e = 1; k = 8; m = 6; t = 4<br>Mem (GB): 7.77; 7.91; 7.82<br>User time (min): 39.99; 49.68; 43.79<br>ARI (%): 99.04; 99.04; 99.04\"], \"mode\": \"markers\", \"marker\": {\"symbol\": \"square\", \"color\": \"#984ea3\", \"size\": 7}}, {\"type\": \"scatter\", \"name\": \"e = 1; k = 8; m = 7; t = 2\", \"x\": [62.166666666666664], \"y\": [99.92843789049529], \"text\": [\"e = 1; k = 8; m = 7; t = 2<br>Mem (GB): 8.60; 8.67; 8.64<br>User time (min): 46.28; 62.17; 54.26<br>ARI (%): 99.93; 99.93; 99.93\"], \"mode\": \"markers\", \"marker\": {\"symbol\": \"square\", \"color\": \"#ff7f00\", \"size\": 8}}, {\"type\": \"scatter\", \"name\": \"e = 1; k = 8; m = 7; t = 4\", \"x\": [58.26733333333333], \"y\": [99.8174354100255], \"text\": [\"e = 1; k = 8; m = 7; t = 4<br>Mem (GB): 8.59; 8.75; 8.66<br>User time (min): 50.60; 58.27; 54.05<br>ARI (%): 99.82; 99.82; 99.82\"], \"mode\": \"markers\", \"marker\": {\"symbol\": \"square\", \"color\": \"#ff7f00\", \"size\": 8}}, {\"type\": \"scatter\", \"name\": \"e = 1; k = 8; m = 7; t = 3\", \"x\": [67.47083333333333], \"y\": [99.92359984476758], \"text\": [\"e = 1; k = 8; m = 7; t = 3<br>Mem (GB): 8.61; 8.74; 8.66<br>User time (min): 47.87; 67.47; 56.78<br>ARI (%): 99.92; 99.93; 99.92\"], \"mode\": \"markers\", \"marker\": {\"symbol\": \"square\", \"color\": \"#ff7f00\", \"size\": 8}}, {\"type\": \"scatter\", \"name\": \"e = 2; k = 4; m = 6; t = 4\", \"x\": [521.4895], \"y\": [99.82934719026194], \"text\": [\"e = 2; k = 4; m = 6; t = 4<br>Mem (GB): 7.64; 7.70; 7.66<br>User time (min): 391.52; 521.49; 450.35<br>ARI (%): 99.83; 99.83; 99.83\"], \"mode\": \"markers\", \"marker\": {\"symbol\": \"circle\", \"color\": \"#984ea3\", \"size\": 7}}, {\"type\": \"scatter\", \"name\": \"e = 2; k = 8; m = 4; t = 2\", \"x\": [602.8125], \"y\": [99.76168050870666], \"text\": [\"e = 2; k = 8; m = 4; t = 2<br>Mem (GB): 8.59; 8.65; 8.63<br>User time (min): 405.61; 602.81; 463.66<br>ARI (%): 99.76; 99.77; 99.76\"], \"mode\": \"markers\", \"marker\": {\"symbol\": \"square\", \"color\": \"#377eb8\", \"size\": 8}}, {\"type\": \"scatter\", \"name\": \"e = 2; k = 4; m = 7; t = 5\", \"x\": [810.26], \"y\": [99.7135408803231], \"text\": [\"e = 2; k = 4; m = 7; t = 5<br>Mem (GB): 8.45; 8.50; 8.48<br>User time (min): 590.76; 810.26; 673.45<br>ARI (%): 99.71; 99.72; 99.72\"], \"mode\": \"markers\", \"marker\": {\"symbol\": \"circle\", \"color\": \"#ff7f00\", \"size\": 8}}, {\"type\": \"scatter\", \"name\": \"e = 2; k = 4; m = 7; t = 4\", \"x\": [761.2143333333333], \"y\": [99.96493646289103], \"text\": [\"e = 2; k = 4; m = 7; t = 4<br>Mem (GB): 8.66; 8.70; 8.67<br>User time (min): 509.80; 761.21; 629.75<br>ARI (%): 99.96; 99.97; 99.97\"], \"mode\": \"markers\", \"marker\": {\"symbol\": \"circle\", \"color\": \"#ff7f00\", \"size\": 8}}, {\"type\": \"scatter\", \"name\": \"e = 2; k = 8; m = 5; t = 3\", \"x\": [899.545], \"y\": [99.50011599760364], \"text\": [\"e = 2; k = 8; m = 5; t = 3<br>Mem (GB): 9.71; 9.81; 9.74<br>User time (min): 676.05; 899.54; 737.97<br>ARI (%): 99.50; 99.50; 99.50\"], \"mode\": \"markers\", \"marker\": {\"symbol\": \"square\", \"color\": \"#4daf4a\", \"size\": 9}}, {\"type\": \"scatter\", \"name\": \"e = 2; k = 8; m = 5; t = 2\", \"x\": [901.7218333333333], \"y\": [99.94899688501538], \"text\": [\"e = 2; k = 8; m = 5; t = 2<br>Mem (GB): 9.95; 10.01; 9.99<br>User time (min): 595.75; 901.72; 731.35<br>ARI (%): 99.95; 99.96; 99.95\"], \"mode\": \"markers\", \"marker\": {\"symbol\": \"square\", \"color\": \"#4daf4a\", \"size\": 9}}, {\"type\": \"scatter\", \"name\": \"e = 2; k = 8; m = 6; t = 2\", \"x\": [1225.5226666666667], \"y\": [99.98156411865605], \"text\": [\"e = 2; k = 8; m = 6; t = 2<br>Mem (GB): 11.09; 11.17; 11.14<br>User time (min): 792.73; 1225.52; 1096.85<br>ARI (%): 99.98; 99.99; 99.98\"], \"mode\": \"markers\", \"marker\": {\"symbol\": \"square\", \"color\": \"#984ea3\", \"size\": 11}}, {\"type\": \"scatter\", \"name\": \"e = 2; k = 8; m = 6; t = 4\", \"x\": [1229.0455], \"y\": [99.10325438241274], \"text\": [\"e = 2; k = 8; m = 6; t = 4<br>Mem (GB): 10.62; 10.74; 10.68<br>User time (min): 774.19; 1229.05; 990.75<br>ARI (%): 99.10; 99.11; 99.11\"], \"mode\": \"markers\", \"marker\": {\"symbol\": \"square\", \"color\": \"#984ea3\", \"size\": 10}}, {\"type\": \"scatter\", \"name\": \"e = 2; k = 8; m = 6; t = 3\", \"x\": [1212.3356666666666], \"y\": [99.94959006881265], \"text\": [\"e = 2; k = 8; m = 6; t = 3<br>Mem (GB): 10.88; 11.12; 11.06<br>User time (min): 815.49; 1212.34; 982.92<br>ARI (%): 99.95; 99.95; 99.95\"], \"mode\": \"markers\", \"marker\": {\"symbol\": \"square\", \"color\": \"#984ea3\", \"size\": 11}}], {\"title\": \"Barcode length 4<br>Read length 75\", \"hovermode\": \"closest\", \"font\": {\"size\": 10}, \"xaxis\": {\"title\": \"Time in min\", \"type\": \"log\"}, \"yaxis\": {\"title\": \"ARI score\"}}, {\"showLink\": true, \"linkText\": \"Export to plot.ly\"})});</script>"
      ]
     },
     "metadata": {},
     "output_type": "display_data"
    },
    {
     "data": {
      "application/vnd.plotly.v1+json": {
       "data": [
        {
         "marker": {
          "color": "#4daf4a",
          "size": 11,
          "symbol": "square"
         },
         "mode": "markers",
         "name": "e = 1; k = 8; m = 5; t = 2",
         "text": [
          "e = 1; k = 8; m = 5; t = 2<br>Mem (GB): 11.23; 11.51; 11.38<br>User time (min): 74.87; 91.04; 82.05<br>ARI (%): 99.33; 99.33; 99.33"
         ],
         "type": "scatter",
         "x": [
          91.03766666666667
         ],
         "y": [
          99.32843485395199
         ]
        },
        {
         "marker": {
          "color": "#ff7f00",
          "size": 10,
          "symbol": "circle"
         },
         "mode": "markers",
         "name": "e = 1; k = 4; m = 7; t = 4",
         "text": [
          "e = 1; k = 4; m = 7; t = 4<br>Mem (GB): 10.47; 10.69; 10.56<br>User time (min): 87.93; 103.35; 95.75<br>ARI (%): 99.28; 99.32; 99.30"
         ],
         "type": "scatter",
         "x": [
          103.34783333333333
         ],
         "y": [
          99.27773117224291
         ]
        },
        {
         "marker": {
          "color": "#984ea3",
          "size": 12,
          "symbol": "square"
         },
         "mode": "markers",
         "name": "e = 1; k = 8; m = 6; t = 2",
         "text": [
          "e = 1; k = 8; m = 6; t = 2<br>Mem (GB): 12.09; 12.30; 12.22<br>User time (min): 97.31; 112.66; 107.32<br>ARI (%): 99.78; 99.79; 99.78"
         ],
         "type": "scatter",
         "x": [
          112.66183333333333
         ],
         "y": [
          99.78088284061357
         ]
        },
        {
         "marker": {
          "color": "#ff7f00",
          "size": 12,
          "symbol": "square"
         },
         "mode": "markers",
         "name": "e = 1; k = 8; m = 7; t = 3",
         "text": [
          "e = 1; k = 8; m = 7; t = 3<br>Mem (GB): 12.23; 12.44; 12.33<br>User time (min): 112.85; 136.47; 126.44<br>ARI (%): 99.54; 99.55; 99.55"
         ],
         "type": "scatter",
         "x": [
          136.46783333333332
         ],
         "y": [
          99.54243378527019
         ]
        },
        {
         "marker": {
          "color": "#ff7f00",
          "size": 12,
          "symbol": "square"
         },
         "mode": "markers",
         "name": "e = 1; k = 8; m = 7; t = 2",
         "text": [
          "e = 1; k = 8; m = 7; t = 2<br>Mem (GB): 12.47; 12.70; 12.59<br>User time (min): 110.27; 133.42; 125.41<br>ARI (%): 99.87; 99.88; 99.88"
         ],
         "type": "scatter",
         "x": [
          133.4175
         ],
         "y": [
          99.8714834788063
         ]
        }
       ],
       "layout": {
        "font": {
         "size": 10
        },
        "hovermode": "closest",
        "title": "Barcode length 4<br>Read length 150",
        "xaxis": {
         "title": "Time in min",
         "type": "log"
        },
        "yaxis": {
         "title": "ARI score"
        }
       }
      },
      "text/html": [
       "<div id=\"d2e2248e-682f-4da3-aa49-b52b2373343f\" style=\"height: 525px; width: 100%;\" class=\"plotly-graph-div\"></div><script type=\"text/javascript\">require([\"plotly\"], function(Plotly) { window.PLOTLYENV=window.PLOTLYENV || {};window.PLOTLYENV.BASE_URL=\"https://plot.ly\";Plotly.newPlot(\"d2e2248e-682f-4da3-aa49-b52b2373343f\", [{\"type\": \"scatter\", \"name\": \"e = 1; k = 8; m = 5; t = 2\", \"x\": [91.03766666666667], \"y\": [99.32843485395199], \"text\": [\"e = 1; k = 8; m = 5; t = 2<br>Mem (GB): 11.23; 11.51; 11.38<br>User time (min): 74.87; 91.04; 82.05<br>ARI (%): 99.33; 99.33; 99.33\"], \"mode\": \"markers\", \"marker\": {\"symbol\": \"square\", \"color\": \"#4daf4a\", \"size\": 11}}, {\"type\": \"scatter\", \"name\": \"e = 1; k = 4; m = 7; t = 4\", \"x\": [103.34783333333333], \"y\": [99.27773117224291], \"text\": [\"e = 1; k = 4; m = 7; t = 4<br>Mem (GB): 10.47; 10.69; 10.56<br>User time (min): 87.93; 103.35; 95.75<br>ARI (%): 99.28; 99.32; 99.30\"], \"mode\": \"markers\", \"marker\": {\"symbol\": \"circle\", \"color\": \"#ff7f00\", \"size\": 10}}, {\"type\": \"scatter\", \"name\": \"e = 1; k = 8; m = 6; t = 2\", \"x\": [112.66183333333333], \"y\": [99.78088284061357], \"text\": [\"e = 1; k = 8; m = 6; t = 2<br>Mem (GB): 12.09; 12.30; 12.22<br>User time (min): 97.31; 112.66; 107.32<br>ARI (%): 99.78; 99.79; 99.78\"], \"mode\": \"markers\", \"marker\": {\"symbol\": \"square\", \"color\": \"#984ea3\", \"size\": 12}}, {\"type\": \"scatter\", \"name\": \"e = 1; k = 8; m = 7; t = 3\", \"x\": [136.46783333333332], \"y\": [99.54243378527019], \"text\": [\"e = 1; k = 8; m = 7; t = 3<br>Mem (GB): 12.23; 12.44; 12.33<br>User time (min): 112.85; 136.47; 126.44<br>ARI (%): 99.54; 99.55; 99.55\"], \"mode\": \"markers\", \"marker\": {\"symbol\": \"square\", \"color\": \"#ff7f00\", \"size\": 12}}, {\"type\": \"scatter\", \"name\": \"e = 1; k = 8; m = 7; t = 2\", \"x\": [133.4175], \"y\": [99.8714834788063], \"text\": [\"e = 1; k = 8; m = 7; t = 2<br>Mem (GB): 12.47; 12.70; 12.59<br>User time (min): 110.27; 133.42; 125.41<br>ARI (%): 99.87; 99.88; 99.88\"], \"mode\": \"markers\", \"marker\": {\"symbol\": \"square\", \"color\": \"#ff7f00\", \"size\": 12}}], {\"title\": \"Barcode length 4<br>Read length 150\", \"hovermode\": \"closest\", \"font\": {\"size\": 10}, \"xaxis\": {\"title\": \"Time in min\", \"type\": \"log\"}, \"yaxis\": {\"title\": \"ARI score\"}}, {\"showLink\": true, \"linkText\": \"Export to plot.ly\"})});</script>"
      ],
      "text/vnd.plotly.v1+html": [
       "<div id=\"d2e2248e-682f-4da3-aa49-b52b2373343f\" style=\"height: 525px; width: 100%;\" class=\"plotly-graph-div\"></div><script type=\"text/javascript\">require([\"plotly\"], function(Plotly) { window.PLOTLYENV=window.PLOTLYENV || {};window.PLOTLYENV.BASE_URL=\"https://plot.ly\";Plotly.newPlot(\"d2e2248e-682f-4da3-aa49-b52b2373343f\", [{\"type\": \"scatter\", \"name\": \"e = 1; k = 8; m = 5; t = 2\", \"x\": [91.03766666666667], \"y\": [99.32843485395199], \"text\": [\"e = 1; k = 8; m = 5; t = 2<br>Mem (GB): 11.23; 11.51; 11.38<br>User time (min): 74.87; 91.04; 82.05<br>ARI (%): 99.33; 99.33; 99.33\"], \"mode\": \"markers\", \"marker\": {\"symbol\": \"square\", \"color\": \"#4daf4a\", \"size\": 11}}, {\"type\": \"scatter\", \"name\": \"e = 1; k = 4; m = 7; t = 4\", \"x\": [103.34783333333333], \"y\": [99.27773117224291], \"text\": [\"e = 1; k = 4; m = 7; t = 4<br>Mem (GB): 10.47; 10.69; 10.56<br>User time (min): 87.93; 103.35; 95.75<br>ARI (%): 99.28; 99.32; 99.30\"], \"mode\": \"markers\", \"marker\": {\"symbol\": \"circle\", \"color\": \"#ff7f00\", \"size\": 10}}, {\"type\": \"scatter\", \"name\": \"e = 1; k = 8; m = 6; t = 2\", \"x\": [112.66183333333333], \"y\": [99.78088284061357], \"text\": [\"e = 1; k = 8; m = 6; t = 2<br>Mem (GB): 12.09; 12.30; 12.22<br>User time (min): 97.31; 112.66; 107.32<br>ARI (%): 99.78; 99.79; 99.78\"], \"mode\": \"markers\", \"marker\": {\"symbol\": \"square\", \"color\": \"#984ea3\", \"size\": 12}}, {\"type\": \"scatter\", \"name\": \"e = 1; k = 8; m = 7; t = 3\", \"x\": [136.46783333333332], \"y\": [99.54243378527019], \"text\": [\"e = 1; k = 8; m = 7; t = 3<br>Mem (GB): 12.23; 12.44; 12.33<br>User time (min): 112.85; 136.47; 126.44<br>ARI (%): 99.54; 99.55; 99.55\"], \"mode\": \"markers\", \"marker\": {\"symbol\": \"square\", \"color\": \"#ff7f00\", \"size\": 12}}, {\"type\": \"scatter\", \"name\": \"e = 1; k = 8; m = 7; t = 2\", \"x\": [133.4175], \"y\": [99.8714834788063], \"text\": [\"e = 1; k = 8; m = 7; t = 2<br>Mem (GB): 12.47; 12.70; 12.59<br>User time (min): 110.27; 133.42; 125.41<br>ARI (%): 99.87; 99.88; 99.88\"], \"mode\": \"markers\", \"marker\": {\"symbol\": \"square\", \"color\": \"#ff7f00\", \"size\": 12}}], {\"title\": \"Barcode length 4<br>Read length 150\", \"hovermode\": \"closest\", \"font\": {\"size\": 10}, \"xaxis\": {\"title\": \"Time in min\", \"type\": \"log\"}, \"yaxis\": {\"title\": \"ARI score\"}}, {\"showLink\": true, \"linkText\": \"Export to plot.ly\"})});</script>"
      ]
     },
     "metadata": {},
     "output_type": "display_data"
    },
    {
     "data": {
      "application/vnd.plotly.v1+json": {
       "data": [
        {
         "marker": {
          "color": "#377eb8",
          "size": 6,
          "symbol": "square"
         },
         "mode": "markers",
         "name": "e = 1; k = 8; m = 4; t = 2",
         "text": [
          "e = 1; k = 8; m = 4; t = 2<br>Mem (GB): 6.86; 7.05; 6.92<br>User time (min): 25.81; 30.35; 28.41<br>ARI (%): 99.47; 99.49; 99.48"
         ],
         "type": "scatter",
         "x": [
          30.347666666666665
         ],
         "y": [
          99.47278074591279
         ]
        },
        {
         "marker": {
          "color": "#ff7f00",
          "size": 6,
          "symbol": "circle"
         },
         "mode": "markers",
         "name": "e = 1; k = 4; m = 7; t = 5",
         "text": [
          "e = 1; k = 4; m = 7; t = 5<br>Mem (GB): 6.54; 6.67; 6.58<br>User time (min): 33.81; 41.86; 37.73<br>ARI (%): 99.34; 99.38; 99.36"
         ],
         "type": "scatter",
         "x": [
          41.86116666666667
         ],
         "y": [
          99.3399051867867
         ]
        },
        {
         "marker": {
          "color": "#4daf4a",
          "size": 7,
          "symbol": "square"
         },
         "mode": "markers",
         "name": "e = 1; k = 8; m = 5; t = 2",
         "text": [
          "e = 1; k = 8; m = 5; t = 2<br>Mem (GB): 7.88; 8.07; 7.97<br>User time (min): 36.76; 48.38; 42.30<br>ARI (%): 99.70; 99.72; 99.71"
         ],
         "type": "scatter",
         "x": [
          48.38483333333333
         ],
         "y": [
          99.69946695077327
         ]
        },
        {
         "marker": {
          "color": "#ff7f00",
          "size": 9,
          "symbol": "square"
         },
         "mode": "markers",
         "name": "e = 1; k = 8; m = 7; t = 2",
         "text": [
          "e = 1; k = 8; m = 7; t = 2<br>Mem (GB): 9.60; 9.77; 9.67<br>User time (min): 68.48; 83.60; 76.45<br>ARI (%): 99.68; 99.71; 99.70"
         ],
         "type": "scatter",
         "x": [
          83.60233333333333
         ],
         "y": [
          99.68241401488537
         ]
        },
        {
         "marker": {
          "color": "#984ea3",
          "size": 9,
          "symbol": "square"
         },
         "mode": "markers",
         "name": "e = 1; k = 8; m = 6; t = 2",
         "text": [
          "e = 1; k = 8; m = 6; t = 2<br>Mem (GB): 8.97; 9.11; 9.05<br>User time (min): 55.33; 71.66; 62.79<br>ARI (%): 99.70; 99.73; 99.71"
         ],
         "type": "scatter",
         "x": [
          71.66283333333334
         ],
         "y": [
          99.70148641626895
         ]
        },
        {
         "marker": {
          "color": "#984ea3",
          "size": 9,
          "symbol": "square"
         },
         "mode": "markers",
         "name": "e = 1; k = 8; m = 6; t = 3",
         "text": [
          "e = 1; k = 8; m = 6; t = 3<br>Mem (GB): 8.93; 9.10; 9.01<br>User time (min): 57.91; 73.44; 66.15<br>ARI (%): 99.80; 99.80; 99.80"
         ],
         "type": "scatter",
         "x": [
          73.4365
         ],
         "y": [
          99.79822826298732
         ]
        },
        {
         "marker": {
          "color": "#ff7f00",
          "size": 9,
          "symbol": "square"
         },
         "mode": "markers",
         "name": "e = 1; k = 8; m = 7; t = 4",
         "text": [
          "e = 1; k = 8; m = 7; t = 4<br>Mem (GB): 9.53; 9.68; 9.58<br>User time (min): 73.72; 91.00; 80.66<br>ARI (%): 99.63; 99.63; 99.63"
         ],
         "type": "scatter",
         "x": [
          91.00333333333333
         ],
         "y": [
          99.6289024150801
         ]
        },
        {
         "marker": {
          "color": "#ff7f00",
          "size": 9,
          "symbol": "square"
         },
         "mode": "markers",
         "name": "e = 1; k = 8; m = 7; t = 3",
         "text": [
          "e = 1; k = 8; m = 7; t = 3<br>Mem (GB): 9.59; 9.76; 9.69<br>User time (min): 73.07; 84.92; 79.83<br>ARI (%): 99.90; 99.91; 99.91"
         ],
         "type": "scatter",
         "x": [
          84.91516666666666
         ],
         "y": [
          99.90390810267093
         ]
        }
       ],
       "layout": {
        "font": {
         "size": 10
        },
        "hovermode": "closest",
        "title": "Barcode length 4<br>Read length 250",
        "xaxis": {
         "title": "Time in min",
         "type": "log"
        },
        "yaxis": {
         "title": "ARI score"
        }
       }
      },
      "text/html": [
       "<div id=\"831f9bd1-0152-4645-a66c-a88f2d924d1e\" style=\"height: 525px; width: 100%;\" class=\"plotly-graph-div\"></div><script type=\"text/javascript\">require([\"plotly\"], function(Plotly) { window.PLOTLYENV=window.PLOTLYENV || {};window.PLOTLYENV.BASE_URL=\"https://plot.ly\";Plotly.newPlot(\"831f9bd1-0152-4645-a66c-a88f2d924d1e\", [{\"type\": \"scatter\", \"name\": \"e = 1; k = 8; m = 4; t = 2\", \"x\": [30.347666666666665], \"y\": [99.47278074591279], \"text\": [\"e = 1; k = 8; m = 4; t = 2<br>Mem (GB): 6.86; 7.05; 6.92<br>User time (min): 25.81; 30.35; 28.41<br>ARI (%): 99.47; 99.49; 99.48\"], \"mode\": \"markers\", \"marker\": {\"symbol\": \"square\", \"color\": \"#377eb8\", \"size\": 6}}, {\"type\": \"scatter\", \"name\": \"e = 1; k = 4; m = 7; t = 5\", \"x\": [41.86116666666667], \"y\": [99.3399051867867], \"text\": [\"e = 1; k = 4; m = 7; t = 5<br>Mem (GB): 6.54; 6.67; 6.58<br>User time (min): 33.81; 41.86; 37.73<br>ARI (%): 99.34; 99.38; 99.36\"], \"mode\": \"markers\", \"marker\": {\"symbol\": \"circle\", \"color\": \"#ff7f00\", \"size\": 6}}, {\"type\": \"scatter\", \"name\": \"e = 1; k = 8; m = 5; t = 2\", \"x\": [48.38483333333333], \"y\": [99.69946695077327], \"text\": [\"e = 1; k = 8; m = 5; t = 2<br>Mem (GB): 7.88; 8.07; 7.97<br>User time (min): 36.76; 48.38; 42.30<br>ARI (%): 99.70; 99.72; 99.71\"], \"mode\": \"markers\", \"marker\": {\"symbol\": \"square\", \"color\": \"#4daf4a\", \"size\": 7}}, {\"type\": \"scatter\", \"name\": \"e = 1; k = 8; m = 7; t = 2\", \"x\": [83.60233333333333], \"y\": [99.68241401488537], \"text\": [\"e = 1; k = 8; m = 7; t = 2<br>Mem (GB): 9.60; 9.77; 9.67<br>User time (min): 68.48; 83.60; 76.45<br>ARI (%): 99.68; 99.71; 99.70\"], \"mode\": \"markers\", \"marker\": {\"symbol\": \"square\", \"color\": \"#ff7f00\", \"size\": 9}}, {\"type\": \"scatter\", \"name\": \"e = 1; k = 8; m = 6; t = 2\", \"x\": [71.66283333333334], \"y\": [99.70148641626895], \"text\": [\"e = 1; k = 8; m = 6; t = 2<br>Mem (GB): 8.97; 9.11; 9.05<br>User time (min): 55.33; 71.66; 62.79<br>ARI (%): 99.70; 99.73; 99.71\"], \"mode\": \"markers\", \"marker\": {\"symbol\": \"square\", \"color\": \"#984ea3\", \"size\": 9}}, {\"type\": \"scatter\", \"name\": \"e = 1; k = 8; m = 6; t = 3\", \"x\": [73.4365], \"y\": [99.79822826298732], \"text\": [\"e = 1; k = 8; m = 6; t = 3<br>Mem (GB): 8.93; 9.10; 9.01<br>User time (min): 57.91; 73.44; 66.15<br>ARI (%): 99.80; 99.80; 99.80\"], \"mode\": \"markers\", \"marker\": {\"symbol\": \"square\", \"color\": \"#984ea3\", \"size\": 9}}, {\"type\": \"scatter\", \"name\": \"e = 1; k = 8; m = 7; t = 4\", \"x\": [91.00333333333333], \"y\": [99.6289024150801], \"text\": [\"e = 1; k = 8; m = 7; t = 4<br>Mem (GB): 9.53; 9.68; 9.58<br>User time (min): 73.72; 91.00; 80.66<br>ARI (%): 99.63; 99.63; 99.63\"], \"mode\": \"markers\", \"marker\": {\"symbol\": \"square\", \"color\": \"#ff7f00\", \"size\": 9}}, {\"type\": \"scatter\", \"name\": \"e = 1; k = 8; m = 7; t = 3\", \"x\": [84.91516666666666], \"y\": [99.90390810267093], \"text\": [\"e = 1; k = 8; m = 7; t = 3<br>Mem (GB): 9.59; 9.76; 9.69<br>User time (min): 73.07; 84.92; 79.83<br>ARI (%): 99.90; 99.91; 99.91\"], \"mode\": \"markers\", \"marker\": {\"symbol\": \"square\", \"color\": \"#ff7f00\", \"size\": 9}}], {\"title\": \"Barcode length 4<br>Read length 250\", \"hovermode\": \"closest\", \"font\": {\"size\": 10}, \"xaxis\": {\"title\": \"Time in min\", \"type\": \"log\"}, \"yaxis\": {\"title\": \"ARI score\"}}, {\"showLink\": true, \"linkText\": \"Export to plot.ly\"})});</script>"
      ],
      "text/vnd.plotly.v1+html": [
       "<div id=\"831f9bd1-0152-4645-a66c-a88f2d924d1e\" style=\"height: 525px; width: 100%;\" class=\"plotly-graph-div\"></div><script type=\"text/javascript\">require([\"plotly\"], function(Plotly) { window.PLOTLYENV=window.PLOTLYENV || {};window.PLOTLYENV.BASE_URL=\"https://plot.ly\";Plotly.newPlot(\"831f9bd1-0152-4645-a66c-a88f2d924d1e\", [{\"type\": \"scatter\", \"name\": \"e = 1; k = 8; m = 4; t = 2\", \"x\": [30.347666666666665], \"y\": [99.47278074591279], \"text\": [\"e = 1; k = 8; m = 4; t = 2<br>Mem (GB): 6.86; 7.05; 6.92<br>User time (min): 25.81; 30.35; 28.41<br>ARI (%): 99.47; 99.49; 99.48\"], \"mode\": \"markers\", \"marker\": {\"symbol\": \"square\", \"color\": \"#377eb8\", \"size\": 6}}, {\"type\": \"scatter\", \"name\": \"e = 1; k = 4; m = 7; t = 5\", \"x\": [41.86116666666667], \"y\": [99.3399051867867], \"text\": [\"e = 1; k = 4; m = 7; t = 5<br>Mem (GB): 6.54; 6.67; 6.58<br>User time (min): 33.81; 41.86; 37.73<br>ARI (%): 99.34; 99.38; 99.36\"], \"mode\": \"markers\", \"marker\": {\"symbol\": \"circle\", \"color\": \"#ff7f00\", \"size\": 6}}, {\"type\": \"scatter\", \"name\": \"e = 1; k = 8; m = 5; t = 2\", \"x\": [48.38483333333333], \"y\": [99.69946695077327], \"text\": [\"e = 1; k = 8; m = 5; t = 2<br>Mem (GB): 7.88; 8.07; 7.97<br>User time (min): 36.76; 48.38; 42.30<br>ARI (%): 99.70; 99.72; 99.71\"], \"mode\": \"markers\", \"marker\": {\"symbol\": \"square\", \"color\": \"#4daf4a\", \"size\": 7}}, {\"type\": \"scatter\", \"name\": \"e = 1; k = 8; m = 7; t = 2\", \"x\": [83.60233333333333], \"y\": [99.68241401488537], \"text\": [\"e = 1; k = 8; m = 7; t = 2<br>Mem (GB): 9.60; 9.77; 9.67<br>User time (min): 68.48; 83.60; 76.45<br>ARI (%): 99.68; 99.71; 99.70\"], \"mode\": \"markers\", \"marker\": {\"symbol\": \"square\", \"color\": \"#ff7f00\", \"size\": 9}}, {\"type\": \"scatter\", \"name\": \"e = 1; k = 8; m = 6; t = 2\", \"x\": [71.66283333333334], \"y\": [99.70148641626895], \"text\": [\"e = 1; k = 8; m = 6; t = 2<br>Mem (GB): 8.97; 9.11; 9.05<br>User time (min): 55.33; 71.66; 62.79<br>ARI (%): 99.70; 99.73; 99.71\"], \"mode\": \"markers\", \"marker\": {\"symbol\": \"square\", \"color\": \"#984ea3\", \"size\": 9}}, {\"type\": \"scatter\", \"name\": \"e = 1; k = 8; m = 6; t = 3\", \"x\": [73.4365], \"y\": [99.79822826298732], \"text\": [\"e = 1; k = 8; m = 6; t = 3<br>Mem (GB): 8.93; 9.10; 9.01<br>User time (min): 57.91; 73.44; 66.15<br>ARI (%): 99.80; 99.80; 99.80\"], \"mode\": \"markers\", \"marker\": {\"symbol\": \"square\", \"color\": \"#984ea3\", \"size\": 9}}, {\"type\": \"scatter\", \"name\": \"e = 1; k = 8; m = 7; t = 4\", \"x\": [91.00333333333333], \"y\": [99.6289024150801], \"text\": [\"e = 1; k = 8; m = 7; t = 4<br>Mem (GB): 9.53; 9.68; 9.58<br>User time (min): 73.72; 91.00; 80.66<br>ARI (%): 99.63; 99.63; 99.63\"], \"mode\": \"markers\", \"marker\": {\"symbol\": \"square\", \"color\": \"#ff7f00\", \"size\": 9}}, {\"type\": \"scatter\", \"name\": \"e = 1; k = 8; m = 7; t = 3\", \"x\": [84.91516666666666], \"y\": [99.90390810267093], \"text\": [\"e = 1; k = 8; m = 7; t = 3<br>Mem (GB): 9.59; 9.76; 9.69<br>User time (min): 73.07; 84.92; 79.83<br>ARI (%): 99.90; 99.91; 99.91\"], \"mode\": \"markers\", \"marker\": {\"symbol\": \"square\", \"color\": \"#ff7f00\", \"size\": 9}}], {\"title\": \"Barcode length 4<br>Read length 250\", \"hovermode\": \"closest\", \"font\": {\"size\": 10}, \"xaxis\": {\"title\": \"Time in min\", \"type\": \"log\"}, \"yaxis\": {\"title\": \"ARI score\"}}, {\"showLink\": true, \"linkText\": \"Export to plot.ly\"})});</script>"
      ]
     },
     "metadata": {},
     "output_type": "display_data"
    },
    {
     "data": {
      "application/vnd.plotly.v1+json": {
       "data": [
        {
         "marker": {
          "color": "#4daf4a",
          "size": 8,
          "symbol": "circle"
         },
         "mode": "markers",
         "name": "e = 1; k = 4; m = 5; t = 3",
         "text": [
          "e = 1; k = 4; m = 5; t = 3<br>Mem (GB): 8.78; 8.87; 8.84<br>User time (min): 4.17; 5.86; 4.83<br>ARI (%): 99.61; 99.61; 99.61"
         ],
         "type": "scatter",
         "x": [
          5.8580000000000005
         ],
         "y": [
          99.60795225598365
         ]
        },
        {
         "marker": {
          "color": "#4daf4a",
          "size": 8,
          "symbol": "circle"
         },
         "mode": "markers",
         "name": "e = 1; k = 4; m = 5; t = 2",
         "text": [
          "e = 1; k = 4; m = 5; t = 2<br>Mem (GB): 8.78; 8.88; 8.85<br>User time (min): 4.72; 5.68; 5.14<br>ARI (%): 99.68; 99.68; 99.68"
         ],
         "type": "scatter",
         "x": [
          5.680166666666667
         ],
         "y": [
          99.68091073484653
         ]
        },
        {
         "marker": {
          "color": "#377eb8",
          "size": 8,
          "symbol": "circle"
         },
         "mode": "markers",
         "name": "e = 1; k = 4; m = 4; t = 2",
         "text": [
          "e = 1; k = 4; m = 4; t = 2<br>Mem (GB): 8.11; 8.19; 8.17<br>User time (min): 3.96; 5.28; 4.55<br>ARI (%): 99.65; 99.65; 99.65"
         ],
         "type": "scatter",
         "x": [
          5.281000000000001
         ],
         "y": [
          99.64939223116845
         ]
        },
        {
         "marker": {
          "color": "#984ea3",
          "size": 9,
          "symbol": "circle"
         },
         "mode": "markers",
         "name": "e = 1; k = 4; m = 6; t = 4",
         "text": [
          "e = 1; k = 4; m = 6; t = 4<br>Mem (GB): 9.80; 9.90; 9.87<br>User time (min): 4.29; 5.90; 5.22<br>ARI (%): 99.52; 99.52; 99.52"
         ],
         "type": "scatter",
         "x": [
          5.898833333333333
         ],
         "y": [
          99.52249838275483
         ]
        },
        {
         "marker": {
          "color": "#984ea3",
          "size": 9,
          "symbol": "circle"
         },
         "mode": "markers",
         "name": "e = 1; k = 4; m = 6; t = 2",
         "text": [
          "e = 1; k = 4; m = 6; t = 2<br>Mem (GB): 9.86; 9.93; 9.90<br>User time (min): 4.70; 5.99; 5.25<br>ARI (%): 99.68; 99.69; 99.69"
         ],
         "type": "scatter",
         "x": [
          5.992333333333334
         ],
         "y": [
          99.68324317987384
         ]
        },
        {
         "marker": {
          "color": "#e41a1c",
          "size": 9,
          "symbol": "square"
         },
         "mode": "markers",
         "name": "e = 1; k = 8; m = 3; t = 1",
         "text": [
          "e = 1; k = 8; m = 3; t = 1<br>Mem (GB): 9.21; 9.31; 9.27<br>User time (min): 4.52; 5.63; 4.94<br>ARI (%): 99.64; 99.64; 99.64"
         ],
         "type": "scatter",
         "x": [
          5.6306666666666665
         ],
         "y": [
          99.63739461498186
         ]
        },
        {
         "marker": {
          "color": "#984ea3",
          "size": 9,
          "symbol": "circle"
         },
         "mode": "markers",
         "name": "e = 1; k = 4; m = 6; t = 3",
         "text": [
          "e = 1; k = 4; m = 6; t = 3<br>Mem (GB): 9.84; 9.92; 9.90<br>User time (min): 4.61; 5.84; 5.38<br>ARI (%): 99.69; 99.69; 99.69"
         ],
         "type": "scatter",
         "x": [
          5.844333333333334
         ],
         "y": [
          99.69125037753005
         ]
        },
        {
         "marker": {
          "color": "#ff7f00",
          "size": 10,
          "symbol": "circle"
         },
         "mode": "markers",
         "name": "e = 1; k = 4; m = 7; t = 3",
         "text": [
          "e = 1; k = 4; m = 7; t = 3<br>Mem (GB): 10.32; 10.38; 10.34<br>User time (min): 5.00; 6.79; 5.69<br>ARI (%): 99.70; 99.70; 99.70"
         ],
         "type": "scatter",
         "x": [
          6.788666666666667
         ],
         "y": [
          99.69632596159718
         ]
        },
        {
         "marker": {
          "color": "#ff7f00",
          "size": 10,
          "symbol": "circle"
         },
         "mode": "markers",
         "name": "e = 1; k = 4; m = 7; t = 2",
         "text": [
          "e = 1; k = 4; m = 7; t = 2<br>Mem (GB): 10.31; 10.38; 10.34<br>User time (min): 4.31; 6.31; 5.32<br>ARI (%): 99.69; 99.69; 99.69"
         ],
         "type": "scatter",
         "x": [
          6.309333333333333
         ],
         "y": [
          99.68794281699502
         ]
        },
        {
         "marker": {
          "color": "#377eb8",
          "size": 10,
          "symbol": "square"
         },
         "mode": "markers",
         "name": "e = 1; k = 8; m = 4; t = 2",
         "text": [
          "e = 1; k = 8; m = 4; t = 2<br>Mem (GB): 10.15; 10.24; 10.21<br>User time (min): 5.04; 6.62; 5.56<br>ARI (%): 99.48; 99.49; 99.48"
         ],
         "type": "scatter",
         "x": [
          6.62
         ],
         "y": [
          99.48153457688153
         ]
        },
        {
         "marker": {
          "color": "#ff7f00",
          "size": 10,
          "symbol": "circle"
         },
         "mode": "markers",
         "name": "e = 1; k = 4; m = 7; t = 4",
         "text": [
          "e = 1; k = 4; m = 7; t = 4<br>Mem (GB): 10.27; 10.36; 10.32<br>User time (min): 5.01; 6.32; 5.43<br>ARI (%): 99.69; 99.69; 99.69"
         ],
         "type": "scatter",
         "x": [
          6.316999999999999
         ],
         "y": [
          99.6855658005643
         ]
        },
        {
         "marker": {
          "color": "#ff7f00",
          "size": 10,
          "symbol": "circle"
         },
         "mode": "markers",
         "name": "e = 1; k = 4; m = 7; t = 5",
         "text": [
          "e = 1; k = 4; m = 7; t = 5<br>Mem (GB): 10.23; 10.34; 10.30<br>User time (min): 4.79; 6.29; 5.44<br>ARI (%): 99.42; 99.42; 99.42"
         ],
         "type": "scatter",
         "x": [
          6.285833333333333
         ],
         "y": [
          99.41753472587901
         ]
        },
        {
         "marker": {
          "color": "#4daf4a",
          "size": 11,
          "symbol": "square"
         },
         "mode": "markers",
         "name": "e = 1; k = 8; m = 5; t = 2",
         "text": [
          "e = 1; k = 8; m = 5; t = 2<br>Mem (GB): 11.13; 11.20; 11.16<br>User time (min): 5.08; 6.14; 5.54<br>ARI (%): 99.68; 99.68; 99.68"
         ],
         "type": "scatter",
         "x": [
          6.138166666666667
         ],
         "y": [
          99.67807311399902
         ]
        },
        {
         "marker": {
          "color": "#377eb8",
          "size": 10,
          "symbol": "square"
         },
         "mode": "markers",
         "name": "e = 1; k = 8; m = 4; t = 1",
         "text": [
          "e = 1; k = 8; m = 4; t = 1<br>Mem (GB): 10.19; 10.28; 10.25<br>User time (min): 4.85; 6.53; 5.38<br>ARI (%): 99.69; 99.70; 99.69"
         ],
         "type": "scatter",
         "x": [
          6.533333333333333
         ],
         "y": [
          99.69271344704686
         ]
        },
        {
         "marker": {
          "color": "#4daf4a",
          "size": 11,
          "symbol": "square"
         },
         "mode": "markers",
         "name": "e = 1; k = 8; m = 5; t = 3",
         "text": [
          "e = 1; k = 8; m = 5; t = 3<br>Mem (GB): 11.03; 11.12; 11.09<br>User time (min): 4.68; 5.78; 5.46<br>ARI (%): 99.18; 99.18; 99.18"
         ],
         "type": "scatter",
         "x": [
          5.7825
         ],
         "y": [
          99.18082180478937
         ]
        },
        {
         "marker": {
          "color": "#984ea3",
          "size": 12,
          "symbol": "square"
         },
         "mode": "markers",
         "name": "e = 1; k = 8; m = 6; t = 2",
         "text": [
          "e = 1; k = 8; m = 6; t = 2<br>Mem (GB): 12.38; 12.51; 12.45<br>User time (min): 5.92; 6.92; 6.28<br>ARI (%): 99.69; 99.70; 99.70"
         ],
         "type": "scatter",
         "x": [
          6.916166666666667
         ],
         "y": [
          99.6946099446165
         ]
        },
        {
         "marker": {
          "color": "#984ea3",
          "size": 12,
          "symbol": "square"
         },
         "mode": "markers",
         "name": "e = 1; k = 8; m = 6; t = 3",
         "text": [
          "e = 1; k = 8; m = 6; t = 3<br>Mem (GB): 12.36; 12.47; 12.44<br>User time (min): 5.28; 7.06; 6.26<br>ARI (%): 99.64; 99.64; 99.64"
         ],
         "type": "scatter",
         "x": [
          7.057166666666666
         ],
         "y": [
          99.64101779830995
         ]
        },
        {
         "marker": {
          "color": "#ff7f00",
          "size": 13,
          "symbol": "square"
         },
         "mode": "markers",
         "name": "e = 1; k = 8; m = 7; t = 3",
         "text": [
          "e = 1; k = 8; m = 7; t = 3<br>Mem (GB): 12.97; 13.08; 13.03<br>User time (min): 6.29; 7.47; 6.68<br>ARI (%): 99.69; 99.69; 99.69"
         ],
         "type": "scatter",
         "x": [
          7.4675
         ],
         "y": [
          99.68790799301692
         ]
        },
        {
         "marker": {
          "color": "#e41a1c",
          "size": 8,
          "symbol": "circle"
         },
         "mode": "markers",
         "name": "e = 2; k = 4; m = 3; t = 2",
         "text": [
          "e = 2; k = 4; m = 3; t = 2<br>Mem (GB): 8.93; 8.97; 8.95<br>User time (min): 14.64; 20.76; 18.22<br>ARI (%): 99.10; 99.12; 99.11"
         ],
         "type": "scatter",
         "x": [
          20.761333333333333
         ],
         "y": [
          99.10478871011928
         ]
        },
        {
         "marker": {
          "color": "#ff7f00",
          "size": 13,
          "symbol": "square"
         },
         "mode": "markers",
         "name": "e = 1; k = 8; m = 7; t = 2",
         "text": [
          "e = 1; k = 8; m = 7; t = 2<br>Mem (GB): 12.98; 13.08; 13.03<br>User time (min): 5.39; 8.07; 6.68<br>ARI (%): 99.70; 99.70; 99.70"
         ],
         "type": "scatter",
         "x": [
          8.074333333333334
         ],
         "y": [
          99.69507129892443
         ]
        },
        {
         "marker": {
          "color": "#ff7f00",
          "size": 13,
          "symbol": "square"
         },
         "mode": "markers",
         "name": "e = 1; k = 8; m = 7; t = 4",
         "text": [
          "e = 1; k = 8; m = 7; t = 4<br>Mem (GB): 12.98; 13.05; 13.03<br>User time (min): 5.41; 8.13; 6.60<br>ARI (%): 99.58; 99.59; 99.58"
         ],
         "type": "scatter",
         "x": [
          8.126166666666666
         ],
         "y": [
          99.58123541658131
         ]
        },
        {
         "marker": {
          "color": "#377eb8",
          "size": 10,
          "symbol": "circle"
         },
         "mode": "markers",
         "name": "e = 2; k = 4; m = 4; t = 2",
         "text": [
          "e = 2; k = 4; m = 4; t = 2<br>Mem (GB): 10.22; 10.26; 10.23<br>User time (min): 18.14; 22.57; 20.45<br>ARI (%): 99.81; 99.83; 99.81"
         ],
         "type": "scatter",
         "x": [
          22.565
         ],
         "y": [
          99.80536844832577
         ]
        },
        {
         "marker": {
          "color": "#984ea3",
          "size": 12,
          "symbol": "circle"
         },
         "mode": "markers",
         "name": "e = 2; k = 4; m = 6; t = 2",
         "text": [
          "e = 2; k = 4; m = 6; t = 2<br>Mem (GB): 12.75; 12.82; 12.79<br>User time (min): 18.50; 25.73; 22.23<br>ARI (%): 99.84; 99.87; 99.86"
         ],
         "type": "scatter",
         "x": [
          25.73
         ],
         "y": [
          99.84200085191704
         ]
        },
        {
         "marker": {
          "color": "#4daf4a",
          "size": 11,
          "symbol": "circle"
         },
         "mode": "markers",
         "name": "e = 2; k = 4; m = 5; t = 3",
         "text": [
          "e = 2; k = 4; m = 5; t = 3<br>Mem (GB): 11.28; 11.32; 11.30<br>User time (min): 20.13; 23.85; 21.82<br>ARI (%): 99.90; 99.91; 99.90"
         ],
         "type": "scatter",
         "x": [
          23.845000000000002
         ],
         "y": [
          99.90317323032514
         ]
        },
        {
         "marker": {
          "color": "#4daf4a",
          "size": 11,
          "symbol": "circle"
         },
         "mode": "markers",
         "name": "e = 2; k = 4; m = 5; t = 2",
         "text": [
          "e = 2; k = 4; m = 5; t = 2<br>Mem (GB): 11.34; 11.38; 11.36<br>User time (min): 18.85; 24.45; 21.84<br>ARI (%): 99.85; 99.86; 99.85"
         ],
         "type": "scatter",
         "x": [
          24.445666666666668
         ],
         "y": [
          99.84626631911352
         ]
        },
        {
         "marker": {
          "color": "#984ea3",
          "size": 12,
          "symbol": "circle"
         },
         "mode": "markers",
         "name": "e = 2; k = 4; m = 6; t = 4",
         "text": [
          "e = 2; k = 4; m = 6; t = 4<br>Mem (GB): 12.61; 12.68; 12.66<br>User time (min): 19.20; 23.69; 21.05<br>ARI (%): 99.82; 99.82; 99.82"
         ],
         "type": "scatter",
         "x": [
          23.694833333333335
         ],
         "y": [
          99.81690523416887
         ]
        },
        {
         "marker": {
          "color": "#377eb8",
          "size": 13,
          "symbol": "square"
         },
         "mode": "markers",
         "name": "e = 2; k = 8; m = 4; t = 1",
         "text": [
          "e = 2; k = 8; m = 4; t = 1<br>Mem (GB): 13.51; 13.60; 13.56<br>User time (min): 21.93; 26.01; 23.84<br>ARI (%): 99.99; 99.99; 99.99"
         ],
         "type": "scatter",
         "x": [
          26.006666666666668
         ],
         "y": [
          99.98564225063676
         ]
        },
        {
         "marker": {
          "color": "#ff7f00",
          "size": 13,
          "symbol": "circle"
         },
         "mode": "markers",
         "name": "e = 2; k = 4; m = 7; t = 5",
         "text": [
          "e = 2; k = 4; m = 7; t = 5<br>Mem (GB): 13.32; 13.36; 13.34<br>User time (min): 19.38; 26.28; 22.79<br>ARI (%): 99.71; 99.71; 99.71"
         ],
         "type": "scatter",
         "x": [
          26.283666666666665
         ],
         "y": [
          99.71236642611932
         ]
        },
        {
         "marker": {
          "color": "#ff7f00",
          "size": 13,
          "symbol": "circle"
         },
         "mode": "markers",
         "name": "e = 2; k = 4; m = 7; t = 2",
         "text": [
          "e = 2; k = 4; m = 7; t = 2<br>Mem (GB): 13.49; 13.53; 13.50<br>User time (min): 19.08; 29.11; 23.67<br>ARI (%): 99.89; 99.90; 99.90"
         ],
         "type": "scatter",
         "x": [
          29.111333333333334
         ],
         "y": [
          99.89022496121635
         ]
        },
        {
         "marker": {
          "color": "#984ea3",
          "size": 12,
          "symbol": "circle"
         },
         "mode": "markers",
         "name": "e = 2; k = 4; m = 6; t = 3",
         "text": [
          "e = 2; k = 4; m = 6; t = 3<br>Mem (GB): 12.75; 12.80; 12.78<br>User time (min): 19.33; 27.25; 23.11<br>ARI (%): 99.99; 99.99; 99.99"
         ],
         "type": "scatter",
         "x": [
          27.247166666666665
         ],
         "y": [
          99.98551400053584
         ]
        },
        {
         "marker": {
          "color": "#4daf4a",
          "size": 14,
          "symbol": "square"
         },
         "mode": "markers",
         "name": "e = 2; k = 8; m = 5; t = 3",
         "text": [
          "e = 2; k = 8; m = 5; t = 3<br>Mem (GB): 14.72; 14.79; 14.76<br>User time (min): 20.78; 26.30; 23.50<br>ARI (%): 99.48; 99.48; 99.48"
         ],
         "type": "scatter",
         "x": [
          26.302333333333333
         ],
         "y": [
          99.47678747989653
         ]
        },
        {
         "marker": {
          "color": "#e41a1c",
          "size": 11,
          "symbol": "square"
         },
         "mode": "markers",
         "name": "e = 2; k = 8; m = 3; t = 1",
         "text": [
          "e = 2; k = 8; m = 3; t = 1<br>Mem (GB): 11.96; 12.03; 12.00<br>User time (min): 16.84; 25.52; 22.56<br>ARI (%): 99.93; 99.93; 99.93"
         ],
         "type": "scatter",
         "x": [
          25.524166666666666
         ],
         "y": [
          99.92983600067977
         ]
        },
        {
         "marker": {
          "color": "#ff7f00",
          "size": 13,
          "symbol": "circle"
         },
         "mode": "markers",
         "name": "e = 2; k = 4; m = 7; t = 4",
         "text": [
          "e = 2; k = 4; m = 7; t = 4<br>Mem (GB): 13.45; 13.50; 13.48<br>User time (min): 21.68; 28.17; 24.71<br>ARI (%): 99.98; 99.98; 99.98"
         ],
         "type": "scatter",
         "x": [
          28.165333333333333
         ],
         "y": [
          99.98027653093901
         ]
        },
        {
         "marker": {
          "color": "#ff7f00",
          "size": 13,
          "symbol": "circle"
         },
         "mode": "markers",
         "name": "e = 2; k = 4; m = 7; t = 3",
         "text": [
          "e = 2; k = 4; m = 7; t = 3<br>Mem (GB): 13.42; 13.52; 13.48<br>User time (min): 21.38; 27.21; 24.47<br>ARI (%): 99.99; 99.99; 99.99"
         ],
         "type": "scatter",
         "x": [
          27.205666666666666
         ],
         "y": [
          99.99064413195656
         ]
        },
        {
         "marker": {
          "color": "#377eb8",
          "size": 13,
          "symbol": "square"
         },
         "mode": "markers",
         "name": "e = 2; k = 8; m = 4; t = 2",
         "text": [
          "e = 2; k = 8; m = 4; t = 2<br>Mem (GB): 13.41; 13.48; 13.45<br>User time (min): 18.71; 27.90; 24.20<br>ARI (%): 99.78; 99.78; 99.78"
         ],
         "type": "scatter",
         "x": [
          27.9035
         ],
         "y": [
          99.77592561948234
         ]
        },
        {
         "marker": {
          "color": "#984ea3",
          "size": 16,
          "symbol": "square"
         },
         "mode": "markers",
         "name": "e = 2; k = 8; m = 6; t = 3",
         "text": [
          "e = 2; k = 8; m = 6; t = 3<br>Mem (GB): 16.73; 16.79; 16.76<br>User time (min): 24.02; 28.57; 26.38<br>ARI (%): 99.94; 99.94; 99.94"
         ],
         "type": "scatter",
         "x": [
          28.569000000000003
         ],
         "y": [
          99.93635289103943
         ]
        },
        {
         "marker": {
          "color": "#4daf4a",
          "size": 14,
          "symbol": "square"
         },
         "mode": "markers",
         "name": "e = 2; k = 8; m = 5; t = 2",
         "text": [
          "e = 2; k = 8; m = 5; t = 2<br>Mem (GB): 14.97; 15.04; 15.00<br>User time (min): 20.51; 26.43; 23.91<br>ARI (%): 99.97; 99.97; 99.97"
         ],
         "type": "scatter",
         "x": [
          26.427333333333333
         ],
         "y": [
          99.97308584960163
         ]
        },
        {
         "marker": {
          "color": "#984ea3",
          "size": 16,
          "symbol": "square"
         },
         "mode": "markers",
         "name": "e = 2; k = 8; m = 6; t = 2",
         "text": [
          "e = 2; k = 8; m = 6; t = 2<br>Mem (GB): 16.80; 16.86; 16.84<br>User time (min): 24.64; 28.97; 26.65<br>ARI (%): 99.99; 99.99; 99.99"
         ],
         "type": "scatter",
         "x": [
          28.969333333333335
         ],
         "y": [
          99.98930897864079
         ]
        },
        {
         "marker": {
          "color": "#ff7f00",
          "size": 17,
          "symbol": "square"
         },
         "mode": "markers",
         "name": "e = 2; k = 8; m = 7; t = 2",
         "text": [
          "e = 2; k = 8; m = 7; t = 2<br>Mem (GB): 17.66; 17.76; 17.72<br>User time (min): 23.79; 28.75; 26.66<br>ARI (%): 99.99; 99.99; 99.99"
         ],
         "type": "scatter",
         "x": [
          28.747833333333332
         ],
         "y": [
          99.98959720455822
         ]
        },
        {
         "marker": {
          "color": "#ff7f00",
          "size": 17,
          "symbol": "square"
         },
         "mode": "markers",
         "name": "e = 2; k = 8; m = 7; t = 4",
         "text": [
          "e = 2; k = 8; m = 7; t = 4<br>Mem (GB): 17.56; 17.64; 17.60<br>User time (min): 24.00; 27.10; 25.65<br>ARI (%): 99.88; 99.88; 99.88"
         ],
         "type": "scatter",
         "x": [
          27.104666666666667
         ],
         "y": [
          99.87621377867157
         ]
        },
        {
         "marker": {
          "color": "#ff7f00",
          "size": 17,
          "symbol": "square"
         },
         "mode": "markers",
         "name": "e = 2; k = 8; m = 7; t = 3",
         "text": [
          "e = 2; k = 8; m = 7; t = 3<br>Mem (GB): 17.69; 17.81; 17.72<br>User time (min): 23.69; 34.00; 28.44<br>ARI (%): 99.98; 99.98; 99.98"
         ],
         "type": "scatter",
         "x": [
          34.003166666666665
         ],
         "y": [
          99.98218301669013
         ]
        }
       ],
       "layout": {
        "font": {
         "size": 10
        },
        "hovermode": "closest",
        "title": "Barcode length 8<br>Read length 75",
        "xaxis": {
         "title": "Time in min",
         "type": "log"
        },
        "yaxis": {
         "title": "ARI score"
        }
       }
      },
      "text/html": [
       "<div id=\"cb3e13df-c988-4afe-a534-e63fbd3a8b66\" style=\"height: 525px; width: 100%;\" class=\"plotly-graph-div\"></div><script type=\"text/javascript\">require([\"plotly\"], function(Plotly) { window.PLOTLYENV=window.PLOTLYENV || {};window.PLOTLYENV.BASE_URL=\"https://plot.ly\";Plotly.newPlot(\"cb3e13df-c988-4afe-a534-e63fbd3a8b66\", [{\"type\": \"scatter\", \"name\": \"e = 1; k = 4; m = 5; t = 3\", \"x\": [5.8580000000000005], \"y\": [99.60795225598365], \"text\": [\"e = 1; k = 4; m = 5; t = 3<br>Mem (GB): 8.78; 8.87; 8.84<br>User time (min): 4.17; 5.86; 4.83<br>ARI (%): 99.61; 99.61; 99.61\"], \"mode\": \"markers\", \"marker\": {\"symbol\": \"circle\", \"color\": \"#4daf4a\", \"size\": 8}}, {\"type\": \"scatter\", \"name\": \"e = 1; k = 4; m = 5; t = 2\", \"x\": [5.680166666666667], \"y\": [99.68091073484653], \"text\": [\"e = 1; k = 4; m = 5; t = 2<br>Mem (GB): 8.78; 8.88; 8.85<br>User time (min): 4.72; 5.68; 5.14<br>ARI (%): 99.68; 99.68; 99.68\"], \"mode\": \"markers\", \"marker\": {\"symbol\": \"circle\", \"color\": \"#4daf4a\", \"size\": 8}}, {\"type\": \"scatter\", \"name\": \"e = 1; k = 4; m = 4; t = 2\", \"x\": [5.281000000000001], \"y\": [99.64939223116845], \"text\": [\"e = 1; k = 4; m = 4; t = 2<br>Mem (GB): 8.11; 8.19; 8.17<br>User time (min): 3.96; 5.28; 4.55<br>ARI (%): 99.65; 99.65; 99.65\"], \"mode\": \"markers\", \"marker\": {\"symbol\": \"circle\", \"color\": \"#377eb8\", \"size\": 8}}, {\"type\": \"scatter\", \"name\": \"e = 1; k = 4; m = 6; t = 4\", \"x\": [5.898833333333333], \"y\": [99.52249838275483], \"text\": [\"e = 1; k = 4; m = 6; t = 4<br>Mem (GB): 9.80; 9.90; 9.87<br>User time (min): 4.29; 5.90; 5.22<br>ARI (%): 99.52; 99.52; 99.52\"], \"mode\": \"markers\", \"marker\": {\"symbol\": \"circle\", \"color\": \"#984ea3\", \"size\": 9}}, {\"type\": \"scatter\", \"name\": \"e = 1; k = 4; m = 6; t = 2\", \"x\": [5.992333333333334], \"y\": [99.68324317987384], \"text\": [\"e = 1; k = 4; m = 6; t = 2<br>Mem (GB): 9.86; 9.93; 9.90<br>User time (min): 4.70; 5.99; 5.25<br>ARI (%): 99.68; 99.69; 99.69\"], \"mode\": \"markers\", \"marker\": {\"symbol\": \"circle\", \"color\": \"#984ea3\", \"size\": 9}}, {\"type\": \"scatter\", \"name\": \"e = 1; k = 8; m = 3; t = 1\", \"x\": [5.6306666666666665], \"y\": [99.63739461498186], \"text\": [\"e = 1; k = 8; m = 3; t = 1<br>Mem (GB): 9.21; 9.31; 9.27<br>User time (min): 4.52; 5.63; 4.94<br>ARI (%): 99.64; 99.64; 99.64\"], \"mode\": \"markers\", \"marker\": {\"symbol\": \"square\", \"color\": \"#e41a1c\", \"size\": 9}}, {\"type\": \"scatter\", \"name\": \"e = 1; k = 4; m = 6; t = 3\", \"x\": [5.844333333333334], \"y\": [99.69125037753005], \"text\": [\"e = 1; k = 4; m = 6; t = 3<br>Mem (GB): 9.84; 9.92; 9.90<br>User time (min): 4.61; 5.84; 5.38<br>ARI (%): 99.69; 99.69; 99.69\"], \"mode\": \"markers\", \"marker\": {\"symbol\": \"circle\", \"color\": \"#984ea3\", \"size\": 9}}, {\"type\": \"scatter\", \"name\": \"e = 1; k = 4; m = 7; t = 3\", \"x\": [6.788666666666667], \"y\": [99.69632596159718], \"text\": [\"e = 1; k = 4; m = 7; t = 3<br>Mem (GB): 10.32; 10.38; 10.34<br>User time (min): 5.00; 6.79; 5.69<br>ARI (%): 99.70; 99.70; 99.70\"], \"mode\": \"markers\", \"marker\": {\"symbol\": \"circle\", \"color\": \"#ff7f00\", \"size\": 10}}, {\"type\": \"scatter\", \"name\": \"e = 1; k = 4; m = 7; t = 2\", \"x\": [6.309333333333333], \"y\": [99.68794281699502], \"text\": [\"e = 1; k = 4; m = 7; t = 2<br>Mem (GB): 10.31; 10.38; 10.34<br>User time (min): 4.31; 6.31; 5.32<br>ARI (%): 99.69; 99.69; 99.69\"], \"mode\": \"markers\", \"marker\": {\"symbol\": \"circle\", \"color\": \"#ff7f00\", \"size\": 10}}, {\"type\": \"scatter\", \"name\": \"e = 1; k = 8; m = 4; t = 2\", \"x\": [6.62], \"y\": [99.48153457688153], \"text\": [\"e = 1; k = 8; m = 4; t = 2<br>Mem (GB): 10.15; 10.24; 10.21<br>User time (min): 5.04; 6.62; 5.56<br>ARI (%): 99.48; 99.49; 99.48\"], \"mode\": \"markers\", \"marker\": {\"symbol\": \"square\", \"color\": \"#377eb8\", \"size\": 10}}, {\"type\": \"scatter\", \"name\": \"e = 1; k = 4; m = 7; t = 4\", \"x\": [6.316999999999999], \"y\": [99.6855658005643], \"text\": [\"e = 1; k = 4; m = 7; t = 4<br>Mem (GB): 10.27; 10.36; 10.32<br>User time (min): 5.01; 6.32; 5.43<br>ARI (%): 99.69; 99.69; 99.69\"], \"mode\": \"markers\", \"marker\": {\"symbol\": \"circle\", \"color\": \"#ff7f00\", \"size\": 10}}, {\"type\": \"scatter\", \"name\": \"e = 1; k = 4; m = 7; t = 5\", \"x\": [6.285833333333333], \"y\": [99.41753472587901], \"text\": [\"e = 1; k = 4; m = 7; t = 5<br>Mem (GB): 10.23; 10.34; 10.30<br>User time (min): 4.79; 6.29; 5.44<br>ARI (%): 99.42; 99.42; 99.42\"], \"mode\": \"markers\", \"marker\": {\"symbol\": \"circle\", \"color\": \"#ff7f00\", \"size\": 10}}, {\"type\": \"scatter\", \"name\": \"e = 1; k = 8; m = 5; t = 2\", \"x\": [6.138166666666667], \"y\": [99.67807311399902], \"text\": [\"e = 1; k = 8; m = 5; t = 2<br>Mem (GB): 11.13; 11.20; 11.16<br>User time (min): 5.08; 6.14; 5.54<br>ARI (%): 99.68; 99.68; 99.68\"], \"mode\": \"markers\", \"marker\": {\"symbol\": \"square\", \"color\": \"#4daf4a\", \"size\": 11}}, {\"type\": \"scatter\", \"name\": \"e = 1; k = 8; m = 4; t = 1\", \"x\": [6.533333333333333], \"y\": [99.69271344704686], \"text\": [\"e = 1; k = 8; m = 4; t = 1<br>Mem (GB): 10.19; 10.28; 10.25<br>User time (min): 4.85; 6.53; 5.38<br>ARI (%): 99.69; 99.70; 99.69\"], \"mode\": \"markers\", \"marker\": {\"symbol\": \"square\", \"color\": \"#377eb8\", \"size\": 10}}, {\"type\": \"scatter\", \"name\": \"e = 1; k = 8; m = 5; t = 3\", \"x\": [5.7825], \"y\": [99.18082180478937], \"text\": [\"e = 1; k = 8; m = 5; t = 3<br>Mem (GB): 11.03; 11.12; 11.09<br>User time (min): 4.68; 5.78; 5.46<br>ARI (%): 99.18; 99.18; 99.18\"], \"mode\": \"markers\", \"marker\": {\"symbol\": \"square\", \"color\": \"#4daf4a\", \"size\": 11}}, {\"type\": \"scatter\", \"name\": \"e = 1; k = 8; m = 6; t = 2\", \"x\": [6.916166666666667], \"y\": [99.6946099446165], \"text\": [\"e = 1; k = 8; m = 6; t = 2<br>Mem (GB): 12.38; 12.51; 12.45<br>User time (min): 5.92; 6.92; 6.28<br>ARI (%): 99.69; 99.70; 99.70\"], \"mode\": \"markers\", \"marker\": {\"symbol\": \"square\", \"color\": \"#984ea3\", \"size\": 12}}, {\"type\": \"scatter\", \"name\": \"e = 1; k = 8; m = 6; t = 3\", \"x\": [7.057166666666666], \"y\": [99.64101779830995], \"text\": [\"e = 1; k = 8; m = 6; t = 3<br>Mem (GB): 12.36; 12.47; 12.44<br>User time (min): 5.28; 7.06; 6.26<br>ARI (%): 99.64; 99.64; 99.64\"], \"mode\": \"markers\", \"marker\": {\"symbol\": \"square\", \"color\": \"#984ea3\", \"size\": 12}}, {\"type\": \"scatter\", \"name\": \"e = 1; k = 8; m = 7; t = 3\", \"x\": [7.4675], \"y\": [99.68790799301692], \"text\": [\"e = 1; k = 8; m = 7; t = 3<br>Mem (GB): 12.97; 13.08; 13.03<br>User time (min): 6.29; 7.47; 6.68<br>ARI (%): 99.69; 99.69; 99.69\"], \"mode\": \"markers\", \"marker\": {\"symbol\": \"square\", \"color\": \"#ff7f00\", \"size\": 13}}, {\"type\": \"scatter\", \"name\": \"e = 2; k = 4; m = 3; t = 2\", \"x\": [20.761333333333333], \"y\": [99.10478871011928], \"text\": [\"e = 2; k = 4; m = 3; t = 2<br>Mem (GB): 8.93; 8.97; 8.95<br>User time (min): 14.64; 20.76; 18.22<br>ARI (%): 99.10; 99.12; 99.11\"], \"mode\": \"markers\", \"marker\": {\"symbol\": \"circle\", \"color\": \"#e41a1c\", \"size\": 8}}, {\"type\": \"scatter\", \"name\": \"e = 1; k = 8; m = 7; t = 2\", \"x\": [8.074333333333334], \"y\": [99.69507129892443], \"text\": [\"e = 1; k = 8; m = 7; t = 2<br>Mem (GB): 12.98; 13.08; 13.03<br>User time (min): 5.39; 8.07; 6.68<br>ARI (%): 99.70; 99.70; 99.70\"], \"mode\": \"markers\", \"marker\": {\"symbol\": \"square\", \"color\": \"#ff7f00\", \"size\": 13}}, {\"type\": \"scatter\", \"name\": \"e = 1; k = 8; m = 7; t = 4\", \"x\": [8.126166666666666], \"y\": [99.58123541658131], \"text\": [\"e = 1; k = 8; m = 7; t = 4<br>Mem (GB): 12.98; 13.05; 13.03<br>User time (min): 5.41; 8.13; 6.60<br>ARI (%): 99.58; 99.59; 99.58\"], \"mode\": \"markers\", \"marker\": {\"symbol\": \"square\", \"color\": \"#ff7f00\", \"size\": 13}}, {\"type\": \"scatter\", \"name\": \"e = 2; k = 4; m = 4; t = 2\", \"x\": [22.565], \"y\": [99.80536844832577], \"text\": [\"e = 2; k = 4; m = 4; t = 2<br>Mem (GB): 10.22; 10.26; 10.23<br>User time (min): 18.14; 22.57; 20.45<br>ARI (%): 99.81; 99.83; 99.81\"], \"mode\": \"markers\", \"marker\": {\"symbol\": \"circle\", \"color\": \"#377eb8\", \"size\": 10}}, {\"type\": \"scatter\", \"name\": \"e = 2; k = 4; m = 6; t = 2\", \"x\": [25.73], \"y\": [99.84200085191704], \"text\": [\"e = 2; k = 4; m = 6; t = 2<br>Mem (GB): 12.75; 12.82; 12.79<br>User time (min): 18.50; 25.73; 22.23<br>ARI (%): 99.84; 99.87; 99.86\"], \"mode\": \"markers\", \"marker\": {\"symbol\": \"circle\", \"color\": \"#984ea3\", \"size\": 12}}, {\"type\": \"scatter\", \"name\": \"e = 2; k = 4; m = 5; t = 3\", \"x\": [23.845000000000002], \"y\": [99.90317323032514], \"text\": [\"e = 2; k = 4; m = 5; t = 3<br>Mem (GB): 11.28; 11.32; 11.30<br>User time (min): 20.13; 23.85; 21.82<br>ARI (%): 99.90; 99.91; 99.90\"], \"mode\": \"markers\", \"marker\": {\"symbol\": \"circle\", \"color\": \"#4daf4a\", \"size\": 11}}, {\"type\": \"scatter\", \"name\": \"e = 2; k = 4; m = 5; t = 2\", \"x\": [24.445666666666668], \"y\": [99.84626631911352], \"text\": [\"e = 2; k = 4; m = 5; t = 2<br>Mem (GB): 11.34; 11.38; 11.36<br>User time (min): 18.85; 24.45; 21.84<br>ARI (%): 99.85; 99.86; 99.85\"], \"mode\": \"markers\", \"marker\": {\"symbol\": \"circle\", \"color\": \"#4daf4a\", \"size\": 11}}, {\"type\": \"scatter\", \"name\": \"e = 2; k = 4; m = 6; t = 4\", \"x\": [23.694833333333335], \"y\": [99.81690523416887], \"text\": [\"e = 2; k = 4; m = 6; t = 4<br>Mem (GB): 12.61; 12.68; 12.66<br>User time (min): 19.20; 23.69; 21.05<br>ARI (%): 99.82; 99.82; 99.82\"], \"mode\": \"markers\", \"marker\": {\"symbol\": \"circle\", \"color\": \"#984ea3\", \"size\": 12}}, {\"type\": \"scatter\", \"name\": \"e = 2; k = 8; m = 4; t = 1\", \"x\": [26.006666666666668], \"y\": [99.98564225063676], \"text\": [\"e = 2; k = 8; m = 4; t = 1<br>Mem (GB): 13.51; 13.60; 13.56<br>User time (min): 21.93; 26.01; 23.84<br>ARI (%): 99.99; 99.99; 99.99\"], \"mode\": \"markers\", \"marker\": {\"symbol\": \"square\", \"color\": \"#377eb8\", \"size\": 13}}, {\"type\": \"scatter\", \"name\": \"e = 2; k = 4; m = 7; t = 5\", \"x\": [26.283666666666665], \"y\": [99.71236642611932], \"text\": [\"e = 2; k = 4; m = 7; t = 5<br>Mem (GB): 13.32; 13.36; 13.34<br>User time (min): 19.38; 26.28; 22.79<br>ARI (%): 99.71; 99.71; 99.71\"], \"mode\": \"markers\", \"marker\": {\"symbol\": \"circle\", \"color\": \"#ff7f00\", \"size\": 13}}, {\"type\": \"scatter\", \"name\": \"e = 2; k = 4; m = 7; t = 2\", \"x\": [29.111333333333334], \"y\": [99.89022496121635], \"text\": [\"e = 2; k = 4; m = 7; t = 2<br>Mem (GB): 13.49; 13.53; 13.50<br>User time (min): 19.08; 29.11; 23.67<br>ARI (%): 99.89; 99.90; 99.90\"], \"mode\": \"markers\", \"marker\": {\"symbol\": \"circle\", \"color\": \"#ff7f00\", \"size\": 13}}, {\"type\": \"scatter\", \"name\": \"e = 2; k = 4; m = 6; t = 3\", \"x\": [27.247166666666665], \"y\": [99.98551400053584], \"text\": [\"e = 2; k = 4; m = 6; t = 3<br>Mem (GB): 12.75; 12.80; 12.78<br>User time (min): 19.33; 27.25; 23.11<br>ARI (%): 99.99; 99.99; 99.99\"], \"mode\": \"markers\", \"marker\": {\"symbol\": \"circle\", \"color\": \"#984ea3\", \"size\": 12}}, {\"type\": \"scatter\", \"name\": \"e = 2; k = 8; m = 5; t = 3\", \"x\": [26.302333333333333], \"y\": [99.47678747989653], \"text\": [\"e = 2; k = 8; m = 5; t = 3<br>Mem (GB): 14.72; 14.79; 14.76<br>User time (min): 20.78; 26.30; 23.50<br>ARI (%): 99.48; 99.48; 99.48\"], \"mode\": \"markers\", \"marker\": {\"symbol\": \"square\", \"color\": \"#4daf4a\", \"size\": 14}}, {\"type\": \"scatter\", \"name\": \"e = 2; k = 8; m = 3; t = 1\", \"x\": [25.524166666666666], \"y\": [99.92983600067977], \"text\": [\"e = 2; k = 8; m = 3; t = 1<br>Mem (GB): 11.96; 12.03; 12.00<br>User time (min): 16.84; 25.52; 22.56<br>ARI (%): 99.93; 99.93; 99.93\"], \"mode\": \"markers\", \"marker\": {\"symbol\": \"square\", \"color\": \"#e41a1c\", \"size\": 11}}, {\"type\": \"scatter\", \"name\": \"e = 2; k = 4; m = 7; t = 4\", \"x\": [28.165333333333333], \"y\": [99.98027653093901], \"text\": [\"e = 2; k = 4; m = 7; t = 4<br>Mem (GB): 13.45; 13.50; 13.48<br>User time (min): 21.68; 28.17; 24.71<br>ARI (%): 99.98; 99.98; 99.98\"], \"mode\": \"markers\", \"marker\": {\"symbol\": \"circle\", \"color\": \"#ff7f00\", \"size\": 13}}, {\"type\": \"scatter\", \"name\": \"e = 2; k = 4; m = 7; t = 3\", \"x\": [27.205666666666666], \"y\": [99.99064413195656], \"text\": [\"e = 2; k = 4; m = 7; t = 3<br>Mem (GB): 13.42; 13.52; 13.48<br>User time (min): 21.38; 27.21; 24.47<br>ARI (%): 99.99; 99.99; 99.99\"], \"mode\": \"markers\", \"marker\": {\"symbol\": \"circle\", \"color\": \"#ff7f00\", \"size\": 13}}, {\"type\": \"scatter\", \"name\": \"e = 2; k = 8; m = 4; t = 2\", \"x\": [27.9035], \"y\": [99.77592561948234], \"text\": [\"e = 2; k = 8; m = 4; t = 2<br>Mem (GB): 13.41; 13.48; 13.45<br>User time (min): 18.71; 27.90; 24.20<br>ARI (%): 99.78; 99.78; 99.78\"], \"mode\": \"markers\", \"marker\": {\"symbol\": \"square\", \"color\": \"#377eb8\", \"size\": 13}}, {\"type\": \"scatter\", \"name\": \"e = 2; k = 8; m = 6; t = 3\", \"x\": [28.569000000000003], \"y\": [99.93635289103943], \"text\": [\"e = 2; k = 8; m = 6; t = 3<br>Mem (GB): 16.73; 16.79; 16.76<br>User time (min): 24.02; 28.57; 26.38<br>ARI (%): 99.94; 99.94; 99.94\"], \"mode\": \"markers\", \"marker\": {\"symbol\": \"square\", \"color\": \"#984ea3\", \"size\": 16}}, {\"type\": \"scatter\", \"name\": \"e = 2; k = 8; m = 5; t = 2\", \"x\": [26.427333333333333], \"y\": [99.97308584960163], \"text\": [\"e = 2; k = 8; m = 5; t = 2<br>Mem (GB): 14.97; 15.04; 15.00<br>User time (min): 20.51; 26.43; 23.91<br>ARI (%): 99.97; 99.97; 99.97\"], \"mode\": \"markers\", \"marker\": {\"symbol\": \"square\", \"color\": \"#4daf4a\", \"size\": 14}}, {\"type\": \"scatter\", \"name\": \"e = 2; k = 8; m = 6; t = 2\", \"x\": [28.969333333333335], \"y\": [99.98930897864079], \"text\": [\"e = 2; k = 8; m = 6; t = 2<br>Mem (GB): 16.80; 16.86; 16.84<br>User time (min): 24.64; 28.97; 26.65<br>ARI (%): 99.99; 99.99; 99.99\"], \"mode\": \"markers\", \"marker\": {\"symbol\": \"square\", \"color\": \"#984ea3\", \"size\": 16}}, {\"type\": \"scatter\", \"name\": \"e = 2; k = 8; m = 7; t = 2\", \"x\": [28.747833333333332], \"y\": [99.98959720455822], \"text\": [\"e = 2; k = 8; m = 7; t = 2<br>Mem (GB): 17.66; 17.76; 17.72<br>User time (min): 23.79; 28.75; 26.66<br>ARI (%): 99.99; 99.99; 99.99\"], \"mode\": \"markers\", \"marker\": {\"symbol\": \"square\", \"color\": \"#ff7f00\", \"size\": 17}}, {\"type\": \"scatter\", \"name\": \"e = 2; k = 8; m = 7; t = 4\", \"x\": [27.104666666666667], \"y\": [99.87621377867157], \"text\": [\"e = 2; k = 8; m = 7; t = 4<br>Mem (GB): 17.56; 17.64; 17.60<br>User time (min): 24.00; 27.10; 25.65<br>ARI (%): 99.88; 99.88; 99.88\"], \"mode\": \"markers\", \"marker\": {\"symbol\": \"square\", \"color\": \"#ff7f00\", \"size\": 17}}, {\"type\": \"scatter\", \"name\": \"e = 2; k = 8; m = 7; t = 3\", \"x\": [34.003166666666665], \"y\": [99.98218301669013], \"text\": [\"e = 2; k = 8; m = 7; t = 3<br>Mem (GB): 17.69; 17.81; 17.72<br>User time (min): 23.69; 34.00; 28.44<br>ARI (%): 99.98; 99.98; 99.98\"], \"mode\": \"markers\", \"marker\": {\"symbol\": \"square\", \"color\": \"#ff7f00\", \"size\": 17}}], {\"title\": \"Barcode length 8<br>Read length 75\", \"hovermode\": \"closest\", \"font\": {\"size\": 10}, \"xaxis\": {\"title\": \"Time in min\", \"type\": \"log\"}, \"yaxis\": {\"title\": \"ARI score\"}}, {\"showLink\": true, \"linkText\": \"Export to plot.ly\"})});</script>"
      ],
      "text/vnd.plotly.v1+html": [
       "<div id=\"cb3e13df-c988-4afe-a534-e63fbd3a8b66\" style=\"height: 525px; width: 100%;\" class=\"plotly-graph-div\"></div><script type=\"text/javascript\">require([\"plotly\"], function(Plotly) { window.PLOTLYENV=window.PLOTLYENV || {};window.PLOTLYENV.BASE_URL=\"https://plot.ly\";Plotly.newPlot(\"cb3e13df-c988-4afe-a534-e63fbd3a8b66\", [{\"type\": \"scatter\", \"name\": \"e = 1; k = 4; m = 5; t = 3\", \"x\": [5.8580000000000005], \"y\": [99.60795225598365], \"text\": [\"e = 1; k = 4; m = 5; t = 3<br>Mem (GB): 8.78; 8.87; 8.84<br>User time (min): 4.17; 5.86; 4.83<br>ARI (%): 99.61; 99.61; 99.61\"], \"mode\": \"markers\", \"marker\": {\"symbol\": \"circle\", \"color\": \"#4daf4a\", \"size\": 8}}, {\"type\": \"scatter\", \"name\": \"e = 1; k = 4; m = 5; t = 2\", \"x\": [5.680166666666667], \"y\": [99.68091073484653], \"text\": [\"e = 1; k = 4; m = 5; t = 2<br>Mem (GB): 8.78; 8.88; 8.85<br>User time (min): 4.72; 5.68; 5.14<br>ARI (%): 99.68; 99.68; 99.68\"], \"mode\": \"markers\", \"marker\": {\"symbol\": \"circle\", \"color\": \"#4daf4a\", \"size\": 8}}, {\"type\": \"scatter\", \"name\": \"e = 1; k = 4; m = 4; t = 2\", \"x\": [5.281000000000001], \"y\": [99.64939223116845], \"text\": [\"e = 1; k = 4; m = 4; t = 2<br>Mem (GB): 8.11; 8.19; 8.17<br>User time (min): 3.96; 5.28; 4.55<br>ARI (%): 99.65; 99.65; 99.65\"], \"mode\": \"markers\", \"marker\": {\"symbol\": \"circle\", \"color\": \"#377eb8\", \"size\": 8}}, {\"type\": \"scatter\", \"name\": \"e = 1; k = 4; m = 6; t = 4\", \"x\": [5.898833333333333], \"y\": [99.52249838275483], \"text\": [\"e = 1; k = 4; m = 6; t = 4<br>Mem (GB): 9.80; 9.90; 9.87<br>User time (min): 4.29; 5.90; 5.22<br>ARI (%): 99.52; 99.52; 99.52\"], \"mode\": \"markers\", \"marker\": {\"symbol\": \"circle\", \"color\": \"#984ea3\", \"size\": 9}}, {\"type\": \"scatter\", \"name\": \"e = 1; k = 4; m = 6; t = 2\", \"x\": [5.992333333333334], \"y\": [99.68324317987384], \"text\": [\"e = 1; k = 4; m = 6; t = 2<br>Mem (GB): 9.86; 9.93; 9.90<br>User time (min): 4.70; 5.99; 5.25<br>ARI (%): 99.68; 99.69; 99.69\"], \"mode\": \"markers\", \"marker\": {\"symbol\": \"circle\", \"color\": \"#984ea3\", \"size\": 9}}, {\"type\": \"scatter\", \"name\": \"e = 1; k = 8; m = 3; t = 1\", \"x\": [5.6306666666666665], \"y\": [99.63739461498186], \"text\": [\"e = 1; k = 8; m = 3; t = 1<br>Mem (GB): 9.21; 9.31; 9.27<br>User time (min): 4.52; 5.63; 4.94<br>ARI (%): 99.64; 99.64; 99.64\"], \"mode\": \"markers\", \"marker\": {\"symbol\": \"square\", \"color\": \"#e41a1c\", \"size\": 9}}, {\"type\": \"scatter\", \"name\": \"e = 1; k = 4; m = 6; t = 3\", \"x\": [5.844333333333334], \"y\": [99.69125037753005], \"text\": [\"e = 1; k = 4; m = 6; t = 3<br>Mem (GB): 9.84; 9.92; 9.90<br>User time (min): 4.61; 5.84; 5.38<br>ARI (%): 99.69; 99.69; 99.69\"], \"mode\": \"markers\", \"marker\": {\"symbol\": \"circle\", \"color\": \"#984ea3\", \"size\": 9}}, {\"type\": \"scatter\", \"name\": \"e = 1; k = 4; m = 7; t = 3\", \"x\": [6.788666666666667], \"y\": [99.69632596159718], \"text\": [\"e = 1; k = 4; m = 7; t = 3<br>Mem (GB): 10.32; 10.38; 10.34<br>User time (min): 5.00; 6.79; 5.69<br>ARI (%): 99.70; 99.70; 99.70\"], \"mode\": \"markers\", \"marker\": {\"symbol\": \"circle\", \"color\": \"#ff7f00\", \"size\": 10}}, {\"type\": \"scatter\", \"name\": \"e = 1; k = 4; m = 7; t = 2\", \"x\": [6.309333333333333], \"y\": [99.68794281699502], \"text\": [\"e = 1; k = 4; m = 7; t = 2<br>Mem (GB): 10.31; 10.38; 10.34<br>User time (min): 4.31; 6.31; 5.32<br>ARI (%): 99.69; 99.69; 99.69\"], \"mode\": \"markers\", \"marker\": {\"symbol\": \"circle\", \"color\": \"#ff7f00\", \"size\": 10}}, {\"type\": \"scatter\", \"name\": \"e = 1; k = 8; m = 4; t = 2\", \"x\": [6.62], \"y\": [99.48153457688153], \"text\": [\"e = 1; k = 8; m = 4; t = 2<br>Mem (GB): 10.15; 10.24; 10.21<br>User time (min): 5.04; 6.62; 5.56<br>ARI (%): 99.48; 99.49; 99.48\"], \"mode\": \"markers\", \"marker\": {\"symbol\": \"square\", \"color\": \"#377eb8\", \"size\": 10}}, {\"type\": \"scatter\", \"name\": \"e = 1; k = 4; m = 7; t = 4\", \"x\": [6.316999999999999], \"y\": [99.6855658005643], \"text\": [\"e = 1; k = 4; m = 7; t = 4<br>Mem (GB): 10.27; 10.36; 10.32<br>User time (min): 5.01; 6.32; 5.43<br>ARI (%): 99.69; 99.69; 99.69\"], \"mode\": \"markers\", \"marker\": {\"symbol\": \"circle\", \"color\": \"#ff7f00\", \"size\": 10}}, {\"type\": \"scatter\", \"name\": \"e = 1; k = 4; m = 7; t = 5\", \"x\": [6.285833333333333], \"y\": [99.41753472587901], \"text\": [\"e = 1; k = 4; m = 7; t = 5<br>Mem (GB): 10.23; 10.34; 10.30<br>User time (min): 4.79; 6.29; 5.44<br>ARI (%): 99.42; 99.42; 99.42\"], \"mode\": \"markers\", \"marker\": {\"symbol\": \"circle\", \"color\": \"#ff7f00\", \"size\": 10}}, {\"type\": \"scatter\", \"name\": \"e = 1; k = 8; m = 5; t = 2\", \"x\": [6.138166666666667], \"y\": [99.67807311399902], \"text\": [\"e = 1; k = 8; m = 5; t = 2<br>Mem (GB): 11.13; 11.20; 11.16<br>User time (min): 5.08; 6.14; 5.54<br>ARI (%): 99.68; 99.68; 99.68\"], \"mode\": \"markers\", \"marker\": {\"symbol\": \"square\", \"color\": \"#4daf4a\", \"size\": 11}}, {\"type\": \"scatter\", \"name\": \"e = 1; k = 8; m = 4; t = 1\", \"x\": [6.533333333333333], \"y\": [99.69271344704686], \"text\": [\"e = 1; k = 8; m = 4; t = 1<br>Mem (GB): 10.19; 10.28; 10.25<br>User time (min): 4.85; 6.53; 5.38<br>ARI (%): 99.69; 99.70; 99.69\"], \"mode\": \"markers\", \"marker\": {\"symbol\": \"square\", \"color\": \"#377eb8\", \"size\": 10}}, {\"type\": \"scatter\", \"name\": \"e = 1; k = 8; m = 5; t = 3\", \"x\": [5.7825], \"y\": [99.18082180478937], \"text\": [\"e = 1; k = 8; m = 5; t = 3<br>Mem (GB): 11.03; 11.12; 11.09<br>User time (min): 4.68; 5.78; 5.46<br>ARI (%): 99.18; 99.18; 99.18\"], \"mode\": \"markers\", \"marker\": {\"symbol\": \"square\", \"color\": \"#4daf4a\", \"size\": 11}}, {\"type\": \"scatter\", \"name\": \"e = 1; k = 8; m = 6; t = 2\", \"x\": [6.916166666666667], \"y\": [99.6946099446165], \"text\": [\"e = 1; k = 8; m = 6; t = 2<br>Mem (GB): 12.38; 12.51; 12.45<br>User time (min): 5.92; 6.92; 6.28<br>ARI (%): 99.69; 99.70; 99.70\"], \"mode\": \"markers\", \"marker\": {\"symbol\": \"square\", \"color\": \"#984ea3\", \"size\": 12}}, {\"type\": \"scatter\", \"name\": \"e = 1; k = 8; m = 6; t = 3\", \"x\": [7.057166666666666], \"y\": [99.64101779830995], \"text\": [\"e = 1; k = 8; m = 6; t = 3<br>Mem (GB): 12.36; 12.47; 12.44<br>User time (min): 5.28; 7.06; 6.26<br>ARI (%): 99.64; 99.64; 99.64\"], \"mode\": \"markers\", \"marker\": {\"symbol\": \"square\", \"color\": \"#984ea3\", \"size\": 12}}, {\"type\": \"scatter\", \"name\": \"e = 1; k = 8; m = 7; t = 3\", \"x\": [7.4675], \"y\": [99.68790799301692], \"text\": [\"e = 1; k = 8; m = 7; t = 3<br>Mem (GB): 12.97; 13.08; 13.03<br>User time (min): 6.29; 7.47; 6.68<br>ARI (%): 99.69; 99.69; 99.69\"], \"mode\": \"markers\", \"marker\": {\"symbol\": \"square\", \"color\": \"#ff7f00\", \"size\": 13}}, {\"type\": \"scatter\", \"name\": \"e = 2; k = 4; m = 3; t = 2\", \"x\": [20.761333333333333], \"y\": [99.10478871011928], \"text\": [\"e = 2; k = 4; m = 3; t = 2<br>Mem (GB): 8.93; 8.97; 8.95<br>User time (min): 14.64; 20.76; 18.22<br>ARI (%): 99.10; 99.12; 99.11\"], \"mode\": \"markers\", \"marker\": {\"symbol\": \"circle\", \"color\": \"#e41a1c\", \"size\": 8}}, {\"type\": \"scatter\", \"name\": \"e = 1; k = 8; m = 7; t = 2\", \"x\": [8.074333333333334], \"y\": [99.69507129892443], \"text\": [\"e = 1; k = 8; m = 7; t = 2<br>Mem (GB): 12.98; 13.08; 13.03<br>User time (min): 5.39; 8.07; 6.68<br>ARI (%): 99.70; 99.70; 99.70\"], \"mode\": \"markers\", \"marker\": {\"symbol\": \"square\", \"color\": \"#ff7f00\", \"size\": 13}}, {\"type\": \"scatter\", \"name\": \"e = 1; k = 8; m = 7; t = 4\", \"x\": [8.126166666666666], \"y\": [99.58123541658131], \"text\": [\"e = 1; k = 8; m = 7; t = 4<br>Mem (GB): 12.98; 13.05; 13.03<br>User time (min): 5.41; 8.13; 6.60<br>ARI (%): 99.58; 99.59; 99.58\"], \"mode\": \"markers\", \"marker\": {\"symbol\": \"square\", \"color\": \"#ff7f00\", \"size\": 13}}, {\"type\": \"scatter\", \"name\": \"e = 2; k = 4; m = 4; t = 2\", \"x\": [22.565], \"y\": [99.80536844832577], \"text\": [\"e = 2; k = 4; m = 4; t = 2<br>Mem (GB): 10.22; 10.26; 10.23<br>User time (min): 18.14; 22.57; 20.45<br>ARI (%): 99.81; 99.83; 99.81\"], \"mode\": \"markers\", \"marker\": {\"symbol\": \"circle\", \"color\": \"#377eb8\", \"size\": 10}}, {\"type\": \"scatter\", \"name\": \"e = 2; k = 4; m = 6; t = 2\", \"x\": [25.73], \"y\": [99.84200085191704], \"text\": [\"e = 2; k = 4; m = 6; t = 2<br>Mem (GB): 12.75; 12.82; 12.79<br>User time (min): 18.50; 25.73; 22.23<br>ARI (%): 99.84; 99.87; 99.86\"], \"mode\": \"markers\", \"marker\": {\"symbol\": \"circle\", \"color\": \"#984ea3\", \"size\": 12}}, {\"type\": \"scatter\", \"name\": \"e = 2; k = 4; m = 5; t = 3\", \"x\": [23.845000000000002], \"y\": [99.90317323032514], \"text\": [\"e = 2; k = 4; m = 5; t = 3<br>Mem (GB): 11.28; 11.32; 11.30<br>User time (min): 20.13; 23.85; 21.82<br>ARI (%): 99.90; 99.91; 99.90\"], \"mode\": \"markers\", \"marker\": {\"symbol\": \"circle\", \"color\": \"#4daf4a\", \"size\": 11}}, {\"type\": \"scatter\", \"name\": \"e = 2; k = 4; m = 5; t = 2\", \"x\": [24.445666666666668], \"y\": [99.84626631911352], \"text\": [\"e = 2; k = 4; m = 5; t = 2<br>Mem (GB): 11.34; 11.38; 11.36<br>User time (min): 18.85; 24.45; 21.84<br>ARI (%): 99.85; 99.86; 99.85\"], \"mode\": \"markers\", \"marker\": {\"symbol\": \"circle\", \"color\": \"#4daf4a\", \"size\": 11}}, {\"type\": \"scatter\", \"name\": \"e = 2; k = 4; m = 6; t = 4\", \"x\": [23.694833333333335], \"y\": [99.81690523416887], \"text\": [\"e = 2; k = 4; m = 6; t = 4<br>Mem (GB): 12.61; 12.68; 12.66<br>User time (min): 19.20; 23.69; 21.05<br>ARI (%): 99.82; 99.82; 99.82\"], \"mode\": \"markers\", \"marker\": {\"symbol\": \"circle\", \"color\": \"#984ea3\", \"size\": 12}}, {\"type\": \"scatter\", \"name\": \"e = 2; k = 8; m = 4; t = 1\", \"x\": [26.006666666666668], \"y\": [99.98564225063676], \"text\": [\"e = 2; k = 8; m = 4; t = 1<br>Mem (GB): 13.51; 13.60; 13.56<br>User time (min): 21.93; 26.01; 23.84<br>ARI (%): 99.99; 99.99; 99.99\"], \"mode\": \"markers\", \"marker\": {\"symbol\": \"square\", \"color\": \"#377eb8\", \"size\": 13}}, {\"type\": \"scatter\", \"name\": \"e = 2; k = 4; m = 7; t = 5\", \"x\": [26.283666666666665], \"y\": [99.71236642611932], \"text\": [\"e = 2; k = 4; m = 7; t = 5<br>Mem (GB): 13.32; 13.36; 13.34<br>User time (min): 19.38; 26.28; 22.79<br>ARI (%): 99.71; 99.71; 99.71\"], \"mode\": \"markers\", \"marker\": {\"symbol\": \"circle\", \"color\": \"#ff7f00\", \"size\": 13}}, {\"type\": \"scatter\", \"name\": \"e = 2; k = 4; m = 7; t = 2\", \"x\": [29.111333333333334], \"y\": [99.89022496121635], \"text\": [\"e = 2; k = 4; m = 7; t = 2<br>Mem (GB): 13.49; 13.53; 13.50<br>User time (min): 19.08; 29.11; 23.67<br>ARI (%): 99.89; 99.90; 99.90\"], \"mode\": \"markers\", \"marker\": {\"symbol\": \"circle\", \"color\": \"#ff7f00\", \"size\": 13}}, {\"type\": \"scatter\", \"name\": \"e = 2; k = 4; m = 6; t = 3\", \"x\": [27.247166666666665], \"y\": [99.98551400053584], \"text\": [\"e = 2; k = 4; m = 6; t = 3<br>Mem (GB): 12.75; 12.80; 12.78<br>User time (min): 19.33; 27.25; 23.11<br>ARI (%): 99.99; 99.99; 99.99\"], \"mode\": \"markers\", \"marker\": {\"symbol\": \"circle\", \"color\": \"#984ea3\", \"size\": 12}}, {\"type\": \"scatter\", \"name\": \"e = 2; k = 8; m = 5; t = 3\", \"x\": [26.302333333333333], \"y\": [99.47678747989653], \"text\": [\"e = 2; k = 8; m = 5; t = 3<br>Mem (GB): 14.72; 14.79; 14.76<br>User time (min): 20.78; 26.30; 23.50<br>ARI (%): 99.48; 99.48; 99.48\"], \"mode\": \"markers\", \"marker\": {\"symbol\": \"square\", \"color\": \"#4daf4a\", \"size\": 14}}, {\"type\": \"scatter\", \"name\": \"e = 2; k = 8; m = 3; t = 1\", \"x\": [25.524166666666666], \"y\": [99.92983600067977], \"text\": [\"e = 2; k = 8; m = 3; t = 1<br>Mem (GB): 11.96; 12.03; 12.00<br>User time (min): 16.84; 25.52; 22.56<br>ARI (%): 99.93; 99.93; 99.93\"], \"mode\": \"markers\", \"marker\": {\"symbol\": \"square\", \"color\": \"#e41a1c\", \"size\": 11}}, {\"type\": \"scatter\", \"name\": \"e = 2; k = 4; m = 7; t = 4\", \"x\": [28.165333333333333], \"y\": [99.98027653093901], \"text\": [\"e = 2; k = 4; m = 7; t = 4<br>Mem (GB): 13.45; 13.50; 13.48<br>User time (min): 21.68; 28.17; 24.71<br>ARI (%): 99.98; 99.98; 99.98\"], \"mode\": \"markers\", \"marker\": {\"symbol\": \"circle\", \"color\": \"#ff7f00\", \"size\": 13}}, {\"type\": \"scatter\", \"name\": \"e = 2; k = 4; m = 7; t = 3\", \"x\": [27.205666666666666], \"y\": [99.99064413195656], \"text\": [\"e = 2; k = 4; m = 7; t = 3<br>Mem (GB): 13.42; 13.52; 13.48<br>User time (min): 21.38; 27.21; 24.47<br>ARI (%): 99.99; 99.99; 99.99\"], \"mode\": \"markers\", \"marker\": {\"symbol\": \"circle\", \"color\": \"#ff7f00\", \"size\": 13}}, {\"type\": \"scatter\", \"name\": \"e = 2; k = 8; m = 4; t = 2\", \"x\": [27.9035], \"y\": [99.77592561948234], \"text\": [\"e = 2; k = 8; m = 4; t = 2<br>Mem (GB): 13.41; 13.48; 13.45<br>User time (min): 18.71; 27.90; 24.20<br>ARI (%): 99.78; 99.78; 99.78\"], \"mode\": \"markers\", \"marker\": {\"symbol\": \"square\", \"color\": \"#377eb8\", \"size\": 13}}, {\"type\": \"scatter\", \"name\": \"e = 2; k = 8; m = 6; t = 3\", \"x\": [28.569000000000003], \"y\": [99.93635289103943], \"text\": [\"e = 2; k = 8; m = 6; t = 3<br>Mem (GB): 16.73; 16.79; 16.76<br>User time (min): 24.02; 28.57; 26.38<br>ARI (%): 99.94; 99.94; 99.94\"], \"mode\": \"markers\", \"marker\": {\"symbol\": \"square\", \"color\": \"#984ea3\", \"size\": 16}}, {\"type\": \"scatter\", \"name\": \"e = 2; k = 8; m = 5; t = 2\", \"x\": [26.427333333333333], \"y\": [99.97308584960163], \"text\": [\"e = 2; k = 8; m = 5; t = 2<br>Mem (GB): 14.97; 15.04; 15.00<br>User time (min): 20.51; 26.43; 23.91<br>ARI (%): 99.97; 99.97; 99.97\"], \"mode\": \"markers\", \"marker\": {\"symbol\": \"square\", \"color\": \"#4daf4a\", \"size\": 14}}, {\"type\": \"scatter\", \"name\": \"e = 2; k = 8; m = 6; t = 2\", \"x\": [28.969333333333335], \"y\": [99.98930897864079], \"text\": [\"e = 2; k = 8; m = 6; t = 2<br>Mem (GB): 16.80; 16.86; 16.84<br>User time (min): 24.64; 28.97; 26.65<br>ARI (%): 99.99; 99.99; 99.99\"], \"mode\": \"markers\", \"marker\": {\"symbol\": \"square\", \"color\": \"#984ea3\", \"size\": 16}}, {\"type\": \"scatter\", \"name\": \"e = 2; k = 8; m = 7; t = 2\", \"x\": [28.747833333333332], \"y\": [99.98959720455822], \"text\": [\"e = 2; k = 8; m = 7; t = 2<br>Mem (GB): 17.66; 17.76; 17.72<br>User time (min): 23.79; 28.75; 26.66<br>ARI (%): 99.99; 99.99; 99.99\"], \"mode\": \"markers\", \"marker\": {\"symbol\": \"square\", \"color\": \"#ff7f00\", \"size\": 17}}, {\"type\": \"scatter\", \"name\": \"e = 2; k = 8; m = 7; t = 4\", \"x\": [27.104666666666667], \"y\": [99.87621377867157], \"text\": [\"e = 2; k = 8; m = 7; t = 4<br>Mem (GB): 17.56; 17.64; 17.60<br>User time (min): 24.00; 27.10; 25.65<br>ARI (%): 99.88; 99.88; 99.88\"], \"mode\": \"markers\", \"marker\": {\"symbol\": \"square\", \"color\": \"#ff7f00\", \"size\": 17}}, {\"type\": \"scatter\", \"name\": \"e = 2; k = 8; m = 7; t = 3\", \"x\": [34.003166666666665], \"y\": [99.98218301669013], \"text\": [\"e = 2; k = 8; m = 7; t = 3<br>Mem (GB): 17.69; 17.81; 17.72<br>User time (min): 23.69; 34.00; 28.44<br>ARI (%): 99.98; 99.98; 99.98\"], \"mode\": \"markers\", \"marker\": {\"symbol\": \"square\", \"color\": \"#ff7f00\", \"size\": 17}}], {\"title\": \"Barcode length 8<br>Read length 75\", \"hovermode\": \"closest\", \"font\": {\"size\": 10}, \"xaxis\": {\"title\": \"Time in min\", \"type\": \"log\"}, \"yaxis\": {\"title\": \"ARI score\"}}, {\"showLink\": true, \"linkText\": \"Export to plot.ly\"})});</script>"
      ]
     },
     "metadata": {},
     "output_type": "display_data"
    },
    {
     "data": {
      "application/vnd.plotly.v1+json": {
       "data": [
        {
         "marker": {
          "color": "#984ea3",
          "size": 14,
          "symbol": "circle"
         },
         "mode": "markers",
         "name": "e = 1; k = 4; m = 6; t = 3",
         "text": [
          "e = 1; k = 4; m = 6; t = 3<br>Mem (GB): 14.58; 14.72; 14.67<br>User time (min): 6.60; 8.22; 7.30<br>ARI (%): 99.56; 99.56; 99.56"
         ],
         "type": "scatter",
         "x": [
          8.215166666666667
         ],
         "y": [
          99.55653776556962
         ]
        },
        {
         "marker": {
          "color": "#e41a1c",
          "size": 13,
          "symbol": "square"
         },
         "mode": "markers",
         "name": "e = 1; k = 8; m = 3; t = 1",
         "text": [
          "e = 1; k = 8; m = 3; t = 1<br>Mem (GB): 13.80; 13.89; 13.86<br>User time (min): 5.59; 7.77; 6.79<br>ARI (%): 99.01; 99.02; 99.01"
         ],
         "type": "scatter",
         "x": [
          7.769166666666666
         ],
         "y": [
          99.00580127502758
         ]
        },
        {
         "marker": {
          "color": "#4daf4a",
          "size": 15,
          "symbol": "square"
         },
         "mode": "markers",
         "name": "e = 1; k = 8; m = 5; t = 2",
         "text": [
          "e = 1; k = 8; m = 5; t = 2<br>Mem (GB): 15.88; 16.00; 15.96<br>User time (min): 6.58; 7.98; 7.40<br>ARI (%): 99.07; 99.08; 99.07"
         ],
         "type": "scatter",
         "x": [
          7.9835
         ],
         "y": [
          99.06853875166807
         ]
        },
        {
         "marker": {
          "color": "#984ea3",
          "size": 14,
          "symbol": "circle"
         },
         "mode": "markers",
         "name": "e = 1; k = 4; m = 6; t = 2",
         "text": [
          "e = 1; k = 4; m = 6; t = 2<br>Mem (GB): 14.74; 14.80; 14.77<br>User time (min): 6.19; 9.22; 7.44<br>ARI (%): 99.03; 99.10; 99.06"
         ],
         "type": "scatter",
         "x": [
          9.216166666666668
         ],
         "y": [
          99.02996434878074
         ]
        },
        {
         "marker": {
          "color": "#377eb8",
          "size": 15,
          "symbol": "square"
         },
         "mode": "markers",
         "name": "e = 1; k = 8; m = 4; t = 1",
         "text": [
          "e = 1; k = 8; m = 4; t = 1<br>Mem (GB): 15.28; 15.36; 15.33<br>User time (min): 6.51; 7.66; 7.20<br>ARI (%): 99.58; 99.58; 99.58"
         ],
         "type": "scatter",
         "x": [
          7.664833333333333
         ],
         "y": [
          99.57897730876716
         ]
        },
        {
         "marker": {
          "color": "#ff7f00",
          "size": 15,
          "symbol": "circle"
         },
         "mode": "markers",
         "name": "e = 1; k = 4; m = 7; t = 3",
         "text": [
          "e = 1; k = 4; m = 7; t = 3<br>Mem (GB): 15.45; 15.61; 15.53<br>User time (min): 6.15; 8.65; 7.51<br>ARI (%): 99.66; 99.66; 99.66"
         ],
         "type": "scatter",
         "x": [
          8.645666666666667
         ],
         "y": [
          99.6577420004344
         ]
        },
        {
         "marker": {
          "color": "#ff7f00",
          "size": 15,
          "symbol": "circle"
         },
         "mode": "markers",
         "name": "e = 1; k = 4; m = 7; t = 4",
         "text": [
          "e = 1; k = 4; m = 7; t = 4<br>Mem (GB): 15.32; 15.46; 15.41<br>User time (min): 6.53; 9.53; 7.69<br>ARI (%): 99.34; 99.35; 99.34"
         ],
         "type": "scatter",
         "x": [
          9.527
         ],
         "y": [
          99.33841517709176
         ]
        },
        {
         "marker": {
          "color": "#ff7f00",
          "size": 15,
          "symbol": "circle"
         },
         "mode": "markers",
         "name": "e = 1; k = 4; m = 7; t = 2",
         "text": [
          "e = 1; k = 4; m = 7; t = 2<br>Mem (GB): 15.56; 15.62; 15.60<br>User time (min): 7.34; 8.98; 8.04<br>ARI (%): 99.04; 99.08; 99.06"
         ],
         "type": "scatter",
         "x": [
          8.978333333333333
         ],
         "y": [
          99.04290257623435
         ]
        },
        {
         "marker": {
          "color": "#ff7f00",
          "size": 17,
          "symbol": "square"
         },
         "mode": "markers",
         "name": "e = 1; k = 8; m = 7; t = 2",
         "text": [
          "e = 1; k = 8; m = 7; t = 2<br>Mem (GB): 17.29; 17.41; 17.33<br>User time (min): 6.72; 8.82; 7.63<br>ARI (%): 99.66; 99.67; 99.67"
         ],
         "type": "scatter",
         "x": [
          8.821166666666667
         ],
         "y": [
          99.66377574014031
         ]
        },
        {
         "marker": {
          "color": "#ff7f00",
          "size": 17,
          "symbol": "square"
         },
         "mode": "markers",
         "name": "e = 1; k = 8; m = 7; t = 3",
         "text": [
          "e = 1; k = 8; m = 7; t = 3<br>Mem (GB): 17.05; 17.17; 17.11<br>User time (min): 7.07; 10.25; 8.46<br>ARI (%): 99.21; 99.21; 99.21"
         ],
         "type": "scatter",
         "x": [
          10.252999999999998
         ],
         "y": [
          99.20825222973161
         ]
        },
        {
         "marker": {
          "color": "#984ea3",
          "size": 16,
          "symbol": "square"
         },
         "mode": "markers",
         "name": "e = 1; k = 8; m = 6; t = 2",
         "text": [
          "e = 1; k = 8; m = 6; t = 2<br>Mem (GB): 16.92; 17.05; 16.99<br>User time (min): 7.80; 8.72; 8.36<br>ARI (%): 99.57; 99.57; 99.57"
         ],
         "type": "scatter",
         "x": [
          8.718166666666667
         ],
         "y": [
          99.56936103733138
         ]
        },
        {
         "marker": {
          "color": "#984ea3",
          "size": 20,
          "symbol": "circle"
         },
         "mode": "markers",
         "name": "e = 2; k = 4; m = 6; t = 3",
         "text": [
          "e = 2; k = 4; m = 6; t = 3<br>Mem (GB): 20.07; 20.53; 20.32<br>User time (min): 27.08; 34.53; 29.63<br>ARI (%): 99.72; 99.75; 99.74"
         ],
         "type": "scatter",
         "x": [
          34.530499999999996
         ],
         "y": [
          99.72422071963307
         ]
        },
        {
         "marker": {
          "color": "#ff7f00",
          "size": 21,
          "symbol": "circle"
         },
         "mode": "markers",
         "name": "e = 2; k = 4; m = 7; t = 4",
         "text": [
          "e = 2; k = 4; m = 7; t = 4<br>Mem (GB): 21.03; 21.44; 21.26<br>User time (min): 24.24; 33.37; 29.36<br>ARI (%): 99.64; 99.65; 99.65"
         ],
         "type": "scatter",
         "x": [
          33.373000000000005
         ],
         "y": [
          99.64208194768133
         ]
        },
        {
         "marker": {
          "color": "#e41a1c",
          "size": 19,
          "symbol": "square"
         },
         "mode": "markers",
         "name": "e = 2; k = 8; m = 3; t = 1",
         "text": [
          "e = 2; k = 8; m = 3; t = 1<br>Mem (GB): 18.97; 19.20; 19.07<br>User time (min): 24.03; 30.51; 27.41<br>ARI (%): 99.27; 99.28; 99.28"
         ],
         "type": "scatter",
         "x": [
          30.507833333333334
         ],
         "y": [
          99.27278648859343
         ]
        },
        {
         "marker": {
          "color": "#377eb8",
          "size": 22,
          "symbol": "square"
         },
         "mode": "markers",
         "name": "e = 2; k = 8; m = 4; t = 1",
         "text": [
          "e = 2; k = 8; m = 4; t = 1<br>Mem (GB): 21.49; 22.20; 22.06<br>User time (min): 25.39; 33.29; 30.07<br>ARI (%): 99.84; 99.85; 99.85"
         ],
         "type": "scatter",
         "x": [
          33.288333333333334
         ],
         "y": [
          99.84392458281424
         ]
        },
        {
         "marker": {
          "color": "#ff7f00",
          "size": 22,
          "symbol": "circle"
         },
         "mode": "markers",
         "name": "e = 2; k = 4; m = 7; t = 3",
         "text": [
          "e = 2; k = 4; m = 7; t = 3<br>Mem (GB): 21.68; 22.33; 22.16<br>User time (min): 24.56; 38.46; 32.15<br>ARI (%): 99.82; 99.83; 99.83"
         ],
         "type": "scatter",
         "x": [
          38.46266666666667
         ],
         "y": [
          99.81706234768409
         ]
        },
        {
         "marker": {
          "color": "#ff7f00",
          "size": 25,
          "symbol": "square"
         },
         "mode": "markers",
         "name": "e = 2; k = 8; m = 7; t = 2",
         "text": [
          "e = 2; k = 8; m = 7; t = 2<br>Mem (GB): 24.83; 25.60; 25.26<br>User time (min): 29.58; 37.69; 33.39<br>ARI (%): 99.96; 99.97; 99.96"
         ],
         "type": "scatter",
         "x": [
          37.69233333333333
         ],
         "y": [
          99.96420295837915
         ]
        },
        {
         "marker": {
          "color": "#984ea3",
          "size": 24,
          "symbol": "square"
         },
         "mode": "markers",
         "name": "e = 2; k = 8; m = 6; t = 2",
         "text": [
          "e = 2; k = 8; m = 6; t = 2<br>Mem (GB): 24.39; 24.79; 24.58<br>User time (min): 29.44; 38.82; 33.89<br>ARI (%): 99.87; 99.87; 99.87"
         ],
         "type": "scatter",
         "x": [
          38.818333333333335
         ],
         "y": [
          99.87030669896266
         ]
        },
        {
         "marker": {
          "color": "#ff7f00",
          "size": 24,
          "symbol": "square"
         },
         "mode": "markers",
         "name": "e = 2; k = 8; m = 7; t = 3",
         "text": [
          "e = 2; k = 8; m = 7; t = 3<br>Mem (GB): 23.74; 24.47; 24.20<br>User time (min): 27.93; 43.17; 32.78<br>ARI (%): 99.51; 99.52; 99.52"
         ],
         "type": "scatter",
         "x": [
          43.16916666666667
         ],
         "y": [
          99.51438056571595
         ]
        },
        {
         "marker": {
          "color": "#4daf4a",
          "size": 22,
          "symbol": "square"
         },
         "mode": "markers",
         "name": "e = 2; k = 8; m = 5; t = 2",
         "text": [
          "e = 2; k = 8; m = 5; t = 2<br>Mem (GB): 22.15; 22.71; 22.46<br>User time (min): 25.47; 36.50; 31.22<br>ARI (%): 99.38; 99.38; 99.38"
         ],
         "type": "scatter",
         "x": [
          36.504
         ],
         "y": [
          99.37573406642628
         ]
        }
       ],
       "layout": {
        "font": {
         "size": 10
        },
        "hovermode": "closest",
        "title": "Barcode length 8<br>Read length 150",
        "xaxis": {
         "title": "Time in min",
         "type": "log"
        },
        "yaxis": {
         "title": "ARI score"
        }
       }
      },
      "text/html": [
       "<div id=\"d4a179bd-344b-4882-8943-83e291e25881\" style=\"height: 525px; width: 100%;\" class=\"plotly-graph-div\"></div><script type=\"text/javascript\">require([\"plotly\"], function(Plotly) { window.PLOTLYENV=window.PLOTLYENV || {};window.PLOTLYENV.BASE_URL=\"https://plot.ly\";Plotly.newPlot(\"d4a179bd-344b-4882-8943-83e291e25881\", [{\"type\": \"scatter\", \"name\": \"e = 1; k = 4; m = 6; t = 3\", \"x\": [8.215166666666667], \"y\": [99.55653776556962], \"text\": [\"e = 1; k = 4; m = 6; t = 3<br>Mem (GB): 14.58; 14.72; 14.67<br>User time (min): 6.60; 8.22; 7.30<br>ARI (%): 99.56; 99.56; 99.56\"], \"mode\": \"markers\", \"marker\": {\"symbol\": \"circle\", \"color\": \"#984ea3\", \"size\": 14}}, {\"type\": \"scatter\", \"name\": \"e = 1; k = 8; m = 3; t = 1\", \"x\": [7.769166666666666], \"y\": [99.00580127502758], \"text\": [\"e = 1; k = 8; m = 3; t = 1<br>Mem (GB): 13.80; 13.89; 13.86<br>User time (min): 5.59; 7.77; 6.79<br>ARI (%): 99.01; 99.02; 99.01\"], \"mode\": \"markers\", \"marker\": {\"symbol\": \"square\", \"color\": \"#e41a1c\", \"size\": 13}}, {\"type\": \"scatter\", \"name\": \"e = 1; k = 8; m = 5; t = 2\", \"x\": [7.9835], \"y\": [99.06853875166807], \"text\": [\"e = 1; k = 8; m = 5; t = 2<br>Mem (GB): 15.88; 16.00; 15.96<br>User time (min): 6.58; 7.98; 7.40<br>ARI (%): 99.07; 99.08; 99.07\"], \"mode\": \"markers\", \"marker\": {\"symbol\": \"square\", \"color\": \"#4daf4a\", \"size\": 15}}, {\"type\": \"scatter\", \"name\": \"e = 1; k = 4; m = 6; t = 2\", \"x\": [9.216166666666668], \"y\": [99.02996434878074], \"text\": [\"e = 1; k = 4; m = 6; t = 2<br>Mem (GB): 14.74; 14.80; 14.77<br>User time (min): 6.19; 9.22; 7.44<br>ARI (%): 99.03; 99.10; 99.06\"], \"mode\": \"markers\", \"marker\": {\"symbol\": \"circle\", \"color\": \"#984ea3\", \"size\": 14}}, {\"type\": \"scatter\", \"name\": \"e = 1; k = 8; m = 4; t = 1\", \"x\": [7.664833333333333], \"y\": [99.57897730876716], \"text\": [\"e = 1; k = 8; m = 4; t = 1<br>Mem (GB): 15.28; 15.36; 15.33<br>User time (min): 6.51; 7.66; 7.20<br>ARI (%): 99.58; 99.58; 99.58\"], \"mode\": \"markers\", \"marker\": {\"symbol\": \"square\", \"color\": \"#377eb8\", \"size\": 15}}, {\"type\": \"scatter\", \"name\": \"e = 1; k = 4; m = 7; t = 3\", \"x\": [8.645666666666667], \"y\": [99.6577420004344], \"text\": [\"e = 1; k = 4; m = 7; t = 3<br>Mem (GB): 15.45; 15.61; 15.53<br>User time (min): 6.15; 8.65; 7.51<br>ARI (%): 99.66; 99.66; 99.66\"], \"mode\": \"markers\", \"marker\": {\"symbol\": \"circle\", \"color\": \"#ff7f00\", \"size\": 15}}, {\"type\": \"scatter\", \"name\": \"e = 1; k = 4; m = 7; t = 4\", \"x\": [9.527], \"y\": [99.33841517709176], \"text\": [\"e = 1; k = 4; m = 7; t = 4<br>Mem (GB): 15.32; 15.46; 15.41<br>User time (min): 6.53; 9.53; 7.69<br>ARI (%): 99.34; 99.35; 99.34\"], \"mode\": \"markers\", \"marker\": {\"symbol\": \"circle\", \"color\": \"#ff7f00\", \"size\": 15}}, {\"type\": \"scatter\", \"name\": \"e = 1; k = 4; m = 7; t = 2\", \"x\": [8.978333333333333], \"y\": [99.04290257623435], \"text\": [\"e = 1; k = 4; m = 7; t = 2<br>Mem (GB): 15.56; 15.62; 15.60<br>User time (min): 7.34; 8.98; 8.04<br>ARI (%): 99.04; 99.08; 99.06\"], \"mode\": \"markers\", \"marker\": {\"symbol\": \"circle\", \"color\": \"#ff7f00\", \"size\": 15}}, {\"type\": \"scatter\", \"name\": \"e = 1; k = 8; m = 7; t = 2\", \"x\": [8.821166666666667], \"y\": [99.66377574014031], \"text\": [\"e = 1; k = 8; m = 7; t = 2<br>Mem (GB): 17.29; 17.41; 17.33<br>User time (min): 6.72; 8.82; 7.63<br>ARI (%): 99.66; 99.67; 99.67\"], \"mode\": \"markers\", \"marker\": {\"symbol\": \"square\", \"color\": \"#ff7f00\", \"size\": 17}}, {\"type\": \"scatter\", \"name\": \"e = 1; k = 8; m = 7; t = 3\", \"x\": [10.252999999999998], \"y\": [99.20825222973161], \"text\": [\"e = 1; k = 8; m = 7; t = 3<br>Mem (GB): 17.05; 17.17; 17.11<br>User time (min): 7.07; 10.25; 8.46<br>ARI (%): 99.21; 99.21; 99.21\"], \"mode\": \"markers\", \"marker\": {\"symbol\": \"square\", \"color\": \"#ff7f00\", \"size\": 17}}, {\"type\": \"scatter\", \"name\": \"e = 1; k = 8; m = 6; t = 2\", \"x\": [8.718166666666667], \"y\": [99.56936103733138], \"text\": [\"e = 1; k = 8; m = 6; t = 2<br>Mem (GB): 16.92; 17.05; 16.99<br>User time (min): 7.80; 8.72; 8.36<br>ARI (%): 99.57; 99.57; 99.57\"], \"mode\": \"markers\", \"marker\": {\"symbol\": \"square\", \"color\": \"#984ea3\", \"size\": 16}}, {\"type\": \"scatter\", \"name\": \"e = 2; k = 4; m = 6; t = 3\", \"x\": [34.530499999999996], \"y\": [99.72422071963307], \"text\": [\"e = 2; k = 4; m = 6; t = 3<br>Mem (GB): 20.07; 20.53; 20.32<br>User time (min): 27.08; 34.53; 29.63<br>ARI (%): 99.72; 99.75; 99.74\"], \"mode\": \"markers\", \"marker\": {\"symbol\": \"circle\", \"color\": \"#984ea3\", \"size\": 20}}, {\"type\": \"scatter\", \"name\": \"e = 2; k = 4; m = 7; t = 4\", \"x\": [33.373000000000005], \"y\": [99.64208194768133], \"text\": [\"e = 2; k = 4; m = 7; t = 4<br>Mem (GB): 21.03; 21.44; 21.26<br>User time (min): 24.24; 33.37; 29.36<br>ARI (%): 99.64; 99.65; 99.65\"], \"mode\": \"markers\", \"marker\": {\"symbol\": \"circle\", \"color\": \"#ff7f00\", \"size\": 21}}, {\"type\": \"scatter\", \"name\": \"e = 2; k = 8; m = 3; t = 1\", \"x\": [30.507833333333334], \"y\": [99.27278648859343], \"text\": [\"e = 2; k = 8; m = 3; t = 1<br>Mem (GB): 18.97; 19.20; 19.07<br>User time (min): 24.03; 30.51; 27.41<br>ARI (%): 99.27; 99.28; 99.28\"], \"mode\": \"markers\", \"marker\": {\"symbol\": \"square\", \"color\": \"#e41a1c\", \"size\": 19}}, {\"type\": \"scatter\", \"name\": \"e = 2; k = 8; m = 4; t = 1\", \"x\": [33.288333333333334], \"y\": [99.84392458281424], \"text\": [\"e = 2; k = 8; m = 4; t = 1<br>Mem (GB): 21.49; 22.20; 22.06<br>User time (min): 25.39; 33.29; 30.07<br>ARI (%): 99.84; 99.85; 99.85\"], \"mode\": \"markers\", \"marker\": {\"symbol\": \"square\", \"color\": \"#377eb8\", \"size\": 22}}, {\"type\": \"scatter\", \"name\": \"e = 2; k = 4; m = 7; t = 3\", \"x\": [38.46266666666667], \"y\": [99.81706234768409], \"text\": [\"e = 2; k = 4; m = 7; t = 3<br>Mem (GB): 21.68; 22.33; 22.16<br>User time (min): 24.56; 38.46; 32.15<br>ARI (%): 99.82; 99.83; 99.83\"], \"mode\": \"markers\", \"marker\": {\"symbol\": \"circle\", \"color\": \"#ff7f00\", \"size\": 22}}, {\"type\": \"scatter\", \"name\": \"e = 2; k = 8; m = 7; t = 2\", \"x\": [37.69233333333333], \"y\": [99.96420295837915], \"text\": [\"e = 2; k = 8; m = 7; t = 2<br>Mem (GB): 24.83; 25.60; 25.26<br>User time (min): 29.58; 37.69; 33.39<br>ARI (%): 99.96; 99.97; 99.96\"], \"mode\": \"markers\", \"marker\": {\"symbol\": \"square\", \"color\": \"#ff7f00\", \"size\": 25}}, {\"type\": \"scatter\", \"name\": \"e = 2; k = 8; m = 6; t = 2\", \"x\": [38.818333333333335], \"y\": [99.87030669896266], \"text\": [\"e = 2; k = 8; m = 6; t = 2<br>Mem (GB): 24.39; 24.79; 24.58<br>User time (min): 29.44; 38.82; 33.89<br>ARI (%): 99.87; 99.87; 99.87\"], \"mode\": \"markers\", \"marker\": {\"symbol\": \"square\", \"color\": \"#984ea3\", \"size\": 24}}, {\"type\": \"scatter\", \"name\": \"e = 2; k = 8; m = 7; t = 3\", \"x\": [43.16916666666667], \"y\": [99.51438056571595], \"text\": [\"e = 2; k = 8; m = 7; t = 3<br>Mem (GB): 23.74; 24.47; 24.20<br>User time (min): 27.93; 43.17; 32.78<br>ARI (%): 99.51; 99.52; 99.52\"], \"mode\": \"markers\", \"marker\": {\"symbol\": \"square\", \"color\": \"#ff7f00\", \"size\": 24}}, {\"type\": \"scatter\", \"name\": \"e = 2; k = 8; m = 5; t = 2\", \"x\": [36.504], \"y\": [99.37573406642628], \"text\": [\"e = 2; k = 8; m = 5; t = 2<br>Mem (GB): 22.15; 22.71; 22.46<br>User time (min): 25.47; 36.50; 31.22<br>ARI (%): 99.38; 99.38; 99.38\"], \"mode\": \"markers\", \"marker\": {\"symbol\": \"square\", \"color\": \"#4daf4a\", \"size\": 22}}], {\"title\": \"Barcode length 8<br>Read length 150\", \"hovermode\": \"closest\", \"font\": {\"size\": 10}, \"xaxis\": {\"title\": \"Time in min\", \"type\": \"log\"}, \"yaxis\": {\"title\": \"ARI score\"}}, {\"showLink\": true, \"linkText\": \"Export to plot.ly\"})});</script>"
      ],
      "text/vnd.plotly.v1+html": [
       "<div id=\"d4a179bd-344b-4882-8943-83e291e25881\" style=\"height: 525px; width: 100%;\" class=\"plotly-graph-div\"></div><script type=\"text/javascript\">require([\"plotly\"], function(Plotly) { window.PLOTLYENV=window.PLOTLYENV || {};window.PLOTLYENV.BASE_URL=\"https://plot.ly\";Plotly.newPlot(\"d4a179bd-344b-4882-8943-83e291e25881\", [{\"type\": \"scatter\", \"name\": \"e = 1; k = 4; m = 6; t = 3\", \"x\": [8.215166666666667], \"y\": [99.55653776556962], \"text\": [\"e = 1; k = 4; m = 6; t = 3<br>Mem (GB): 14.58; 14.72; 14.67<br>User time (min): 6.60; 8.22; 7.30<br>ARI (%): 99.56; 99.56; 99.56\"], \"mode\": \"markers\", \"marker\": {\"symbol\": \"circle\", \"color\": \"#984ea3\", \"size\": 14}}, {\"type\": \"scatter\", \"name\": \"e = 1; k = 8; m = 3; t = 1\", \"x\": [7.769166666666666], \"y\": [99.00580127502758], \"text\": [\"e = 1; k = 8; m = 3; t = 1<br>Mem (GB): 13.80; 13.89; 13.86<br>User time (min): 5.59; 7.77; 6.79<br>ARI (%): 99.01; 99.02; 99.01\"], \"mode\": \"markers\", \"marker\": {\"symbol\": \"square\", \"color\": \"#e41a1c\", \"size\": 13}}, {\"type\": \"scatter\", \"name\": \"e = 1; k = 8; m = 5; t = 2\", \"x\": [7.9835], \"y\": [99.06853875166807], \"text\": [\"e = 1; k = 8; m = 5; t = 2<br>Mem (GB): 15.88; 16.00; 15.96<br>User time (min): 6.58; 7.98; 7.40<br>ARI (%): 99.07; 99.08; 99.07\"], \"mode\": \"markers\", \"marker\": {\"symbol\": \"square\", \"color\": \"#4daf4a\", \"size\": 15}}, {\"type\": \"scatter\", \"name\": \"e = 1; k = 4; m = 6; t = 2\", \"x\": [9.216166666666668], \"y\": [99.02996434878074], \"text\": [\"e = 1; k = 4; m = 6; t = 2<br>Mem (GB): 14.74; 14.80; 14.77<br>User time (min): 6.19; 9.22; 7.44<br>ARI (%): 99.03; 99.10; 99.06\"], \"mode\": \"markers\", \"marker\": {\"symbol\": \"circle\", \"color\": \"#984ea3\", \"size\": 14}}, {\"type\": \"scatter\", \"name\": \"e = 1; k = 8; m = 4; t = 1\", \"x\": [7.664833333333333], \"y\": [99.57897730876716], \"text\": [\"e = 1; k = 8; m = 4; t = 1<br>Mem (GB): 15.28; 15.36; 15.33<br>User time (min): 6.51; 7.66; 7.20<br>ARI (%): 99.58; 99.58; 99.58\"], \"mode\": \"markers\", \"marker\": {\"symbol\": \"square\", \"color\": \"#377eb8\", \"size\": 15}}, {\"type\": \"scatter\", \"name\": \"e = 1; k = 4; m = 7; t = 3\", \"x\": [8.645666666666667], \"y\": [99.6577420004344], \"text\": [\"e = 1; k = 4; m = 7; t = 3<br>Mem (GB): 15.45; 15.61; 15.53<br>User time (min): 6.15; 8.65; 7.51<br>ARI (%): 99.66; 99.66; 99.66\"], \"mode\": \"markers\", \"marker\": {\"symbol\": \"circle\", \"color\": \"#ff7f00\", \"size\": 15}}, {\"type\": \"scatter\", \"name\": \"e = 1; k = 4; m = 7; t = 4\", \"x\": [9.527], \"y\": [99.33841517709176], \"text\": [\"e = 1; k = 4; m = 7; t = 4<br>Mem (GB): 15.32; 15.46; 15.41<br>User time (min): 6.53; 9.53; 7.69<br>ARI (%): 99.34; 99.35; 99.34\"], \"mode\": \"markers\", \"marker\": {\"symbol\": \"circle\", \"color\": \"#ff7f00\", \"size\": 15}}, {\"type\": \"scatter\", \"name\": \"e = 1; k = 4; m = 7; t = 2\", \"x\": [8.978333333333333], \"y\": [99.04290257623435], \"text\": [\"e = 1; k = 4; m = 7; t = 2<br>Mem (GB): 15.56; 15.62; 15.60<br>User time (min): 7.34; 8.98; 8.04<br>ARI (%): 99.04; 99.08; 99.06\"], \"mode\": \"markers\", \"marker\": {\"symbol\": \"circle\", \"color\": \"#ff7f00\", \"size\": 15}}, {\"type\": \"scatter\", \"name\": \"e = 1; k = 8; m = 7; t = 2\", \"x\": [8.821166666666667], \"y\": [99.66377574014031], \"text\": [\"e = 1; k = 8; m = 7; t = 2<br>Mem (GB): 17.29; 17.41; 17.33<br>User time (min): 6.72; 8.82; 7.63<br>ARI (%): 99.66; 99.67; 99.67\"], \"mode\": \"markers\", \"marker\": {\"symbol\": \"square\", \"color\": \"#ff7f00\", \"size\": 17}}, {\"type\": \"scatter\", \"name\": \"e = 1; k = 8; m = 7; t = 3\", \"x\": [10.252999999999998], \"y\": [99.20825222973161], \"text\": [\"e = 1; k = 8; m = 7; t = 3<br>Mem (GB): 17.05; 17.17; 17.11<br>User time (min): 7.07; 10.25; 8.46<br>ARI (%): 99.21; 99.21; 99.21\"], \"mode\": \"markers\", \"marker\": {\"symbol\": \"square\", \"color\": \"#ff7f00\", \"size\": 17}}, {\"type\": \"scatter\", \"name\": \"e = 1; k = 8; m = 6; t = 2\", \"x\": [8.718166666666667], \"y\": [99.56936103733138], \"text\": [\"e = 1; k = 8; m = 6; t = 2<br>Mem (GB): 16.92; 17.05; 16.99<br>User time (min): 7.80; 8.72; 8.36<br>ARI (%): 99.57; 99.57; 99.57\"], \"mode\": \"markers\", \"marker\": {\"symbol\": \"square\", \"color\": \"#984ea3\", \"size\": 16}}, {\"type\": \"scatter\", \"name\": \"e = 2; k = 4; m = 6; t = 3\", \"x\": [34.530499999999996], \"y\": [99.72422071963307], \"text\": [\"e = 2; k = 4; m = 6; t = 3<br>Mem (GB): 20.07; 20.53; 20.32<br>User time (min): 27.08; 34.53; 29.63<br>ARI (%): 99.72; 99.75; 99.74\"], \"mode\": \"markers\", \"marker\": {\"symbol\": \"circle\", \"color\": \"#984ea3\", \"size\": 20}}, {\"type\": \"scatter\", \"name\": \"e = 2; k = 4; m = 7; t = 4\", \"x\": [33.373000000000005], \"y\": [99.64208194768133], \"text\": [\"e = 2; k = 4; m = 7; t = 4<br>Mem (GB): 21.03; 21.44; 21.26<br>User time (min): 24.24; 33.37; 29.36<br>ARI (%): 99.64; 99.65; 99.65\"], \"mode\": \"markers\", \"marker\": {\"symbol\": \"circle\", \"color\": \"#ff7f00\", \"size\": 21}}, {\"type\": \"scatter\", \"name\": \"e = 2; k = 8; m = 3; t = 1\", \"x\": [30.507833333333334], \"y\": [99.27278648859343], \"text\": [\"e = 2; k = 8; m = 3; t = 1<br>Mem (GB): 18.97; 19.20; 19.07<br>User time (min): 24.03; 30.51; 27.41<br>ARI (%): 99.27; 99.28; 99.28\"], \"mode\": \"markers\", \"marker\": {\"symbol\": \"square\", \"color\": \"#e41a1c\", \"size\": 19}}, {\"type\": \"scatter\", \"name\": \"e = 2; k = 8; m = 4; t = 1\", \"x\": [33.288333333333334], \"y\": [99.84392458281424], \"text\": [\"e = 2; k = 8; m = 4; t = 1<br>Mem (GB): 21.49; 22.20; 22.06<br>User time (min): 25.39; 33.29; 30.07<br>ARI (%): 99.84; 99.85; 99.85\"], \"mode\": \"markers\", \"marker\": {\"symbol\": \"square\", \"color\": \"#377eb8\", \"size\": 22}}, {\"type\": \"scatter\", \"name\": \"e = 2; k = 4; m = 7; t = 3\", \"x\": [38.46266666666667], \"y\": [99.81706234768409], \"text\": [\"e = 2; k = 4; m = 7; t = 3<br>Mem (GB): 21.68; 22.33; 22.16<br>User time (min): 24.56; 38.46; 32.15<br>ARI (%): 99.82; 99.83; 99.83\"], \"mode\": \"markers\", \"marker\": {\"symbol\": \"circle\", \"color\": \"#ff7f00\", \"size\": 22}}, {\"type\": \"scatter\", \"name\": \"e = 2; k = 8; m = 7; t = 2\", \"x\": [37.69233333333333], \"y\": [99.96420295837915], \"text\": [\"e = 2; k = 8; m = 7; t = 2<br>Mem (GB): 24.83; 25.60; 25.26<br>User time (min): 29.58; 37.69; 33.39<br>ARI (%): 99.96; 99.97; 99.96\"], \"mode\": \"markers\", \"marker\": {\"symbol\": \"square\", \"color\": \"#ff7f00\", \"size\": 25}}, {\"type\": \"scatter\", \"name\": \"e = 2; k = 8; m = 6; t = 2\", \"x\": [38.818333333333335], \"y\": [99.87030669896266], \"text\": [\"e = 2; k = 8; m = 6; t = 2<br>Mem (GB): 24.39; 24.79; 24.58<br>User time (min): 29.44; 38.82; 33.89<br>ARI (%): 99.87; 99.87; 99.87\"], \"mode\": \"markers\", \"marker\": {\"symbol\": \"square\", \"color\": \"#984ea3\", \"size\": 24}}, {\"type\": \"scatter\", \"name\": \"e = 2; k = 8; m = 7; t = 3\", \"x\": [43.16916666666667], \"y\": [99.51438056571595], \"text\": [\"e = 2; k = 8; m = 7; t = 3<br>Mem (GB): 23.74; 24.47; 24.20<br>User time (min): 27.93; 43.17; 32.78<br>ARI (%): 99.51; 99.52; 99.52\"], \"mode\": \"markers\", \"marker\": {\"symbol\": \"square\", \"color\": \"#ff7f00\", \"size\": 24}}, {\"type\": \"scatter\", \"name\": \"e = 2; k = 8; m = 5; t = 2\", \"x\": [36.504], \"y\": [99.37573406642628], \"text\": [\"e = 2; k = 8; m = 5; t = 2<br>Mem (GB): 22.15; 22.71; 22.46<br>User time (min): 25.47; 36.50; 31.22<br>ARI (%): 99.38; 99.38; 99.38\"], \"mode\": \"markers\", \"marker\": {\"symbol\": \"square\", \"color\": \"#4daf4a\", \"size\": 22}}], {\"title\": \"Barcode length 8<br>Read length 150\", \"hovermode\": \"closest\", \"font\": {\"size\": 10}, \"xaxis\": {\"title\": \"Time in min\", \"type\": \"log\"}, \"yaxis\": {\"title\": \"ARI score\"}}, {\"showLink\": true, \"linkText\": \"Export to plot.ly\"})});</script>"
      ]
     },
     "metadata": {},
     "output_type": "display_data"
    },
    {
     "data": {
      "application/vnd.plotly.v1+json": {
       "data": [
        {
         "marker": {
          "color": "#4daf4a",
          "size": 7,
          "symbol": "circle"
         },
         "mode": "markers",
         "name": "e = 1; k = 4; m = 5; t = 3",
         "text": [
          "e = 1; k = 4; m = 5; t = 3<br>Mem (GB): 7.94; 8.06; 7.99<br>User time (min): 4.22; 5.43; 4.70<br>ARI (%): 99.65; 99.67; 99.66"
         ],
         "type": "scatter",
         "x": [
          5.4254999999999995
         ],
         "y": [
          99.65302328477206
         ]
        },
        {
         "marker": {
          "color": "#984ea3",
          "size": 9,
          "symbol": "circle"
         },
         "mode": "markers",
         "name": "e = 1; k = 4; m = 6; t = 3",
         "text": [
          "e = 1; k = 4; m = 6; t = 3<br>Mem (GB): 9.21; 9.30; 9.24<br>User time (min): 4.50; 5.40; 4.97<br>ARI (%): 99.72; 99.74; 99.73"
         ],
         "type": "scatter",
         "x": [
          5.404333333333333
         ],
         "y": [
          99.72288439970023
         ]
        },
        {
         "marker": {
          "color": "#ff7f00",
          "size": 9,
          "symbol": "circle"
         },
         "mode": "markers",
         "name": "e = 1; k = 4; m = 7; t = 3",
         "text": [
          "e = 1; k = 4; m = 7; t = 3<br>Mem (GB): 9.92; 10.05; 9.99<br>User time (min): 4.40; 5.89; 5.15<br>ARI (%): 99.73; 99.75; 99.74"
         ],
         "type": "scatter",
         "x": [
          5.888166666666667
         ],
         "y": [
          99.72818029449752
         ]
        },
        {
         "marker": {
          "color": "#984ea3",
          "size": 9,
          "symbol": "circle"
         },
         "mode": "markers",
         "name": "e = 1; k = 4; m = 6; t = 4",
         "text": [
          "e = 1; k = 4; m = 6; t = 4<br>Mem (GB): 9.10; 9.27; 9.18<br>User time (min): 4.11; 5.47; 4.65<br>ARI (%): 99.64; 99.65; 99.64"
         ],
         "type": "scatter",
         "x": [
          5.466333333333334
         ],
         "y": [
          99.63980534992864
         ]
        },
        {
         "marker": {
          "color": "#ff7f00",
          "size": 9,
          "symbol": "circle"
         },
         "mode": "markers",
         "name": "e = 1; k = 4; m = 7; t = 4",
         "text": [
          "e = 1; k = 4; m = 7; t = 4<br>Mem (GB): 9.91; 10.01; 9.98<br>User time (min): 4.72; 5.93; 5.48<br>ARI (%): 99.82; 99.83; 99.82"
         ],
         "type": "scatter",
         "x": [
          5.934
         ],
         "y": [
          99.8229724936963
         ]
        },
        {
         "marker": {
          "color": "#ff7f00",
          "size": 9,
          "symbol": "circle"
         },
         "mode": "markers",
         "name": "e = 1; k = 4; m = 7; t = 5",
         "text": [
          "e = 1; k = 4; m = 7; t = 5<br>Mem (GB): 9.86; 9.97; 9.90<br>User time (min): 4.19; 6.63; 5.46<br>ARI (%): 99.44; 99.45; 99.45"
         ],
         "type": "scatter",
         "x": [
          6.6306666666666665
         ],
         "y": [
          99.44108765294997
         ]
        },
        {
         "marker": {
          "color": "#377eb8",
          "size": 10,
          "symbol": "square"
         },
         "mode": "markers",
         "name": "e = 1; k = 8; m = 4; t = 1",
         "text": [
          "e = 1; k = 8; m = 4; t = 1<br>Mem (GB): 10.20; 10.29; 10.24<br>User time (min): 4.30; 6.04; 5.20<br>ARI (%): 99.83; 99.83; 99.83"
         ],
         "type": "scatter",
         "x": [
          6.042166666666666
         ],
         "y": [
          99.82918379729558
         ]
        },
        {
         "marker": {
          "color": "#377eb8",
          "size": 10,
          "symbol": "square"
         },
         "mode": "markers",
         "name": "e = 1; k = 8; m = 4; t = 2",
         "text": [
          "e = 1; k = 8; m = 4; t = 2<br>Mem (GB): 10.14; 10.22; 10.19<br>User time (min): 4.39; 5.52; 4.99<br>ARI (%): 99.50; 99.50; 99.50"
         ],
         "type": "scatter",
         "x": [
          5.523666666666667
         ],
         "y": [
          99.4950115171712
         ]
        },
        {
         "marker": {
          "color": "#4daf4a",
          "size": 11,
          "symbol": "square"
         },
         "mode": "markers",
         "name": "e = 1; k = 8; m = 5; t = 2",
         "text": [
          "e = 1; k = 8; m = 5; t = 2<br>Mem (GB): 11.21; 11.32; 11.29<br>User time (min): 4.69; 6.20; 5.37<br>ARI (%): 99.81; 99.81; 99.81"
         ],
         "type": "scatter",
         "x": [
          6.197333333333333
         ],
         "y": [
          99.8050935872813
         ]
        },
        {
         "marker": {
          "color": "#e41a1c",
          "size": 8,
          "symbol": "square"
         },
         "mode": "markers",
         "name": "e = 1; k = 8; m = 3; t = 1",
         "text": [
          "e = 1; k = 8; m = 3; t = 1<br>Mem (GB): 8.91; 8.97; 8.94<br>User time (min): 4.01; 6.16; 5.06<br>ARI (%): 99.76; 99.77; 99.76"
         ],
         "type": "scatter",
         "x": [
          6.163166666666667
         ],
         "y": [
          99.75963184297032
         ]
        },
        {
         "marker": {
          "color": "#ff7f00",
          "size": 13,
          "symbol": "square"
         },
         "mode": "markers",
         "name": "e = 1; k = 8; m = 7; t = 2",
         "text": [
          "e = 1; k = 8; m = 7; t = 2<br>Mem (GB): 13.19; 13.34; 13.29<br>User time (min): 5.22; 7.23; 6.10<br>ARI (%): 99.84; 99.85; 99.85"
         ],
         "type": "scatter",
         "x": [
          7.227
         ],
         "y": [
          99.84384682650432
         ]
        },
        {
         "marker": {
          "color": "#984ea3",
          "size": 12,
          "symbol": "square"
         },
         "mode": "markers",
         "name": "e = 1; k = 8; m = 6; t = 3",
         "text": [
          "e = 1; k = 8; m = 6; t = 3<br>Mem (GB): 12.55; 12.61; 12.58<br>User time (min): 5.11; 7.00; 5.92<br>ARI (%): 99.71; 99.72; 99.71"
         ],
         "type": "scatter",
         "x": [
          7.0023333333333335
         ],
         "y": [
          99.71184495357977
         ]
        },
        {
         "marker": {
          "color": "#984ea3",
          "size": 12,
          "symbol": "square"
         },
         "mode": "markers",
         "name": "e = 1; k = 8; m = 6; t = 2",
         "text": [
          "e = 1; k = 8; m = 6; t = 2<br>Mem (GB): 12.57; 12.67; 12.62<br>User time (min): 5.06; 7.00; 5.93<br>ARI (%): 99.84; 99.84; 99.84"
         ],
         "type": "scatter",
         "x": [
          6.996833333333333
         ],
         "y": [
          99.83991300048166
         ]
        },
        {
         "marker": {
          "color": "#ff7f00",
          "size": 13,
          "symbol": "square"
         },
         "mode": "markers",
         "name": "e = 1; k = 8; m = 7; t = 4",
         "text": [
          "e = 1; k = 8; m = 7; t = 4<br>Mem (GB): 13.10; 13.26; 13.21<br>User time (min): 5.68; 7.14; 6.38<br>ARI (%): 99.53; 99.54; 99.53"
         ],
         "type": "scatter",
         "x": [
          7.142666666666667
         ],
         "y": [
          99.53056256032353
         ]
        },
        {
         "marker": {
          "color": "#ff7f00",
          "size": 13,
          "symbol": "square"
         },
         "mode": "markers",
         "name": "e = 1; k = 8; m = 7; t = 3",
         "text": [
          "e = 1; k = 8; m = 7; t = 3<br>Mem (GB): 13.19; 13.31; 13.28<br>User time (min): 6.07; 6.78; 6.37<br>ARI (%): 99.83; 99.83; 99.83"
         ],
         "type": "scatter",
         "x": [
          6.783666666666666
         ],
         "y": [
          99.82788279170374
         ]
        },
        {
         "marker": {
          "color": "#984ea3",
          "size": 11,
          "symbol": "circle"
         },
         "mode": "markers",
         "name": "e = 2; k = 4; m = 6; t = 4",
         "text": [
          "e = 2; k = 4; m = 6; t = 4<br>Mem (GB): 11.54; 11.66; 11.61<br>User time (min): 15.20; 19.44; 17.12<br>ARI (%): 99.76; 99.76; 99.76"
         ],
         "type": "scatter",
         "x": [
          19.43566666666667
         ],
         "y": [
          99.75579396555328
         ]
        },
        {
         "marker": {
          "color": "#e41a1c",
          "size": 11,
          "symbol": "square"
         },
         "mode": "markers",
         "name": "e = 2; k = 8; m = 3; t = 1",
         "text": [
          "e = 2; k = 8; m = 3; t = 1<br>Mem (GB): 11.50; 11.58; 11.54<br>User time (min): 15.76; 20.60; 18.00<br>ARI (%): 99.83; 99.85; 99.84"
         ],
         "type": "scatter",
         "x": [
          20.603166666666667
         ],
         "y": [
          99.832727960119
         ]
        },
        {
         "marker": {
          "color": "#4daf4a",
          "size": 14,
          "symbol": "square"
         },
         "mode": "markers",
         "name": "e = 2; k = 8; m = 5; t = 3",
         "text": [
          "e = 2; k = 8; m = 5; t = 3<br>Mem (GB): 14.58; 14.63; 14.60<br>User time (min): 18.14; 22.22; 19.84<br>ARI (%): 99.03; 99.04; 99.04"
         ],
         "type": "scatter",
         "x": [
          22.2165
         ],
         "y": [
          99.03059394877191
         ]
        },
        {
         "marker": {
          "color": "#377eb8",
          "size": 13,
          "symbol": "square"
         },
         "mode": "markers",
         "name": "e = 2; k = 8; m = 4; t = 2",
         "text": [
          "e = 2; k = 8; m = 4; t = 2<br>Mem (GB): 13.25; 13.39; 13.29<br>User time (min): 16.68; 21.01; 18.71<br>ARI (%): 99.64; 99.65; 99.65"
         ],
         "type": "scatter",
         "x": [
          21.008
         ],
         "y": [
          99.64434026729472
         ]
        },
        {
         "marker": {
          "color": "#ff7f00",
          "size": 12,
          "symbol": "circle"
         },
         "mode": "markers",
         "name": "e = 2; k = 4; m = 7; t = 4",
         "text": [
          "e = 2; k = 4; m = 7; t = 4<br>Mem (GB): 12.84; 12.96; 12.89<br>User time (min): 19.39; 20.49; 19.85<br>ARI (%): 99.94; 99.94; 99.94"
         ],
         "type": "scatter",
         "x": [
          20.488166666666665
         ],
         "y": [
          99.93697958911902
         ]
        },
        {
         "marker": {
          "color": "#377eb8",
          "size": 13,
          "symbol": "square"
         },
         "mode": "markers",
         "name": "e = 2; k = 8; m = 4; t = 1",
         "text": [
          "e = 2; k = 8; m = 4; t = 1<br>Mem (GB): 13.41; 13.48; 13.44<br>User time (min): 15.93; 20.46; 18.86<br>ARI (%): 99.91; 99.92; 99.91"
         ],
         "type": "scatter",
         "x": [
          20.46066666666667
         ],
         "y": [
          99.90514725584278
         ]
        },
        {
         "marker": {
          "color": "#ff7f00",
          "size": 12,
          "symbol": "circle"
         },
         "mode": "markers",
         "name": "e = 2; k = 4; m = 7; t = 5",
         "text": [
          "e = 2; k = 4; m = 7; t = 5<br>Mem (GB): 12.60; 12.67; 12.64<br>User time (min): 18.02; 22.96; 19.58<br>ARI (%): 99.59; 99.60; 99.60"
         ],
         "type": "scatter",
         "x": [
          22.9585
         ],
         "y": [
          99.59087215580305
         ]
        },
        {
         "marker": {
          "color": "#984ea3",
          "size": 16,
          "symbol": "square"
         },
         "mode": "markers",
         "name": "e = 2; k = 8; m = 6; t = 2",
         "text": [
          "e = 2; k = 8; m = 6; t = 2<br>Mem (GB): 16.81; 16.88; 16.83<br>User time (min): 20.73; 22.46; 21.71<br>ARI (%): 99.99; 99.99; 99.99"
         ],
         "type": "scatter",
         "x": [
          22.464499999999997
         ],
         "y": [
          99.98757280556472
         ]
        },
        {
         "marker": {
          "color": "#ff7f00",
          "size": 17,
          "symbol": "square"
         },
         "mode": "markers",
         "name": "e = 2; k = 8; m = 7; t = 4",
         "text": [
          "e = 2; k = 8; m = 7; t = 4<br>Mem (GB): 17.56; 17.63; 17.59<br>User time (min): 19.41; 26.20; 23.04<br>ARI (%): 99.68; 99.68; 99.68"
         ],
         "type": "scatter",
         "x": [
          26.200333333333333
         ],
         "y": [
          99.67999545143958
         ]
        },
        {
         "marker": {
          "color": "#984ea3",
          "size": 16,
          "symbol": "square"
         },
         "mode": "markers",
         "name": "e = 2; k = 8; m = 6; t = 3",
         "text": [
          "e = 2; k = 8; m = 6; t = 3<br>Mem (GB): 16.67; 16.76; 16.72<br>User time (min): 18.48; 25.47; 22.81<br>ARI (%): 99.86; 99.86; 99.86"
         ],
         "type": "scatter",
         "x": [
          25.474
         ],
         "y": [
          99.86106126527069
         ]
        },
        {
         "marker": {
          "color": "#ff7f00",
          "size": 17,
          "symbol": "square"
         },
         "mode": "markers",
         "name": "e = 2; k = 8; m = 7; t = 3",
         "text": [
          "e = 2; k = 8; m = 7; t = 3<br>Mem (GB): 17.79; 17.96; 17.86<br>User time (min): 20.21; 30.24; 24.22<br>ARI (%): 99.98; 99.98; 99.98"
         ],
         "type": "scatter",
         "x": [
          30.244000000000003
         ],
         "y": [
          99.97659657735387
         ]
        },
        {
         "marker": {
          "color": "#ff7f00",
          "size": 17,
          "symbol": "square"
         },
         "mode": "markers",
         "name": "e = 2; k = 8; m = 7; t = 2",
         "text": [
          "e = 2; k = 8; m = 7; t = 2<br>Mem (GB): 17.82; 17.90; 17.86<br>User time (min): 20.19; 27.50; 23.76<br>ARI (%): 99.99; 99.99; 99.99"
         ],
         "type": "scatter",
         "x": [
          27.49816666666667
         ],
         "y": [
          99.99137026451245
         ]
        },
        {
         "marker": {
          "color": "#4daf4a",
          "size": 15,
          "symbol": "square"
         },
         "mode": "markers",
         "name": "e = 2; k = 8; m = 5; t = 2",
         "text": [
          "e = 2; k = 8; m = 5; t = 2<br>Mem (GB): 14.99; 15.08; 15.03<br>User time (min): 17.87; 25.33; 21.40<br>ARI (%): 99.95; 99.95; 99.95"
         ],
         "type": "scatter",
         "x": [
          25.329833333333333
         ],
         "y": [
          99.95302403150943
         ]
        }
       ],
       "layout": {
        "font": {
         "size": 10
        },
        "hovermode": "closest",
        "title": "Barcode length 8<br>Read length 250",
        "xaxis": {
         "title": "Time in min",
         "type": "log"
        },
        "yaxis": {
         "title": "ARI score"
        }
       }
      },
      "text/html": [
       "<div id=\"8e4b505f-53f2-451a-8bf5-2b10f56cefe4\" style=\"height: 525px; width: 100%;\" class=\"plotly-graph-div\"></div><script type=\"text/javascript\">require([\"plotly\"], function(Plotly) { window.PLOTLYENV=window.PLOTLYENV || {};window.PLOTLYENV.BASE_URL=\"https://plot.ly\";Plotly.newPlot(\"8e4b505f-53f2-451a-8bf5-2b10f56cefe4\", [{\"type\": \"scatter\", \"name\": \"e = 1; k = 4; m = 5; t = 3\", \"x\": [5.4254999999999995], \"y\": [99.65302328477206], \"text\": [\"e = 1; k = 4; m = 5; t = 3<br>Mem (GB): 7.94; 8.06; 7.99<br>User time (min): 4.22; 5.43; 4.70<br>ARI (%): 99.65; 99.67; 99.66\"], \"mode\": \"markers\", \"marker\": {\"symbol\": \"circle\", \"color\": \"#4daf4a\", \"size\": 7}}, {\"type\": \"scatter\", \"name\": \"e = 1; k = 4; m = 6; t = 3\", \"x\": [5.404333333333333], \"y\": [99.72288439970023], \"text\": [\"e = 1; k = 4; m = 6; t = 3<br>Mem (GB): 9.21; 9.30; 9.24<br>User time (min): 4.50; 5.40; 4.97<br>ARI (%): 99.72; 99.74; 99.73\"], \"mode\": \"markers\", \"marker\": {\"symbol\": \"circle\", \"color\": \"#984ea3\", \"size\": 9}}, {\"type\": \"scatter\", \"name\": \"e = 1; k = 4; m = 7; t = 3\", \"x\": [5.888166666666667], \"y\": [99.72818029449752], \"text\": [\"e = 1; k = 4; m = 7; t = 3<br>Mem (GB): 9.92; 10.05; 9.99<br>User time (min): 4.40; 5.89; 5.15<br>ARI (%): 99.73; 99.75; 99.74\"], \"mode\": \"markers\", \"marker\": {\"symbol\": \"circle\", \"color\": \"#ff7f00\", \"size\": 9}}, {\"type\": \"scatter\", \"name\": \"e = 1; k = 4; m = 6; t = 4\", \"x\": [5.466333333333334], \"y\": [99.63980534992864], \"text\": [\"e = 1; k = 4; m = 6; t = 4<br>Mem (GB): 9.10; 9.27; 9.18<br>User time (min): 4.11; 5.47; 4.65<br>ARI (%): 99.64; 99.65; 99.64\"], \"mode\": \"markers\", \"marker\": {\"symbol\": \"circle\", \"color\": \"#984ea3\", \"size\": 9}}, {\"type\": \"scatter\", \"name\": \"e = 1; k = 4; m = 7; t = 4\", \"x\": [5.934], \"y\": [99.8229724936963], \"text\": [\"e = 1; k = 4; m = 7; t = 4<br>Mem (GB): 9.91; 10.01; 9.98<br>User time (min): 4.72; 5.93; 5.48<br>ARI (%): 99.82; 99.83; 99.82\"], \"mode\": \"markers\", \"marker\": {\"symbol\": \"circle\", \"color\": \"#ff7f00\", \"size\": 9}}, {\"type\": \"scatter\", \"name\": \"e = 1; k = 4; m = 7; t = 5\", \"x\": [6.6306666666666665], \"y\": [99.44108765294997], \"text\": [\"e = 1; k = 4; m = 7; t = 5<br>Mem (GB): 9.86; 9.97; 9.90<br>User time (min): 4.19; 6.63; 5.46<br>ARI (%): 99.44; 99.45; 99.45\"], \"mode\": \"markers\", \"marker\": {\"symbol\": \"circle\", \"color\": \"#ff7f00\", \"size\": 9}}, {\"type\": \"scatter\", \"name\": \"e = 1; k = 8; m = 4; t = 1\", \"x\": [6.042166666666666], \"y\": [99.82918379729558], \"text\": [\"e = 1; k = 8; m = 4; t = 1<br>Mem (GB): 10.20; 10.29; 10.24<br>User time (min): 4.30; 6.04; 5.20<br>ARI (%): 99.83; 99.83; 99.83\"], \"mode\": \"markers\", \"marker\": {\"symbol\": \"square\", \"color\": \"#377eb8\", \"size\": 10}}, {\"type\": \"scatter\", \"name\": \"e = 1; k = 8; m = 4; t = 2\", \"x\": [5.523666666666667], \"y\": [99.4950115171712], \"text\": [\"e = 1; k = 8; m = 4; t = 2<br>Mem (GB): 10.14; 10.22; 10.19<br>User time (min): 4.39; 5.52; 4.99<br>ARI (%): 99.50; 99.50; 99.50\"], \"mode\": \"markers\", \"marker\": {\"symbol\": \"square\", \"color\": \"#377eb8\", \"size\": 10}}, {\"type\": \"scatter\", \"name\": \"e = 1; k = 8; m = 5; t = 2\", \"x\": [6.197333333333333], \"y\": [99.8050935872813], \"text\": [\"e = 1; k = 8; m = 5; t = 2<br>Mem (GB): 11.21; 11.32; 11.29<br>User time (min): 4.69; 6.20; 5.37<br>ARI (%): 99.81; 99.81; 99.81\"], \"mode\": \"markers\", \"marker\": {\"symbol\": \"square\", \"color\": \"#4daf4a\", \"size\": 11}}, {\"type\": \"scatter\", \"name\": \"e = 1; k = 8; m = 3; t = 1\", \"x\": [6.163166666666667], \"y\": [99.75963184297032], \"text\": [\"e = 1; k = 8; m = 3; t = 1<br>Mem (GB): 8.91; 8.97; 8.94<br>User time (min): 4.01; 6.16; 5.06<br>ARI (%): 99.76; 99.77; 99.76\"], \"mode\": \"markers\", \"marker\": {\"symbol\": \"square\", \"color\": \"#e41a1c\", \"size\": 8}}, {\"type\": \"scatter\", \"name\": \"e = 1; k = 8; m = 7; t = 2\", \"x\": [7.227], \"y\": [99.84384682650432], \"text\": [\"e = 1; k = 8; m = 7; t = 2<br>Mem (GB): 13.19; 13.34; 13.29<br>User time (min): 5.22; 7.23; 6.10<br>ARI (%): 99.84; 99.85; 99.85\"], \"mode\": \"markers\", \"marker\": {\"symbol\": \"square\", \"color\": \"#ff7f00\", \"size\": 13}}, {\"type\": \"scatter\", \"name\": \"e = 1; k = 8; m = 6; t = 3\", \"x\": [7.0023333333333335], \"y\": [99.71184495357977], \"text\": [\"e = 1; k = 8; m = 6; t = 3<br>Mem (GB): 12.55; 12.61; 12.58<br>User time (min): 5.11; 7.00; 5.92<br>ARI (%): 99.71; 99.72; 99.71\"], \"mode\": \"markers\", \"marker\": {\"symbol\": \"square\", \"color\": \"#984ea3\", \"size\": 12}}, {\"type\": \"scatter\", \"name\": \"e = 1; k = 8; m = 6; t = 2\", \"x\": [6.996833333333333], \"y\": [99.83991300048166], \"text\": [\"e = 1; k = 8; m = 6; t = 2<br>Mem (GB): 12.57; 12.67; 12.62<br>User time (min): 5.06; 7.00; 5.93<br>ARI (%): 99.84; 99.84; 99.84\"], \"mode\": \"markers\", \"marker\": {\"symbol\": \"square\", \"color\": \"#984ea3\", \"size\": 12}}, {\"type\": \"scatter\", \"name\": \"e = 1; k = 8; m = 7; t = 4\", \"x\": [7.142666666666667], \"y\": [99.53056256032353], \"text\": [\"e = 1; k = 8; m = 7; t = 4<br>Mem (GB): 13.10; 13.26; 13.21<br>User time (min): 5.68; 7.14; 6.38<br>ARI (%): 99.53; 99.54; 99.53\"], \"mode\": \"markers\", \"marker\": {\"symbol\": \"square\", \"color\": \"#ff7f00\", \"size\": 13}}, {\"type\": \"scatter\", \"name\": \"e = 1; k = 8; m = 7; t = 3\", \"x\": [6.783666666666666], \"y\": [99.82788279170374], \"text\": [\"e = 1; k = 8; m = 7; t = 3<br>Mem (GB): 13.19; 13.31; 13.28<br>User time (min): 6.07; 6.78; 6.37<br>ARI (%): 99.83; 99.83; 99.83\"], \"mode\": \"markers\", \"marker\": {\"symbol\": \"square\", \"color\": \"#ff7f00\", \"size\": 13}}, {\"type\": \"scatter\", \"name\": \"e = 2; k = 4; m = 6; t = 4\", \"x\": [19.43566666666667], \"y\": [99.75579396555328], \"text\": [\"e = 2; k = 4; m = 6; t = 4<br>Mem (GB): 11.54; 11.66; 11.61<br>User time (min): 15.20; 19.44; 17.12<br>ARI (%): 99.76; 99.76; 99.76\"], \"mode\": \"markers\", \"marker\": {\"symbol\": \"circle\", \"color\": \"#984ea3\", \"size\": 11}}, {\"type\": \"scatter\", \"name\": \"e = 2; k = 8; m = 3; t = 1\", \"x\": [20.603166666666667], \"y\": [99.832727960119], \"text\": [\"e = 2; k = 8; m = 3; t = 1<br>Mem (GB): 11.50; 11.58; 11.54<br>User time (min): 15.76; 20.60; 18.00<br>ARI (%): 99.83; 99.85; 99.84\"], \"mode\": \"markers\", \"marker\": {\"symbol\": \"square\", \"color\": \"#e41a1c\", \"size\": 11}}, {\"type\": \"scatter\", \"name\": \"e = 2; k = 8; m = 5; t = 3\", \"x\": [22.2165], \"y\": [99.03059394877191], \"text\": [\"e = 2; k = 8; m = 5; t = 3<br>Mem (GB): 14.58; 14.63; 14.60<br>User time (min): 18.14; 22.22; 19.84<br>ARI (%): 99.03; 99.04; 99.04\"], \"mode\": \"markers\", \"marker\": {\"symbol\": \"square\", \"color\": \"#4daf4a\", \"size\": 14}}, {\"type\": \"scatter\", \"name\": \"e = 2; k = 8; m = 4; t = 2\", \"x\": [21.008], \"y\": [99.64434026729472], \"text\": [\"e = 2; k = 8; m = 4; t = 2<br>Mem (GB): 13.25; 13.39; 13.29<br>User time (min): 16.68; 21.01; 18.71<br>ARI (%): 99.64; 99.65; 99.65\"], \"mode\": \"markers\", \"marker\": {\"symbol\": \"square\", \"color\": \"#377eb8\", \"size\": 13}}, {\"type\": \"scatter\", \"name\": \"e = 2; k = 4; m = 7; t = 4\", \"x\": [20.488166666666665], \"y\": [99.93697958911902], \"text\": [\"e = 2; k = 4; m = 7; t = 4<br>Mem (GB): 12.84; 12.96; 12.89<br>User time (min): 19.39; 20.49; 19.85<br>ARI (%): 99.94; 99.94; 99.94\"], \"mode\": \"markers\", \"marker\": {\"symbol\": \"circle\", \"color\": \"#ff7f00\", \"size\": 12}}, {\"type\": \"scatter\", \"name\": \"e = 2; k = 8; m = 4; t = 1\", \"x\": [20.46066666666667], \"y\": [99.90514725584278], \"text\": [\"e = 2; k = 8; m = 4; t = 1<br>Mem (GB): 13.41; 13.48; 13.44<br>User time (min): 15.93; 20.46; 18.86<br>ARI (%): 99.91; 99.92; 99.91\"], \"mode\": \"markers\", \"marker\": {\"symbol\": \"square\", \"color\": \"#377eb8\", \"size\": 13}}, {\"type\": \"scatter\", \"name\": \"e = 2; k = 4; m = 7; t = 5\", \"x\": [22.9585], \"y\": [99.59087215580305], \"text\": [\"e = 2; k = 4; m = 7; t = 5<br>Mem (GB): 12.60; 12.67; 12.64<br>User time (min): 18.02; 22.96; 19.58<br>ARI (%): 99.59; 99.60; 99.60\"], \"mode\": \"markers\", \"marker\": {\"symbol\": \"circle\", \"color\": \"#ff7f00\", \"size\": 12}}, {\"type\": \"scatter\", \"name\": \"e = 2; k = 8; m = 6; t = 2\", \"x\": [22.464499999999997], \"y\": [99.98757280556472], \"text\": [\"e = 2; k = 8; m = 6; t = 2<br>Mem (GB): 16.81; 16.88; 16.83<br>User time (min): 20.73; 22.46; 21.71<br>ARI (%): 99.99; 99.99; 99.99\"], \"mode\": \"markers\", \"marker\": {\"symbol\": \"square\", \"color\": \"#984ea3\", \"size\": 16}}, {\"type\": \"scatter\", \"name\": \"e = 2; k = 8; m = 7; t = 4\", \"x\": [26.200333333333333], \"y\": [99.67999545143958], \"text\": [\"e = 2; k = 8; m = 7; t = 4<br>Mem (GB): 17.56; 17.63; 17.59<br>User time (min): 19.41; 26.20; 23.04<br>ARI (%): 99.68; 99.68; 99.68\"], \"mode\": \"markers\", \"marker\": {\"symbol\": \"square\", \"color\": \"#ff7f00\", \"size\": 17}}, {\"type\": \"scatter\", \"name\": \"e = 2; k = 8; m = 6; t = 3\", \"x\": [25.474], \"y\": [99.86106126527069], \"text\": [\"e = 2; k = 8; m = 6; t = 3<br>Mem (GB): 16.67; 16.76; 16.72<br>User time (min): 18.48; 25.47; 22.81<br>ARI (%): 99.86; 99.86; 99.86\"], \"mode\": \"markers\", \"marker\": {\"symbol\": \"square\", \"color\": \"#984ea3\", \"size\": 16}}, {\"type\": \"scatter\", \"name\": \"e = 2; k = 8; m = 7; t = 3\", \"x\": [30.244000000000003], \"y\": [99.97659657735387], \"text\": [\"e = 2; k = 8; m = 7; t = 3<br>Mem (GB): 17.79; 17.96; 17.86<br>User time (min): 20.21; 30.24; 24.22<br>ARI (%): 99.98; 99.98; 99.98\"], \"mode\": \"markers\", \"marker\": {\"symbol\": \"square\", \"color\": \"#ff7f00\", \"size\": 17}}, {\"type\": \"scatter\", \"name\": \"e = 2; k = 8; m = 7; t = 2\", \"x\": [27.49816666666667], \"y\": [99.99137026451245], \"text\": [\"e = 2; k = 8; m = 7; t = 2<br>Mem (GB): 17.82; 17.90; 17.86<br>User time (min): 20.19; 27.50; 23.76<br>ARI (%): 99.99; 99.99; 99.99\"], \"mode\": \"markers\", \"marker\": {\"symbol\": \"square\", \"color\": \"#ff7f00\", \"size\": 17}}, {\"type\": \"scatter\", \"name\": \"e = 2; k = 8; m = 5; t = 2\", \"x\": [25.329833333333333], \"y\": [99.95302403150943], \"text\": [\"e = 2; k = 8; m = 5; t = 2<br>Mem (GB): 14.99; 15.08; 15.03<br>User time (min): 17.87; 25.33; 21.40<br>ARI (%): 99.95; 99.95; 99.95\"], \"mode\": \"markers\", \"marker\": {\"symbol\": \"square\", \"color\": \"#4daf4a\", \"size\": 15}}], {\"title\": \"Barcode length 8<br>Read length 250\", \"hovermode\": \"closest\", \"font\": {\"size\": 10}, \"xaxis\": {\"title\": \"Time in min\", \"type\": \"log\"}, \"yaxis\": {\"title\": \"ARI score\"}}, {\"showLink\": true, \"linkText\": \"Export to plot.ly\"})});</script>"
      ],
      "text/vnd.plotly.v1+html": [
       "<div id=\"8e4b505f-53f2-451a-8bf5-2b10f56cefe4\" style=\"height: 525px; width: 100%;\" class=\"plotly-graph-div\"></div><script type=\"text/javascript\">require([\"plotly\"], function(Plotly) { window.PLOTLYENV=window.PLOTLYENV || {};window.PLOTLYENV.BASE_URL=\"https://plot.ly\";Plotly.newPlot(\"8e4b505f-53f2-451a-8bf5-2b10f56cefe4\", [{\"type\": \"scatter\", \"name\": \"e = 1; k = 4; m = 5; t = 3\", \"x\": [5.4254999999999995], \"y\": [99.65302328477206], \"text\": [\"e = 1; k = 4; m = 5; t = 3<br>Mem (GB): 7.94; 8.06; 7.99<br>User time (min): 4.22; 5.43; 4.70<br>ARI (%): 99.65; 99.67; 99.66\"], \"mode\": \"markers\", \"marker\": {\"symbol\": \"circle\", \"color\": \"#4daf4a\", \"size\": 7}}, {\"type\": \"scatter\", \"name\": \"e = 1; k = 4; m = 6; t = 3\", \"x\": [5.404333333333333], \"y\": [99.72288439970023], \"text\": [\"e = 1; k = 4; m = 6; t = 3<br>Mem (GB): 9.21; 9.30; 9.24<br>User time (min): 4.50; 5.40; 4.97<br>ARI (%): 99.72; 99.74; 99.73\"], \"mode\": \"markers\", \"marker\": {\"symbol\": \"circle\", \"color\": \"#984ea3\", \"size\": 9}}, {\"type\": \"scatter\", \"name\": \"e = 1; k = 4; m = 7; t = 3\", \"x\": [5.888166666666667], \"y\": [99.72818029449752], \"text\": [\"e = 1; k = 4; m = 7; t = 3<br>Mem (GB): 9.92; 10.05; 9.99<br>User time (min): 4.40; 5.89; 5.15<br>ARI (%): 99.73; 99.75; 99.74\"], \"mode\": \"markers\", \"marker\": {\"symbol\": \"circle\", \"color\": \"#ff7f00\", \"size\": 9}}, {\"type\": \"scatter\", \"name\": \"e = 1; k = 4; m = 6; t = 4\", \"x\": [5.466333333333334], \"y\": [99.63980534992864], \"text\": [\"e = 1; k = 4; m = 6; t = 4<br>Mem (GB): 9.10; 9.27; 9.18<br>User time (min): 4.11; 5.47; 4.65<br>ARI (%): 99.64; 99.65; 99.64\"], \"mode\": \"markers\", \"marker\": {\"symbol\": \"circle\", \"color\": \"#984ea3\", \"size\": 9}}, {\"type\": \"scatter\", \"name\": \"e = 1; k = 4; m = 7; t = 4\", \"x\": [5.934], \"y\": [99.8229724936963], \"text\": [\"e = 1; k = 4; m = 7; t = 4<br>Mem (GB): 9.91; 10.01; 9.98<br>User time (min): 4.72; 5.93; 5.48<br>ARI (%): 99.82; 99.83; 99.82\"], \"mode\": \"markers\", \"marker\": {\"symbol\": \"circle\", \"color\": \"#ff7f00\", \"size\": 9}}, {\"type\": \"scatter\", \"name\": \"e = 1; k = 4; m = 7; t = 5\", \"x\": [6.6306666666666665], \"y\": [99.44108765294997], \"text\": [\"e = 1; k = 4; m = 7; t = 5<br>Mem (GB): 9.86; 9.97; 9.90<br>User time (min): 4.19; 6.63; 5.46<br>ARI (%): 99.44; 99.45; 99.45\"], \"mode\": \"markers\", \"marker\": {\"symbol\": \"circle\", \"color\": \"#ff7f00\", \"size\": 9}}, {\"type\": \"scatter\", \"name\": \"e = 1; k = 8; m = 4; t = 1\", \"x\": [6.042166666666666], \"y\": [99.82918379729558], \"text\": [\"e = 1; k = 8; m = 4; t = 1<br>Mem (GB): 10.20; 10.29; 10.24<br>User time (min): 4.30; 6.04; 5.20<br>ARI (%): 99.83; 99.83; 99.83\"], \"mode\": \"markers\", \"marker\": {\"symbol\": \"square\", \"color\": \"#377eb8\", \"size\": 10}}, {\"type\": \"scatter\", \"name\": \"e = 1; k = 8; m = 4; t = 2\", \"x\": [5.523666666666667], \"y\": [99.4950115171712], \"text\": [\"e = 1; k = 8; m = 4; t = 2<br>Mem (GB): 10.14; 10.22; 10.19<br>User time (min): 4.39; 5.52; 4.99<br>ARI (%): 99.50; 99.50; 99.50\"], \"mode\": \"markers\", \"marker\": {\"symbol\": \"square\", \"color\": \"#377eb8\", \"size\": 10}}, {\"type\": \"scatter\", \"name\": \"e = 1; k = 8; m = 5; t = 2\", \"x\": [6.197333333333333], \"y\": [99.8050935872813], \"text\": [\"e = 1; k = 8; m = 5; t = 2<br>Mem (GB): 11.21; 11.32; 11.29<br>User time (min): 4.69; 6.20; 5.37<br>ARI (%): 99.81; 99.81; 99.81\"], \"mode\": \"markers\", \"marker\": {\"symbol\": \"square\", \"color\": \"#4daf4a\", \"size\": 11}}, {\"type\": \"scatter\", \"name\": \"e = 1; k = 8; m = 3; t = 1\", \"x\": [6.163166666666667], \"y\": [99.75963184297032], \"text\": [\"e = 1; k = 8; m = 3; t = 1<br>Mem (GB): 8.91; 8.97; 8.94<br>User time (min): 4.01; 6.16; 5.06<br>ARI (%): 99.76; 99.77; 99.76\"], \"mode\": \"markers\", \"marker\": {\"symbol\": \"square\", \"color\": \"#e41a1c\", \"size\": 8}}, {\"type\": \"scatter\", \"name\": \"e = 1; k = 8; m = 7; t = 2\", \"x\": [7.227], \"y\": [99.84384682650432], \"text\": [\"e = 1; k = 8; m = 7; t = 2<br>Mem (GB): 13.19; 13.34; 13.29<br>User time (min): 5.22; 7.23; 6.10<br>ARI (%): 99.84; 99.85; 99.85\"], \"mode\": \"markers\", \"marker\": {\"symbol\": \"square\", \"color\": \"#ff7f00\", \"size\": 13}}, {\"type\": \"scatter\", \"name\": \"e = 1; k = 8; m = 6; t = 3\", \"x\": [7.0023333333333335], \"y\": [99.71184495357977], \"text\": [\"e = 1; k = 8; m = 6; t = 3<br>Mem (GB): 12.55; 12.61; 12.58<br>User time (min): 5.11; 7.00; 5.92<br>ARI (%): 99.71; 99.72; 99.71\"], \"mode\": \"markers\", \"marker\": {\"symbol\": \"square\", \"color\": \"#984ea3\", \"size\": 12}}, {\"type\": \"scatter\", \"name\": \"e = 1; k = 8; m = 6; t = 2\", \"x\": [6.996833333333333], \"y\": [99.83991300048166], \"text\": [\"e = 1; k = 8; m = 6; t = 2<br>Mem (GB): 12.57; 12.67; 12.62<br>User time (min): 5.06; 7.00; 5.93<br>ARI (%): 99.84; 99.84; 99.84\"], \"mode\": \"markers\", \"marker\": {\"symbol\": \"square\", \"color\": \"#984ea3\", \"size\": 12}}, {\"type\": \"scatter\", \"name\": \"e = 1; k = 8; m = 7; t = 4\", \"x\": [7.142666666666667], \"y\": [99.53056256032353], \"text\": [\"e = 1; k = 8; m = 7; t = 4<br>Mem (GB): 13.10; 13.26; 13.21<br>User time (min): 5.68; 7.14; 6.38<br>ARI (%): 99.53; 99.54; 99.53\"], \"mode\": \"markers\", \"marker\": {\"symbol\": \"square\", \"color\": \"#ff7f00\", \"size\": 13}}, {\"type\": \"scatter\", \"name\": \"e = 1; k = 8; m = 7; t = 3\", \"x\": [6.783666666666666], \"y\": [99.82788279170374], \"text\": [\"e = 1; k = 8; m = 7; t = 3<br>Mem (GB): 13.19; 13.31; 13.28<br>User time (min): 6.07; 6.78; 6.37<br>ARI (%): 99.83; 99.83; 99.83\"], \"mode\": \"markers\", \"marker\": {\"symbol\": \"square\", \"color\": \"#ff7f00\", \"size\": 13}}, {\"type\": \"scatter\", \"name\": \"e = 2; k = 4; m = 6; t = 4\", \"x\": [19.43566666666667], \"y\": [99.75579396555328], \"text\": [\"e = 2; k = 4; m = 6; t = 4<br>Mem (GB): 11.54; 11.66; 11.61<br>User time (min): 15.20; 19.44; 17.12<br>ARI (%): 99.76; 99.76; 99.76\"], \"mode\": \"markers\", \"marker\": {\"symbol\": \"circle\", \"color\": \"#984ea3\", \"size\": 11}}, {\"type\": \"scatter\", \"name\": \"e = 2; k = 8; m = 3; t = 1\", \"x\": [20.603166666666667], \"y\": [99.832727960119], \"text\": [\"e = 2; k = 8; m = 3; t = 1<br>Mem (GB): 11.50; 11.58; 11.54<br>User time (min): 15.76; 20.60; 18.00<br>ARI (%): 99.83; 99.85; 99.84\"], \"mode\": \"markers\", \"marker\": {\"symbol\": \"square\", \"color\": \"#e41a1c\", \"size\": 11}}, {\"type\": \"scatter\", \"name\": \"e = 2; k = 8; m = 5; t = 3\", \"x\": [22.2165], \"y\": [99.03059394877191], \"text\": [\"e = 2; k = 8; m = 5; t = 3<br>Mem (GB): 14.58; 14.63; 14.60<br>User time (min): 18.14; 22.22; 19.84<br>ARI (%): 99.03; 99.04; 99.04\"], \"mode\": \"markers\", \"marker\": {\"symbol\": \"square\", \"color\": \"#4daf4a\", \"size\": 14}}, {\"type\": \"scatter\", \"name\": \"e = 2; k = 8; m = 4; t = 2\", \"x\": [21.008], \"y\": [99.64434026729472], \"text\": [\"e = 2; k = 8; m = 4; t = 2<br>Mem (GB): 13.25; 13.39; 13.29<br>User time (min): 16.68; 21.01; 18.71<br>ARI (%): 99.64; 99.65; 99.65\"], \"mode\": \"markers\", \"marker\": {\"symbol\": \"square\", \"color\": \"#377eb8\", \"size\": 13}}, {\"type\": \"scatter\", \"name\": \"e = 2; k = 4; m = 7; t = 4\", \"x\": [20.488166666666665], \"y\": [99.93697958911902], \"text\": [\"e = 2; k = 4; m = 7; t = 4<br>Mem (GB): 12.84; 12.96; 12.89<br>User time (min): 19.39; 20.49; 19.85<br>ARI (%): 99.94; 99.94; 99.94\"], \"mode\": \"markers\", \"marker\": {\"symbol\": \"circle\", \"color\": \"#ff7f00\", \"size\": 12}}, {\"type\": \"scatter\", \"name\": \"e = 2; k = 8; m = 4; t = 1\", \"x\": [20.46066666666667], \"y\": [99.90514725584278], \"text\": [\"e = 2; k = 8; m = 4; t = 1<br>Mem (GB): 13.41; 13.48; 13.44<br>User time (min): 15.93; 20.46; 18.86<br>ARI (%): 99.91; 99.92; 99.91\"], \"mode\": \"markers\", \"marker\": {\"symbol\": \"square\", \"color\": \"#377eb8\", \"size\": 13}}, {\"type\": \"scatter\", \"name\": \"e = 2; k = 4; m = 7; t = 5\", \"x\": [22.9585], \"y\": [99.59087215580305], \"text\": [\"e = 2; k = 4; m = 7; t = 5<br>Mem (GB): 12.60; 12.67; 12.64<br>User time (min): 18.02; 22.96; 19.58<br>ARI (%): 99.59; 99.60; 99.60\"], \"mode\": \"markers\", \"marker\": {\"symbol\": \"circle\", \"color\": \"#ff7f00\", \"size\": 12}}, {\"type\": \"scatter\", \"name\": \"e = 2; k = 8; m = 6; t = 2\", \"x\": [22.464499999999997], \"y\": [99.98757280556472], \"text\": [\"e = 2; k = 8; m = 6; t = 2<br>Mem (GB): 16.81; 16.88; 16.83<br>User time (min): 20.73; 22.46; 21.71<br>ARI (%): 99.99; 99.99; 99.99\"], \"mode\": \"markers\", \"marker\": {\"symbol\": \"square\", \"color\": \"#984ea3\", \"size\": 16}}, {\"type\": \"scatter\", \"name\": \"e = 2; k = 8; m = 7; t = 4\", \"x\": [26.200333333333333], \"y\": [99.67999545143958], \"text\": [\"e = 2; k = 8; m = 7; t = 4<br>Mem (GB): 17.56; 17.63; 17.59<br>User time (min): 19.41; 26.20; 23.04<br>ARI (%): 99.68; 99.68; 99.68\"], \"mode\": \"markers\", \"marker\": {\"symbol\": \"square\", \"color\": \"#ff7f00\", \"size\": 17}}, {\"type\": \"scatter\", \"name\": \"e = 2; k = 8; m = 6; t = 3\", \"x\": [25.474], \"y\": [99.86106126527069], \"text\": [\"e = 2; k = 8; m = 6; t = 3<br>Mem (GB): 16.67; 16.76; 16.72<br>User time (min): 18.48; 25.47; 22.81<br>ARI (%): 99.86; 99.86; 99.86\"], \"mode\": \"markers\", \"marker\": {\"symbol\": \"square\", \"color\": \"#984ea3\", \"size\": 16}}, {\"type\": \"scatter\", \"name\": \"e = 2; k = 8; m = 7; t = 3\", \"x\": [30.244000000000003], \"y\": [99.97659657735387], \"text\": [\"e = 2; k = 8; m = 7; t = 3<br>Mem (GB): 17.79; 17.96; 17.86<br>User time (min): 20.21; 30.24; 24.22<br>ARI (%): 99.98; 99.98; 99.98\"], \"mode\": \"markers\", \"marker\": {\"symbol\": \"square\", \"color\": \"#ff7f00\", \"size\": 17}}, {\"type\": \"scatter\", \"name\": \"e = 2; k = 8; m = 7; t = 2\", \"x\": [27.49816666666667], \"y\": [99.99137026451245], \"text\": [\"e = 2; k = 8; m = 7; t = 2<br>Mem (GB): 17.82; 17.90; 17.86<br>User time (min): 20.19; 27.50; 23.76<br>ARI (%): 99.99; 99.99; 99.99\"], \"mode\": \"markers\", \"marker\": {\"symbol\": \"square\", \"color\": \"#ff7f00\", \"size\": 17}}, {\"type\": \"scatter\", \"name\": \"e = 2; k = 8; m = 5; t = 2\", \"x\": [25.329833333333333], \"y\": [99.95302403150943], \"text\": [\"e = 2; k = 8; m = 5; t = 2<br>Mem (GB): 14.99; 15.08; 15.03<br>User time (min): 17.87; 25.33; 21.40<br>ARI (%): 99.95; 99.95; 99.95\"], \"mode\": \"markers\", \"marker\": {\"symbol\": \"square\", \"color\": \"#4daf4a\", \"size\": 15}}], {\"title\": \"Barcode length 8<br>Read length 250\", \"hovermode\": \"closest\", \"font\": {\"size\": 10}, \"xaxis\": {\"title\": \"Time in min\", \"type\": \"log\"}, \"yaxis\": {\"title\": \"ARI score\"}}, {\"showLink\": true, \"linkText\": \"Export to plot.ly\"})});</script>"
      ]
     },
     "metadata": {},
     "output_type": "display_data"
    },
    {
     "data": {
      "application/vnd.plotly.v1+json": {
       "data": [
        {
         "marker": {
          "color": "#377eb8",
          "size": 10,
          "symbol": "circle"
         },
         "mode": "markers",
         "name": "e = 1; k = 4; m = 4; t = 1",
         "text": [
          "e = 1; k = 4; m = 4; t = 1<br>Mem (GB): 10.84; 10.86; 10.85<br>User time (min): 5.88; 8.94; 7.09<br>ARI (%): 99.13; 99.15; 99.14"
         ],
         "type": "scatter",
         "x": [
          8.942166666666667
         ],
         "y": [
          99.13097881746688
         ]
        },
        {
         "marker": {
          "color": "#e41a1c",
          "size": 10,
          "symbol": "circle"
         },
         "mode": "markers",
         "name": "e = 1; k = 4; m = 3; t = 1",
         "text": [
          "e = 1; k = 4; m = 3; t = 1<br>Mem (GB): 10.03; 10.13; 10.10<br>User time (min): 6.04; 7.76; 7.15<br>ARI (%): 99.09; 99.11; 99.10"
         ],
         "type": "scatter",
         "x": [
          7.7556666666666665
         ],
         "y": [
          99.08606579130654
         ]
        },
        {
         "marker": {
          "color": "#377eb8",
          "size": 10,
          "symbol": "circle"
         },
         "mode": "markers",
         "name": "e = 1; k = 4; m = 4; t = 2",
         "text": [
          "e = 1; k = 4; m = 4; t = 2<br>Mem (GB): 10.81; 10.85; 10.84<br>User time (min): 5.93; 8.37; 7.10<br>ARI (%): 99.27; 99.27; 99.27"
         ],
         "type": "scatter",
         "x": [
          8.371166666666666
         ],
         "y": [
          99.268448650687
         ]
        },
        {
         "marker": {
          "color": "#984ea3",
          "size": 12,
          "symbol": "circle"
         },
         "mode": "markers",
         "name": "e = 1; k = 4; m = 6; t = 2",
         "text": [
          "e = 1; k = 4; m = 6; t = 2<br>Mem (GB): 12.50; 12.52; 12.51<br>User time (min): 7.11; 8.20; 7.82<br>ARI (%): 99.31; 99.31; 99.31"
         ],
         "type": "scatter",
         "x": [
          8.202333333333334
         ],
         "y": [
          99.30806343049716
         ]
        },
        {
         "marker": {
          "color": "#4daf4a",
          "size": 11,
          "symbol": "circle"
         },
         "mode": "markers",
         "name": "e = 1; k = 4; m = 5; t = 2",
         "text": [
          "e = 1; k = 4; m = 5; t = 2<br>Mem (GB): 11.47; 11.52; 11.50<br>User time (min): 5.99; 9.82; 7.82<br>ARI (%): 99.31; 99.31; 99.31"
         ],
         "type": "scatter",
         "x": [
          9.817666666666666
         ],
         "y": [
          99.30578963291131
         ]
        },
        {
         "marker": {
          "color": "#4daf4a",
          "size": 11,
          "symbol": "circle"
         },
         "mode": "markers",
         "name": "e = 1; k = 4; m = 5; t = 3",
         "text": [
          "e = 1; k = 4; m = 5; t = 3<br>Mem (GB): 11.46; 11.49; 11.49<br>User time (min): 6.11; 8.82; 7.48<br>ARI (%): 99.22; 99.22; 99.22"
         ],
         "type": "scatter",
         "x": [
          8.817333333333332
         ],
         "y": [
          99.21737197331862
         ]
        },
        {
         "marker": {
          "color": "#e41a1c",
          "size": 11,
          "symbol": "square"
         },
         "mode": "markers",
         "name": "e = 1; k = 8; m = 3; t = 1",
         "text": [
          "e = 1; k = 8; m = 3; t = 1<br>Mem (GB): 11.94; 11.97; 11.97<br>User time (min): 6.27; 8.01; 7.08<br>ARI (%): 99.25; 99.25; 99.25"
         ],
         "type": "scatter",
         "x": [
          8.014666666666667
         ],
         "y": [
          99.24602921745334
         ]
        },
        {
         "marker": {
          "color": "#984ea3",
          "size": 12,
          "symbol": "circle"
         },
         "mode": "markers",
         "name": "e = 1; k = 4; m = 6; t = 3",
         "text": [
          "e = 1; k = 4; m = 6; t = 3<br>Mem (GB): 12.47; 12.52; 12.50<br>User time (min): 7.24; 8.38; 7.86<br>ARI (%): 99.30; 99.31; 99.31"
         ],
         "type": "scatter",
         "x": [
          8.377333333333333
         ],
         "y": [
          99.3040872497181
         ]
        },
        {
         "marker": {
          "color": "#ff7f00",
          "size": 13,
          "symbol": "circle"
         },
         "mode": "markers",
         "name": "e = 1; k = 4; m = 7; t = 3",
         "text": [
          "e = 1; k = 4; m = 7; t = 3<br>Mem (GB): 13.09; 13.18; 13.17<br>User time (min): 6.40; 8.70; 7.62<br>ARI (%): 99.31; 99.31; 99.31"
         ],
         "type": "scatter",
         "x": [
          8.697666666666667
         ],
         "y": [
          99.30896778867334
         ]
        },
        {
         "marker": {
          "color": "#ff7f00",
          "size": 13,
          "symbol": "circle"
         },
         "mode": "markers",
         "name": "e = 1; k = 4; m = 7; t = 4",
         "text": [
          "e = 1; k = 4; m = 7; t = 4<br>Mem (GB): 13.04; 13.18; 13.15<br>User time (min): 7.18; 9.25; 7.95<br>ARI (%): 99.30; 99.30; 99.30"
         ],
         "type": "scatter",
         "x": [
          9.252833333333333
         ],
         "y": [
          99.2961401596347
         ]
        },
        {
         "marker": {
          "color": "#984ea3",
          "size": 12,
          "symbol": "circle"
         },
         "mode": "markers",
         "name": "e = 1; k = 4; m = 6; t = 4",
         "text": [
          "e = 1; k = 4; m = 6; t = 4<br>Mem (GB): 12.40; 12.48; 12.46<br>User time (min): 6.19; 9.96; 7.85<br>ARI (%): 99.13; 99.13; 99.13"
         ],
         "type": "scatter",
         "x": [
          9.957500000000001
         ],
         "y": [
          99.13022922003142
         ]
        },
        {
         "marker": {
          "color": "#377eb8",
          "size": 12,
          "symbol": "square"
         },
         "mode": "markers",
         "name": "e = 1; k = 8; m = 4; t = 1",
         "text": [
          "e = 1; k = 8; m = 4; t = 1<br>Mem (GB): 12.86; 12.93; 12.92<br>User time (min): 6.49; 8.63; 7.58<br>ARI (%): 99.31; 99.31; 99.31"
         ],
         "type": "scatter",
         "x": [
          8.627833333333333
         ],
         "y": [
          99.30527702409474
         ]
        },
        {
         "marker": {
          "color": "#377eb8",
          "size": 12,
          "symbol": "square"
         },
         "mode": "markers",
         "name": "e = 1; k = 8; m = 4; t = 2",
         "text": [
          "e = 1; k = 8; m = 4; t = 2<br>Mem (GB): 12.84; 12.89; 12.88<br>User time (min): 6.59; 8.56; 7.59<br>ARI (%): 99.08; 99.09; 99.08"
         ],
         "type": "scatter",
         "x": [
          8.561333333333332
         ],
         "y": [
          99.0797164049278
         ]
        },
        {
         "marker": {
          "color": "#984ea3",
          "size": 15,
          "symbol": "square"
         },
         "mode": "markers",
         "name": "e = 1; k = 8; m = 6; t = 3",
         "text": [
          "e = 1; k = 8; m = 6; t = 3<br>Mem (GB): 15.09; 15.13; 15.12<br>User time (min): 7.13; 10.29; 8.76<br>ARI (%): 99.25; 99.26; 99.25"
         ],
         "type": "scatter",
         "x": [
          10.291166666666667
         ],
         "y": [
          99.25129678671546
         ]
        },
        {
         "marker": {
          "color": "#ff7f00",
          "size": 13,
          "symbol": "circle"
         },
         "mode": "markers",
         "name": "e = 1; k = 4; m = 7; t = 2",
         "text": [
          "e = 1; k = 4; m = 7; t = 2<br>Mem (GB): 13.14; 13.18; 13.17<br>User time (min): 7.53; 10.38; 8.53<br>ARI (%): 99.31; 99.31; 99.31"
         ],
         "type": "scatter",
         "x": [
          10.3825
         ],
         "y": [
          99.30714976304077
         ]
        },
        {
         "marker": {
          "color": "#4daf4a",
          "size": 13,
          "symbol": "square"
         },
         "mode": "markers",
         "name": "e = 1; k = 8; m = 5; t = 2",
         "text": [
          "e = 1; k = 8; m = 5; t = 2<br>Mem (GB): 13.83; 13.84; 13.83<br>User time (min): 7.31; 10.41; 8.38<br>ARI (%): 99.29; 99.29; 99.29"
         ],
         "type": "scatter",
         "x": [
          10.408333333333333
         ],
         "y": [
          99.28953777977836
         ]
        },
        {
         "marker": {
          "color": "#984ea3",
          "size": 15,
          "symbol": "square"
         },
         "mode": "markers",
         "name": "e = 1; k = 8; m = 6; t = 2",
         "text": [
          "e = 1; k = 8; m = 6; t = 2<br>Mem (GB): 15.07; 15.14; 15.13<br>User time (min): 7.61; 9.58; 8.50<br>ARI (%): 99.31; 99.31; 99.31"
         ],
         "type": "scatter",
         "x": [
          9.581666666666667
         ],
         "y": [
          99.30684108907334
         ]
        },
        {
         "marker": {
          "color": "#ff7f00",
          "size": 15,
          "symbol": "square"
         },
         "mode": "markers",
         "name": "e = 1; k = 8; m = 7; t = 2",
         "text": [
          "e = 1; k = 8; m = 7; t = 2<br>Mem (GB): 15.93; 15.94; 15.93<br>User time (min): 7.52; 9.37; 8.59<br>ARI (%): 99.31; 99.31; 99.31"
         ],
         "type": "scatter",
         "x": [
          9.369833333333334
         ],
         "y": [
          99.30764806913034
         ]
        },
        {
         "marker": {
          "color": "#ff7f00",
          "size": 15,
          "symbol": "square"
         },
         "mode": "markers",
         "name": "e = 1; k = 8; m = 7; t = 4",
         "text": [
          "e = 1; k = 8; m = 7; t = 4<br>Mem (GB): 15.89; 15.90; 15.89<br>User time (min): 7.77; 10.09; 8.68<br>ARI (%): 99.17; 99.18; 99.18"
         ],
         "type": "scatter",
         "x": [
          10.093833333333333
         ],
         "y": [
          99.17465579573643
         ]
        },
        {
         "marker": {
          "color": "#ff7f00",
          "size": 15,
          "symbol": "square"
         },
         "mode": "markers",
         "name": "e = 1; k = 8; m = 7; t = 3",
         "text": [
          "e = 1; k = 8; m = 7; t = 3<br>Mem (GB): 15.92; 15.94; 15.93<br>User time (min): 7.96; 10.22; 8.90<br>ARI (%): 99.30; 99.30; 99.30"
         ],
         "type": "scatter",
         "x": [
          10.219166666666666
         ],
         "y": [
          99.29952622645175
         ]
        },
        {
         "marker": {
          "color": "#e41a1c",
          "size": 12,
          "symbol": "circle"
         },
         "mode": "markers",
         "name": "e = 2; k = 4; m = 3; t = 2",
         "text": [
          "e = 2; k = 4; m = 3; t = 2<br>Mem (GB): 12.04; 12.06; 12.05<br>User time (min): 49.30; 56.99; 52.77<br>ARI (%): 99.21; 99.22; 99.22"
         ],
         "type": "scatter",
         "x": [
          56.993500000000004
         ],
         "y": [
          99.2087632231726
         ]
        },
        {
         "marker": {
          "color": "#377eb8",
          "size": 13,
          "symbol": "circle"
         },
         "mode": "markers",
         "name": "e = 2; k = 4; m = 4; t = 1",
         "text": [
          "e = 2; k = 4; m = 4; t = 1<br>Mem (GB): 13.51; 13.53; 13.53<br>User time (min): 52.38; 61.02; 57.28<br>ARI (%): 99.64; 99.67; 99.65"
         ],
         "type": "scatter",
         "x": [
          61.01933333333333
         ],
         "y": [
          99.63759475339398
         ]
        },
        {
         "marker": {
          "color": "#377eb8",
          "size": 13,
          "symbol": "circle"
         },
         "mode": "markers",
         "name": "e = 2; k = 4; m = 4; t = 2",
         "text": [
          "e = 2; k = 4; m = 4; t = 2<br>Mem (GB): 13.48; 13.50; 13.49<br>User time (min): 52.52; 62.98; 57.55<br>ARI (%): 99.93; 99.93; 99.93"
         ],
         "type": "scatter",
         "x": [
          62.97683333333334
         ],
         "y": [
          99.93014942405102
         ]
        },
        {
         "marker": {
          "color": "#ff7f00",
          "size": 17,
          "symbol": "circle"
         },
         "mode": "markers",
         "name": "e = 2; k = 4; m = 7; t = 3",
         "text": [
          "e = 2; k = 4; m = 7; t = 3<br>Mem (GB): 17.16; 17.18; 17.18<br>User time (min): 55.98; 73.76; 65.65<br>ARI (%): 99.97; 99.97; 99.97"
         ],
         "type": "scatter",
         "x": [
          73.75683333333333
         ],
         "y": [
          99.97117523262827
         ]
        },
        {
         "marker": {
          "color": "#984ea3",
          "size": 16,
          "symbol": "circle"
         },
         "mode": "markers",
         "name": "e = 2; k = 4; m = 6; t = 3",
         "text": [
          "e = 2; k = 4; m = 6; t = 3<br>Mem (GB): 16.02; 16.04; 16.03<br>User time (min): 54.73; 68.83; 60.55<br>ARI (%): 99.97; 99.97; 99.97"
         ],
         "type": "scatter",
         "x": [
          68.83116666666666
         ],
         "y": [
          99.96626329586053
         ]
        },
        {
         "marker": {
          "color": "#e41a1c",
          "size": 12,
          "symbol": "circle"
         },
         "mode": "markers",
         "name": "e = 2; k = 4; m = 3; t = 1",
         "text": [
          "e = 2; k = 4; m = 3; t = 1<br>Mem (GB): 12.33; 12.34; 12.34<br>User time (min): 55.66; 68.16; 59.81<br>ARI (%): 99.56; 99.60; 99.58"
         ],
         "type": "scatter",
         "x": [
          68.16199999999999
         ],
         "y": [
          99.5630493954301
         ]
        },
        {
         "marker": {
          "color": "#377eb8",
          "size": 17,
          "symbol": "square"
         },
         "mode": "markers",
         "name": "e = 2; k = 8; m = 4; t = 1",
         "text": [
          "e = 2; k = 8; m = 4; t = 1<br>Mem (GB): 17.03; 17.06; 17.05<br>User time (min): 55.33; 66.77; 62.79<br>ARI (%): 99.97; 99.97; 99.97"
         ],
         "type": "scatter",
         "x": [
          66.77483333333333
         ],
         "y": [
          99.9674806387071
         ]
        },
        {
         "marker": {
          "color": "#4daf4a",
          "size": 14,
          "symbol": "circle"
         },
         "mode": "markers",
         "name": "e = 2; k = 4; m = 5; t = 3",
         "text": [
          "e = 2; k = 4; m = 5; t = 3<br>Mem (GB): 14.51; 14.54; 14.53<br>User time (min): 53.21; 66.10; 61.71<br>ARI (%): 99.88; 99.88; 99.88"
         ],
         "type": "scatter",
         "x": [
          66.10216666666666
         ],
         "y": [
          99.88002619359911
         ]
        },
        {
         "marker": {
          "color": "#ff7f00",
          "size": 16,
          "symbol": "circle"
         },
         "mode": "markers",
         "name": "e = 2; k = 4; m = 7; t = 5",
         "text": [
          "e = 2; k = 4; m = 7; t = 5<br>Mem (GB): 16.92; 16.94; 16.93<br>User time (min): 54.20; 70.05; 60.20<br>ARI (%): 99.66; 99.66; 99.66"
         ],
         "type": "scatter",
         "x": [
          70.04766666666666
         ],
         "y": [
          99.65796428155033
         ]
        },
        {
         "marker": {
          "color": "#e41a1c",
          "size": 15,
          "symbol": "square"
         },
         "mode": "markers",
         "name": "e = 2; k = 8; m = 3; t = 1",
         "text": [
          "e = 2; k = 8; m = 3; t = 1<br>Mem (GB): 15.35; 15.37; 15.36<br>User time (min): 52.77; 67.50; 61.92<br>ARI (%): 99.91; 99.91; 99.91"
         ],
         "type": "scatter",
         "x": [
          67.50483333333334
         ],
         "y": [
          99.90825540459612
         ]
        },
        {
         "marker": {
          "color": "#4daf4a",
          "size": 14,
          "symbol": "circle"
         },
         "mode": "markers",
         "name": "e = 2; k = 4; m = 5; t = 2",
         "text": [
          "e = 2; k = 4; m = 5; t = 2<br>Mem (GB): 14.60; 14.62; 14.61<br>User time (min): 57.95; 65.85; 61.58<br>ARI (%): 99.97; 99.97; 99.97"
         ],
         "type": "scatter",
         "x": [
          65.84833333333333
         ],
         "y": [
          99.96678951829419
         ]
        },
        {
         "marker": {
          "color": "#984ea3",
          "size": 15,
          "symbol": "circle"
         },
         "mode": "markers",
         "name": "e = 2; k = 4; m = 6; t = 4",
         "text": [
          "e = 2; k = 4; m = 6; t = 4<br>Mem (GB): 15.88; 15.90; 15.89<br>User time (min): 54.09; 65.47; 60.44<br>ARI (%): 99.79; 99.80; 99.80"
         ],
         "type": "scatter",
         "x": [
          65.47116666666666
         ],
         "y": [
          99.79447256211778
         ]
        },
        {
         "marker": {
          "color": "#984ea3",
          "size": 16,
          "symbol": "circle"
         },
         "mode": "markers",
         "name": "e = 2; k = 4; m = 6; t = 2",
         "text": [
          "e = 2; k = 4; m = 6; t = 2<br>Mem (GB): 16.04; 16.05; 16.05<br>User time (min): 53.40; 66.90; 60.81<br>ARI (%): 99.97; 99.97; 99.97"
         ],
         "type": "scatter",
         "x": [
          66.90050000000001
         ],
         "y": [
          99.96873409342413
         ]
        },
        {
         "marker": {
          "color": "#377eb8",
          "size": 16,
          "symbol": "square"
         },
         "mode": "markers",
         "name": "e = 2; k = 8; m = 4; t = 2",
         "text": [
          "e = 2; k = 8; m = 4; t = 2<br>Mem (GB): 16.87; 16.92; 16.89<br>User time (min): 57.09; 69.25; 65.33<br>ARI (%): 99.74; 99.75; 99.75"
         ],
         "type": "scatter",
         "x": [
          69.24716666666667
         ],
         "y": [
          99.74493236806003
         ]
        },
        {
         "marker": {
          "color": "#ff7f00",
          "size": 17,
          "symbol": "circle"
         },
         "mode": "markers",
         "name": "e = 2; k = 4; m = 7; t = 2",
         "text": [
          "e = 2; k = 4; m = 7; t = 2<br>Mem (GB): 17.16; 17.18; 17.17<br>User time (min): 58.89; 73.95; 66.38<br>ARI (%): 99.97; 99.97; 99.97"
         ],
         "type": "scatter",
         "x": [
          73.95333333333333
         ],
         "y": [
          99.96820553125924
         ]
        },
        {
         "marker": {
          "color": "#ff7f00",
          "size": 17,
          "symbol": "circle"
         },
         "mode": "markers",
         "name": "e = 2; k = 4; m = 7; t = 4",
         "text": [
          "e = 2; k = 4; m = 7; t = 4<br>Mem (GB): 17.15; 17.16; 17.15<br>User time (min): 57.03; 67.75; 63.12<br>ARI (%): 99.96; 99.96; 99.96"
         ],
         "type": "scatter",
         "x": [
          67.74600000000001
         ],
         "y": [
          99.95854559112765
         ]
        },
        {
         "marker": {
          "color": "#984ea3",
          "size": 20,
          "symbol": "square"
         },
         "mode": "markers",
         "name": "e = 2; k = 8; m = 6; t = 2",
         "text": [
          "e = 2; k = 8; m = 6; t = 2<br>Mem (GB): 20.45; 20.48; 20.47<br>User time (min): 63.71; 75.50; 69.82<br>ARI (%): 99.97; 99.97; 99.97"
         ],
         "type": "scatter",
         "x": [
          75.50366666666667
         ],
         "y": [
          99.96900670990196
         ]
        },
        {
         "marker": {
          "color": "#984ea3",
          "size": 20,
          "symbol": "square"
         },
         "mode": "markers",
         "name": "e = 2; k = 8; m = 6; t = 3",
         "text": [
          "e = 2; k = 8; m = 6; t = 3<br>Mem (GB): 20.39; 20.44; 20.41<br>User time (min): 60.17; 76.43; 67.76<br>ARI (%): 99.91; 99.92; 99.91"
         ],
         "type": "scatter",
         "x": [
          76.42983333333333
         ],
         "y": [
          99.91416138963622
         ]
        },
        {
         "marker": {
          "color": "#4daf4a",
          "size": 18,
          "symbol": "square"
         },
         "mode": "markers",
         "name": "e = 2; k = 8; m = 5; t = 3",
         "text": [
          "e = 2; k = 8; m = 5; t = 3<br>Mem (GB): 18.25; 18.27; 18.26<br>User time (min): 63.01; 70.30; 65.67<br>ARI (%): 99.44; 99.44; 99.44"
         ],
         "type": "scatter",
         "x": [
          70.30016666666667
         ],
         "y": [
          99.43610587698987
         ]
        },
        {
         "marker": {
          "color": "#ff7f00",
          "size": 21,
          "symbol": "square"
         },
         "mode": "markers",
         "name": "e = 2; k = 8; m = 7; t = 3",
         "text": [
          "e = 2; k = 8; m = 7; t = 3<br>Mem (GB): 21.78; 21.80; 21.79<br>User time (min): 70.22; 76.11; 73.57<br>ARI (%): 99.96; 99.96; 99.96"
         ],
         "type": "scatter",
         "x": [
          76.11
         ],
         "y": [
          99.96164704156072
         ]
        },
        {
         "marker": {
          "color": "#ff7f00",
          "size": 21,
          "symbol": "square"
         },
         "mode": "markers",
         "name": "e = 2; k = 8; m = 7; t = 4",
         "text": [
          "e = 2; k = 8; m = 7; t = 4<br>Mem (GB): 21.65; 21.66; 21.66<br>User time (min): 64.96; 80.02; 73.20<br>ARI (%): 99.84; 99.84; 99.84"
         ],
         "type": "scatter",
         "x": [
          80.01683333333334
         ],
         "y": [
          99.8385201093637
         ]
        },
        {
         "marker": {
          "color": "#4daf4a",
          "size": 18,
          "symbol": "square"
         },
         "mode": "markers",
         "name": "e = 2; k = 8; m = 5; t = 2",
         "text": [
          "e = 2; k = 8; m = 5; t = 2<br>Mem (GB): 18.58; 18.60; 18.59<br>User time (min): 61.22; 71.79; 67.38<br>ARI (%): 99.95; 99.95; 99.95"
         ],
         "type": "scatter",
         "x": [
          71.788
         ],
         "y": [
          99.95150853065087
         ]
        },
        {
         "marker": {
          "color": "#ff7f00",
          "size": 21,
          "symbol": "square"
         },
         "mode": "markers",
         "name": "e = 2; k = 8; m = 7; t = 2",
         "text": [
          "e = 2; k = 8; m = 7; t = 2<br>Mem (GB): 21.80; 21.81; 21.81<br>User time (min): 67.36; 76.93; 72.11<br>ARI (%): 99.97; 99.97; 99.97"
         ],
         "type": "scatter",
         "x": [
          76.93116666666667
         ],
         "y": [
          99.96972417578243
         ]
        }
       ],
       "layout": {
        "font": {
         "size": 10
        },
        "hovermode": "closest",
        "title": "Barcode length 12<br>Read length 75",
        "xaxis": {
         "title": "Time in min",
         "type": "log"
        },
        "yaxis": {
         "title": "ARI score"
        }
       }
      },
      "text/html": [
       "<div id=\"d58614a1-88d9-4a5e-ae1d-e69e96dd2248\" style=\"height: 525px; width: 100%;\" class=\"plotly-graph-div\"></div><script type=\"text/javascript\">require([\"plotly\"], function(Plotly) { window.PLOTLYENV=window.PLOTLYENV || {};window.PLOTLYENV.BASE_URL=\"https://plot.ly\";Plotly.newPlot(\"d58614a1-88d9-4a5e-ae1d-e69e96dd2248\", [{\"type\": \"scatter\", \"name\": \"e = 1; k = 4; m = 4; t = 1\", \"x\": [8.942166666666667], \"y\": [99.13097881746688], \"text\": [\"e = 1; k = 4; m = 4; t = 1<br>Mem (GB): 10.84; 10.86; 10.85<br>User time (min): 5.88; 8.94; 7.09<br>ARI (%): 99.13; 99.15; 99.14\"], \"mode\": \"markers\", \"marker\": {\"symbol\": \"circle\", \"color\": \"#377eb8\", \"size\": 10}}, {\"type\": \"scatter\", \"name\": \"e = 1; k = 4; m = 3; t = 1\", \"x\": [7.7556666666666665], \"y\": [99.08606579130654], \"text\": [\"e = 1; k = 4; m = 3; t = 1<br>Mem (GB): 10.03; 10.13; 10.10<br>User time (min): 6.04; 7.76; 7.15<br>ARI (%): 99.09; 99.11; 99.10\"], \"mode\": \"markers\", \"marker\": {\"symbol\": \"circle\", \"color\": \"#e41a1c\", \"size\": 10}}, {\"type\": \"scatter\", \"name\": \"e = 1; k = 4; m = 4; t = 2\", \"x\": [8.371166666666666], \"y\": [99.268448650687], \"text\": [\"e = 1; k = 4; m = 4; t = 2<br>Mem (GB): 10.81; 10.85; 10.84<br>User time (min): 5.93; 8.37; 7.10<br>ARI (%): 99.27; 99.27; 99.27\"], \"mode\": \"markers\", \"marker\": {\"symbol\": \"circle\", \"color\": \"#377eb8\", \"size\": 10}}, {\"type\": \"scatter\", \"name\": \"e = 1; k = 4; m = 6; t = 2\", \"x\": [8.202333333333334], \"y\": [99.30806343049716], \"text\": [\"e = 1; k = 4; m = 6; t = 2<br>Mem (GB): 12.50; 12.52; 12.51<br>User time (min): 7.11; 8.20; 7.82<br>ARI (%): 99.31; 99.31; 99.31\"], \"mode\": \"markers\", \"marker\": {\"symbol\": \"circle\", \"color\": \"#984ea3\", \"size\": 12}}, {\"type\": \"scatter\", \"name\": \"e = 1; k = 4; m = 5; t = 2\", \"x\": [9.817666666666666], \"y\": [99.30578963291131], \"text\": [\"e = 1; k = 4; m = 5; t = 2<br>Mem (GB): 11.47; 11.52; 11.50<br>User time (min): 5.99; 9.82; 7.82<br>ARI (%): 99.31; 99.31; 99.31\"], \"mode\": \"markers\", \"marker\": {\"symbol\": \"circle\", \"color\": \"#4daf4a\", \"size\": 11}}, {\"type\": \"scatter\", \"name\": \"e = 1; k = 4; m = 5; t = 3\", \"x\": [8.817333333333332], \"y\": [99.21737197331862], \"text\": [\"e = 1; k = 4; m = 5; t = 3<br>Mem (GB): 11.46; 11.49; 11.49<br>User time (min): 6.11; 8.82; 7.48<br>ARI (%): 99.22; 99.22; 99.22\"], \"mode\": \"markers\", \"marker\": {\"symbol\": \"circle\", \"color\": \"#4daf4a\", \"size\": 11}}, {\"type\": \"scatter\", \"name\": \"e = 1; k = 8; m = 3; t = 1\", \"x\": [8.014666666666667], \"y\": [99.24602921745334], \"text\": [\"e = 1; k = 8; m = 3; t = 1<br>Mem (GB): 11.94; 11.97; 11.97<br>User time (min): 6.27; 8.01; 7.08<br>ARI (%): 99.25; 99.25; 99.25\"], \"mode\": \"markers\", \"marker\": {\"symbol\": \"square\", \"color\": \"#e41a1c\", \"size\": 11}}, {\"type\": \"scatter\", \"name\": \"e = 1; k = 4; m = 6; t = 3\", \"x\": [8.377333333333333], \"y\": [99.3040872497181], \"text\": [\"e = 1; k = 4; m = 6; t = 3<br>Mem (GB): 12.47; 12.52; 12.50<br>User time (min): 7.24; 8.38; 7.86<br>ARI (%): 99.30; 99.31; 99.31\"], \"mode\": \"markers\", \"marker\": {\"symbol\": \"circle\", \"color\": \"#984ea3\", \"size\": 12}}, {\"type\": \"scatter\", \"name\": \"e = 1; k = 4; m = 7; t = 3\", \"x\": [8.697666666666667], \"y\": [99.30896778867334], \"text\": [\"e = 1; k = 4; m = 7; t = 3<br>Mem (GB): 13.09; 13.18; 13.17<br>User time (min): 6.40; 8.70; 7.62<br>ARI (%): 99.31; 99.31; 99.31\"], \"mode\": \"markers\", \"marker\": {\"symbol\": \"circle\", \"color\": \"#ff7f00\", \"size\": 13}}, {\"type\": \"scatter\", \"name\": \"e = 1; k = 4; m = 7; t = 4\", \"x\": [9.252833333333333], \"y\": [99.2961401596347], \"text\": [\"e = 1; k = 4; m = 7; t = 4<br>Mem (GB): 13.04; 13.18; 13.15<br>User time (min): 7.18; 9.25; 7.95<br>ARI (%): 99.30; 99.30; 99.30\"], \"mode\": \"markers\", \"marker\": {\"symbol\": \"circle\", \"color\": \"#ff7f00\", \"size\": 13}}, {\"type\": \"scatter\", \"name\": \"e = 1; k = 4; m = 6; t = 4\", \"x\": [9.957500000000001], \"y\": [99.13022922003142], \"text\": [\"e = 1; k = 4; m = 6; t = 4<br>Mem (GB): 12.40; 12.48; 12.46<br>User time (min): 6.19; 9.96; 7.85<br>ARI (%): 99.13; 99.13; 99.13\"], \"mode\": \"markers\", \"marker\": {\"symbol\": \"circle\", \"color\": \"#984ea3\", \"size\": 12}}, {\"type\": \"scatter\", \"name\": \"e = 1; k = 8; m = 4; t = 1\", \"x\": [8.627833333333333], \"y\": [99.30527702409474], \"text\": [\"e = 1; k = 8; m = 4; t = 1<br>Mem (GB): 12.86; 12.93; 12.92<br>User time (min): 6.49; 8.63; 7.58<br>ARI (%): 99.31; 99.31; 99.31\"], \"mode\": \"markers\", \"marker\": {\"symbol\": \"square\", \"color\": \"#377eb8\", \"size\": 12}}, {\"type\": \"scatter\", \"name\": \"e = 1; k = 8; m = 4; t = 2\", \"x\": [8.561333333333332], \"y\": [99.0797164049278], \"text\": [\"e = 1; k = 8; m = 4; t = 2<br>Mem (GB): 12.84; 12.89; 12.88<br>User time (min): 6.59; 8.56; 7.59<br>ARI (%): 99.08; 99.09; 99.08\"], \"mode\": \"markers\", \"marker\": {\"symbol\": \"square\", \"color\": \"#377eb8\", \"size\": 12}}, {\"type\": \"scatter\", \"name\": \"e = 1; k = 8; m = 6; t = 3\", \"x\": [10.291166666666667], \"y\": [99.25129678671546], \"text\": [\"e = 1; k = 8; m = 6; t = 3<br>Mem (GB): 15.09; 15.13; 15.12<br>User time (min): 7.13; 10.29; 8.76<br>ARI (%): 99.25; 99.26; 99.25\"], \"mode\": \"markers\", \"marker\": {\"symbol\": \"square\", \"color\": \"#984ea3\", \"size\": 15}}, {\"type\": \"scatter\", \"name\": \"e = 1; k = 4; m = 7; t = 2\", \"x\": [10.3825], \"y\": [99.30714976304077], \"text\": [\"e = 1; k = 4; m = 7; t = 2<br>Mem (GB): 13.14; 13.18; 13.17<br>User time (min): 7.53; 10.38; 8.53<br>ARI (%): 99.31; 99.31; 99.31\"], \"mode\": \"markers\", \"marker\": {\"symbol\": \"circle\", \"color\": \"#ff7f00\", \"size\": 13}}, {\"type\": \"scatter\", \"name\": \"e = 1; k = 8; m = 5; t = 2\", \"x\": [10.408333333333333], \"y\": [99.28953777977836], \"text\": [\"e = 1; k = 8; m = 5; t = 2<br>Mem (GB): 13.83; 13.84; 13.83<br>User time (min): 7.31; 10.41; 8.38<br>ARI (%): 99.29; 99.29; 99.29\"], \"mode\": \"markers\", \"marker\": {\"symbol\": \"square\", \"color\": \"#4daf4a\", \"size\": 13}}, {\"type\": \"scatter\", \"name\": \"e = 1; k = 8; m = 6; t = 2\", \"x\": [9.581666666666667], \"y\": [99.30684108907334], \"text\": [\"e = 1; k = 8; m = 6; t = 2<br>Mem (GB): 15.07; 15.14; 15.13<br>User time (min): 7.61; 9.58; 8.50<br>ARI (%): 99.31; 99.31; 99.31\"], \"mode\": \"markers\", \"marker\": {\"symbol\": \"square\", \"color\": \"#984ea3\", \"size\": 15}}, {\"type\": \"scatter\", \"name\": \"e = 1; k = 8; m = 7; t = 2\", \"x\": [9.369833333333334], \"y\": [99.30764806913034], \"text\": [\"e = 1; k = 8; m = 7; t = 2<br>Mem (GB): 15.93; 15.94; 15.93<br>User time (min): 7.52; 9.37; 8.59<br>ARI (%): 99.31; 99.31; 99.31\"], \"mode\": \"markers\", \"marker\": {\"symbol\": \"square\", \"color\": \"#ff7f00\", \"size\": 15}}, {\"type\": \"scatter\", \"name\": \"e = 1; k = 8; m = 7; t = 4\", \"x\": [10.093833333333333], \"y\": [99.17465579573643], \"text\": [\"e = 1; k = 8; m = 7; t = 4<br>Mem (GB): 15.89; 15.90; 15.89<br>User time (min): 7.77; 10.09; 8.68<br>ARI (%): 99.17; 99.18; 99.18\"], \"mode\": \"markers\", \"marker\": {\"symbol\": \"square\", \"color\": \"#ff7f00\", \"size\": 15}}, {\"type\": \"scatter\", \"name\": \"e = 1; k = 8; m = 7; t = 3\", \"x\": [10.219166666666666], \"y\": [99.29952622645175], \"text\": [\"e = 1; k = 8; m = 7; t = 3<br>Mem (GB): 15.92; 15.94; 15.93<br>User time (min): 7.96; 10.22; 8.90<br>ARI (%): 99.30; 99.30; 99.30\"], \"mode\": \"markers\", \"marker\": {\"symbol\": \"square\", \"color\": \"#ff7f00\", \"size\": 15}}, {\"type\": \"scatter\", \"name\": \"e = 2; k = 4; m = 3; t = 2\", \"x\": [56.993500000000004], \"y\": [99.2087632231726], \"text\": [\"e = 2; k = 4; m = 3; t = 2<br>Mem (GB): 12.04; 12.06; 12.05<br>User time (min): 49.30; 56.99; 52.77<br>ARI (%): 99.21; 99.22; 99.22\"], \"mode\": \"markers\", \"marker\": {\"symbol\": \"circle\", \"color\": \"#e41a1c\", \"size\": 12}}, {\"type\": \"scatter\", \"name\": \"e = 2; k = 4; m = 4; t = 1\", \"x\": [61.01933333333333], \"y\": [99.63759475339398], \"text\": [\"e = 2; k = 4; m = 4; t = 1<br>Mem (GB): 13.51; 13.53; 13.53<br>User time (min): 52.38; 61.02; 57.28<br>ARI (%): 99.64; 99.67; 99.65\"], \"mode\": \"markers\", \"marker\": {\"symbol\": \"circle\", \"color\": \"#377eb8\", \"size\": 13}}, {\"type\": \"scatter\", \"name\": \"e = 2; k = 4; m = 4; t = 2\", \"x\": [62.97683333333334], \"y\": [99.93014942405102], \"text\": [\"e = 2; k = 4; m = 4; t = 2<br>Mem (GB): 13.48; 13.50; 13.49<br>User time (min): 52.52; 62.98; 57.55<br>ARI (%): 99.93; 99.93; 99.93\"], \"mode\": \"markers\", \"marker\": {\"symbol\": \"circle\", \"color\": \"#377eb8\", \"size\": 13}}, {\"type\": \"scatter\", \"name\": \"e = 2; k = 4; m = 7; t = 3\", \"x\": [73.75683333333333], \"y\": [99.97117523262827], \"text\": [\"e = 2; k = 4; m = 7; t = 3<br>Mem (GB): 17.16; 17.18; 17.18<br>User time (min): 55.98; 73.76; 65.65<br>ARI (%): 99.97; 99.97; 99.97\"], \"mode\": \"markers\", \"marker\": {\"symbol\": \"circle\", \"color\": \"#ff7f00\", \"size\": 17}}, {\"type\": \"scatter\", \"name\": \"e = 2; k = 4; m = 6; t = 3\", \"x\": [68.83116666666666], \"y\": [99.96626329586053], \"text\": [\"e = 2; k = 4; m = 6; t = 3<br>Mem (GB): 16.02; 16.04; 16.03<br>User time (min): 54.73; 68.83; 60.55<br>ARI (%): 99.97; 99.97; 99.97\"], \"mode\": \"markers\", \"marker\": {\"symbol\": \"circle\", \"color\": \"#984ea3\", \"size\": 16}}, {\"type\": \"scatter\", \"name\": \"e = 2; k = 4; m = 3; t = 1\", \"x\": [68.16199999999999], \"y\": [99.5630493954301], \"text\": [\"e = 2; k = 4; m = 3; t = 1<br>Mem (GB): 12.33; 12.34; 12.34<br>User time (min): 55.66; 68.16; 59.81<br>ARI (%): 99.56; 99.60; 99.58\"], \"mode\": \"markers\", \"marker\": {\"symbol\": \"circle\", \"color\": \"#e41a1c\", \"size\": 12}}, {\"type\": \"scatter\", \"name\": \"e = 2; k = 8; m = 4; t = 1\", \"x\": [66.77483333333333], \"y\": [99.9674806387071], \"text\": [\"e = 2; k = 8; m = 4; t = 1<br>Mem (GB): 17.03; 17.06; 17.05<br>User time (min): 55.33; 66.77; 62.79<br>ARI (%): 99.97; 99.97; 99.97\"], \"mode\": \"markers\", \"marker\": {\"symbol\": \"square\", \"color\": \"#377eb8\", \"size\": 17}}, {\"type\": \"scatter\", \"name\": \"e = 2; k = 4; m = 5; t = 3\", \"x\": [66.10216666666666], \"y\": [99.88002619359911], \"text\": [\"e = 2; k = 4; m = 5; t = 3<br>Mem (GB): 14.51; 14.54; 14.53<br>User time (min): 53.21; 66.10; 61.71<br>ARI (%): 99.88; 99.88; 99.88\"], \"mode\": \"markers\", \"marker\": {\"symbol\": \"circle\", \"color\": \"#4daf4a\", \"size\": 14}}, {\"type\": \"scatter\", \"name\": \"e = 2; k = 4; m = 7; t = 5\", \"x\": [70.04766666666666], \"y\": [99.65796428155033], \"text\": [\"e = 2; k = 4; m = 7; t = 5<br>Mem (GB): 16.92; 16.94; 16.93<br>User time (min): 54.20; 70.05; 60.20<br>ARI (%): 99.66; 99.66; 99.66\"], \"mode\": \"markers\", \"marker\": {\"symbol\": \"circle\", \"color\": \"#ff7f00\", \"size\": 16}}, {\"type\": \"scatter\", \"name\": \"e = 2; k = 8; m = 3; t = 1\", \"x\": [67.50483333333334], \"y\": [99.90825540459612], \"text\": [\"e = 2; k = 8; m = 3; t = 1<br>Mem (GB): 15.35; 15.37; 15.36<br>User time (min): 52.77; 67.50; 61.92<br>ARI (%): 99.91; 99.91; 99.91\"], \"mode\": \"markers\", \"marker\": {\"symbol\": \"square\", \"color\": \"#e41a1c\", \"size\": 15}}, {\"type\": \"scatter\", \"name\": \"e = 2; k = 4; m = 5; t = 2\", \"x\": [65.84833333333333], \"y\": [99.96678951829419], \"text\": [\"e = 2; k = 4; m = 5; t = 2<br>Mem (GB): 14.60; 14.62; 14.61<br>User time (min): 57.95; 65.85; 61.58<br>ARI (%): 99.97; 99.97; 99.97\"], \"mode\": \"markers\", \"marker\": {\"symbol\": \"circle\", \"color\": \"#4daf4a\", \"size\": 14}}, {\"type\": \"scatter\", \"name\": \"e = 2; k = 4; m = 6; t = 4\", \"x\": [65.47116666666666], \"y\": [99.79447256211778], \"text\": [\"e = 2; k = 4; m = 6; t = 4<br>Mem (GB): 15.88; 15.90; 15.89<br>User time (min): 54.09; 65.47; 60.44<br>ARI (%): 99.79; 99.80; 99.80\"], \"mode\": \"markers\", \"marker\": {\"symbol\": \"circle\", \"color\": \"#984ea3\", \"size\": 15}}, {\"type\": \"scatter\", \"name\": \"e = 2; k = 4; m = 6; t = 2\", \"x\": [66.90050000000001], \"y\": [99.96873409342413], \"text\": [\"e = 2; k = 4; m = 6; t = 2<br>Mem (GB): 16.04; 16.05; 16.05<br>User time (min): 53.40; 66.90; 60.81<br>ARI (%): 99.97; 99.97; 99.97\"], \"mode\": \"markers\", \"marker\": {\"symbol\": \"circle\", \"color\": \"#984ea3\", \"size\": 16}}, {\"type\": \"scatter\", \"name\": \"e = 2; k = 8; m = 4; t = 2\", \"x\": [69.24716666666667], \"y\": [99.74493236806003], \"text\": [\"e = 2; k = 8; m = 4; t = 2<br>Mem (GB): 16.87; 16.92; 16.89<br>User time (min): 57.09; 69.25; 65.33<br>ARI (%): 99.74; 99.75; 99.75\"], \"mode\": \"markers\", \"marker\": {\"symbol\": \"square\", \"color\": \"#377eb8\", \"size\": 16}}, {\"type\": \"scatter\", \"name\": \"e = 2; k = 4; m = 7; t = 2\", \"x\": [73.95333333333333], \"y\": [99.96820553125924], \"text\": [\"e = 2; k = 4; m = 7; t = 2<br>Mem (GB): 17.16; 17.18; 17.17<br>User time (min): 58.89; 73.95; 66.38<br>ARI (%): 99.97; 99.97; 99.97\"], \"mode\": \"markers\", \"marker\": {\"symbol\": \"circle\", \"color\": \"#ff7f00\", \"size\": 17}}, {\"type\": \"scatter\", \"name\": \"e = 2; k = 4; m = 7; t = 4\", \"x\": [67.74600000000001], \"y\": [99.95854559112765], \"text\": [\"e = 2; k = 4; m = 7; t = 4<br>Mem (GB): 17.15; 17.16; 17.15<br>User time (min): 57.03; 67.75; 63.12<br>ARI (%): 99.96; 99.96; 99.96\"], \"mode\": \"markers\", \"marker\": {\"symbol\": \"circle\", \"color\": \"#ff7f00\", \"size\": 17}}, {\"type\": \"scatter\", \"name\": \"e = 2; k = 8; m = 6; t = 2\", \"x\": [75.50366666666667], \"y\": [99.96900670990196], \"text\": [\"e = 2; k = 8; m = 6; t = 2<br>Mem (GB): 20.45; 20.48; 20.47<br>User time (min): 63.71; 75.50; 69.82<br>ARI (%): 99.97; 99.97; 99.97\"], \"mode\": \"markers\", \"marker\": {\"symbol\": \"square\", \"color\": \"#984ea3\", \"size\": 20}}, {\"type\": \"scatter\", \"name\": \"e = 2; k = 8; m = 6; t = 3\", \"x\": [76.42983333333333], \"y\": [99.91416138963622], \"text\": [\"e = 2; k = 8; m = 6; t = 3<br>Mem (GB): 20.39; 20.44; 20.41<br>User time (min): 60.17; 76.43; 67.76<br>ARI (%): 99.91; 99.92; 99.91\"], \"mode\": \"markers\", \"marker\": {\"symbol\": \"square\", \"color\": \"#984ea3\", \"size\": 20}}, {\"type\": \"scatter\", \"name\": \"e = 2; k = 8; m = 5; t = 3\", \"x\": [70.30016666666667], \"y\": [99.43610587698987], \"text\": [\"e = 2; k = 8; m = 5; t = 3<br>Mem (GB): 18.25; 18.27; 18.26<br>User time (min): 63.01; 70.30; 65.67<br>ARI (%): 99.44; 99.44; 99.44\"], \"mode\": \"markers\", \"marker\": {\"symbol\": \"square\", \"color\": \"#4daf4a\", \"size\": 18}}, {\"type\": \"scatter\", \"name\": \"e = 2; k = 8; m = 7; t = 3\", \"x\": [76.11], \"y\": [99.96164704156072], \"text\": [\"e = 2; k = 8; m = 7; t = 3<br>Mem (GB): 21.78; 21.80; 21.79<br>User time (min): 70.22; 76.11; 73.57<br>ARI (%): 99.96; 99.96; 99.96\"], \"mode\": \"markers\", \"marker\": {\"symbol\": \"square\", \"color\": \"#ff7f00\", \"size\": 21}}, {\"type\": \"scatter\", \"name\": \"e = 2; k = 8; m = 7; t = 4\", \"x\": [80.01683333333334], \"y\": [99.8385201093637], \"text\": [\"e = 2; k = 8; m = 7; t = 4<br>Mem (GB): 21.65; 21.66; 21.66<br>User time (min): 64.96; 80.02; 73.20<br>ARI (%): 99.84; 99.84; 99.84\"], \"mode\": \"markers\", \"marker\": {\"symbol\": \"square\", \"color\": \"#ff7f00\", \"size\": 21}}, {\"type\": \"scatter\", \"name\": \"e = 2; k = 8; m = 5; t = 2\", \"x\": [71.788], \"y\": [99.95150853065087], \"text\": [\"e = 2; k = 8; m = 5; t = 2<br>Mem (GB): 18.58; 18.60; 18.59<br>User time (min): 61.22; 71.79; 67.38<br>ARI (%): 99.95; 99.95; 99.95\"], \"mode\": \"markers\", \"marker\": {\"symbol\": \"square\", \"color\": \"#4daf4a\", \"size\": 18}}, {\"type\": \"scatter\", \"name\": \"e = 2; k = 8; m = 7; t = 2\", \"x\": [76.93116666666667], \"y\": [99.96972417578243], \"text\": [\"e = 2; k = 8; m = 7; t = 2<br>Mem (GB): 21.80; 21.81; 21.81<br>User time (min): 67.36; 76.93; 72.11<br>ARI (%): 99.97; 99.97; 99.97\"], \"mode\": \"markers\", \"marker\": {\"symbol\": \"square\", \"color\": \"#ff7f00\", \"size\": 21}}], {\"title\": \"Barcode length 12<br>Read length 75\", \"hovermode\": \"closest\", \"font\": {\"size\": 10}, \"xaxis\": {\"title\": \"Time in min\", \"type\": \"log\"}, \"yaxis\": {\"title\": \"ARI score\"}}, {\"showLink\": true, \"linkText\": \"Export to plot.ly\"})});</script>"
      ],
      "text/vnd.plotly.v1+html": [
       "<div id=\"d58614a1-88d9-4a5e-ae1d-e69e96dd2248\" style=\"height: 525px; width: 100%;\" class=\"plotly-graph-div\"></div><script type=\"text/javascript\">require([\"plotly\"], function(Plotly) { window.PLOTLYENV=window.PLOTLYENV || {};window.PLOTLYENV.BASE_URL=\"https://plot.ly\";Plotly.newPlot(\"d58614a1-88d9-4a5e-ae1d-e69e96dd2248\", [{\"type\": \"scatter\", \"name\": \"e = 1; k = 4; m = 4; t = 1\", \"x\": [8.942166666666667], \"y\": [99.13097881746688], \"text\": [\"e = 1; k = 4; m = 4; t = 1<br>Mem (GB): 10.84; 10.86; 10.85<br>User time (min): 5.88; 8.94; 7.09<br>ARI (%): 99.13; 99.15; 99.14\"], \"mode\": \"markers\", \"marker\": {\"symbol\": \"circle\", \"color\": \"#377eb8\", \"size\": 10}}, {\"type\": \"scatter\", \"name\": \"e = 1; k = 4; m = 3; t = 1\", \"x\": [7.7556666666666665], \"y\": [99.08606579130654], \"text\": [\"e = 1; k = 4; m = 3; t = 1<br>Mem (GB): 10.03; 10.13; 10.10<br>User time (min): 6.04; 7.76; 7.15<br>ARI (%): 99.09; 99.11; 99.10\"], \"mode\": \"markers\", \"marker\": {\"symbol\": \"circle\", \"color\": \"#e41a1c\", \"size\": 10}}, {\"type\": \"scatter\", \"name\": \"e = 1; k = 4; m = 4; t = 2\", \"x\": [8.371166666666666], \"y\": [99.268448650687], \"text\": [\"e = 1; k = 4; m = 4; t = 2<br>Mem (GB): 10.81; 10.85; 10.84<br>User time (min): 5.93; 8.37; 7.10<br>ARI (%): 99.27; 99.27; 99.27\"], \"mode\": \"markers\", \"marker\": {\"symbol\": \"circle\", \"color\": \"#377eb8\", \"size\": 10}}, {\"type\": \"scatter\", \"name\": \"e = 1; k = 4; m = 6; t = 2\", \"x\": [8.202333333333334], \"y\": [99.30806343049716], \"text\": [\"e = 1; k = 4; m = 6; t = 2<br>Mem (GB): 12.50; 12.52; 12.51<br>User time (min): 7.11; 8.20; 7.82<br>ARI (%): 99.31; 99.31; 99.31\"], \"mode\": \"markers\", \"marker\": {\"symbol\": \"circle\", \"color\": \"#984ea3\", \"size\": 12}}, {\"type\": \"scatter\", \"name\": \"e = 1; k = 4; m = 5; t = 2\", \"x\": [9.817666666666666], \"y\": [99.30578963291131], \"text\": [\"e = 1; k = 4; m = 5; t = 2<br>Mem (GB): 11.47; 11.52; 11.50<br>User time (min): 5.99; 9.82; 7.82<br>ARI (%): 99.31; 99.31; 99.31\"], \"mode\": \"markers\", \"marker\": {\"symbol\": \"circle\", \"color\": \"#4daf4a\", \"size\": 11}}, {\"type\": \"scatter\", \"name\": \"e = 1; k = 4; m = 5; t = 3\", \"x\": [8.817333333333332], \"y\": [99.21737197331862], \"text\": [\"e = 1; k = 4; m = 5; t = 3<br>Mem (GB): 11.46; 11.49; 11.49<br>User time (min): 6.11; 8.82; 7.48<br>ARI (%): 99.22; 99.22; 99.22\"], \"mode\": \"markers\", \"marker\": {\"symbol\": \"circle\", \"color\": \"#4daf4a\", \"size\": 11}}, {\"type\": \"scatter\", \"name\": \"e = 1; k = 8; m = 3; t = 1\", \"x\": [8.014666666666667], \"y\": [99.24602921745334], \"text\": [\"e = 1; k = 8; m = 3; t = 1<br>Mem (GB): 11.94; 11.97; 11.97<br>User time (min): 6.27; 8.01; 7.08<br>ARI (%): 99.25; 99.25; 99.25\"], \"mode\": \"markers\", \"marker\": {\"symbol\": \"square\", \"color\": \"#e41a1c\", \"size\": 11}}, {\"type\": \"scatter\", \"name\": \"e = 1; k = 4; m = 6; t = 3\", \"x\": [8.377333333333333], \"y\": [99.3040872497181], \"text\": [\"e = 1; k = 4; m = 6; t = 3<br>Mem (GB): 12.47; 12.52; 12.50<br>User time (min): 7.24; 8.38; 7.86<br>ARI (%): 99.30; 99.31; 99.31\"], \"mode\": \"markers\", \"marker\": {\"symbol\": \"circle\", \"color\": \"#984ea3\", \"size\": 12}}, {\"type\": \"scatter\", \"name\": \"e = 1; k = 4; m = 7; t = 3\", \"x\": [8.697666666666667], \"y\": [99.30896778867334], \"text\": [\"e = 1; k = 4; m = 7; t = 3<br>Mem (GB): 13.09; 13.18; 13.17<br>User time (min): 6.40; 8.70; 7.62<br>ARI (%): 99.31; 99.31; 99.31\"], \"mode\": \"markers\", \"marker\": {\"symbol\": \"circle\", \"color\": \"#ff7f00\", \"size\": 13}}, {\"type\": \"scatter\", \"name\": \"e = 1; k = 4; m = 7; t = 4\", \"x\": [9.252833333333333], \"y\": [99.2961401596347], \"text\": [\"e = 1; k = 4; m = 7; t = 4<br>Mem (GB): 13.04; 13.18; 13.15<br>User time (min): 7.18; 9.25; 7.95<br>ARI (%): 99.30; 99.30; 99.30\"], \"mode\": \"markers\", \"marker\": {\"symbol\": \"circle\", \"color\": \"#ff7f00\", \"size\": 13}}, {\"type\": \"scatter\", \"name\": \"e = 1; k = 4; m = 6; t = 4\", \"x\": [9.957500000000001], \"y\": [99.13022922003142], \"text\": [\"e = 1; k = 4; m = 6; t = 4<br>Mem (GB): 12.40; 12.48; 12.46<br>User time (min): 6.19; 9.96; 7.85<br>ARI (%): 99.13; 99.13; 99.13\"], \"mode\": \"markers\", \"marker\": {\"symbol\": \"circle\", \"color\": \"#984ea3\", \"size\": 12}}, {\"type\": \"scatter\", \"name\": \"e = 1; k = 8; m = 4; t = 1\", \"x\": [8.627833333333333], \"y\": [99.30527702409474], \"text\": [\"e = 1; k = 8; m = 4; t = 1<br>Mem (GB): 12.86; 12.93; 12.92<br>User time (min): 6.49; 8.63; 7.58<br>ARI (%): 99.31; 99.31; 99.31\"], \"mode\": \"markers\", \"marker\": {\"symbol\": \"square\", \"color\": \"#377eb8\", \"size\": 12}}, {\"type\": \"scatter\", \"name\": \"e = 1; k = 8; m = 4; t = 2\", \"x\": [8.561333333333332], \"y\": [99.0797164049278], \"text\": [\"e = 1; k = 8; m = 4; t = 2<br>Mem (GB): 12.84; 12.89; 12.88<br>User time (min): 6.59; 8.56; 7.59<br>ARI (%): 99.08; 99.09; 99.08\"], \"mode\": \"markers\", \"marker\": {\"symbol\": \"square\", \"color\": \"#377eb8\", \"size\": 12}}, {\"type\": \"scatter\", \"name\": \"e = 1; k = 8; m = 6; t = 3\", \"x\": [10.291166666666667], \"y\": [99.25129678671546], \"text\": [\"e = 1; k = 8; m = 6; t = 3<br>Mem (GB): 15.09; 15.13; 15.12<br>User time (min): 7.13; 10.29; 8.76<br>ARI (%): 99.25; 99.26; 99.25\"], \"mode\": \"markers\", \"marker\": {\"symbol\": \"square\", \"color\": \"#984ea3\", \"size\": 15}}, {\"type\": \"scatter\", \"name\": \"e = 1; k = 4; m = 7; t = 2\", \"x\": [10.3825], \"y\": [99.30714976304077], \"text\": [\"e = 1; k = 4; m = 7; t = 2<br>Mem (GB): 13.14; 13.18; 13.17<br>User time (min): 7.53; 10.38; 8.53<br>ARI (%): 99.31; 99.31; 99.31\"], \"mode\": \"markers\", \"marker\": {\"symbol\": \"circle\", \"color\": \"#ff7f00\", \"size\": 13}}, {\"type\": \"scatter\", \"name\": \"e = 1; k = 8; m = 5; t = 2\", \"x\": [10.408333333333333], \"y\": [99.28953777977836], \"text\": [\"e = 1; k = 8; m = 5; t = 2<br>Mem (GB): 13.83; 13.84; 13.83<br>User time (min): 7.31; 10.41; 8.38<br>ARI (%): 99.29; 99.29; 99.29\"], \"mode\": \"markers\", \"marker\": {\"symbol\": \"square\", \"color\": \"#4daf4a\", \"size\": 13}}, {\"type\": \"scatter\", \"name\": \"e = 1; k = 8; m = 6; t = 2\", \"x\": [9.581666666666667], \"y\": [99.30684108907334], \"text\": [\"e = 1; k = 8; m = 6; t = 2<br>Mem (GB): 15.07; 15.14; 15.13<br>User time (min): 7.61; 9.58; 8.50<br>ARI (%): 99.31; 99.31; 99.31\"], \"mode\": \"markers\", \"marker\": {\"symbol\": \"square\", \"color\": \"#984ea3\", \"size\": 15}}, {\"type\": \"scatter\", \"name\": \"e = 1; k = 8; m = 7; t = 2\", \"x\": [9.369833333333334], \"y\": [99.30764806913034], \"text\": [\"e = 1; k = 8; m = 7; t = 2<br>Mem (GB): 15.93; 15.94; 15.93<br>User time (min): 7.52; 9.37; 8.59<br>ARI (%): 99.31; 99.31; 99.31\"], \"mode\": \"markers\", \"marker\": {\"symbol\": \"square\", \"color\": \"#ff7f00\", \"size\": 15}}, {\"type\": \"scatter\", \"name\": \"e = 1; k = 8; m = 7; t = 4\", \"x\": [10.093833333333333], \"y\": [99.17465579573643], \"text\": [\"e = 1; k = 8; m = 7; t = 4<br>Mem (GB): 15.89; 15.90; 15.89<br>User time (min): 7.77; 10.09; 8.68<br>ARI (%): 99.17; 99.18; 99.18\"], \"mode\": \"markers\", \"marker\": {\"symbol\": \"square\", \"color\": \"#ff7f00\", \"size\": 15}}, {\"type\": \"scatter\", \"name\": \"e = 1; k = 8; m = 7; t = 3\", \"x\": [10.219166666666666], \"y\": [99.29952622645175], \"text\": [\"e = 1; k = 8; m = 7; t = 3<br>Mem (GB): 15.92; 15.94; 15.93<br>User time (min): 7.96; 10.22; 8.90<br>ARI (%): 99.30; 99.30; 99.30\"], \"mode\": \"markers\", \"marker\": {\"symbol\": \"square\", \"color\": \"#ff7f00\", \"size\": 15}}, {\"type\": \"scatter\", \"name\": \"e = 2; k = 4; m = 3; t = 2\", \"x\": [56.993500000000004], \"y\": [99.2087632231726], \"text\": [\"e = 2; k = 4; m = 3; t = 2<br>Mem (GB): 12.04; 12.06; 12.05<br>User time (min): 49.30; 56.99; 52.77<br>ARI (%): 99.21; 99.22; 99.22\"], \"mode\": \"markers\", \"marker\": {\"symbol\": \"circle\", \"color\": \"#e41a1c\", \"size\": 12}}, {\"type\": \"scatter\", \"name\": \"e = 2; k = 4; m = 4; t = 1\", \"x\": [61.01933333333333], \"y\": [99.63759475339398], \"text\": [\"e = 2; k = 4; m = 4; t = 1<br>Mem (GB): 13.51; 13.53; 13.53<br>User time (min): 52.38; 61.02; 57.28<br>ARI (%): 99.64; 99.67; 99.65\"], \"mode\": \"markers\", \"marker\": {\"symbol\": \"circle\", \"color\": \"#377eb8\", \"size\": 13}}, {\"type\": \"scatter\", \"name\": \"e = 2; k = 4; m = 4; t = 2\", \"x\": [62.97683333333334], \"y\": [99.93014942405102], \"text\": [\"e = 2; k = 4; m = 4; t = 2<br>Mem (GB): 13.48; 13.50; 13.49<br>User time (min): 52.52; 62.98; 57.55<br>ARI (%): 99.93; 99.93; 99.93\"], \"mode\": \"markers\", \"marker\": {\"symbol\": \"circle\", \"color\": \"#377eb8\", \"size\": 13}}, {\"type\": \"scatter\", \"name\": \"e = 2; k = 4; m = 7; t = 3\", \"x\": [73.75683333333333], \"y\": [99.97117523262827], \"text\": [\"e = 2; k = 4; m = 7; t = 3<br>Mem (GB): 17.16; 17.18; 17.18<br>User time (min): 55.98; 73.76; 65.65<br>ARI (%): 99.97; 99.97; 99.97\"], \"mode\": \"markers\", \"marker\": {\"symbol\": \"circle\", \"color\": \"#ff7f00\", \"size\": 17}}, {\"type\": \"scatter\", \"name\": \"e = 2; k = 4; m = 6; t = 3\", \"x\": [68.83116666666666], \"y\": [99.96626329586053], \"text\": [\"e = 2; k = 4; m = 6; t = 3<br>Mem (GB): 16.02; 16.04; 16.03<br>User time (min): 54.73; 68.83; 60.55<br>ARI (%): 99.97; 99.97; 99.97\"], \"mode\": \"markers\", \"marker\": {\"symbol\": \"circle\", \"color\": \"#984ea3\", \"size\": 16}}, {\"type\": \"scatter\", \"name\": \"e = 2; k = 4; m = 3; t = 1\", \"x\": [68.16199999999999], \"y\": [99.5630493954301], \"text\": [\"e = 2; k = 4; m = 3; t = 1<br>Mem (GB): 12.33; 12.34; 12.34<br>User time (min): 55.66; 68.16; 59.81<br>ARI (%): 99.56; 99.60; 99.58\"], \"mode\": \"markers\", \"marker\": {\"symbol\": \"circle\", \"color\": \"#e41a1c\", \"size\": 12}}, {\"type\": \"scatter\", \"name\": \"e = 2; k = 8; m = 4; t = 1\", \"x\": [66.77483333333333], \"y\": [99.9674806387071], \"text\": [\"e = 2; k = 8; m = 4; t = 1<br>Mem (GB): 17.03; 17.06; 17.05<br>User time (min): 55.33; 66.77; 62.79<br>ARI (%): 99.97; 99.97; 99.97\"], \"mode\": \"markers\", \"marker\": {\"symbol\": \"square\", \"color\": \"#377eb8\", \"size\": 17}}, {\"type\": \"scatter\", \"name\": \"e = 2; k = 4; m = 5; t = 3\", \"x\": [66.10216666666666], \"y\": [99.88002619359911], \"text\": [\"e = 2; k = 4; m = 5; t = 3<br>Mem (GB): 14.51; 14.54; 14.53<br>User time (min): 53.21; 66.10; 61.71<br>ARI (%): 99.88; 99.88; 99.88\"], \"mode\": \"markers\", \"marker\": {\"symbol\": \"circle\", \"color\": \"#4daf4a\", \"size\": 14}}, {\"type\": \"scatter\", \"name\": \"e = 2; k = 4; m = 7; t = 5\", \"x\": [70.04766666666666], \"y\": [99.65796428155033], \"text\": [\"e = 2; k = 4; m = 7; t = 5<br>Mem (GB): 16.92; 16.94; 16.93<br>User time (min): 54.20; 70.05; 60.20<br>ARI (%): 99.66; 99.66; 99.66\"], \"mode\": \"markers\", \"marker\": {\"symbol\": \"circle\", \"color\": \"#ff7f00\", \"size\": 16}}, {\"type\": \"scatter\", \"name\": \"e = 2; k = 8; m = 3; t = 1\", \"x\": [67.50483333333334], \"y\": [99.90825540459612], \"text\": [\"e = 2; k = 8; m = 3; t = 1<br>Mem (GB): 15.35; 15.37; 15.36<br>User time (min): 52.77; 67.50; 61.92<br>ARI (%): 99.91; 99.91; 99.91\"], \"mode\": \"markers\", \"marker\": {\"symbol\": \"square\", \"color\": \"#e41a1c\", \"size\": 15}}, {\"type\": \"scatter\", \"name\": \"e = 2; k = 4; m = 5; t = 2\", \"x\": [65.84833333333333], \"y\": [99.96678951829419], \"text\": [\"e = 2; k = 4; m = 5; t = 2<br>Mem (GB): 14.60; 14.62; 14.61<br>User time (min): 57.95; 65.85; 61.58<br>ARI (%): 99.97; 99.97; 99.97\"], \"mode\": \"markers\", \"marker\": {\"symbol\": \"circle\", \"color\": \"#4daf4a\", \"size\": 14}}, {\"type\": \"scatter\", \"name\": \"e = 2; k = 4; m = 6; t = 4\", \"x\": [65.47116666666666], \"y\": [99.79447256211778], \"text\": [\"e = 2; k = 4; m = 6; t = 4<br>Mem (GB): 15.88; 15.90; 15.89<br>User time (min): 54.09; 65.47; 60.44<br>ARI (%): 99.79; 99.80; 99.80\"], \"mode\": \"markers\", \"marker\": {\"symbol\": \"circle\", \"color\": \"#984ea3\", \"size\": 15}}, {\"type\": \"scatter\", \"name\": \"e = 2; k = 4; m = 6; t = 2\", \"x\": [66.90050000000001], \"y\": [99.96873409342413], \"text\": [\"e = 2; k = 4; m = 6; t = 2<br>Mem (GB): 16.04; 16.05; 16.05<br>User time (min): 53.40; 66.90; 60.81<br>ARI (%): 99.97; 99.97; 99.97\"], \"mode\": \"markers\", \"marker\": {\"symbol\": \"circle\", \"color\": \"#984ea3\", \"size\": 16}}, {\"type\": \"scatter\", \"name\": \"e = 2; k = 8; m = 4; t = 2\", \"x\": [69.24716666666667], \"y\": [99.74493236806003], \"text\": [\"e = 2; k = 8; m = 4; t = 2<br>Mem (GB): 16.87; 16.92; 16.89<br>User time (min): 57.09; 69.25; 65.33<br>ARI (%): 99.74; 99.75; 99.75\"], \"mode\": \"markers\", \"marker\": {\"symbol\": \"square\", \"color\": \"#377eb8\", \"size\": 16}}, {\"type\": \"scatter\", \"name\": \"e = 2; k = 4; m = 7; t = 2\", \"x\": [73.95333333333333], \"y\": [99.96820553125924], \"text\": [\"e = 2; k = 4; m = 7; t = 2<br>Mem (GB): 17.16; 17.18; 17.17<br>User time (min): 58.89; 73.95; 66.38<br>ARI (%): 99.97; 99.97; 99.97\"], \"mode\": \"markers\", \"marker\": {\"symbol\": \"circle\", \"color\": \"#ff7f00\", \"size\": 17}}, {\"type\": \"scatter\", \"name\": \"e = 2; k = 4; m = 7; t = 4\", \"x\": [67.74600000000001], \"y\": [99.95854559112765], \"text\": [\"e = 2; k = 4; m = 7; t = 4<br>Mem (GB): 17.15; 17.16; 17.15<br>User time (min): 57.03; 67.75; 63.12<br>ARI (%): 99.96; 99.96; 99.96\"], \"mode\": \"markers\", \"marker\": {\"symbol\": \"circle\", \"color\": \"#ff7f00\", \"size\": 17}}, {\"type\": \"scatter\", \"name\": \"e = 2; k = 8; m = 6; t = 2\", \"x\": [75.50366666666667], \"y\": [99.96900670990196], \"text\": [\"e = 2; k = 8; m = 6; t = 2<br>Mem (GB): 20.45; 20.48; 20.47<br>User time (min): 63.71; 75.50; 69.82<br>ARI (%): 99.97; 99.97; 99.97\"], \"mode\": \"markers\", \"marker\": {\"symbol\": \"square\", \"color\": \"#984ea3\", \"size\": 20}}, {\"type\": \"scatter\", \"name\": \"e = 2; k = 8; m = 6; t = 3\", \"x\": [76.42983333333333], \"y\": [99.91416138963622], \"text\": [\"e = 2; k = 8; m = 6; t = 3<br>Mem (GB): 20.39; 20.44; 20.41<br>User time (min): 60.17; 76.43; 67.76<br>ARI (%): 99.91; 99.92; 99.91\"], \"mode\": \"markers\", \"marker\": {\"symbol\": \"square\", \"color\": \"#984ea3\", \"size\": 20}}, {\"type\": \"scatter\", \"name\": \"e = 2; k = 8; m = 5; t = 3\", \"x\": [70.30016666666667], \"y\": [99.43610587698987], \"text\": [\"e = 2; k = 8; m = 5; t = 3<br>Mem (GB): 18.25; 18.27; 18.26<br>User time (min): 63.01; 70.30; 65.67<br>ARI (%): 99.44; 99.44; 99.44\"], \"mode\": \"markers\", \"marker\": {\"symbol\": \"square\", \"color\": \"#4daf4a\", \"size\": 18}}, {\"type\": \"scatter\", \"name\": \"e = 2; k = 8; m = 7; t = 3\", \"x\": [76.11], \"y\": [99.96164704156072], \"text\": [\"e = 2; k = 8; m = 7; t = 3<br>Mem (GB): 21.78; 21.80; 21.79<br>User time (min): 70.22; 76.11; 73.57<br>ARI (%): 99.96; 99.96; 99.96\"], \"mode\": \"markers\", \"marker\": {\"symbol\": \"square\", \"color\": \"#ff7f00\", \"size\": 21}}, {\"type\": \"scatter\", \"name\": \"e = 2; k = 8; m = 7; t = 4\", \"x\": [80.01683333333334], \"y\": [99.8385201093637], \"text\": [\"e = 2; k = 8; m = 7; t = 4<br>Mem (GB): 21.65; 21.66; 21.66<br>User time (min): 64.96; 80.02; 73.20<br>ARI (%): 99.84; 99.84; 99.84\"], \"mode\": \"markers\", \"marker\": {\"symbol\": \"square\", \"color\": \"#ff7f00\", \"size\": 21}}, {\"type\": \"scatter\", \"name\": \"e = 2; k = 8; m = 5; t = 2\", \"x\": [71.788], \"y\": [99.95150853065087], \"text\": [\"e = 2; k = 8; m = 5; t = 2<br>Mem (GB): 18.58; 18.60; 18.59<br>User time (min): 61.22; 71.79; 67.38<br>ARI (%): 99.95; 99.95; 99.95\"], \"mode\": \"markers\", \"marker\": {\"symbol\": \"square\", \"color\": \"#4daf4a\", \"size\": 18}}, {\"type\": \"scatter\", \"name\": \"e = 2; k = 8; m = 7; t = 2\", \"x\": [76.93116666666667], \"y\": [99.96972417578243], \"text\": [\"e = 2; k = 8; m = 7; t = 2<br>Mem (GB): 21.80; 21.81; 21.81<br>User time (min): 67.36; 76.93; 72.11<br>ARI (%): 99.97; 99.97; 99.97\"], \"mode\": \"markers\", \"marker\": {\"symbol\": \"square\", \"color\": \"#ff7f00\", \"size\": 21}}], {\"title\": \"Barcode length 12<br>Read length 75\", \"hovermode\": \"closest\", \"font\": {\"size\": 10}, \"xaxis\": {\"title\": \"Time in min\", \"type\": \"log\"}, \"yaxis\": {\"title\": \"ARI score\"}}, {\"showLink\": true, \"linkText\": \"Export to plot.ly\"})});</script>"
      ]
     },
     "metadata": {},
     "output_type": "display_data"
    },
    {
     "data": {
      "application/vnd.plotly.v1+json": {
       "data": [
        {
         "marker": {
          "color": "#4daf4a",
          "size": 16,
          "symbol": "circle"
         },
         "mode": "markers",
         "name": "e = 1; k = 4; m = 5; t = 2",
         "text": [
          "e = 1; k = 4; m = 5; t = 2<br>Mem (GB): 16.33; 16.37; 16.35<br>User time (min): 10.03; 11.77; 10.60<br>ARI (%): 99.08; 99.08; 99.08"
         ],
         "type": "scatter",
         "x": [
          11.768166666666668
         ],
         "y": [
          99.077462258947
         ]
        },
        {
         "marker": {
          "color": "#984ea3",
          "size": 17,
          "symbol": "circle"
         },
         "mode": "markers",
         "name": "e = 1; k = 4; m = 6; t = 2",
         "text": [
          "e = 1; k = 4; m = 6; t = 2<br>Mem (GB): 17.96; 18.01; 17.99<br>User time (min): 9.14; 12.14; 10.62<br>ARI (%): 99.10; 99.11; 99.11"
         ],
         "type": "scatter",
         "x": [
          12.138833333333334
         ],
         "y": [
          99.0976650105069
         ]
        },
        {
         "marker": {
          "color": "#984ea3",
          "size": 17,
          "symbol": "circle"
         },
         "mode": "markers",
         "name": "e = 1; k = 4; m = 6; t = 3",
         "text": [
          "e = 1; k = 4; m = 6; t = 3<br>Mem (GB): 17.86; 17.89; 17.87<br>User time (min): 9.97; 11.60; 10.73<br>ARI (%): 99.06; 99.07; 99.06"
         ],
         "type": "scatter",
         "x": [
          11.600166666666667
         ],
         "y": [
          99.05852631253627
         ]
        },
        {
         "marker": {
          "color": "#ff7f00",
          "size": 18,
          "symbol": "circle"
         },
         "mode": "markers",
         "name": "e = 1; k = 4; m = 7; t = 2",
         "text": [
          "e = 1; k = 4; m = 7; t = 2<br>Mem (GB): 18.59; 18.61; 18.60<br>User time (min): 10.28; 12.89; 11.31<br>ARI (%): 99.12; 99.13; 99.13"
         ],
         "type": "scatter",
         "x": [
          12.894833333333334
         ],
         "y": [
          99.12229717413682
         ]
        },
        {
         "marker": {
          "color": "#ff7f00",
          "size": 18,
          "symbol": "circle"
         },
         "mode": "markers",
         "name": "e = 1; k = 4; m = 7; t = 3",
         "text": [
          "e = 1; k = 4; m = 7; t = 3<br>Mem (GB): 18.55; 18.57; 18.56<br>User time (min): 10.83; 12.21; 11.28<br>ARI (%): 99.19; 99.20; 99.19"
         ],
         "type": "scatter",
         "x": [
          12.205166666666665
         ],
         "y": [
          99.1892738707437
         ]
        },
        {
         "marker": {
          "color": "#377eb8",
          "size": 18,
          "symbol": "square"
         },
         "mode": "markers",
         "name": "e = 1; k = 8; m = 4; t = 1",
         "text": [
          "e = 1; k = 8; m = 4; t = 1<br>Mem (GB): 18.36; 18.41; 18.40<br>User time (min): 10.53; 13.46; 11.59<br>ARI (%): 99.09; 99.10; 99.09"
         ],
         "type": "scatter",
         "x": [
          13.463333333333333
         ],
         "y": [
          99.08952523364303
         ]
        },
        {
         "marker": {
          "color": "#ff7f00",
          "size": 20,
          "symbol": "square"
         },
         "mode": "markers",
         "name": "e = 1; k = 8; m = 7; t = 2",
         "text": [
          "e = 1; k = 8; m = 7; t = 2<br>Mem (GB): 20.27; 20.28; 20.28<br>User time (min): 10.83; 13.03; 11.67<br>ARI (%): 99.18; 99.19; 99.18"
         ],
         "type": "scatter",
         "x": [
          13.026666666666667
         ],
         "y": [
          99.18241074355903
         ]
        },
        {
         "marker": {
          "color": "#984ea3",
          "size": 20,
          "symbol": "square"
         },
         "mode": "markers",
         "name": "e = 1; k = 8; m = 6; t = 2",
         "text": [
          "e = 1; k = 8; m = 6; t = 2<br>Mem (GB): 20.02; 20.03; 20.02<br>User time (min): 10.48; 13.42; 12.07<br>ARI (%): 99.06; 99.06; 99.06"
         ],
         "type": "scatter",
         "x": [
          13.418666666666667
         ],
         "y": [
          99.05577805763598
         ]
        },
        {
         "marker": {
          "color": "#377eb8",
          "size": 20,
          "symbol": "circle"
         },
         "mode": "markers",
         "name": "e = 2; k = 4; m = 4; t = 2",
         "text": [
          "e = 2; k = 4; m = 4; t = 2<br>Mem (GB): 20.07; 20.15; 20.10<br>User time (min): 62.14; 74.64; 69.65<br>ARI (%): 99.52; 99.54; 99.53"
         ],
         "type": "scatter",
         "x": [
          74.63783333333335
         ],
         "y": [
          99.52261947138452
         ]
        },
        {
         "marker": {
          "color": "#4daf4a",
          "size": 22,
          "symbol": "circle"
         },
         "mode": "markers",
         "name": "e = 2; k = 4; m = 5; t = 2",
         "text": [
          "e = 2; k = 4; m = 5; t = 2<br>Mem (GB): 22.77; 22.90; 22.84<br>User time (min): 65.67; 84.22; 77.35<br>ARI (%): 99.77; 99.78; 99.78"
         ],
         "type": "scatter",
         "x": [
          84.22116666666668
         ],
         "y": [
          99.77267405090257
         ]
        },
        {
         "marker": {
          "color": "#4daf4a",
          "size": 21,
          "symbol": "circle"
         },
         "mode": "markers",
         "name": "e = 2; k = 4; m = 5; t = 3",
         "text": [
          "e = 2; k = 4; m = 5; t = 3<br>Mem (GB): 21.60; 21.65; 21.62<br>User time (min): 66.98; 87.32; 76.52<br>ARI (%): 99.02; 99.05; 99.04"
         ],
         "type": "scatter",
         "x": [
          87.32483333333333
         ],
         "y": [
          99.02481833598057
         ]
        },
        {
         "marker": {
          "color": "#984ea3",
          "size": 25,
          "symbol": "circle"
         },
         "mode": "markers",
         "name": "e = 2; k = 4; m = 6; t = 2",
         "text": [
          "e = 2; k = 4; m = 6; t = 2<br>Mem (GB): 25.33; 26.00; 25.65<br>User time (min): 70.49; 80.73; 76.39<br>ARI (%): 99.79; 99.81; 99.80"
         ],
         "type": "scatter",
         "x": [
          80.73083333333334
         ],
         "y": [
          99.79054407177837
         ]
        },
        {
         "marker": {
          "color": "#ff7f00",
          "size": 25,
          "symbol": "circle"
         },
         "mode": "markers",
         "name": "e = 2; k = 4; m = 7; t = 4",
         "text": [
          "e = 2; k = 4; m = 7; t = 4<br>Mem (GB): 25.51; 25.86; 25.63<br>User time (min): 73.52; 89.37; 80.95<br>ARI (%): 99.60; 99.61; 99.60"
         ],
         "type": "scatter",
         "x": [
          89.37100000000001
         ],
         "y": [
          99.59762593110865
         ]
        },
        {
         "marker": {
          "color": "#984ea3",
          "size": 24,
          "symbol": "circle"
         },
         "mode": "markers",
         "name": "e = 2; k = 4; m = 6; t = 3",
         "text": [
          "e = 2; k = 4; m = 6; t = 3<br>Mem (GB): 24.87; 25.15; 24.98<br>User time (min): 69.91; 101.72; 81.71<br>ARI (%): 99.82; 99.83; 99.82"
         ],
         "type": "scatter",
         "x": [
          101.7165
         ],
         "y": [
          99.81894707900419
         ]
        },
        {
         "marker": {
          "color": "#ff7f00",
          "size": 26,
          "symbol": "circle"
         },
         "mode": "markers",
         "name": "e = 2; k = 4; m = 7; t = 2",
         "text": [
          "e = 2; k = 4; m = 7; t = 2<br>Mem (GB): 26.39; 27.44; 26.97<br>User time (min): 67.32; 89.07; 80.43<br>ARI (%): 99.82; 99.84; 99.83"
         ],
         "type": "scatter",
         "x": [
          89.06866666666666
         ],
         "y": [
          99.82063775441038
         ]
        },
        {
         "marker": {
          "color": "#e41a1c",
          "size": 23,
          "symbol": "square"
         },
         "mode": "markers",
         "name": "e = 2; k = 8; m = 3; t = 1",
         "text": [
          "e = 2; k = 8; m = 3; t = 1<br>Mem (GB): 23.43; 23.46; 23.45<br>User time (min): 64.53; 83.89; 73.47<br>ARI (%): 99.22; 99.23; 99.23"
         ],
         "type": "scatter",
         "x": [
          83.88933333333333
         ],
         "y": [
          99.22273825359679
         ]
        },
        {
         "marker": {
          "color": "#4daf4a",
          "size": 27,
          "symbol": "square"
         },
         "mode": "markers",
         "name": "e = 2; k = 8; m = 5; t = 2",
         "text": [
          "e = 2; k = 8; m = 5; t = 2<br>Mem (GB): 26.78; 27.36; 27.16<br>User time (min): 72.42; 94.09; 82.18<br>ARI (%): 99.30; 99.30; 99.30"
         ],
         "type": "scatter",
         "x": [
          94.09416666666667
         ],
         "y": [
          99.29597931049027
         ]
        },
        {
         "marker": {
          "color": "#ff7f00",
          "size": 26,
          "symbol": "circle"
         },
         "mode": "markers",
         "name": "e = 2; k = 4; m = 7; t = 3",
         "text": [
          "e = 2; k = 4; m = 7; t = 3<br>Mem (GB): 26.28; 27.09; 26.64<br>User time (min): 72.32; 88.34; 80.65<br>ARI (%): 99.94; 99.94; 99.94"
         ],
         "type": "scatter",
         "x": [
          88.33616666666667
         ],
         "y": [
          99.94170308238613
         ]
        },
        {
         "marker": {
          "color": "#377eb8",
          "size": 26,
          "symbol": "square"
         },
         "mode": "markers",
         "name": "e = 2; k = 8; m = 4; t = 1",
         "text": [
          "e = 2; k = 8; m = 4; t = 1<br>Mem (GB): 26.28; 27.14; 26.68<br>User time (min): 72.42; 84.20; 79.34<br>ARI (%): 99.85; 99.85; 99.85"
         ],
         "type": "scatter",
         "x": [
          84.20066666666666
         ],
         "y": [
          99.84747099223661
         ]
        },
        {
         "marker": {
          "color": "#984ea3",
          "size": 29,
          "symbol": "square"
         },
         "mode": "markers",
         "name": "e = 2; k = 8; m = 6; t = 2",
         "text": [
          "e = 2; k = 8; m = 6; t = 2<br>Mem (GB): 29.32; 29.91; 29.58<br>User time (min): 70.40; 87.32; 79.23<br>ARI (%): 99.82; 99.82; 99.82"
         ],
         "type": "scatter",
         "x": [
          87.32033333333334
         ],
         "y": [
          99.81619093024908
         ]
        },
        {
         "marker": {
          "color": "#ff7f00",
          "size": 28,
          "symbol": "square"
         },
         "mode": "markers",
         "name": "e = 2; k = 8; m = 7; t = 3",
         "text": [
          "e = 2; k = 8; m = 7; t = 3<br>Mem (GB): 28.36; 29.25; 28.93<br>User time (min): 71.27; 88.26; 81.58<br>ARI (%): 99.47; 99.47; 99.47"
         ],
         "type": "scatter",
         "x": [
          88.25533333333333
         ],
         "y": [
          99.46885516899226
         ]
        },
        {
         "marker": {
          "color": "#ff7f00",
          "size": 30,
          "symbol": "square"
         },
         "mode": "markers",
         "name": "e = 2; k = 8; m = 7; t = 2",
         "text": [
          "e = 2; k = 8; m = 7; t = 2<br>Mem (GB): 29.28; 30.84; 30.22<br>User time (min): 81.52; 90.92; 86.80<br>ARI (%): 99.94; 99.94; 99.94"
         ],
         "type": "scatter",
         "x": [
          90.92133333333332
         ],
         "y": [
          99.93639713447624
         ]
        }
       ],
       "layout": {
        "font": {
         "size": 10
        },
        "hovermode": "closest",
        "title": "Barcode length 12<br>Read length 150",
        "xaxis": {
         "title": "Time in min",
         "type": "log"
        },
        "yaxis": {
         "title": "ARI score"
        }
       }
      },
      "text/html": [
       "<div id=\"d6c97302-4a43-449a-8ab9-32e761f26d7a\" style=\"height: 525px; width: 100%;\" class=\"plotly-graph-div\"></div><script type=\"text/javascript\">require([\"plotly\"], function(Plotly) { window.PLOTLYENV=window.PLOTLYENV || {};window.PLOTLYENV.BASE_URL=\"https://plot.ly\";Plotly.newPlot(\"d6c97302-4a43-449a-8ab9-32e761f26d7a\", [{\"type\": \"scatter\", \"name\": \"e = 1; k = 4; m = 5; t = 2\", \"x\": [11.768166666666668], \"y\": [99.077462258947], \"text\": [\"e = 1; k = 4; m = 5; t = 2<br>Mem (GB): 16.33; 16.37; 16.35<br>User time (min): 10.03; 11.77; 10.60<br>ARI (%): 99.08; 99.08; 99.08\"], \"mode\": \"markers\", \"marker\": {\"symbol\": \"circle\", \"color\": \"#4daf4a\", \"size\": 16}}, {\"type\": \"scatter\", \"name\": \"e = 1; k = 4; m = 6; t = 2\", \"x\": [12.138833333333334], \"y\": [99.0976650105069], \"text\": [\"e = 1; k = 4; m = 6; t = 2<br>Mem (GB): 17.96; 18.01; 17.99<br>User time (min): 9.14; 12.14; 10.62<br>ARI (%): 99.10; 99.11; 99.11\"], \"mode\": \"markers\", \"marker\": {\"symbol\": \"circle\", \"color\": \"#984ea3\", \"size\": 17}}, {\"type\": \"scatter\", \"name\": \"e = 1; k = 4; m = 6; t = 3\", \"x\": [11.600166666666667], \"y\": [99.05852631253627], \"text\": [\"e = 1; k = 4; m = 6; t = 3<br>Mem (GB): 17.86; 17.89; 17.87<br>User time (min): 9.97; 11.60; 10.73<br>ARI (%): 99.06; 99.07; 99.06\"], \"mode\": \"markers\", \"marker\": {\"symbol\": \"circle\", \"color\": \"#984ea3\", \"size\": 17}}, {\"type\": \"scatter\", \"name\": \"e = 1; k = 4; m = 7; t = 2\", \"x\": [12.894833333333334], \"y\": [99.12229717413682], \"text\": [\"e = 1; k = 4; m = 7; t = 2<br>Mem (GB): 18.59; 18.61; 18.60<br>User time (min): 10.28; 12.89; 11.31<br>ARI (%): 99.12; 99.13; 99.13\"], \"mode\": \"markers\", \"marker\": {\"symbol\": \"circle\", \"color\": \"#ff7f00\", \"size\": 18}}, {\"type\": \"scatter\", \"name\": \"e = 1; k = 4; m = 7; t = 3\", \"x\": [12.205166666666665], \"y\": [99.1892738707437], \"text\": [\"e = 1; k = 4; m = 7; t = 3<br>Mem (GB): 18.55; 18.57; 18.56<br>User time (min): 10.83; 12.21; 11.28<br>ARI (%): 99.19; 99.20; 99.19\"], \"mode\": \"markers\", \"marker\": {\"symbol\": \"circle\", \"color\": \"#ff7f00\", \"size\": 18}}, {\"type\": \"scatter\", \"name\": \"e = 1; k = 8; m = 4; t = 1\", \"x\": [13.463333333333333], \"y\": [99.08952523364303], \"text\": [\"e = 1; k = 8; m = 4; t = 1<br>Mem (GB): 18.36; 18.41; 18.40<br>User time (min): 10.53; 13.46; 11.59<br>ARI (%): 99.09; 99.10; 99.09\"], \"mode\": \"markers\", \"marker\": {\"symbol\": \"square\", \"color\": \"#377eb8\", \"size\": 18}}, {\"type\": \"scatter\", \"name\": \"e = 1; k = 8; m = 7; t = 2\", \"x\": [13.026666666666667], \"y\": [99.18241074355903], \"text\": [\"e = 1; k = 8; m = 7; t = 2<br>Mem (GB): 20.27; 20.28; 20.28<br>User time (min): 10.83; 13.03; 11.67<br>ARI (%): 99.18; 99.19; 99.18\"], \"mode\": \"markers\", \"marker\": {\"symbol\": \"square\", \"color\": \"#ff7f00\", \"size\": 20}}, {\"type\": \"scatter\", \"name\": \"e = 1; k = 8; m = 6; t = 2\", \"x\": [13.418666666666667], \"y\": [99.05577805763598], \"text\": [\"e = 1; k = 8; m = 6; t = 2<br>Mem (GB): 20.02; 20.03; 20.02<br>User time (min): 10.48; 13.42; 12.07<br>ARI (%): 99.06; 99.06; 99.06\"], \"mode\": \"markers\", \"marker\": {\"symbol\": \"square\", \"color\": \"#984ea3\", \"size\": 20}}, {\"type\": \"scatter\", \"name\": \"e = 2; k = 4; m = 4; t = 2\", \"x\": [74.63783333333335], \"y\": [99.52261947138452], \"text\": [\"e = 2; k = 4; m = 4; t = 2<br>Mem (GB): 20.07; 20.15; 20.10<br>User time (min): 62.14; 74.64; 69.65<br>ARI (%): 99.52; 99.54; 99.53\"], \"mode\": \"markers\", \"marker\": {\"symbol\": \"circle\", \"color\": \"#377eb8\", \"size\": 20}}, {\"type\": \"scatter\", \"name\": \"e = 2; k = 4; m = 5; t = 2\", \"x\": [84.22116666666668], \"y\": [99.77267405090257], \"text\": [\"e = 2; k = 4; m = 5; t = 2<br>Mem (GB): 22.77; 22.90; 22.84<br>User time (min): 65.67; 84.22; 77.35<br>ARI (%): 99.77; 99.78; 99.78\"], \"mode\": \"markers\", \"marker\": {\"symbol\": \"circle\", \"color\": \"#4daf4a\", \"size\": 22}}, {\"type\": \"scatter\", \"name\": \"e = 2; k = 4; m = 5; t = 3\", \"x\": [87.32483333333333], \"y\": [99.02481833598057], \"text\": [\"e = 2; k = 4; m = 5; t = 3<br>Mem (GB): 21.60; 21.65; 21.62<br>User time (min): 66.98; 87.32; 76.52<br>ARI (%): 99.02; 99.05; 99.04\"], \"mode\": \"markers\", \"marker\": {\"symbol\": \"circle\", \"color\": \"#4daf4a\", \"size\": 21}}, {\"type\": \"scatter\", \"name\": \"e = 2; k = 4; m = 6; t = 2\", \"x\": [80.73083333333334], \"y\": [99.79054407177837], \"text\": [\"e = 2; k = 4; m = 6; t = 2<br>Mem (GB): 25.33; 26.00; 25.65<br>User time (min): 70.49; 80.73; 76.39<br>ARI (%): 99.79; 99.81; 99.80\"], \"mode\": \"markers\", \"marker\": {\"symbol\": \"circle\", \"color\": \"#984ea3\", \"size\": 25}}, {\"type\": \"scatter\", \"name\": \"e = 2; k = 4; m = 7; t = 4\", \"x\": [89.37100000000001], \"y\": [99.59762593110865], \"text\": [\"e = 2; k = 4; m = 7; t = 4<br>Mem (GB): 25.51; 25.86; 25.63<br>User time (min): 73.52; 89.37; 80.95<br>ARI (%): 99.60; 99.61; 99.60\"], \"mode\": \"markers\", \"marker\": {\"symbol\": \"circle\", \"color\": \"#ff7f00\", \"size\": 25}}, {\"type\": \"scatter\", \"name\": \"e = 2; k = 4; m = 6; t = 3\", \"x\": [101.7165], \"y\": [99.81894707900419], \"text\": [\"e = 2; k = 4; m = 6; t = 3<br>Mem (GB): 24.87; 25.15; 24.98<br>User time (min): 69.91; 101.72; 81.71<br>ARI (%): 99.82; 99.83; 99.82\"], \"mode\": \"markers\", \"marker\": {\"symbol\": \"circle\", \"color\": \"#984ea3\", \"size\": 24}}, {\"type\": \"scatter\", \"name\": \"e = 2; k = 4; m = 7; t = 2\", \"x\": [89.06866666666666], \"y\": [99.82063775441038], \"text\": [\"e = 2; k = 4; m = 7; t = 2<br>Mem (GB): 26.39; 27.44; 26.97<br>User time (min): 67.32; 89.07; 80.43<br>ARI (%): 99.82; 99.84; 99.83\"], \"mode\": \"markers\", \"marker\": {\"symbol\": \"circle\", \"color\": \"#ff7f00\", \"size\": 26}}, {\"type\": \"scatter\", \"name\": \"e = 2; k = 8; m = 3; t = 1\", \"x\": [83.88933333333333], \"y\": [99.22273825359679], \"text\": [\"e = 2; k = 8; m = 3; t = 1<br>Mem (GB): 23.43; 23.46; 23.45<br>User time (min): 64.53; 83.89; 73.47<br>ARI (%): 99.22; 99.23; 99.23\"], \"mode\": \"markers\", \"marker\": {\"symbol\": \"square\", \"color\": \"#e41a1c\", \"size\": 23}}, {\"type\": \"scatter\", \"name\": \"e = 2; k = 8; m = 5; t = 2\", \"x\": [94.09416666666667], \"y\": [99.29597931049027], \"text\": [\"e = 2; k = 8; m = 5; t = 2<br>Mem (GB): 26.78; 27.36; 27.16<br>User time (min): 72.42; 94.09; 82.18<br>ARI (%): 99.30; 99.30; 99.30\"], \"mode\": \"markers\", \"marker\": {\"symbol\": \"square\", \"color\": \"#4daf4a\", \"size\": 27}}, {\"type\": \"scatter\", \"name\": \"e = 2; k = 4; m = 7; t = 3\", \"x\": [88.33616666666667], \"y\": [99.94170308238613], \"text\": [\"e = 2; k = 4; m = 7; t = 3<br>Mem (GB): 26.28; 27.09; 26.64<br>User time (min): 72.32; 88.34; 80.65<br>ARI (%): 99.94; 99.94; 99.94\"], \"mode\": \"markers\", \"marker\": {\"symbol\": \"circle\", \"color\": \"#ff7f00\", \"size\": 26}}, {\"type\": \"scatter\", \"name\": \"e = 2; k = 8; m = 4; t = 1\", \"x\": [84.20066666666666], \"y\": [99.84747099223661], \"text\": [\"e = 2; k = 8; m = 4; t = 1<br>Mem (GB): 26.28; 27.14; 26.68<br>User time (min): 72.42; 84.20; 79.34<br>ARI (%): 99.85; 99.85; 99.85\"], \"mode\": \"markers\", \"marker\": {\"symbol\": \"square\", \"color\": \"#377eb8\", \"size\": 26}}, {\"type\": \"scatter\", \"name\": \"e = 2; k = 8; m = 6; t = 2\", \"x\": [87.32033333333334], \"y\": [99.81619093024908], \"text\": [\"e = 2; k = 8; m = 6; t = 2<br>Mem (GB): 29.32; 29.91; 29.58<br>User time (min): 70.40; 87.32; 79.23<br>ARI (%): 99.82; 99.82; 99.82\"], \"mode\": \"markers\", \"marker\": {\"symbol\": \"square\", \"color\": \"#984ea3\", \"size\": 29}}, {\"type\": \"scatter\", \"name\": \"e = 2; k = 8; m = 7; t = 3\", \"x\": [88.25533333333333], \"y\": [99.46885516899226], \"text\": [\"e = 2; k = 8; m = 7; t = 3<br>Mem (GB): 28.36; 29.25; 28.93<br>User time (min): 71.27; 88.26; 81.58<br>ARI (%): 99.47; 99.47; 99.47\"], \"mode\": \"markers\", \"marker\": {\"symbol\": \"square\", \"color\": \"#ff7f00\", \"size\": 28}}, {\"type\": \"scatter\", \"name\": \"e = 2; k = 8; m = 7; t = 2\", \"x\": [90.92133333333332], \"y\": [99.93639713447624], \"text\": [\"e = 2; k = 8; m = 7; t = 2<br>Mem (GB): 29.28; 30.84; 30.22<br>User time (min): 81.52; 90.92; 86.80<br>ARI (%): 99.94; 99.94; 99.94\"], \"mode\": \"markers\", \"marker\": {\"symbol\": \"square\", \"color\": \"#ff7f00\", \"size\": 30}}], {\"title\": \"Barcode length 12<br>Read length 150\", \"hovermode\": \"closest\", \"font\": {\"size\": 10}, \"xaxis\": {\"title\": \"Time in min\", \"type\": \"log\"}, \"yaxis\": {\"title\": \"ARI score\"}}, {\"showLink\": true, \"linkText\": \"Export to plot.ly\"})});</script>"
      ],
      "text/vnd.plotly.v1+html": [
       "<div id=\"d6c97302-4a43-449a-8ab9-32e761f26d7a\" style=\"height: 525px; width: 100%;\" class=\"plotly-graph-div\"></div><script type=\"text/javascript\">require([\"plotly\"], function(Plotly) { window.PLOTLYENV=window.PLOTLYENV || {};window.PLOTLYENV.BASE_URL=\"https://plot.ly\";Plotly.newPlot(\"d6c97302-4a43-449a-8ab9-32e761f26d7a\", [{\"type\": \"scatter\", \"name\": \"e = 1; k = 4; m = 5; t = 2\", \"x\": [11.768166666666668], \"y\": [99.077462258947], \"text\": [\"e = 1; k = 4; m = 5; t = 2<br>Mem (GB): 16.33; 16.37; 16.35<br>User time (min): 10.03; 11.77; 10.60<br>ARI (%): 99.08; 99.08; 99.08\"], \"mode\": \"markers\", \"marker\": {\"symbol\": \"circle\", \"color\": \"#4daf4a\", \"size\": 16}}, {\"type\": \"scatter\", \"name\": \"e = 1; k = 4; m = 6; t = 2\", \"x\": [12.138833333333334], \"y\": [99.0976650105069], \"text\": [\"e = 1; k = 4; m = 6; t = 2<br>Mem (GB): 17.96; 18.01; 17.99<br>User time (min): 9.14; 12.14; 10.62<br>ARI (%): 99.10; 99.11; 99.11\"], \"mode\": \"markers\", \"marker\": {\"symbol\": \"circle\", \"color\": \"#984ea3\", \"size\": 17}}, {\"type\": \"scatter\", \"name\": \"e = 1; k = 4; m = 6; t = 3\", \"x\": [11.600166666666667], \"y\": [99.05852631253627], \"text\": [\"e = 1; k = 4; m = 6; t = 3<br>Mem (GB): 17.86; 17.89; 17.87<br>User time (min): 9.97; 11.60; 10.73<br>ARI (%): 99.06; 99.07; 99.06\"], \"mode\": \"markers\", \"marker\": {\"symbol\": \"circle\", \"color\": \"#984ea3\", \"size\": 17}}, {\"type\": \"scatter\", \"name\": \"e = 1; k = 4; m = 7; t = 2\", \"x\": [12.894833333333334], \"y\": [99.12229717413682], \"text\": [\"e = 1; k = 4; m = 7; t = 2<br>Mem (GB): 18.59; 18.61; 18.60<br>User time (min): 10.28; 12.89; 11.31<br>ARI (%): 99.12; 99.13; 99.13\"], \"mode\": \"markers\", \"marker\": {\"symbol\": \"circle\", \"color\": \"#ff7f00\", \"size\": 18}}, {\"type\": \"scatter\", \"name\": \"e = 1; k = 4; m = 7; t = 3\", \"x\": [12.205166666666665], \"y\": [99.1892738707437], \"text\": [\"e = 1; k = 4; m = 7; t = 3<br>Mem (GB): 18.55; 18.57; 18.56<br>User time (min): 10.83; 12.21; 11.28<br>ARI (%): 99.19; 99.20; 99.19\"], \"mode\": \"markers\", \"marker\": {\"symbol\": \"circle\", \"color\": \"#ff7f00\", \"size\": 18}}, {\"type\": \"scatter\", \"name\": \"e = 1; k = 8; m = 4; t = 1\", \"x\": [13.463333333333333], \"y\": [99.08952523364303], \"text\": [\"e = 1; k = 8; m = 4; t = 1<br>Mem (GB): 18.36; 18.41; 18.40<br>User time (min): 10.53; 13.46; 11.59<br>ARI (%): 99.09; 99.10; 99.09\"], \"mode\": \"markers\", \"marker\": {\"symbol\": \"square\", \"color\": \"#377eb8\", \"size\": 18}}, {\"type\": \"scatter\", \"name\": \"e = 1; k = 8; m = 7; t = 2\", \"x\": [13.026666666666667], \"y\": [99.18241074355903], \"text\": [\"e = 1; k = 8; m = 7; t = 2<br>Mem (GB): 20.27; 20.28; 20.28<br>User time (min): 10.83; 13.03; 11.67<br>ARI (%): 99.18; 99.19; 99.18\"], \"mode\": \"markers\", \"marker\": {\"symbol\": \"square\", \"color\": \"#ff7f00\", \"size\": 20}}, {\"type\": \"scatter\", \"name\": \"e = 1; k = 8; m = 6; t = 2\", \"x\": [13.418666666666667], \"y\": [99.05577805763598], \"text\": [\"e = 1; k = 8; m = 6; t = 2<br>Mem (GB): 20.02; 20.03; 20.02<br>User time (min): 10.48; 13.42; 12.07<br>ARI (%): 99.06; 99.06; 99.06\"], \"mode\": \"markers\", \"marker\": {\"symbol\": \"square\", \"color\": \"#984ea3\", \"size\": 20}}, {\"type\": \"scatter\", \"name\": \"e = 2; k = 4; m = 4; t = 2\", \"x\": [74.63783333333335], \"y\": [99.52261947138452], \"text\": [\"e = 2; k = 4; m = 4; t = 2<br>Mem (GB): 20.07; 20.15; 20.10<br>User time (min): 62.14; 74.64; 69.65<br>ARI (%): 99.52; 99.54; 99.53\"], \"mode\": \"markers\", \"marker\": {\"symbol\": \"circle\", \"color\": \"#377eb8\", \"size\": 20}}, {\"type\": \"scatter\", \"name\": \"e = 2; k = 4; m = 5; t = 2\", \"x\": [84.22116666666668], \"y\": [99.77267405090257], \"text\": [\"e = 2; k = 4; m = 5; t = 2<br>Mem (GB): 22.77; 22.90; 22.84<br>User time (min): 65.67; 84.22; 77.35<br>ARI (%): 99.77; 99.78; 99.78\"], \"mode\": \"markers\", \"marker\": {\"symbol\": \"circle\", \"color\": \"#4daf4a\", \"size\": 22}}, {\"type\": \"scatter\", \"name\": \"e = 2; k = 4; m = 5; t = 3\", \"x\": [87.32483333333333], \"y\": [99.02481833598057], \"text\": [\"e = 2; k = 4; m = 5; t = 3<br>Mem (GB): 21.60; 21.65; 21.62<br>User time (min): 66.98; 87.32; 76.52<br>ARI (%): 99.02; 99.05; 99.04\"], \"mode\": \"markers\", \"marker\": {\"symbol\": \"circle\", \"color\": \"#4daf4a\", \"size\": 21}}, {\"type\": \"scatter\", \"name\": \"e = 2; k = 4; m = 6; t = 2\", \"x\": [80.73083333333334], \"y\": [99.79054407177837], \"text\": [\"e = 2; k = 4; m = 6; t = 2<br>Mem (GB): 25.33; 26.00; 25.65<br>User time (min): 70.49; 80.73; 76.39<br>ARI (%): 99.79; 99.81; 99.80\"], \"mode\": \"markers\", \"marker\": {\"symbol\": \"circle\", \"color\": \"#984ea3\", \"size\": 25}}, {\"type\": \"scatter\", \"name\": \"e = 2; k = 4; m = 7; t = 4\", \"x\": [89.37100000000001], \"y\": [99.59762593110865], \"text\": [\"e = 2; k = 4; m = 7; t = 4<br>Mem (GB): 25.51; 25.86; 25.63<br>User time (min): 73.52; 89.37; 80.95<br>ARI (%): 99.60; 99.61; 99.60\"], \"mode\": \"markers\", \"marker\": {\"symbol\": \"circle\", \"color\": \"#ff7f00\", \"size\": 25}}, {\"type\": \"scatter\", \"name\": \"e = 2; k = 4; m = 6; t = 3\", \"x\": [101.7165], \"y\": [99.81894707900419], \"text\": [\"e = 2; k = 4; m = 6; t = 3<br>Mem (GB): 24.87; 25.15; 24.98<br>User time (min): 69.91; 101.72; 81.71<br>ARI (%): 99.82; 99.83; 99.82\"], \"mode\": \"markers\", \"marker\": {\"symbol\": \"circle\", \"color\": \"#984ea3\", \"size\": 24}}, {\"type\": \"scatter\", \"name\": \"e = 2; k = 4; m = 7; t = 2\", \"x\": [89.06866666666666], \"y\": [99.82063775441038], \"text\": [\"e = 2; k = 4; m = 7; t = 2<br>Mem (GB): 26.39; 27.44; 26.97<br>User time (min): 67.32; 89.07; 80.43<br>ARI (%): 99.82; 99.84; 99.83\"], \"mode\": \"markers\", \"marker\": {\"symbol\": \"circle\", \"color\": \"#ff7f00\", \"size\": 26}}, {\"type\": \"scatter\", \"name\": \"e = 2; k = 8; m = 3; t = 1\", \"x\": [83.88933333333333], \"y\": [99.22273825359679], \"text\": [\"e = 2; k = 8; m = 3; t = 1<br>Mem (GB): 23.43; 23.46; 23.45<br>User time (min): 64.53; 83.89; 73.47<br>ARI (%): 99.22; 99.23; 99.23\"], \"mode\": \"markers\", \"marker\": {\"symbol\": \"square\", \"color\": \"#e41a1c\", \"size\": 23}}, {\"type\": \"scatter\", \"name\": \"e = 2; k = 8; m = 5; t = 2\", \"x\": [94.09416666666667], \"y\": [99.29597931049027], \"text\": [\"e = 2; k = 8; m = 5; t = 2<br>Mem (GB): 26.78; 27.36; 27.16<br>User time (min): 72.42; 94.09; 82.18<br>ARI (%): 99.30; 99.30; 99.30\"], \"mode\": \"markers\", \"marker\": {\"symbol\": \"square\", \"color\": \"#4daf4a\", \"size\": 27}}, {\"type\": \"scatter\", \"name\": \"e = 2; k = 4; m = 7; t = 3\", \"x\": [88.33616666666667], \"y\": [99.94170308238613], \"text\": [\"e = 2; k = 4; m = 7; t = 3<br>Mem (GB): 26.28; 27.09; 26.64<br>User time (min): 72.32; 88.34; 80.65<br>ARI (%): 99.94; 99.94; 99.94\"], \"mode\": \"markers\", \"marker\": {\"symbol\": \"circle\", \"color\": \"#ff7f00\", \"size\": 26}}, {\"type\": \"scatter\", \"name\": \"e = 2; k = 8; m = 4; t = 1\", \"x\": [84.20066666666666], \"y\": [99.84747099223661], \"text\": [\"e = 2; k = 8; m = 4; t = 1<br>Mem (GB): 26.28; 27.14; 26.68<br>User time (min): 72.42; 84.20; 79.34<br>ARI (%): 99.85; 99.85; 99.85\"], \"mode\": \"markers\", \"marker\": {\"symbol\": \"square\", \"color\": \"#377eb8\", \"size\": 26}}, {\"type\": \"scatter\", \"name\": \"e = 2; k = 8; m = 6; t = 2\", \"x\": [87.32033333333334], \"y\": [99.81619093024908], \"text\": [\"e = 2; k = 8; m = 6; t = 2<br>Mem (GB): 29.32; 29.91; 29.58<br>User time (min): 70.40; 87.32; 79.23<br>ARI (%): 99.82; 99.82; 99.82\"], \"mode\": \"markers\", \"marker\": {\"symbol\": \"square\", \"color\": \"#984ea3\", \"size\": 29}}, {\"type\": \"scatter\", \"name\": \"e = 2; k = 8; m = 7; t = 3\", \"x\": [88.25533333333333], \"y\": [99.46885516899226], \"text\": [\"e = 2; k = 8; m = 7; t = 3<br>Mem (GB): 28.36; 29.25; 28.93<br>User time (min): 71.27; 88.26; 81.58<br>ARI (%): 99.47; 99.47; 99.47\"], \"mode\": \"markers\", \"marker\": {\"symbol\": \"square\", \"color\": \"#ff7f00\", \"size\": 28}}, {\"type\": \"scatter\", \"name\": \"e = 2; k = 8; m = 7; t = 2\", \"x\": [90.92133333333332], \"y\": [99.93639713447624], \"text\": [\"e = 2; k = 8; m = 7; t = 2<br>Mem (GB): 29.28; 30.84; 30.22<br>User time (min): 81.52; 90.92; 86.80<br>ARI (%): 99.94; 99.94; 99.94\"], \"mode\": \"markers\", \"marker\": {\"symbol\": \"square\", \"color\": \"#ff7f00\", \"size\": 30}}], {\"title\": \"Barcode length 12<br>Read length 150\", \"hovermode\": \"closest\", \"font\": {\"size\": 10}, \"xaxis\": {\"title\": \"Time in min\", \"type\": \"log\"}, \"yaxis\": {\"title\": \"ARI score\"}}, {\"showLink\": true, \"linkText\": \"Export to plot.ly\"})});</script>"
      ]
     },
     "metadata": {},
     "output_type": "display_data"
    },
    {
     "data": {
      "application/vnd.plotly.v1+json": {
       "data": [
        {
         "marker": {
          "color": "#e41a1c",
          "size": 7,
          "symbol": "circle"
         },
         "mode": "markers",
         "name": "e = 1; k = 4; m = 3; t = 2",
         "text": [
          "e = 1; k = 4; m = 3; t = 2<br>Mem (GB): 7.70; 7.75; 7.72<br>User time (min): 5.04; 6.61; 5.78<br>ARI (%): 99.10; 99.12; 99.11"
         ],
         "type": "scatter",
         "x": [
          6.610833333333333
         ],
         "y": [
          99.10274172011889
         ]
        },
        {
         "marker": {
          "color": "#377eb8",
          "size": 8,
          "symbol": "circle"
         },
         "mode": "markers",
         "name": "e = 1; k = 4; m = 4; t = 2",
         "text": [
          "e = 1; k = 4; m = 4; t = 2<br>Mem (GB): 8.72; 8.79; 8.75<br>User time (min): 5.47; 6.70; 5.93<br>ARI (%): 99.46; 99.48; 99.47"
         ],
         "type": "scatter",
         "x": [
          6.7043333333333335
         ],
         "y": [
          99.45989990413374
         ]
        },
        {
         "marker": {
          "color": "#4daf4a",
          "size": 9,
          "symbol": "circle"
         },
         "mode": "markers",
         "name": "e = 1; k = 4; m = 5; t = 3",
         "text": [
          "e = 1; k = 4; m = 5; t = 3<br>Mem (GB): 9.60; 9.71; 9.66<br>User time (min): 6.18; 7.09; 6.66<br>ARI (%): 99.61; 99.61; 99.61"
         ],
         "type": "scatter",
         "x": [
          7.092
         ],
         "y": [
          99.60875233144922
         ]
        },
        {
         "marker": {
          "color": "#984ea3",
          "size": 10,
          "symbol": "circle"
         },
         "mode": "markers",
         "name": "e = 1; k = 4; m = 6; t = 2",
         "text": [
          "e = 1; k = 4; m = 6; t = 2<br>Mem (GB): 10.91; 10.94; 10.93<br>User time (min): 6.27; 7.00; 6.66<br>ARI (%): 99.50; 99.52; 99.51"
         ],
         "type": "scatter",
         "x": [
          7.003
         ],
         "y": [
          99.49689928379416
         ]
        },
        {
         "marker": {
          "color": "#ff7f00",
          "size": 11,
          "symbol": "circle"
         },
         "mode": "markers",
         "name": "e = 1; k = 4; m = 7; t = 2",
         "text": [
          "e = 1; k = 4; m = 7; t = 2<br>Mem (GB): 11.79; 11.85; 11.82<br>User time (min): 6.20; 7.56; 6.98<br>ARI (%): 99.49; 99.51; 99.50"
         ],
         "type": "scatter",
         "x": [
          7.557
         ],
         "y": [
          99.48776334897438
         ]
        },
        {
         "marker": {
          "color": "#4daf4a",
          "size": 9,
          "symbol": "circle"
         },
         "mode": "markers",
         "name": "e = 1; k = 4; m = 5; t = 2",
         "text": [
          "e = 1; k = 4; m = 5; t = 2<br>Mem (GB): 9.65; 9.73; 9.69<br>User time (min): 5.27; 6.84; 6.25<br>ARI (%): 99.48; 99.51; 99.50"
         ],
         "type": "scatter",
         "x": [
          6.836833333333333
         ],
         "y": [
          99.48181200306101
         ]
        },
        {
         "marker": {
          "color": "#ff7f00",
          "size": 11,
          "symbol": "circle"
         },
         "mode": "markers",
         "name": "e = 1; k = 4; m = 7; t = 4",
         "text": [
          "e = 1; k = 4; m = 7; t = 4<br>Mem (GB): 11.72; 11.85; 11.81<br>User time (min): 6.23; 7.58; 7.04<br>ARI (%): 99.69; 99.69; 99.69"
         ],
         "type": "scatter",
         "x": [
          7.5845
         ],
         "y": [
          99.68698446006103
         ]
        },
        {
         "marker": {
          "color": "#984ea3",
          "size": 10,
          "symbol": "circle"
         },
         "mode": "markers",
         "name": "e = 1; k = 4; m = 6; t = 3",
         "text": [
          "e = 1; k = 4; m = 6; t = 3<br>Mem (GB): 10.83; 10.94; 10.90<br>User time (min): 6.70; 7.32; 7.08<br>ARI (%): 99.68; 99.69; 99.69"
         ],
         "type": "scatter",
         "x": [
          7.318833333333333
         ],
         "y": [
          99.68444497588102
         ]
        },
        {
         "marker": {
          "color": "#984ea3",
          "size": 10,
          "symbol": "circle"
         },
         "mode": "markers",
         "name": "e = 1; k = 4; m = 6; t = 4",
         "text": [
          "e = 1; k = 4; m = 6; t = 4<br>Mem (GB): 10.83; 10.91; 10.86<br>User time (min): 5.83; 7.66; 6.46<br>ARI (%): 99.50; 99.51; 99.50"
         ],
         "type": "scatter",
         "x": [
          7.658
         ],
         "y": [
          99.50173976773348
         ]
        },
        {
         "marker": {
          "color": "#ff7f00",
          "size": 11,
          "symbol": "circle"
         },
         "mode": "markers",
         "name": "e = 1; k = 4; m = 7; t = 3",
         "text": [
          "e = 1; k = 4; m = 7; t = 3<br>Mem (GB): 11.80; 11.86; 11.83<br>User time (min): 6.03; 7.55; 6.89<br>ARI (%): 99.69; 99.70; 99.69"
         ],
         "type": "scatter",
         "x": [
          7.547333333333333
         ],
         "y": [
          99.68834936660194
         ]
        },
        {
         "marker": {
          "color": "#377eb8",
          "size": 11,
          "symbol": "square"
         },
         "mode": "markers",
         "name": "e = 1; k = 8; m = 4; t = 1",
         "text": [
          "e = 1; k = 8; m = 4; t = 1<br>Mem (GB): 11.83; 11.97; 11.94<br>User time (min): 6.67; 7.99; 7.10<br>ARI (%): 99.70; 99.70; 99.70"
         ],
         "type": "scatter",
         "x": [
          7.986833333333333
         ],
         "y": [
          99.69885131647166
         ]
        },
        {
         "marker": {
          "color": "#e41a1c",
          "size": 10,
          "symbol": "square"
         },
         "mode": "markers",
         "name": "e = 1; k = 8; m = 3; t = 1",
         "text": [
          "e = 1; k = 8; m = 3; t = 1<br>Mem (GB): 10.63; 10.67; 10.66<br>User time (min): 5.79; 7.76; 6.78<br>ARI (%): 99.63; 99.63; 99.63"
         ],
         "type": "scatter",
         "x": [
          7.759666666666666
         ],
         "y": [
          99.62680757279058
         ]
        },
        {
         "marker": {
          "color": "#ff7f00",
          "size": 15,
          "symbol": "square"
         },
         "mode": "markers",
         "name": "e = 1; k = 8; m = 7; t = 4",
         "text": [
          "e = 1; k = 8; m = 7; t = 4<br>Mem (GB): 15.04; 15.11; 15.08<br>User time (min): 7.48; 8.82; 8.20<br>ARI (%): 99.35; 99.35; 99.35"
         ],
         "type": "scatter",
         "x": [
          8.815333333333333
         ],
         "y": [
          99.34888285555328
         ]
        },
        {
         "marker": {
          "color": "#984ea3",
          "size": 14,
          "symbol": "square"
         },
         "mode": "markers",
         "name": "e = 1; k = 8; m = 6; t = 3",
         "text": [
          "e = 1; k = 8; m = 6; t = 3<br>Mem (GB): 14.25; 14.30; 14.29<br>User time (min): 7.20; 8.87; 8.07<br>ARI (%): 99.57; 99.58; 99.57"
         ],
         "type": "scatter",
         "x": [
          8.866666666666667
         ],
         "y": [
          99.57150000929188
         ]
        },
        {
         "marker": {
          "color": "#ff7f00",
          "size": 15,
          "symbol": "square"
         },
         "mode": "markers",
         "name": "e = 1; k = 8; m = 7; t = 2",
         "text": [
          "e = 1; k = 8; m = 7; t = 2<br>Mem (GB): 15.17; 15.20; 15.19<br>User time (min): 7.65; 9.37; 8.26<br>ARI (%): 99.71; 99.71; 99.71"
         ],
         "type": "scatter",
         "x": [
          9.365666666666668
         ],
         "y": [
          99.70738859055817
         ]
        },
        {
         "marker": {
          "color": "#ff7f00",
          "size": 11,
          "symbol": "circle"
         },
         "mode": "markers",
         "name": "e = 1; k = 4; m = 7; t = 5",
         "text": [
          "e = 1; k = 4; m = 7; t = 5<br>Mem (GB): 11.68; 11.74; 11.72<br>User time (min): 6.08; 8.45; 7.08<br>ARI (%): 99.27; 99.28; 99.27"
         ],
         "type": "scatter",
         "x": [
          8.451
         ],
         "y": [
          99.26884195568061
         ]
        },
        {
         "marker": {
          "color": "#4daf4a",
          "size": 13,
          "symbol": "square"
         },
         "mode": "markers",
         "name": "e = 1; k = 8; m = 5; t = 2",
         "text": [
          "e = 1; k = 8; m = 5; t = 2<br>Mem (GB): 12.98; 13.03; 13.01<br>User time (min): 7.22; 9.52; 7.99<br>ARI (%): 99.67; 99.67; 99.67"
         ],
         "type": "scatter",
         "x": [
          9.516666666666667
         ],
         "y": [
          99.66637631352175
         ]
        },
        {
         "marker": {
          "color": "#984ea3",
          "size": 14,
          "symbol": "square"
         },
         "mode": "markers",
         "name": "e = 1; k = 8; m = 6; t = 2",
         "text": [
          "e = 1; k = 8; m = 6; t = 2<br>Mem (GB): 14.32; 14.35; 14.34<br>User time (min): 7.51; 9.46; 8.16<br>ARI (%): 99.70; 99.71; 99.71"
         ],
         "type": "scatter",
         "x": [
          9.455
         ],
         "y": [
          99.70314066798429
         ]
        },
        {
         "marker": {
          "color": "#ff7f00",
          "size": 15,
          "symbol": "square"
         },
         "mode": "markers",
         "name": "e = 1; k = 8; m = 7; t = 3",
         "text": [
          "e = 1; k = 8; m = 7; t = 3<br>Mem (GB): 15.13; 15.19; 15.16<br>User time (min): 7.55; 9.32; 8.57<br>ARI (%): 99.69; 99.69; 99.69"
         ],
         "type": "scatter",
         "x": [
          9.322333333333335
         ],
         "y": [
          99.68845941752082
         ]
        },
        {
         "marker": {
          "color": "#e41a1c",
          "size": 9,
          "symbol": "circle"
         },
         "mode": "markers",
         "name": "e = 2; k = 4; m = 3; t = 2",
         "text": [
          "e = 2; k = 4; m = 3; t = 2<br>Mem (GB): 9.10; 9.23; 9.16<br>User time (min): 33.53; 42.10; 37.75<br>ARI (%): 99.24; 99.27; 99.25"
         ],
         "type": "scatter",
         "x": [
          42.09916666666666
         ],
         "y": [
          99.23945134158633
         ]
        },
        {
         "marker": {
          "color": "#377eb8",
          "size": 10,
          "symbol": "circle"
         },
         "mode": "markers",
         "name": "e = 2; k = 4; m = 4; t = 2",
         "text": [
          "e = 2; k = 4; m = 4; t = 2<br>Mem (GB): 10.76; 10.87; 10.82<br>User time (min): 36.30; 49.35; 44.50<br>ARI (%): 99.58; 99.63; 99.61"
         ],
         "type": "scatter",
         "x": [
          49.3545
         ],
         "y": [
          99.58373164360975
         ]
        },
        {
         "marker": {
          "color": "#377eb8",
          "size": 11,
          "symbol": "square"
         },
         "mode": "markers",
         "name": "e = 1; k = 8; m = 4; t = 2",
         "text": [
          "e = 1; k = 8; m = 4; t = 2<br>Mem (GB): 11.85; 11.91; 11.88<br>User time (min): 6.26; 7.68; 6.92<br>ARI (%): 99.34; 99.35; 99.34"
         ],
         "type": "scatter",
         "x": [
          7.682166666666666
         ],
         "y": [
          99.34216506699266
         ]
        },
        {
         "marker": {
          "color": "#4daf4a",
          "size": 12,
          "symbol": "circle"
         },
         "mode": "markers",
         "name": "e = 2; k = 4; m = 5; t = 3",
         "text": [
          "e = 2; k = 4; m = 5; t = 3<br>Mem (GB): 12.11; 12.20; 12.15<br>User time (min): 38.04; 54.75; 45.21<br>ARI (%): 99.88; 99.88; 99.88"
         ],
         "type": "scatter",
         "x": [
          54.747166666666665
         ],
         "y": [
          99.87593289255385
         ]
        },
        {
         "marker": {
          "color": "#4daf4a",
          "size": 12,
          "symbol": "circle"
         },
         "mode": "markers",
         "name": "e = 2; k = 4; m = 5; t = 2",
         "text": [
          "e = 2; k = 4; m = 5; t = 2<br>Mem (GB): 12.23; 12.31; 12.26<br>User time (min): 41.06; 47.00; 43.56<br>ARI (%): 99.62; 99.65; 99.63"
         ],
         "type": "scatter",
         "x": [
          47.0035
         ],
         "y": [
          99.6189984733559
         ]
        },
        {
         "marker": {
          "color": "#984ea3",
          "size": 13,
          "symbol": "circle"
         },
         "mode": "markers",
         "name": "e = 2; k = 4; m = 6; t = 4",
         "text": [
          "e = 2; k = 4; m = 6; t = 4<br>Mem (GB): 13.72; 13.81; 13.76<br>User time (min): 36.85; 48.06; 44.95<br>ARI (%): 99.78; 99.78; 99.78"
         ],
         "type": "scatter",
         "x": [
          48.06283333333333
         ],
         "y": [
          99.77776201919507
         ]
        },
        {
         "marker": {
          "color": "#984ea3",
          "size": 13,
          "symbol": "circle"
         },
         "mode": "markers",
         "name": "e = 2; k = 4; m = 6; t = 2",
         "text": [
          "e = 2; k = 4; m = 6; t = 2<br>Mem (GB): 13.95; 14.02; 13.98<br>User time (min): 37.93; 44.37; 41.94<br>ARI (%): 99.63; 99.67; 99.65"
         ],
         "type": "scatter",
         "x": [
          44.36683333333334
         ],
         "y": [
          99.63047385236746
         ]
        },
        {
         "marker": {
          "color": "#984ea3",
          "size": 13,
          "symbol": "circle"
         },
         "mode": "markers",
         "name": "e = 2; k = 4; m = 6; t = 3",
         "text": [
          "e = 2; k = 4; m = 6; t = 3<br>Mem (GB): 13.91; 14.01; 13.95<br>User time (min): 40.81; 50.37; 45.61<br>ARI (%): 99.95; 99.96; 99.96"
         ],
         "type": "scatter",
         "x": [
          50.3675
         ],
         "y": [
          99.95296453821332
         ]
        },
        {
         "marker": {
          "color": "#e41a1c",
          "size": 13,
          "symbol": "square"
         },
         "mode": "markers",
         "name": "e = 2; k = 8; m = 3; t = 1",
         "text": [
          "e = 2; k = 8; m = 3; t = 1<br>Mem (GB): 13.74; 13.81; 13.76<br>User time (min): 42.36; 50.16; 47.42<br>ARI (%): 99.90; 99.91; 99.90"
         ],
         "type": "scatter",
         "x": [
          50.165
         ],
         "y": [
          99.90330626532798
         ]
        },
        {
         "marker": {
          "color": "#ff7f00",
          "size": 15,
          "symbol": "circle"
         },
         "mode": "markers",
         "name": "e = 2; k = 4; m = 7; t = 3",
         "text": [
          "e = 2; k = 4; m = 7; t = 3<br>Mem (GB): 15.36; 15.46; 15.40<br>User time (min): 40.38; 54.00; 46.77<br>ARI (%): 99.96; 99.96; 99.96"
         ],
         "type": "scatter",
         "x": [
          54.00066666666667
         ],
         "y": [
          99.95815236081845
         ]
        },
        {
         "marker": {
          "color": "#ff7f00",
          "size": 15,
          "symbol": "circle"
         },
         "mode": "markers",
         "name": "e = 2; k = 4; m = 7; t = 4",
         "text": [
          "e = 2; k = 4; m = 7; t = 4<br>Mem (GB): 15.29; 15.41; 15.34<br>User time (min): 44.53; 51.83; 47.25<br>ARI (%): 99.96; 99.97; 99.96"
         ],
         "type": "scatter",
         "x": [
          51.832499999999996
         ],
         "y": [
          99.96348157601402
         ]
        },
        {
         "marker": {
          "color": "#377eb8",
          "size": 15,
          "symbol": "square"
         },
         "mode": "markers",
         "name": "e = 2; k = 8; m = 4; t = 1",
         "text": [
          "e = 2; k = 8; m = 4; t = 1<br>Mem (GB): 15.81; 15.91; 15.84<br>User time (min): 43.66; 55.55; 48.39<br>ARI (%): 99.98; 99.98; 99.98"
         ],
         "type": "scatter",
         "x": [
          55.55233333333333
         ],
         "y": [
          99.97586182285809
         ]
        },
        {
         "marker": {
          "color": "#4daf4a",
          "size": 17,
          "symbol": "square"
         },
         "mode": "markers",
         "name": "e = 2; k = 8; m = 5; t = 2",
         "text": [
          "e = 2; k = 8; m = 5; t = 2<br>Mem (GB): 17.40; 17.51; 17.46<br>User time (min): 44.20; 53.66; 49.81<br>ARI (%): 99.94; 99.95; 99.94"
         ],
         "type": "scatter",
         "x": [
          53.664
         ],
         "y": [
          99.94443768540697
         ]
        },
        {
         "marker": {
          "color": "#377eb8",
          "size": 15,
          "symbol": "square"
         },
         "mode": "markers",
         "name": "e = 2; k = 8; m = 4; t = 2",
         "text": [
          "e = 2; k = 8; m = 4; t = 2<br>Mem (GB): 15.53; 15.64; 15.59<br>User time (min): 42.84; 54.07; 48.32<br>ARI (%): 99.62; 99.62; 99.62"
         ],
         "type": "scatter",
         "x": [
          54.07383333333333
         ],
         "y": [
          99.61871833507772
         ]
        },
        {
         "marker": {
          "color": "#ff7f00",
          "size": 14,
          "symbol": "circle"
         },
         "mode": "markers",
         "name": "e = 2; k = 4; m = 7; t = 5",
         "text": [
          "e = 2; k = 4; m = 7; t = 5<br>Mem (GB): 14.95; 15.07; 15.00<br>User time (min): 41.23; 49.27; 45.69<br>ARI (%): 99.55; 99.56; 99.55"
         ],
         "type": "scatter",
         "x": [
          49.26533333333334
         ],
         "y": [
          99.54754636657948
         ]
        },
        {
         "marker": {
          "color": "#ff7f00",
          "size": 15,
          "symbol": "circle"
         },
         "mode": "markers",
         "name": "e = 2; k = 4; m = 7; t = 2",
         "text": [
          "e = 2; k = 4; m = 7; t = 2<br>Mem (GB): 15.37; 15.43; 15.40<br>User time (min): 43.58; 52.01; 46.57<br>ARI (%): 99.63; 99.65; 99.64"
         ],
         "type": "scatter",
         "x": [
          52.01283333333333
         ],
         "y": [
          99.62537989118012
         ]
        },
        {
         "marker": {
          "color": "#984ea3",
          "size": 19,
          "symbol": "square"
         },
         "mode": "markers",
         "name": "e = 2; k = 8; m = 6; t = 2",
         "text": [
          "e = 2; k = 8; m = 6; t = 2<br>Mem (GB): 19.26; 19.34; 19.30<br>User time (min): 46.07; 59.79; 52.66<br>ARI (%): 99.98; 99.98; 99.98"
         ],
         "type": "scatter",
         "x": [
          59.79316666666667
         ],
         "y": [
          99.98069569520878
         ]
        },
        {
         "marker": {
          "color": "#ff7f00",
          "size": 20,
          "symbol": "square"
         },
         "mode": "markers",
         "name": "e = 2; k = 8; m = 7; t = 2",
         "text": [
          "e = 2; k = 8; m = 7; t = 2<br>Mem (GB): 20.64; 20.76; 20.68<br>User time (min): 46.89; 55.91; 52.46<br>ARI (%): 99.98; 99.99; 99.98"
         ],
         "type": "scatter",
         "x": [
          55.91233333333333
         ],
         "y": [
          99.98465803392715
         ]
        },
        {
         "marker": {
          "color": "#ff7f00",
          "size": 20,
          "symbol": "square"
         },
         "mode": "markers",
         "name": "e = 2; k = 8; m = 7; t = 3",
         "text": [
          "e = 2; k = 8; m = 7; t = 3<br>Mem (GB): 20.57; 20.67; 20.61<br>User time (min): 45.70; 66.76; 55.29<br>ARI (%): 99.97; 99.97; 99.97"
         ],
         "type": "scatter",
         "x": [
          66.75833333333334
         ],
         "y": [
          99.96576986514398
         ]
        },
        {
         "marker": {
          "color": "#984ea3",
          "size": 19,
          "symbol": "square"
         },
         "mode": "markers",
         "name": "e = 2; k = 8; m = 6; t = 3",
         "text": [
          "e = 2; k = 8; m = 6; t = 3<br>Mem (GB): 19.11; 19.20; 19.16<br>User time (min): 49.88; 59.77; 54.49<br>ARI (%): 99.85; 99.85; 99.85"
         ],
         "type": "scatter",
         "x": [
          59.770833333333336
         ],
         "y": [
          99.84924185621593
         ]
        },
        {
         "marker": {
          "color": "#ff7f00",
          "size": 20,
          "symbol": "square"
         },
         "mode": "markers",
         "name": "e = 2; k = 8; m = 7; t = 4",
         "text": [
          "e = 2; k = 8; m = 7; t = 4<br>Mem (GB): 20.27; 20.33; 20.30<br>User time (min): 48.88; 56.40; 52.29<br>ARI (%): 99.63; 99.63; 99.63"
         ],
         "type": "scatter",
         "x": [
          56.397166666666664
         ],
         "y": [
          99.62631353228637
         ]
        }
       ],
       "layout": {
        "font": {
         "size": 10
        },
        "hovermode": "closest",
        "title": "Barcode length 12<br>Read length 250",
        "xaxis": {
         "title": "Time in min",
         "type": "log"
        },
        "yaxis": {
         "title": "ARI score"
        }
       }
      },
      "text/html": [
       "<div id=\"ed1c93d6-40d5-47db-aa0c-b61cba4108c3\" style=\"height: 525px; width: 100%;\" class=\"plotly-graph-div\"></div><script type=\"text/javascript\">require([\"plotly\"], function(Plotly) { window.PLOTLYENV=window.PLOTLYENV || {};window.PLOTLYENV.BASE_URL=\"https://plot.ly\";Plotly.newPlot(\"ed1c93d6-40d5-47db-aa0c-b61cba4108c3\", [{\"type\": \"scatter\", \"name\": \"e = 1; k = 4; m = 3; t = 2\", \"x\": [6.610833333333333], \"y\": [99.10274172011889], \"text\": [\"e = 1; k = 4; m = 3; t = 2<br>Mem (GB): 7.70; 7.75; 7.72<br>User time (min): 5.04; 6.61; 5.78<br>ARI (%): 99.10; 99.12; 99.11\"], \"mode\": \"markers\", \"marker\": {\"symbol\": \"circle\", \"color\": \"#e41a1c\", \"size\": 7}}, {\"type\": \"scatter\", \"name\": \"e = 1; k = 4; m = 4; t = 2\", \"x\": [6.7043333333333335], \"y\": [99.45989990413374], \"text\": [\"e = 1; k = 4; m = 4; t = 2<br>Mem (GB): 8.72; 8.79; 8.75<br>User time (min): 5.47; 6.70; 5.93<br>ARI (%): 99.46; 99.48; 99.47\"], \"mode\": \"markers\", \"marker\": {\"symbol\": \"circle\", \"color\": \"#377eb8\", \"size\": 8}}, {\"type\": \"scatter\", \"name\": \"e = 1; k = 4; m = 5; t = 3\", \"x\": [7.092], \"y\": [99.60875233144922], \"text\": [\"e = 1; k = 4; m = 5; t = 3<br>Mem (GB): 9.60; 9.71; 9.66<br>User time (min): 6.18; 7.09; 6.66<br>ARI (%): 99.61; 99.61; 99.61\"], \"mode\": \"markers\", \"marker\": {\"symbol\": \"circle\", \"color\": \"#4daf4a\", \"size\": 9}}, {\"type\": \"scatter\", \"name\": \"e = 1; k = 4; m = 6; t = 2\", \"x\": [7.003], \"y\": [99.49689928379416], \"text\": [\"e = 1; k = 4; m = 6; t = 2<br>Mem (GB): 10.91; 10.94; 10.93<br>User time (min): 6.27; 7.00; 6.66<br>ARI (%): 99.50; 99.52; 99.51\"], \"mode\": \"markers\", \"marker\": {\"symbol\": \"circle\", \"color\": \"#984ea3\", \"size\": 10}}, {\"type\": \"scatter\", \"name\": \"e = 1; k = 4; m = 7; t = 2\", \"x\": [7.557], \"y\": [99.48776334897438], \"text\": [\"e = 1; k = 4; m = 7; t = 2<br>Mem (GB): 11.79; 11.85; 11.82<br>User time (min): 6.20; 7.56; 6.98<br>ARI (%): 99.49; 99.51; 99.50\"], \"mode\": \"markers\", \"marker\": {\"symbol\": \"circle\", \"color\": \"#ff7f00\", \"size\": 11}}, {\"type\": \"scatter\", \"name\": \"e = 1; k = 4; m = 5; t = 2\", \"x\": [6.836833333333333], \"y\": [99.48181200306101], \"text\": [\"e = 1; k = 4; m = 5; t = 2<br>Mem (GB): 9.65; 9.73; 9.69<br>User time (min): 5.27; 6.84; 6.25<br>ARI (%): 99.48; 99.51; 99.50\"], \"mode\": \"markers\", \"marker\": {\"symbol\": \"circle\", \"color\": \"#4daf4a\", \"size\": 9}}, {\"type\": \"scatter\", \"name\": \"e = 1; k = 4; m = 7; t = 4\", \"x\": [7.5845], \"y\": [99.68698446006103], \"text\": [\"e = 1; k = 4; m = 7; t = 4<br>Mem (GB): 11.72; 11.85; 11.81<br>User time (min): 6.23; 7.58; 7.04<br>ARI (%): 99.69; 99.69; 99.69\"], \"mode\": \"markers\", \"marker\": {\"symbol\": \"circle\", \"color\": \"#ff7f00\", \"size\": 11}}, {\"type\": \"scatter\", \"name\": \"e = 1; k = 4; m = 6; t = 3\", \"x\": [7.318833333333333], \"y\": [99.68444497588102], \"text\": [\"e = 1; k = 4; m = 6; t = 3<br>Mem (GB): 10.83; 10.94; 10.90<br>User time (min): 6.70; 7.32; 7.08<br>ARI (%): 99.68; 99.69; 99.69\"], \"mode\": \"markers\", \"marker\": {\"symbol\": \"circle\", \"color\": \"#984ea3\", \"size\": 10}}, {\"type\": \"scatter\", \"name\": \"e = 1; k = 4; m = 6; t = 4\", \"x\": [7.658], \"y\": [99.50173976773348], \"text\": [\"e = 1; k = 4; m = 6; t = 4<br>Mem (GB): 10.83; 10.91; 10.86<br>User time (min): 5.83; 7.66; 6.46<br>ARI (%): 99.50; 99.51; 99.50\"], \"mode\": \"markers\", \"marker\": {\"symbol\": \"circle\", \"color\": \"#984ea3\", \"size\": 10}}, {\"type\": \"scatter\", \"name\": \"e = 1; k = 4; m = 7; t = 3\", \"x\": [7.547333333333333], \"y\": [99.68834936660194], \"text\": [\"e = 1; k = 4; m = 7; t = 3<br>Mem (GB): 11.80; 11.86; 11.83<br>User time (min): 6.03; 7.55; 6.89<br>ARI (%): 99.69; 99.70; 99.69\"], \"mode\": \"markers\", \"marker\": {\"symbol\": \"circle\", \"color\": \"#ff7f00\", \"size\": 11}}, {\"type\": \"scatter\", \"name\": \"e = 1; k = 8; m = 4; t = 1\", \"x\": [7.986833333333333], \"y\": [99.69885131647166], \"text\": [\"e = 1; k = 8; m = 4; t = 1<br>Mem (GB): 11.83; 11.97; 11.94<br>User time (min): 6.67; 7.99; 7.10<br>ARI (%): 99.70; 99.70; 99.70\"], \"mode\": \"markers\", \"marker\": {\"symbol\": \"square\", \"color\": \"#377eb8\", \"size\": 11}}, {\"type\": \"scatter\", \"name\": \"e = 1; k = 8; m = 3; t = 1\", \"x\": [7.759666666666666], \"y\": [99.62680757279058], \"text\": [\"e = 1; k = 8; m = 3; t = 1<br>Mem (GB): 10.63; 10.67; 10.66<br>User time (min): 5.79; 7.76; 6.78<br>ARI (%): 99.63; 99.63; 99.63\"], \"mode\": \"markers\", \"marker\": {\"symbol\": \"square\", \"color\": \"#e41a1c\", \"size\": 10}}, {\"type\": \"scatter\", \"name\": \"e = 1; k = 8; m = 7; t = 4\", \"x\": [8.815333333333333], \"y\": [99.34888285555328], \"text\": [\"e = 1; k = 8; m = 7; t = 4<br>Mem (GB): 15.04; 15.11; 15.08<br>User time (min): 7.48; 8.82; 8.20<br>ARI (%): 99.35; 99.35; 99.35\"], \"mode\": \"markers\", \"marker\": {\"symbol\": \"square\", \"color\": \"#ff7f00\", \"size\": 15}}, {\"type\": \"scatter\", \"name\": \"e = 1; k = 8; m = 6; t = 3\", \"x\": [8.866666666666667], \"y\": [99.57150000929188], \"text\": [\"e = 1; k = 8; m = 6; t = 3<br>Mem (GB): 14.25; 14.30; 14.29<br>User time (min): 7.20; 8.87; 8.07<br>ARI (%): 99.57; 99.58; 99.57\"], \"mode\": \"markers\", \"marker\": {\"symbol\": \"square\", \"color\": \"#984ea3\", \"size\": 14}}, {\"type\": \"scatter\", \"name\": \"e = 1; k = 8; m = 7; t = 2\", \"x\": [9.365666666666668], \"y\": [99.70738859055817], \"text\": [\"e = 1; k = 8; m = 7; t = 2<br>Mem (GB): 15.17; 15.20; 15.19<br>User time (min): 7.65; 9.37; 8.26<br>ARI (%): 99.71; 99.71; 99.71\"], \"mode\": \"markers\", \"marker\": {\"symbol\": \"square\", \"color\": \"#ff7f00\", \"size\": 15}}, {\"type\": \"scatter\", \"name\": \"e = 1; k = 4; m = 7; t = 5\", \"x\": [8.451], \"y\": [99.26884195568061], \"text\": [\"e = 1; k = 4; m = 7; t = 5<br>Mem (GB): 11.68; 11.74; 11.72<br>User time (min): 6.08; 8.45; 7.08<br>ARI (%): 99.27; 99.28; 99.27\"], \"mode\": \"markers\", \"marker\": {\"symbol\": \"circle\", \"color\": \"#ff7f00\", \"size\": 11}}, {\"type\": \"scatter\", \"name\": \"e = 1; k = 8; m = 5; t = 2\", \"x\": [9.516666666666667], \"y\": [99.66637631352175], \"text\": [\"e = 1; k = 8; m = 5; t = 2<br>Mem (GB): 12.98; 13.03; 13.01<br>User time (min): 7.22; 9.52; 7.99<br>ARI (%): 99.67; 99.67; 99.67\"], \"mode\": \"markers\", \"marker\": {\"symbol\": \"square\", \"color\": \"#4daf4a\", \"size\": 13}}, {\"type\": \"scatter\", \"name\": \"e = 1; k = 8; m = 6; t = 2\", \"x\": [9.455], \"y\": [99.70314066798429], \"text\": [\"e = 1; k = 8; m = 6; t = 2<br>Mem (GB): 14.32; 14.35; 14.34<br>User time (min): 7.51; 9.46; 8.16<br>ARI (%): 99.70; 99.71; 99.71\"], \"mode\": \"markers\", \"marker\": {\"symbol\": \"square\", \"color\": \"#984ea3\", \"size\": 14}}, {\"type\": \"scatter\", \"name\": \"e = 1; k = 8; m = 7; t = 3\", \"x\": [9.322333333333335], \"y\": [99.68845941752082], \"text\": [\"e = 1; k = 8; m = 7; t = 3<br>Mem (GB): 15.13; 15.19; 15.16<br>User time (min): 7.55; 9.32; 8.57<br>ARI (%): 99.69; 99.69; 99.69\"], \"mode\": \"markers\", \"marker\": {\"symbol\": \"square\", \"color\": \"#ff7f00\", \"size\": 15}}, {\"type\": \"scatter\", \"name\": \"e = 2; k = 4; m = 3; t = 2\", \"x\": [42.09916666666666], \"y\": [99.23945134158633], \"text\": [\"e = 2; k = 4; m = 3; t = 2<br>Mem (GB): 9.10; 9.23; 9.16<br>User time (min): 33.53; 42.10; 37.75<br>ARI (%): 99.24; 99.27; 99.25\"], \"mode\": \"markers\", \"marker\": {\"symbol\": \"circle\", \"color\": \"#e41a1c\", \"size\": 9}}, {\"type\": \"scatter\", \"name\": \"e = 2; k = 4; m = 4; t = 2\", \"x\": [49.3545], \"y\": [99.58373164360975], \"text\": [\"e = 2; k = 4; m = 4; t = 2<br>Mem (GB): 10.76; 10.87; 10.82<br>User time (min): 36.30; 49.35; 44.50<br>ARI (%): 99.58; 99.63; 99.61\"], \"mode\": \"markers\", \"marker\": {\"symbol\": \"circle\", \"color\": \"#377eb8\", \"size\": 10}}, {\"type\": \"scatter\", \"name\": \"e = 1; k = 8; m = 4; t = 2\", \"x\": [7.682166666666666], \"y\": [99.34216506699266], \"text\": [\"e = 1; k = 8; m = 4; t = 2<br>Mem (GB): 11.85; 11.91; 11.88<br>User time (min): 6.26; 7.68; 6.92<br>ARI (%): 99.34; 99.35; 99.34\"], \"mode\": \"markers\", \"marker\": {\"symbol\": \"square\", \"color\": \"#377eb8\", \"size\": 11}}, {\"type\": \"scatter\", \"name\": \"e = 2; k = 4; m = 5; t = 3\", \"x\": [54.747166666666665], \"y\": [99.87593289255385], \"text\": [\"e = 2; k = 4; m = 5; t = 3<br>Mem (GB): 12.11; 12.20; 12.15<br>User time (min): 38.04; 54.75; 45.21<br>ARI (%): 99.88; 99.88; 99.88\"], \"mode\": \"markers\", \"marker\": {\"symbol\": \"circle\", \"color\": \"#4daf4a\", \"size\": 12}}, {\"type\": \"scatter\", \"name\": \"e = 2; k = 4; m = 5; t = 2\", \"x\": [47.0035], \"y\": [99.6189984733559], \"text\": [\"e = 2; k = 4; m = 5; t = 2<br>Mem (GB): 12.23; 12.31; 12.26<br>User time (min): 41.06; 47.00; 43.56<br>ARI (%): 99.62; 99.65; 99.63\"], \"mode\": \"markers\", \"marker\": {\"symbol\": \"circle\", \"color\": \"#4daf4a\", \"size\": 12}}, {\"type\": \"scatter\", \"name\": \"e = 2; k = 4; m = 6; t = 4\", \"x\": [48.06283333333333], \"y\": [99.77776201919507], \"text\": [\"e = 2; k = 4; m = 6; t = 4<br>Mem (GB): 13.72; 13.81; 13.76<br>User time (min): 36.85; 48.06; 44.95<br>ARI (%): 99.78; 99.78; 99.78\"], \"mode\": \"markers\", \"marker\": {\"symbol\": \"circle\", \"color\": \"#984ea3\", \"size\": 13}}, {\"type\": \"scatter\", \"name\": \"e = 2; k = 4; m = 6; t = 2\", \"x\": [44.36683333333334], \"y\": [99.63047385236746], \"text\": [\"e = 2; k = 4; m = 6; t = 2<br>Mem (GB): 13.95; 14.02; 13.98<br>User time (min): 37.93; 44.37; 41.94<br>ARI (%): 99.63; 99.67; 99.65\"], \"mode\": \"markers\", \"marker\": {\"symbol\": \"circle\", \"color\": \"#984ea3\", \"size\": 13}}, {\"type\": \"scatter\", \"name\": \"e = 2; k = 4; m = 6; t = 3\", \"x\": [50.3675], \"y\": [99.95296453821332], \"text\": [\"e = 2; k = 4; m = 6; t = 3<br>Mem (GB): 13.91; 14.01; 13.95<br>User time (min): 40.81; 50.37; 45.61<br>ARI (%): 99.95; 99.96; 99.96\"], \"mode\": \"markers\", \"marker\": {\"symbol\": \"circle\", \"color\": \"#984ea3\", \"size\": 13}}, {\"type\": \"scatter\", \"name\": \"e = 2; k = 8; m = 3; t = 1\", \"x\": [50.165], \"y\": [99.90330626532798], \"text\": [\"e = 2; k = 8; m = 3; t = 1<br>Mem (GB): 13.74; 13.81; 13.76<br>User time (min): 42.36; 50.16; 47.42<br>ARI (%): 99.90; 99.91; 99.90\"], \"mode\": \"markers\", \"marker\": {\"symbol\": \"square\", \"color\": \"#e41a1c\", \"size\": 13}}, {\"type\": \"scatter\", \"name\": \"e = 2; k = 4; m = 7; t = 3\", \"x\": [54.00066666666667], \"y\": [99.95815236081845], \"text\": [\"e = 2; k = 4; m = 7; t = 3<br>Mem (GB): 15.36; 15.46; 15.40<br>User time (min): 40.38; 54.00; 46.77<br>ARI (%): 99.96; 99.96; 99.96\"], \"mode\": \"markers\", \"marker\": {\"symbol\": \"circle\", \"color\": \"#ff7f00\", \"size\": 15}}, {\"type\": \"scatter\", \"name\": \"e = 2; k = 4; m = 7; t = 4\", \"x\": [51.832499999999996], \"y\": [99.96348157601402], \"text\": [\"e = 2; k = 4; m = 7; t = 4<br>Mem (GB): 15.29; 15.41; 15.34<br>User time (min): 44.53; 51.83; 47.25<br>ARI (%): 99.96; 99.97; 99.96\"], \"mode\": \"markers\", \"marker\": {\"symbol\": \"circle\", \"color\": \"#ff7f00\", \"size\": 15}}, {\"type\": \"scatter\", \"name\": \"e = 2; k = 8; m = 4; t = 1\", \"x\": [55.55233333333333], \"y\": [99.97586182285809], \"text\": [\"e = 2; k = 8; m = 4; t = 1<br>Mem (GB): 15.81; 15.91; 15.84<br>User time (min): 43.66; 55.55; 48.39<br>ARI (%): 99.98; 99.98; 99.98\"], \"mode\": \"markers\", \"marker\": {\"symbol\": \"square\", \"color\": \"#377eb8\", \"size\": 15}}, {\"type\": \"scatter\", \"name\": \"e = 2; k = 8; m = 5; t = 2\", \"x\": [53.664], \"y\": [99.94443768540697], \"text\": [\"e = 2; k = 8; m = 5; t = 2<br>Mem (GB): 17.40; 17.51; 17.46<br>User time (min): 44.20; 53.66; 49.81<br>ARI (%): 99.94; 99.95; 99.94\"], \"mode\": \"markers\", \"marker\": {\"symbol\": \"square\", \"color\": \"#4daf4a\", \"size\": 17}}, {\"type\": \"scatter\", \"name\": \"e = 2; k = 8; m = 4; t = 2\", \"x\": [54.07383333333333], \"y\": [99.61871833507772], \"text\": [\"e = 2; k = 8; m = 4; t = 2<br>Mem (GB): 15.53; 15.64; 15.59<br>User time (min): 42.84; 54.07; 48.32<br>ARI (%): 99.62; 99.62; 99.62\"], \"mode\": \"markers\", \"marker\": {\"symbol\": \"square\", \"color\": \"#377eb8\", \"size\": 15}}, {\"type\": \"scatter\", \"name\": \"e = 2; k = 4; m = 7; t = 5\", \"x\": [49.26533333333334], \"y\": [99.54754636657948], \"text\": [\"e = 2; k = 4; m = 7; t = 5<br>Mem (GB): 14.95; 15.07; 15.00<br>User time (min): 41.23; 49.27; 45.69<br>ARI (%): 99.55; 99.56; 99.55\"], \"mode\": \"markers\", \"marker\": {\"symbol\": \"circle\", \"color\": \"#ff7f00\", \"size\": 14}}, {\"type\": \"scatter\", \"name\": \"e = 2; k = 4; m = 7; t = 2\", \"x\": [52.01283333333333], \"y\": [99.62537989118012], \"text\": [\"e = 2; k = 4; m = 7; t = 2<br>Mem (GB): 15.37; 15.43; 15.40<br>User time (min): 43.58; 52.01; 46.57<br>ARI (%): 99.63; 99.65; 99.64\"], \"mode\": \"markers\", \"marker\": {\"symbol\": \"circle\", \"color\": \"#ff7f00\", \"size\": 15}}, {\"type\": \"scatter\", \"name\": \"e = 2; k = 8; m = 6; t = 2\", \"x\": [59.79316666666667], \"y\": [99.98069569520878], \"text\": [\"e = 2; k = 8; m = 6; t = 2<br>Mem (GB): 19.26; 19.34; 19.30<br>User time (min): 46.07; 59.79; 52.66<br>ARI (%): 99.98; 99.98; 99.98\"], \"mode\": \"markers\", \"marker\": {\"symbol\": \"square\", \"color\": \"#984ea3\", \"size\": 19}}, {\"type\": \"scatter\", \"name\": \"e = 2; k = 8; m = 7; t = 2\", \"x\": [55.91233333333333], \"y\": [99.98465803392715], \"text\": [\"e = 2; k = 8; m = 7; t = 2<br>Mem (GB): 20.64; 20.76; 20.68<br>User time (min): 46.89; 55.91; 52.46<br>ARI (%): 99.98; 99.99; 99.98\"], \"mode\": \"markers\", \"marker\": {\"symbol\": \"square\", \"color\": \"#ff7f00\", \"size\": 20}}, {\"type\": \"scatter\", \"name\": \"e = 2; k = 8; m = 7; t = 3\", \"x\": [66.75833333333334], \"y\": [99.96576986514398], \"text\": [\"e = 2; k = 8; m = 7; t = 3<br>Mem (GB): 20.57; 20.67; 20.61<br>User time (min): 45.70; 66.76; 55.29<br>ARI (%): 99.97; 99.97; 99.97\"], \"mode\": \"markers\", \"marker\": {\"symbol\": \"square\", \"color\": \"#ff7f00\", \"size\": 20}}, {\"type\": \"scatter\", \"name\": \"e = 2; k = 8; m = 6; t = 3\", \"x\": [59.770833333333336], \"y\": [99.84924185621593], \"text\": [\"e = 2; k = 8; m = 6; t = 3<br>Mem (GB): 19.11; 19.20; 19.16<br>User time (min): 49.88; 59.77; 54.49<br>ARI (%): 99.85; 99.85; 99.85\"], \"mode\": \"markers\", \"marker\": {\"symbol\": \"square\", \"color\": \"#984ea3\", \"size\": 19}}, {\"type\": \"scatter\", \"name\": \"e = 2; k = 8; m = 7; t = 4\", \"x\": [56.397166666666664], \"y\": [99.62631353228637], \"text\": [\"e = 2; k = 8; m = 7; t = 4<br>Mem (GB): 20.27; 20.33; 20.30<br>User time (min): 48.88; 56.40; 52.29<br>ARI (%): 99.63; 99.63; 99.63\"], \"mode\": \"markers\", \"marker\": {\"symbol\": \"square\", \"color\": \"#ff7f00\", \"size\": 20}}], {\"title\": \"Barcode length 12<br>Read length 250\", \"hovermode\": \"closest\", \"font\": {\"size\": 10}, \"xaxis\": {\"title\": \"Time in min\", \"type\": \"log\"}, \"yaxis\": {\"title\": \"ARI score\"}}, {\"showLink\": true, \"linkText\": \"Export to plot.ly\"})});</script>"
      ],
      "text/vnd.plotly.v1+html": [
       "<div id=\"ed1c93d6-40d5-47db-aa0c-b61cba4108c3\" style=\"height: 525px; width: 100%;\" class=\"plotly-graph-div\"></div><script type=\"text/javascript\">require([\"plotly\"], function(Plotly) { window.PLOTLYENV=window.PLOTLYENV || {};window.PLOTLYENV.BASE_URL=\"https://plot.ly\";Plotly.newPlot(\"ed1c93d6-40d5-47db-aa0c-b61cba4108c3\", [{\"type\": \"scatter\", \"name\": \"e = 1; k = 4; m = 3; t = 2\", \"x\": [6.610833333333333], \"y\": [99.10274172011889], \"text\": [\"e = 1; k = 4; m = 3; t = 2<br>Mem (GB): 7.70; 7.75; 7.72<br>User time (min): 5.04; 6.61; 5.78<br>ARI (%): 99.10; 99.12; 99.11\"], \"mode\": \"markers\", \"marker\": {\"symbol\": \"circle\", \"color\": \"#e41a1c\", \"size\": 7}}, {\"type\": \"scatter\", \"name\": \"e = 1; k = 4; m = 4; t = 2\", \"x\": [6.7043333333333335], \"y\": [99.45989990413374], \"text\": [\"e = 1; k = 4; m = 4; t = 2<br>Mem (GB): 8.72; 8.79; 8.75<br>User time (min): 5.47; 6.70; 5.93<br>ARI (%): 99.46; 99.48; 99.47\"], \"mode\": \"markers\", \"marker\": {\"symbol\": \"circle\", \"color\": \"#377eb8\", \"size\": 8}}, {\"type\": \"scatter\", \"name\": \"e = 1; k = 4; m = 5; t = 3\", \"x\": [7.092], \"y\": [99.60875233144922], \"text\": [\"e = 1; k = 4; m = 5; t = 3<br>Mem (GB): 9.60; 9.71; 9.66<br>User time (min): 6.18; 7.09; 6.66<br>ARI (%): 99.61; 99.61; 99.61\"], \"mode\": \"markers\", \"marker\": {\"symbol\": \"circle\", \"color\": \"#4daf4a\", \"size\": 9}}, {\"type\": \"scatter\", \"name\": \"e = 1; k = 4; m = 6; t = 2\", \"x\": [7.003], \"y\": [99.49689928379416], \"text\": [\"e = 1; k = 4; m = 6; t = 2<br>Mem (GB): 10.91; 10.94; 10.93<br>User time (min): 6.27; 7.00; 6.66<br>ARI (%): 99.50; 99.52; 99.51\"], \"mode\": \"markers\", \"marker\": {\"symbol\": \"circle\", \"color\": \"#984ea3\", \"size\": 10}}, {\"type\": \"scatter\", \"name\": \"e = 1; k = 4; m = 7; t = 2\", \"x\": [7.557], \"y\": [99.48776334897438], \"text\": [\"e = 1; k = 4; m = 7; t = 2<br>Mem (GB): 11.79; 11.85; 11.82<br>User time (min): 6.20; 7.56; 6.98<br>ARI (%): 99.49; 99.51; 99.50\"], \"mode\": \"markers\", \"marker\": {\"symbol\": \"circle\", \"color\": \"#ff7f00\", \"size\": 11}}, {\"type\": \"scatter\", \"name\": \"e = 1; k = 4; m = 5; t = 2\", \"x\": [6.836833333333333], \"y\": [99.48181200306101], \"text\": [\"e = 1; k = 4; m = 5; t = 2<br>Mem (GB): 9.65; 9.73; 9.69<br>User time (min): 5.27; 6.84; 6.25<br>ARI (%): 99.48; 99.51; 99.50\"], \"mode\": \"markers\", \"marker\": {\"symbol\": \"circle\", \"color\": \"#4daf4a\", \"size\": 9}}, {\"type\": \"scatter\", \"name\": \"e = 1; k = 4; m = 7; t = 4\", \"x\": [7.5845], \"y\": [99.68698446006103], \"text\": [\"e = 1; k = 4; m = 7; t = 4<br>Mem (GB): 11.72; 11.85; 11.81<br>User time (min): 6.23; 7.58; 7.04<br>ARI (%): 99.69; 99.69; 99.69\"], \"mode\": \"markers\", \"marker\": {\"symbol\": \"circle\", \"color\": \"#ff7f00\", \"size\": 11}}, {\"type\": \"scatter\", \"name\": \"e = 1; k = 4; m = 6; t = 3\", \"x\": [7.318833333333333], \"y\": [99.68444497588102], \"text\": [\"e = 1; k = 4; m = 6; t = 3<br>Mem (GB): 10.83; 10.94; 10.90<br>User time (min): 6.70; 7.32; 7.08<br>ARI (%): 99.68; 99.69; 99.69\"], \"mode\": \"markers\", \"marker\": {\"symbol\": \"circle\", \"color\": \"#984ea3\", \"size\": 10}}, {\"type\": \"scatter\", \"name\": \"e = 1; k = 4; m = 6; t = 4\", \"x\": [7.658], \"y\": [99.50173976773348], \"text\": [\"e = 1; k = 4; m = 6; t = 4<br>Mem (GB): 10.83; 10.91; 10.86<br>User time (min): 5.83; 7.66; 6.46<br>ARI (%): 99.50; 99.51; 99.50\"], \"mode\": \"markers\", \"marker\": {\"symbol\": \"circle\", \"color\": \"#984ea3\", \"size\": 10}}, {\"type\": \"scatter\", \"name\": \"e = 1; k = 4; m = 7; t = 3\", \"x\": [7.547333333333333], \"y\": [99.68834936660194], \"text\": [\"e = 1; k = 4; m = 7; t = 3<br>Mem (GB): 11.80; 11.86; 11.83<br>User time (min): 6.03; 7.55; 6.89<br>ARI (%): 99.69; 99.70; 99.69\"], \"mode\": \"markers\", \"marker\": {\"symbol\": \"circle\", \"color\": \"#ff7f00\", \"size\": 11}}, {\"type\": \"scatter\", \"name\": \"e = 1; k = 8; m = 4; t = 1\", \"x\": [7.986833333333333], \"y\": [99.69885131647166], \"text\": [\"e = 1; k = 8; m = 4; t = 1<br>Mem (GB): 11.83; 11.97; 11.94<br>User time (min): 6.67; 7.99; 7.10<br>ARI (%): 99.70; 99.70; 99.70\"], \"mode\": \"markers\", \"marker\": {\"symbol\": \"square\", \"color\": \"#377eb8\", \"size\": 11}}, {\"type\": \"scatter\", \"name\": \"e = 1; k = 8; m = 3; t = 1\", \"x\": [7.759666666666666], \"y\": [99.62680757279058], \"text\": [\"e = 1; k = 8; m = 3; t = 1<br>Mem (GB): 10.63; 10.67; 10.66<br>User time (min): 5.79; 7.76; 6.78<br>ARI (%): 99.63; 99.63; 99.63\"], \"mode\": \"markers\", \"marker\": {\"symbol\": \"square\", \"color\": \"#e41a1c\", \"size\": 10}}, {\"type\": \"scatter\", \"name\": \"e = 1; k = 8; m = 7; t = 4\", \"x\": [8.815333333333333], \"y\": [99.34888285555328], \"text\": [\"e = 1; k = 8; m = 7; t = 4<br>Mem (GB): 15.04; 15.11; 15.08<br>User time (min): 7.48; 8.82; 8.20<br>ARI (%): 99.35; 99.35; 99.35\"], \"mode\": \"markers\", \"marker\": {\"symbol\": \"square\", \"color\": \"#ff7f00\", \"size\": 15}}, {\"type\": \"scatter\", \"name\": \"e = 1; k = 8; m = 6; t = 3\", \"x\": [8.866666666666667], \"y\": [99.57150000929188], \"text\": [\"e = 1; k = 8; m = 6; t = 3<br>Mem (GB): 14.25; 14.30; 14.29<br>User time (min): 7.20; 8.87; 8.07<br>ARI (%): 99.57; 99.58; 99.57\"], \"mode\": \"markers\", \"marker\": {\"symbol\": \"square\", \"color\": \"#984ea3\", \"size\": 14}}, {\"type\": \"scatter\", \"name\": \"e = 1; k = 8; m = 7; t = 2\", \"x\": [9.365666666666668], \"y\": [99.70738859055817], \"text\": [\"e = 1; k = 8; m = 7; t = 2<br>Mem (GB): 15.17; 15.20; 15.19<br>User time (min): 7.65; 9.37; 8.26<br>ARI (%): 99.71; 99.71; 99.71\"], \"mode\": \"markers\", \"marker\": {\"symbol\": \"square\", \"color\": \"#ff7f00\", \"size\": 15}}, {\"type\": \"scatter\", \"name\": \"e = 1; k = 4; m = 7; t = 5\", \"x\": [8.451], \"y\": [99.26884195568061], \"text\": [\"e = 1; k = 4; m = 7; t = 5<br>Mem (GB): 11.68; 11.74; 11.72<br>User time (min): 6.08; 8.45; 7.08<br>ARI (%): 99.27; 99.28; 99.27\"], \"mode\": \"markers\", \"marker\": {\"symbol\": \"circle\", \"color\": \"#ff7f00\", \"size\": 11}}, {\"type\": \"scatter\", \"name\": \"e = 1; k = 8; m = 5; t = 2\", \"x\": [9.516666666666667], \"y\": [99.66637631352175], \"text\": [\"e = 1; k = 8; m = 5; t = 2<br>Mem (GB): 12.98; 13.03; 13.01<br>User time (min): 7.22; 9.52; 7.99<br>ARI (%): 99.67; 99.67; 99.67\"], \"mode\": \"markers\", \"marker\": {\"symbol\": \"square\", \"color\": \"#4daf4a\", \"size\": 13}}, {\"type\": \"scatter\", \"name\": \"e = 1; k = 8; m = 6; t = 2\", \"x\": [9.455], \"y\": [99.70314066798429], \"text\": [\"e = 1; k = 8; m = 6; t = 2<br>Mem (GB): 14.32; 14.35; 14.34<br>User time (min): 7.51; 9.46; 8.16<br>ARI (%): 99.70; 99.71; 99.71\"], \"mode\": \"markers\", \"marker\": {\"symbol\": \"square\", \"color\": \"#984ea3\", \"size\": 14}}, {\"type\": \"scatter\", \"name\": \"e = 1; k = 8; m = 7; t = 3\", \"x\": [9.322333333333335], \"y\": [99.68845941752082], \"text\": [\"e = 1; k = 8; m = 7; t = 3<br>Mem (GB): 15.13; 15.19; 15.16<br>User time (min): 7.55; 9.32; 8.57<br>ARI (%): 99.69; 99.69; 99.69\"], \"mode\": \"markers\", \"marker\": {\"symbol\": \"square\", \"color\": \"#ff7f00\", \"size\": 15}}, {\"type\": \"scatter\", \"name\": \"e = 2; k = 4; m = 3; t = 2\", \"x\": [42.09916666666666], \"y\": [99.23945134158633], \"text\": [\"e = 2; k = 4; m = 3; t = 2<br>Mem (GB): 9.10; 9.23; 9.16<br>User time (min): 33.53; 42.10; 37.75<br>ARI (%): 99.24; 99.27; 99.25\"], \"mode\": \"markers\", \"marker\": {\"symbol\": \"circle\", \"color\": \"#e41a1c\", \"size\": 9}}, {\"type\": \"scatter\", \"name\": \"e = 2; k = 4; m = 4; t = 2\", \"x\": [49.3545], \"y\": [99.58373164360975], \"text\": [\"e = 2; k = 4; m = 4; t = 2<br>Mem (GB): 10.76; 10.87; 10.82<br>User time (min): 36.30; 49.35; 44.50<br>ARI (%): 99.58; 99.63; 99.61\"], \"mode\": \"markers\", \"marker\": {\"symbol\": \"circle\", \"color\": \"#377eb8\", \"size\": 10}}, {\"type\": \"scatter\", \"name\": \"e = 1; k = 8; m = 4; t = 2\", \"x\": [7.682166666666666], \"y\": [99.34216506699266], \"text\": [\"e = 1; k = 8; m = 4; t = 2<br>Mem (GB): 11.85; 11.91; 11.88<br>User time (min): 6.26; 7.68; 6.92<br>ARI (%): 99.34; 99.35; 99.34\"], \"mode\": \"markers\", \"marker\": {\"symbol\": \"square\", \"color\": \"#377eb8\", \"size\": 11}}, {\"type\": \"scatter\", \"name\": \"e = 2; k = 4; m = 5; t = 3\", \"x\": [54.747166666666665], \"y\": [99.87593289255385], \"text\": [\"e = 2; k = 4; m = 5; t = 3<br>Mem (GB): 12.11; 12.20; 12.15<br>User time (min): 38.04; 54.75; 45.21<br>ARI (%): 99.88; 99.88; 99.88\"], \"mode\": \"markers\", \"marker\": {\"symbol\": \"circle\", \"color\": \"#4daf4a\", \"size\": 12}}, {\"type\": \"scatter\", \"name\": \"e = 2; k = 4; m = 5; t = 2\", \"x\": [47.0035], \"y\": [99.6189984733559], \"text\": [\"e = 2; k = 4; m = 5; t = 2<br>Mem (GB): 12.23; 12.31; 12.26<br>User time (min): 41.06; 47.00; 43.56<br>ARI (%): 99.62; 99.65; 99.63\"], \"mode\": \"markers\", \"marker\": {\"symbol\": \"circle\", \"color\": \"#4daf4a\", \"size\": 12}}, {\"type\": \"scatter\", \"name\": \"e = 2; k = 4; m = 6; t = 4\", \"x\": [48.06283333333333], \"y\": [99.77776201919507], \"text\": [\"e = 2; k = 4; m = 6; t = 4<br>Mem (GB): 13.72; 13.81; 13.76<br>User time (min): 36.85; 48.06; 44.95<br>ARI (%): 99.78; 99.78; 99.78\"], \"mode\": \"markers\", \"marker\": {\"symbol\": \"circle\", \"color\": \"#984ea3\", \"size\": 13}}, {\"type\": \"scatter\", \"name\": \"e = 2; k = 4; m = 6; t = 2\", \"x\": [44.36683333333334], \"y\": [99.63047385236746], \"text\": [\"e = 2; k = 4; m = 6; t = 2<br>Mem (GB): 13.95; 14.02; 13.98<br>User time (min): 37.93; 44.37; 41.94<br>ARI (%): 99.63; 99.67; 99.65\"], \"mode\": \"markers\", \"marker\": {\"symbol\": \"circle\", \"color\": \"#984ea3\", \"size\": 13}}, {\"type\": \"scatter\", \"name\": \"e = 2; k = 4; m = 6; t = 3\", \"x\": [50.3675], \"y\": [99.95296453821332], \"text\": [\"e = 2; k = 4; m = 6; t = 3<br>Mem (GB): 13.91; 14.01; 13.95<br>User time (min): 40.81; 50.37; 45.61<br>ARI (%): 99.95; 99.96; 99.96\"], \"mode\": \"markers\", \"marker\": {\"symbol\": \"circle\", \"color\": \"#984ea3\", \"size\": 13}}, {\"type\": \"scatter\", \"name\": \"e = 2; k = 8; m = 3; t = 1\", \"x\": [50.165], \"y\": [99.90330626532798], \"text\": [\"e = 2; k = 8; m = 3; t = 1<br>Mem (GB): 13.74; 13.81; 13.76<br>User time (min): 42.36; 50.16; 47.42<br>ARI (%): 99.90; 99.91; 99.90\"], \"mode\": \"markers\", \"marker\": {\"symbol\": \"square\", \"color\": \"#e41a1c\", \"size\": 13}}, {\"type\": \"scatter\", \"name\": \"e = 2; k = 4; m = 7; t = 3\", \"x\": [54.00066666666667], \"y\": [99.95815236081845], \"text\": [\"e = 2; k = 4; m = 7; t = 3<br>Mem (GB): 15.36; 15.46; 15.40<br>User time (min): 40.38; 54.00; 46.77<br>ARI (%): 99.96; 99.96; 99.96\"], \"mode\": \"markers\", \"marker\": {\"symbol\": \"circle\", \"color\": \"#ff7f00\", \"size\": 15}}, {\"type\": \"scatter\", \"name\": \"e = 2; k = 4; m = 7; t = 4\", \"x\": [51.832499999999996], \"y\": [99.96348157601402], \"text\": [\"e = 2; k = 4; m = 7; t = 4<br>Mem (GB): 15.29; 15.41; 15.34<br>User time (min): 44.53; 51.83; 47.25<br>ARI (%): 99.96; 99.97; 99.96\"], \"mode\": \"markers\", \"marker\": {\"symbol\": \"circle\", \"color\": \"#ff7f00\", \"size\": 15}}, {\"type\": \"scatter\", \"name\": \"e = 2; k = 8; m = 4; t = 1\", \"x\": [55.55233333333333], \"y\": [99.97586182285809], \"text\": [\"e = 2; k = 8; m = 4; t = 1<br>Mem (GB): 15.81; 15.91; 15.84<br>User time (min): 43.66; 55.55; 48.39<br>ARI (%): 99.98; 99.98; 99.98\"], \"mode\": \"markers\", \"marker\": {\"symbol\": \"square\", \"color\": \"#377eb8\", \"size\": 15}}, {\"type\": \"scatter\", \"name\": \"e = 2; k = 8; m = 5; t = 2\", \"x\": [53.664], \"y\": [99.94443768540697], \"text\": [\"e = 2; k = 8; m = 5; t = 2<br>Mem (GB): 17.40; 17.51; 17.46<br>User time (min): 44.20; 53.66; 49.81<br>ARI (%): 99.94; 99.95; 99.94\"], \"mode\": \"markers\", \"marker\": {\"symbol\": \"square\", \"color\": \"#4daf4a\", \"size\": 17}}, {\"type\": \"scatter\", \"name\": \"e = 2; k = 8; m = 4; t = 2\", \"x\": [54.07383333333333], \"y\": [99.61871833507772], \"text\": [\"e = 2; k = 8; m = 4; t = 2<br>Mem (GB): 15.53; 15.64; 15.59<br>User time (min): 42.84; 54.07; 48.32<br>ARI (%): 99.62; 99.62; 99.62\"], \"mode\": \"markers\", \"marker\": {\"symbol\": \"square\", \"color\": \"#377eb8\", \"size\": 15}}, {\"type\": \"scatter\", \"name\": \"e = 2; k = 4; m = 7; t = 5\", \"x\": [49.26533333333334], \"y\": [99.54754636657948], \"text\": [\"e = 2; k = 4; m = 7; t = 5<br>Mem (GB): 14.95; 15.07; 15.00<br>User time (min): 41.23; 49.27; 45.69<br>ARI (%): 99.55; 99.56; 99.55\"], \"mode\": \"markers\", \"marker\": {\"symbol\": \"circle\", \"color\": \"#ff7f00\", \"size\": 14}}, {\"type\": \"scatter\", \"name\": \"e = 2; k = 4; m = 7; t = 2\", \"x\": [52.01283333333333], \"y\": [99.62537989118012], \"text\": [\"e = 2; k = 4; m = 7; t = 2<br>Mem (GB): 15.37; 15.43; 15.40<br>User time (min): 43.58; 52.01; 46.57<br>ARI (%): 99.63; 99.65; 99.64\"], \"mode\": \"markers\", \"marker\": {\"symbol\": \"circle\", \"color\": \"#ff7f00\", \"size\": 15}}, {\"type\": \"scatter\", \"name\": \"e = 2; k = 8; m = 6; t = 2\", \"x\": [59.79316666666667], \"y\": [99.98069569520878], \"text\": [\"e = 2; k = 8; m = 6; t = 2<br>Mem (GB): 19.26; 19.34; 19.30<br>User time (min): 46.07; 59.79; 52.66<br>ARI (%): 99.98; 99.98; 99.98\"], \"mode\": \"markers\", \"marker\": {\"symbol\": \"square\", \"color\": \"#984ea3\", \"size\": 19}}, {\"type\": \"scatter\", \"name\": \"e = 2; k = 8; m = 7; t = 2\", \"x\": [55.91233333333333], \"y\": [99.98465803392715], \"text\": [\"e = 2; k = 8; m = 7; t = 2<br>Mem (GB): 20.64; 20.76; 20.68<br>User time (min): 46.89; 55.91; 52.46<br>ARI (%): 99.98; 99.99; 99.98\"], \"mode\": \"markers\", \"marker\": {\"symbol\": \"square\", \"color\": \"#ff7f00\", \"size\": 20}}, {\"type\": \"scatter\", \"name\": \"e = 2; k = 8; m = 7; t = 3\", \"x\": [66.75833333333334], \"y\": [99.96576986514398], \"text\": [\"e = 2; k = 8; m = 7; t = 3<br>Mem (GB): 20.57; 20.67; 20.61<br>User time (min): 45.70; 66.76; 55.29<br>ARI (%): 99.97; 99.97; 99.97\"], \"mode\": \"markers\", \"marker\": {\"symbol\": \"square\", \"color\": \"#ff7f00\", \"size\": 20}}, {\"type\": \"scatter\", \"name\": \"e = 2; k = 8; m = 6; t = 3\", \"x\": [59.770833333333336], \"y\": [99.84924185621593], \"text\": [\"e = 2; k = 8; m = 6; t = 3<br>Mem (GB): 19.11; 19.20; 19.16<br>User time (min): 49.88; 59.77; 54.49<br>ARI (%): 99.85; 99.85; 99.85\"], \"mode\": \"markers\", \"marker\": {\"symbol\": \"square\", \"color\": \"#984ea3\", \"size\": 19}}, {\"type\": \"scatter\", \"name\": \"e = 2; k = 8; m = 7; t = 4\", \"x\": [56.397166666666664], \"y\": [99.62631353228637], \"text\": [\"e = 2; k = 8; m = 7; t = 4<br>Mem (GB): 20.27; 20.33; 20.30<br>User time (min): 48.88; 56.40; 52.29<br>ARI (%): 99.63; 99.63; 99.63\"], \"mode\": \"markers\", \"marker\": {\"symbol\": \"square\", \"color\": \"#ff7f00\", \"size\": 20}}], {\"title\": \"Barcode length 12<br>Read length 250\", \"hovermode\": \"closest\", \"font\": {\"size\": 10}, \"xaxis\": {\"title\": \"Time in min\", \"type\": \"log\"}, \"yaxis\": {\"title\": \"ARI score\"}}, {\"showLink\": true, \"linkText\": \"Export to plot.ly\"})});</script>"
      ]
     },
     "metadata": {},
     "output_type": "display_data"
    }
   ],
   "source": [
    "results_filenames = dict()\n",
    "for f in os.listdir():\n",
    "    if '.tsv' != f[-4:]:\n",
    "        continue\n",
    "    bl = int(f.split('.')[0].split('_')[1])\n",
    "    rl = int(f.split('.')[1].split('_')[1])\n",
    "    results_filenames[(bl,rl,)]=f\n",
    "\n",
    "\n",
    "for bl,rl in sorted(results_filenames):\n",
    "    tsv_path=results_filenames[(bl,rl,)]\n",
    "    tsv_lines = open(tsv_path).readlines()\n",
    "\n",
    "    field_to_idx = dict()\n",
    "    for idx, field in enumerate(tsv_lines[0].rstrip().split('\\t')):\n",
    "        field_to_idx[field] = idx\n",
    "\n",
    "    parameters_to_performance = dict()\n",
    "    for line in tsv_lines[1:]:\n",
    "        line = line.rstrip().split('\\t')\n",
    "\n",
    "        e = int(line[field_to_idx['barcode_error_tolerance']])\n",
    "        k = int(line[field_to_idx['kmer_size']])\n",
    "        m = int(line[field_to_idx['minimizers_num']])\n",
    "        t = int(line[field_to_idx['minimizers_threshold']])\n",
    "        key = (e, k, m, t)\n",
    "        if not key in parameters_to_performance:\n",
    "            parameters_to_performance[key] = dict(ari=list(), time=list(), mem=list())\n",
    "\n",
    "        ari  = float(line[field_to_idx['ARI']])\n",
    "        time = float(line[field_to_idx['user_time']])\n",
    "        mem  = float(line[field_to_idx['mem']])\n",
    "        parameters_to_performance[key]['ari'].append(ari)\n",
    "        parameters_to_performance[key]['time'].append(time)\n",
    "        parameters_to_performance[key]['mem'].append(mem)\n",
    "\n",
    "    m_to_color = {\n",
    "        3 : '#e41a1c',\n",
    "        4 : '#377eb8',\n",
    "        5 : '#4daf4a',\n",
    "        6 : '#984ea3',\n",
    "        7 : '#ff7f00',\n",
    "    }\n",
    "\n",
    "    e_to_dash = {\n",
    "        1 : 'dash',\n",
    "        2 : 'dot' ,\n",
    "    }\n",
    "\n",
    "    k_to_marker_symbol = {\n",
    "        4 : 'circle' ,\n",
    "        8 : 'square',\n",
    "    }\n",
    "\n",
    "    data = list()\n",
    "    for key, val in parameters_to_performance.items():\n",
    "        e = key[0]\n",
    "        k = key[1]\n",
    "        m = key[2]\n",
    "        t = key[3]\n",
    "\n",
    "        ari_list = val['ari']\n",
    "        time_list = val['time']\n",
    "        mem_list = val['mem']\n",
    "        min_ari = np.min(ari_list)*100\n",
    "        max_ari = np.max(ari_list)*100\n",
    "        avg_ari = np.average(ari_list)*100\n",
    "        min_time = np.min(time_list)/60\n",
    "        max_time = np.max(time_list)/60\n",
    "        avg_time = np.average(time_list)/60\n",
    "        min_mem = np.min(mem_list)/1024/1024\n",
    "        max_mem = np.max(mem_list)/1024/1024\n",
    "        avg_mem = np.average(mem_list)/1024/1024\n",
    "        if min_ari < 99:\n",
    "            continue\n",
    "\n",
    "        text='e = {}; k = {}; m = {}; t = {}<br>Mem (GB): {:4.2f}; {:4.2f}; {:4.2f}<br>User time (min): {:4.2f}; {:4.2f}; {:4.2f}<br>ARI (%): {:4.2f}; {:4.2f}; {:4.2f}'.format(\n",
    "                e, k, m, t,\n",
    "                min_mem, max_mem, avg_mem,\n",
    "                min_time, max_time, avg_time,\n",
    "                min_ari, max_ari, avg_ari)\n",
    "        trace = go.Scatter(\n",
    "            name='e = {}; k = {}; m = {}; t = {}'.format(e, k, m, t),\n",
    "            x=[max_time],\n",
    "            y=[min_ari],\n",
    "            text=[text],\n",
    "            mode='markers',\n",
    "            marker=dict(\n",
    "                symbol= k_to_marker_symbol[k],\n",
    "                color = m_to_color[m],\n",
    "                size  = int(avg_mem)\n",
    "            ),\n",
    "        )\n",
    "        data.append(trace)\n",
    "    layout = go.Layout(\n",
    "        title='Barcode length {}<br>Read length {}'.format(bl, rl),\n",
    "        hovermode='closest',\n",
    "        font=dict(\n",
    "            size=10,\n",
    "        ),\n",
    "        xaxis=dict(\n",
    "            title='Time in min',\n",
    "            type='log',\n",
    "        ),\n",
    "        yaxis=dict(\n",
    "            title='ARI score',\n",
    "        ),\n",
    "    )\n",
    "    fig = go.Figure(data=data, layout=layout)\n",
    "    plotly.offline.iplot(fig)"
   ]
  }
 ],
 "metadata": {
  "kernelspec": {
   "display_name": "Python 3",
   "language": "python",
   "name": "python3"
  },
  "language_info": {
   "codemirror_mode": {
    "name": "ipython",
    "version": 3
   },
   "file_extension": ".py",
   "mimetype": "text/x-python",
   "name": "python",
   "nbconvert_exporter": "python",
   "pygments_lexer": "ipython3",
   "version": "3.6.4"
  }
 },
 "nbformat": 4,
 "nbformat_minor": 2
}
